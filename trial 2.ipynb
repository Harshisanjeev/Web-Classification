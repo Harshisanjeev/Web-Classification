{
 "cells": [
  {
   "cell_type": "code",
   "execution_count": 7,
   "metadata": {},
   "outputs": [
    {
     "data": {
      "text/plain": [
       "'/home/k7-user0/anaconda3'"
      ]
     },
     "execution_count": 7,
     "metadata": {},
     "output_type": "execute_result"
    }
   ],
   "source": [
    "pwd"
   ]
  },
  {
   "cell_type": "code",
   "execution_count": 9,
   "metadata": {},
   "outputs": [
    {
     "name": "stdout",
     "output_type": "stream",
     "text": [
      "/home/k7-user0\n"
     ]
    }
   ],
   "source": [
    "cd"
   ]
  },
  {
   "cell_type": "code",
   "execution_count": 146,
   "metadata": {},
   "outputs": [],
   "source": [
    "file = open('LinksList.txt','r')"
   ]
  },
  {
   "cell_type": "code",
   "execution_count": 171,
   "metadata": {},
   "outputs": [],
   "source": [
    "message = file.readline()"
   ]
  },
  {
   "cell_type": "code",
   "execution_count": 178,
   "metadata": {},
   "outputs": [
    {
     "name": "stdout",
     "output_type": "stream",
     "text": [
      "http://www.am4life.com,1,0,0,0,0\n",
      "\n"
     ]
    }
   ],
   "source": [
    "print(message)"
   ]
  },
  {
   "cell_type": "code",
   "execution_count": 179,
   "metadata": {},
   "outputs": [],
   "source": [
    "m = message.index(',')"
   ]
  },
  {
   "cell_type": "code",
   "execution_count": 180,
   "metadata": {},
   "outputs": [],
   "source": [
    "l = message[:m]"
   ]
  },
  {
   "cell_type": "code",
   "execution_count": 181,
   "metadata": {},
   "outputs": [
    {
     "name": "stdout",
     "output_type": "stream",
     "text": [
      "http://www.am4life.com\n"
     ]
    }
   ],
   "source": [
    "print(l)"
   ]
  },
  {
   "cell_type": "code",
   "execution_count": 186,
   "metadata": {},
   "outputs": [],
   "source": [
    "url = l"
   ]
  },
  {
   "cell_type": "code",
   "execution_count": 183,
   "metadata": {},
   "outputs": [
    {
     "data": {
      "text/plain": [
       "'http://www.am4life.com'"
      ]
     },
     "execution_count": 183,
     "metadata": {},
     "output_type": "execute_result"
    }
   ],
   "source": [
    "str(l)"
   ]
  },
  {
   "cell_type": "code",
   "execution_count": 154,
   "metadata": {},
   "outputs": [
    {
     "data": {
      "text/plain": [
       "34"
      ]
     },
     "execution_count": 154,
     "metadata": {},
     "output_type": "execute_result"
    }
   ],
   "source": [
    "len(url)"
   ]
  },
  {
   "cell_type": "code",
   "execution_count": 184,
   "metadata": {},
   "outputs": [],
   "source": [
    "url = str(l[1:])"
   ]
  },
  {
   "cell_type": "code",
   "execution_count": 185,
   "metadata": {},
   "outputs": [
    {
     "data": {
      "text/plain": [
       "'ttp://www.am4life.com'"
      ]
     },
     "execution_count": 185,
     "metadata": {},
     "output_type": "execute_result"
    }
   ],
   "source": [
    "url"
   ]
  },
  {
   "cell_type": "code",
   "execution_count": 187,
   "metadata": {},
   "outputs": [],
   "source": [
    "obj = url + '/'"
   ]
  },
  {
   "cell_type": "code",
   "execution_count": 188,
   "metadata": {},
   "outputs": [
    {
     "name": "stdout",
     "output_type": "stream",
     "text": [
      "http://www.am4life.com/\n"
     ]
    }
   ],
   "source": [
    "print(obj)"
   ]
  },
  {
   "cell_type": "code",
   "execution_count": 189,
   "metadata": {},
   "outputs": [
    {
     "data": {
      "text/plain": [
       "'http://www.am4life.com/'"
      ]
     },
     "execution_count": 189,
     "metadata": {},
     "output_type": "execute_result"
    }
   ],
   "source": [
    "str(obj)"
   ]
  },
  {
   "cell_type": "code",
   "execution_count": 159,
   "metadata": {},
   "outputs": [],
   "source": [
    "s = obj[:29]+'s'+obj[29:]"
   ]
  },
  {
   "cell_type": "code",
   "execution_count": 190,
   "metadata": {},
   "outputs": [],
   "source": [
    "s = obj"
   ]
  },
  {
   "cell_type": "code",
   "execution_count": 191,
   "metadata": {},
   "outputs": [],
   "source": [
    "import pandas as pd"
   ]
  },
  {
   "cell_type": "code",
   "execution_count": 192,
   "metadata": {},
   "outputs": [],
   "source": [
    "from pandas import Series, DataFrame"
   ]
  },
  {
   "cell_type": "code",
   "execution_count": 193,
   "metadata": {},
   "outputs": [],
   "source": [
    "from bs4 import BeautifulSoup"
   ]
  },
  {
   "cell_type": "code",
   "execution_count": 194,
   "metadata": {},
   "outputs": [],
   "source": [
    "import requests\n"
   ]
  },
  {
   "cell_type": "code",
   "execution_count": 195,
   "metadata": {},
   "outputs": [],
   "source": [
    "c = requests.get(str(s))"
   ]
  },
  {
   "cell_type": "code",
   "execution_count": 196,
   "metadata": {},
   "outputs": [],
   "source": [
    "result = c.content"
   ]
  },
  {
   "cell_type": "code",
   "execution_count": 197,
   "metadata": {},
   "outputs": [],
   "source": [
    "soup = BeautifulSoup(result, \"lxml\")"
   ]
  },
  {
   "cell_type": "code",
   "execution_count": 198,
   "metadata": {},
   "outputs": [],
   "source": [
    "summary = soup.find(\"div\", {\"class\":\"pc1\", \"id\":\"PAGES_CONTAINER\"})"
   ]
  },
  {
   "cell_type": "code",
   "execution_count": 199,
   "metadata": {},
   "outputs": [],
   "source": [
    "summary"
   ]
  },
  {
   "cell_type": "code",
   "execution_count": 117,
   "metadata": {},
   "outputs": [
    {
     "name": "stdout",
     "output_type": "stream",
     "text": [
      "<div class=\"pc1\" data-is-mobile=\"false\" data-site-width=\"980\" data-state=\"\" id=\"PAGES_CONTAINER\" style=\"left:0;margin-left:0;width:100%;min-width:980px;top:0;bottom:;right:;height:554px;position:absolute\"><div class=\"pc1screenWidthBackground\" id=\"PAGES_CONTAINERscreenWidthBackground\" style=\"left:0\"></div><div class=\"pc1centeredContent\" id=\"PAGES_CONTAINERcenteredContent\"><div class=\"pc1bg\" id=\"PAGES_CONTAINERbg\" style=\"display:none\"></div><div class=\"pc1inlineContent\" id=\"PAGES_CONTAINERinlineContent\"><div class=\"s_VOwPageGroupSkin\" id=\"SITE_PAGES\" style=\"width:100%;top:0;bottom:;left:0;right:;height:554px;position:absolute\"><div class=\"mainPage_if1wp8kz\" data-is-mesh-layout=\"false\" data-ismobile=\"false\" id=\"mainPage\" style=\"height:554px;left:0;min-width:980px;min-height:500px;top:0;bottom:;right:;width:100%;position:absolute;visibility:hidden\"><div class=\"mainPage_if1wp8kzbg\" id=\"mainPagebg\" style=\"margin-left:calc((100% - 980px) / 2);width:980px\"></div><div class=\"mainPage_if1wp8kzinlineContent\" id=\"mainPageinlineContent\"><div class=\"FvGrdLn0_if2oj8qn\" id=\"FvGrdLn0\" style=\"top:276px;bottom:;left:13px;right:;width:939px;height:5px;position:absolute;margin-left:calc((100% - 980px) * 0.5)\"><div class=\"FvGrdLn0_if2oj8qnline\" id=\"FvGrdLn0line\"></div></div><div class=\"txtNew\" data-packed=\"false\" id=\"mainPage_WRichText_2\" style=\"top:-27px;bottom:;left:16px;right:;width:299px;height:auto;position:absolute;margin-left:calc((100% - 980px) * 0.5)\"><h5 class=\"font_5\" style=\"line-height:1.2em; font-size:16px;\"><span style=\"font-weight:bold;\"><span style=\"font-size:16px;\"><span style=\"line-height:1.2em;\"><span style=\"font-family:arial,ｍｓ ｐゴシック,ms pgothic,돋움,dotum,helvetica,sans-serif;\"><span style=\"color:#15005E;\">Welcome!</span></span></span></span></span></h5>\n",
      "<p class=\"font_8\" style=\"line-height:0.5em;\"> </p>\n",
      "<p class=\"font_7\" style=\"font-size:12px;\"><span style=\"font-size:12px;\"><span style=\"font-family:arial,ｍｓ ｐゴシック,ms pgothic,돋움,dotum,helvetica,sans-serif;\"><span style=\"color:#15005E;\">This site provides medically accurate and evidence-based information about medication abortion to researchers and health service providers, including physicians, nurse practitioners, physician assistants, midwives, counselors, community health workers, and office staff. Educational information is also provided for women considering the option of medication abortion.</span></span></span></p>\n",
      "<p class=\"font_7\" style=\"font-size:12px;\"> </p>\n",
      "<p class=\"font_7\" style=\"font-size:12px;\"><span style=\"font-size:12px;\"><span style=\"font-family:arial,ｍｓ ｐゴシック,ms pgothic,돋움,dotum,helvetica,sans-serif;\"><span style=\"color:#15005E;\">Information contained in this website is derived from literature published in international medical journals. The content of the website has been reviewed by experts in the field and is updated periodically.</span></span></span></p>\n",
      "<p class=\"font_7\" style=\"font-size:12px;\"> </p>\n",
      "<p class=\"font_7\" style=\"font-size:12px;\"><span style=\"font-size:12px;\"><span style=\"font-family:arial,ｍｓ ｐゴシック,ms pgothic,돋움,dotum,helvetica,sans-serif;\"><span style=\"color:#15005E;\">Since the launch of the website in 2003, <span style=\"text-decoration:underline;\"><a data-content=\"http://medicationabortion.com\" data-type=\"external\" href=\"http://medicationabortion.com\" rel=\"undefined\" target=\"_blank\">medicationabortion.com</a></span> has become a global resource. The website receives more than a million visitors a year from over 200 countries and territories. We have optimized this text-heavy website to accommodate users in low resource settings. </span></span></span></p>\n",
      "</div><div class=\"txtNew\" data-packed=\"false\" id=\"if1xqvyx\" style=\"top:-27px;bottom:;left:345px;right:;width:305px;height:auto;position:absolute;margin-left:calc((100% - 980px) * 0.5)\"><h5 class=\"font_5\" style=\"line-height:1.2em; font-size:16px;\"><span style=\"font-weight:bold;\"><span style=\"font-size:16px;\"><span style=\"line-height:1.2em;\"><span style=\"font-family:arial,ｍｓ ｐゴシック,ms pgothic,돋움,dotum,helvetica,sans-serif;\"><span style=\"color:#15005E;\">What is medication abortion?</span></span></span></span></span></h5>\n",
      "<p class=\"font_8\" style=\"line-height:0.5em;\"> </p>\n",
      "<p class=\"font_7\" style=\"font-size:12px;\"><span style=\"font-size:12px;\"><span style=\"font-family:arial,ｍｓ ｐゴシック,ms pgothic,돋움,dotum,helvetica,sans-serif;\"><span style=\"color:#15005E;\">Medication abortion, also known as <span style=\"text-decoration:underline;\"><a href=\"http://www.medicationabortions.com/medical\" target=\"_self\">medical abortion</a></span>, the abortion pill, <span style=\"text-decoration:underline;\"><a href=\"http://www.medicationabortions.com/aspiration\" target=\"_self\">non-aspiration</a></span>, or <span style=\"text-decoration:underline;\"><a href=\"http://www.medicationabortions.com/aspiration\" target=\"_self\">non-surgical </a></span>abortion, refers to a family of safe and effective methods for terminating an unwanted pregnancy. Through the use of a drug or combination of drugs that are administered orally, vaginally, buccally, sublingually, and/or intramuscularly, medication abortion causes the pregnancy to terminate and the uterus to expel the products of conception. Worldwide, three methods of medication abortion are in practice for <span style=\"text-decoration:underline;\"><a href=\"http://www.medicationabortions.com/earlypregnancy\" target=\"_self\">early pregnancy</a></span> termination:</span></span></span></p>\n",
      "<p class=\"font_7\" style=\"font-size:12px;\"> </p>\n",
      "<ul class=\"font_7\" style=\"color:rgb(21, 0, 94); font-family:arial, 'ｍｓ ｐゴシック', 'ms pgothic', 돋움, dotum, helvetica, sans-serif; font-size:12px;\">\n",
      "<li>\n",
      "<p class=\"font_7\" style=\"font-size:12px; margin-left:40px;\"><span style=\"text-decoration:underline;\"><a href=\"http://www.medicationabortions.com/mifepristone\" target=\"_self\"><span style=\"font-size:12px;\"><span style=\"font-family:arial,ｍｓ ｐゴシック,ms pgothic,돋움,dotum,helvetica,sans-serif;\"><span style=\"color:#15005E;\">Mifepristone &amp; misoprostol</span></span></span></a></span></p>\n",
      "</li>\n",
      "<li>\n",
      "<p class=\"font_7\" style=\"font-size:12px; margin-left:40px;\"><span style=\"text-decoration:underline;\"><a href=\"http://www.medicationabortions.com/methotrexate\" target=\"_self\"><span style=\"font-size:12px;\"><span style=\"font-family:arial,ｍｓ ｐゴシック,ms pgothic,돋움,dotum,helvetica,sans-serif;\"><span style=\"color:#15005E;\">Methotrexate &amp; misoprostol</span></span></span></a></span></p>\n",
      "</li>\n",
      "<li>\n",
      "<p class=\"font_7\" style=\"font-size:12px; margin-left:40px;\"><span style=\"text-decoration:underline;\"><a href=\"http://www.medicationabortions.com/misoprostol\" target=\"_self\"><span style=\"font-size:12px;\"><span style=\"font-family:arial,ｍｓ ｐゴシック,ms pgothic,돋움,dotum,helvetica,sans-serif;\"><span style=\"color:#15005E;\">Misoprostol alone</span></span></span></a></span></p>\n",
      "</li>\n",
      "</ul>\n",
      "</div><div class=\"txtNew\" data-packed=\"false\" id=\"if1xr4jo\" style=\"top:-27px;bottom:;left:683px;right:;width:298px;height:auto;position:absolute;margin-left:calc((100% - 980px) * 0.5)\"><h5 class=\"font_5\" style=\"line-height:1.2em; font-size:16px;\"><span style=\"font-weight:bold;\"><span style=\"font-size:16px;\"><span style=\"line-height:1.2em;\"><span style=\"font-family:arial,ｍｓ ｐゴシック,ms pgothic,돋움,dotum,helvetica,sans-serif;\"><span style=\"color:#15005E;\">Questions?</span></span></span></span></span></h5>\n",
      "<p class=\"font_8\" style=\"line-height:0.5em;\"> </p>\n",
      "<p class=\"font_7\" style=\"font-size:12px;\"><span style=\"color:#15005E;\"><span style=\"font-size:12px;\"><span style=\"font-family:arial,ｍｓ ｐゴシック,ms pgothic,돋움,dotum,helvetica,sans-serif;\">If you have questions about medication abortion, please visit our <span style=\"text-decoration:underline;\"><a href=\"http://www.medicationabortions.com/questions\" target=\"_self\">frequently asked questions section</a></span>.</span></span></span></p>\n",
      "<p class=\"font_7\" style=\"font-size:12px;\"> </p>\n",
      "</div><div class=\"if2mymyy_if2mz4rs\" id=\"if2mymyy\" style=\"top:39px;bottom:;left:688px;right:;width:264px;height:225px;position:absolute;margin-left:calc((100% - 980px) * 0.5)\"><div class=\"if2mymyy_if2mz4rsbg\" id=\"if2mymyybg\"></div><div class=\"if2mymyy_if2mz4rs_arrow\"></div><div class=\"if2mymyy_if2mz4rsinlineContent\" id=\"if2mymyyinlineContent\"><div class=\"txtNew\" data-packed=\"false\" id=\"if2n3ivi\" style=\"top:5px;bottom:;left:10px;right:;width:244px;height:auto;position:absolute\"><p class=\"font_7\" style=\"font-size:12px;\"> </p>\n",
      "<p class=\"font_7\" style=\"font-size:12px;\"> </p>\n",
      "<p class=\"font_7\" style=\"line-height:1.2em;\"><span style=\"line-height:1.2em;\"><span style=\"color:rgb(21, 0, 94);\"><span style=\"font-size:12px;\">\"I am 22 years old and I am from Peru. Abortion is very restricted in my country but I was able to get misoprostol pills from a pharmacy in my town. I am planning on taking the first dose tomorrow. What kind of bleeding will I have after I take the pills? My last period started seven weeks ago.\"</span></span></span></p>\n",
      "<p class=\"font_7\" style=\"font-size:12px;\"> </p>\n",
      "<p class=\"font_7\" style=\"font-size:12px;\"><span style=\"color:#15005E;\"><span style=\"font-size:12px;\"><span style=\"text-decoration:underline;\"><a href=\"http://www.medicationabortions.com/featuredquestion\" target=\"_self\">Read the response to the featured question</a></span>.</span></span></p>\n",
      "</div><div class=\"if2r21pn_if2r27ph\" data-align=\"center\" data-disabled=\"false\" data-height=\"24\" data-margin=\"0\" data-should-use-flex=\"true\" data-state=\"desktop shouldUseFlex center\" data-width=\"232\" id=\"if2r21pn\" style=\"top:5px;bottom:;left:16px;right:;width:232px;height:24px;position:absolute\"><div class=\"if2r21pn_if2r27ph_shd\"></div><div class=\"if2r21pn_if2r27phlink\" id=\"if2r21pnlink\"><span class=\"if2r21pn_if2r27phlabel\" id=\"if2r21pnlabel\">This month's featured question</span></div></div></div></div><div class=\"if2vrc95_if2xjg3x\" id=\"if2vrc95\" style=\"top:339px;bottom:;left:13px;right:;width:949px;height:164px;position:absolute;margin-left:calc((100% - 980px) * 0.5)\"><div class=\"if2vrc95_if2xjg3xbg\" id=\"if2vrc95bg\"></div><div class=\"if2vrc95_if2xjg3xinlineContent\" id=\"if2vrc95inlineContent\"><div class=\"wp2\" data-content-padding-horizontal=\"0\" data-content-padding-vertical=\"0\" data-exact-height=\"100\" id=\"WPht0\" style=\"top:-14px;bottom:;left:5px;right:;width:108px;height:100px;position:absolute\" title=\"Ibis-logo.png\"><a class=\"wp2link\" data-content=\"http://ibisreproductivehealth.org\" data-type=\"external\" href=\"http://ibisreproductivehealth.org\" id=\"WPht0link\" style=\"width:108px;height:100px;cursor:pointer\" target=\"_blank\"><div class=\"wp2img\" data-style=\"\" id=\"WPht0img\"><img alt=\"\" data-type=\"image\" id=\"WPht0imgimage\"/></div></a></div><div class=\"wp2\" data-content-padding-horizontal=\"0\" data-content-padding-vertical=\"0\" data-exact-height=\"64\" id=\"if2qc8lg\" style=\"top:100px;bottom:;left:0;right:;width:132px;height:64px;position:absolute\" title=\"CRHClogo_square.jpg\"><a class=\"wp2link\" data-content=\"http://www.cambridgereproductivehealthconsultants.org\" data-type=\"external\" href=\"http://www.cambridgereproductivehealthconsultants.org\" id=\"if2qc8lglink\" style=\"width:132px;height:64px;cursor:pointer\" target=\"_blank\"><div class=\"wp2img\" data-style=\"\" id=\"if2qc8lgimg\"><img alt=\"\" data-type=\"image\" id=\"if2qc8lgimgimage\"/></div></a></div></div></div><div class=\"txtNew\" data-packed=\"false\" id=\"WRchTxta\" style=\"top:290px;bottom:;left:18px;right:;width:934px;height:auto;position:absolute;margin-left:calc((100% - 980px) * 0.5)\"><h5 class=\"font_5\" style=\"line-height:1.2em; font-size:16px;\"><span style=\"color:#15005E;\"><span style=\"font-weight:bold;\"><span style=\"font-size:16px;\"><span style=\"line-height:1.2em;\">About the creators of this website: <span style=\"text-decoration:underline;\"><a data-content=\"http://www.ibisreproductivehealth.org\" data-type=\"external\" href=\"http://www.ibisreproductivehealth.org\" rel=\"undefined\" target=\"_blank\">Ibis Reproductive Health</a></span> </span></span></span><span style=\"font-size:16px;\"><span style=\"line-height:1.2em;\">and</span></span><span style=\"font-weight:bold;\"><span style=\"font-size:16px;\"><span style=\"line-height:1.2em;\"> <span style=\"text-decoration:underline;\"><a data-content=\"http://www.cambridgereproductivehealthconsultants.org\" data-type=\"external\" href=\"http://www.cambridgereproductivehealthconsultants.org\" rel=\"undefined\" target=\"_blank\">Cambridge Reproductive Health Consultants</a></span></span></span></span></span></h5>\n",
      "</div><div class=\"txtNew\" data-packed=\"false\" id=\"WRchTxtb\" style=\"top:325px;bottom:;left:158px;right:;width:804px;height:auto;position:absolute;margin-left:calc((100% - 980px) * 0.5)\"><p class=\"font_8\" style=\"line-height:1.3em; font-size:12px;\"><span style=\"font-family:arial,ｍｓ ｐゴシック,ms pgothic,돋움,dotum,helvetica,sans-serif;\"><span style=\"font-size:12px;\"><span style=\"color:#15005E;\">Ibis Reproductive Health is an international nonprofit organization with a mission to improve women’s reproductive autonomy, choices, and health worldwide. Our core activity is clinical and social science research, focused on issues receiving inadequate attention in other research settings and where gaps in the evidence exist. Our agenda is driven by women’s needs and prioritizes increasing access to safe abortion, expanding contraceptive access and choices, and integrating HIV and comprehensive sexual and reproductive health services. We partner with advocates and other stakeholders who use our research to improve policies and delivery of services in countries around the world. To learn more about Ibis, please visit the <span style=\"text-decoration:underline;\"><a data-content=\"http://www.ibisreproductivehealth.org\" data-type=\"external\" href=\"http://www.ibisreproductivehealth.org\" rel=\"undefined\" target=\"_blank\">Ibis website</a></span> (English only).</span></span></span></p>\n",
      "<p class=\"font_8\" style=\"line-height:1.3em; font-size:12px;\"> </p>\n",
      "<p class=\"font_7\">Cambridge Reproductive Health Consultants (CRHC) is a non-profit organization dedicated to improving reproductive health and fostering reproductive justice worldwide. By leveraging the skills of professionals from a variety of fields and disciplines, CRHC focuses on increasing access to safe, legal, high quality, and affordable abortion care, reducing harm from unsafe abortion, increasing access to emergency contraception and long-acting reversible contraceptive methods, and advancing new reproductive health technologies in low resource environments and protracted refugee and conflict settings. CRHC accomplishes its mission by conducting action- and intervention-oriented research, creating and incubating new and innovative programs, and developing and delivering evidence-based reproductive health information, resources, and trainings. To learn more about CRHC, please visit the <span style=\"text-decoration:underline;\"><a data-content=\"http://www.cambridgereproductivehealthconsultants.org\" data-type=\"external\" href=\"http://www.cambridgereproductivehealthconsultants.org\" rel=\"undefined\" target=\"_blank\">CRHC website</a></span> (English only).</p>\n",
      "</div></div></div></div></div></div></div>\n"
     ]
    }
   ],
   "source": [
    "print(summary)"
   ]
  },
  {
   "cell_type": "code",
   "execution_count": 200,
   "metadata": {},
   "outputs": [],
   "source": [
    "tables = []"
   ]
  },
  {
   "cell_type": "code",
   "execution_count": 201,
   "metadata": {},
   "outputs": [],
   "source": [
    "tables.append(summary)"
   ]
  },
  {
   "cell_type": "code",
   "execution_count": 202,
   "metadata": {},
   "outputs": [
    {
     "name": "stdout",
     "output_type": "stream",
     "text": [
      "[None]\n"
     ]
    }
   ],
   "source": [
    "print(tables)"
   ]
  },
  {
   "cell_type": "code",
   "execution_count": 203,
   "metadata": {},
   "outputs": [
    {
     "name": "stdout",
     "output_type": "stream",
     "text": [
      "[<a href=\"arguments-for-life.html\">Biblical Basis for Life...</a>, <a href=\"pledge-for-life.html\">Pledge for Life</a>, <a href=\"make-a-donation.html\"><img alt=\"\" height=\"47\" src=\"assets/templates/am4life.v1.r1/assets/images/3.png\" style=\"border-width: 0px; margin-left: auto; margin-right: auto;\" width=\"122\"/></a>, <a href=\"contact-us.html\">contact us</a>, <a href=\"contact-us.html\">Contact Us</a>, <a href=\"http://www.bradedwardsdesigns.com/\" onclick=\"return(xr_nn());\" onmousemove=\"xr_mo(this,0)\" target=\"_blank\">Website Development: Brad Edwards Designs</a>, <a href=\"/\" onclick=\"return(xr_nn());\" onmousemove=\"xr_mo(this,0)\">Home Page</a>, <a href=\"/about-us.html\" onclick=\"return(xr_nn());\" onmousemove=\"xr_mo(this,0)\">About Us</a>, <a href=\"/pledge-for-life.html\" onclick=\"return(xr_nn());\" onmousemove=\"xr_mo(this,0)\">Pledge 4 Life</a>, <a href=\"/make-a-donation.html\" onclick=\"return(xr_nn());\" onmousemove=\"xr_mo(this,0)\">Make a Donation</a>, <a href=\"/arguments-for-life.html\" onclick=\"return(xr_nn());\" onmousemove=\"xr_mo(this,0)\">Arguments 4 Life</a>, <a href=\"/arguments-for-life/biblical-basis-for-life.html\" onclick=\"return(xr_nn());\" onmousemove=\"xr_mo(this,0)\">Biblical Basis for Life</a>, <a href=\"/arguments-for-life/biological-basis-for-life.html\" onclick=\"return(xr_nn());\" onmousemove=\"xr_mo(this,0)\">Biological Basis for Life</a>, <a href=\"/arguments-for-life/legal-basis-for-life.html\" onclick=\"return(xr_nn());\" onmousemove=\"xr_mo(this,0)\">Legal Basis for Life</a>, <a href=\"/links.html\" onclick=\"return(xr_nn());\" onmousemove=\"xr_mo(this,0)\">Links</a>, <a href=\"/life-in-christ.html\" onclick=\"return(xr_nn());\" onmousemove=\"xr_mo(this,0)\">Life in Christ</a>, <a href=\"/videos-and-ads.html\" onclick=\"return(xr_nn());\" onmousemove=\"xr_mo(this,0)\">Videos</a>, <a href=\"/contact-us.html\" onclick=\"return(xr_nn());\" onmousemove=\"xr_mo(this,0)\">Contact Us</a>, <a href=\"pledge-for-life.html\" style=\"color:#00ff00;\">Take Our Pledge for Life</a>, <a href=\"make-a-donation.html\"><img alt=\"\" height=\"47\" src=\"/assets/templates/am4life.v1.r1/assets/images/3.png\" style=\"border-width:0px; margin-left:auto; margin-right:auto;\" width=\"122\"/></a>, <a href=\"/\" target=\"_self\" title=\"/\">   Home Page</a>, <a href=\"/about-us.html\" target=\"_self\" title=\"/about-us.html\">  About Us  </a>, <a href=\"/pledge-for-life.html\" target=\"_self\" title=\"/pledge-for-life.html\">  Pledge 4 Life  </a>, <a href=\"/make-a-donation.html\" target=\"_self\" title=\"/make-a-donation.html\">  Make a Donation  </a>, <a href=\"/arguments-for-life.html\" target=\"_self\" title=\"/arguments-for-life.html\">  Arguments 4 Life  </a>, <a href=\"/arguments-for-life/biblical-basis-for-life.html\" target=\"_self\" title=\"/arguments-for-life/biblical-basis-for-life.html\">â€¢ Biblical Basis for Life</a>, <a href=\"/arguments-for-life/biological-basis-for-life.html\" target=\"_self\" title=\"/arguments-for-life/biological-basis-for-life.html\">â€¢ Boligical Basis for Life</a>, <a href=\"/arguments-for-life/legal-basis-for-life.html\" target=\"_self\" title=\"/arguments-for-life/legal-basis-for-life.html\">â€¢ Legal Basis for Life</a>, <a href=\"/links.html\" target=\"_self\" title=\"/links.html\">  Links  </a>, <a href=\"/life-in-christ.html\" target=\"_self\" title=\"/life-in-christ.html\">  Life in Christ  </a>, <a href=\"/videos-and-ads.html\" target=\"_self\" title=\"/videos-and-ads.html\">Videos</a>, <a href=\"/contact-us.html\" target=\"_self\" title=\"/contact-us.html\">  Contact Us  </a>, <a href=\"/\" onclick=\"return(xr_nn());\"><img alt=\"\" class=\"xr_ap\" onmousemove=\"xr_mo(this,0,event)\" src=\"/assets/templates/am4life.v1.r4/images/9.png\" style=\"left: 22px; top: 15px; width: 343px; height: 177px;\" title=\"\"/> </a>, <a href=\"/\" onclick=\"return(xr_nn());\"><img alt=\"\" class=\"xr_ap\" onmousemove=\"xr_mo(this,0,event)\" src=\"/assets/templates/am4life.v1.r4/images/10.png\" style=\"left: 298px; top: -7px; width: 198px; height: 223px;\" title=\"\"/> </a>, <a href=\"/pledge-for-life.html\" onclick=\"return(xr_nn());\"><img alt=\"\" class=\"xr_ap\" onmousemove=\"xr_mo(this,0,event)\" src=\"/assets/templates/am4life.v1.r4/images/11.png\" style=\"left: 480px; top: -11px; width: 174px; height: 217px;\" title=\"\"/> </a>, <a href=\"/make-a-donation.html\" onclick=\"return(xr_nn());\"><img alt=\"\" class=\"xr_ap\" onmousemove=\"xr_mo(this,0,event)\" src=\"/assets/templates/am4life.v1.r4/images/12.png\" style=\"left: 639px; top: -11px; width: 174px; height: 217px;\" title=\"\"/>\n",
      "</a>, <a href=\"arguments-for-life.html\" onclick=\"return(xr_nn());\"><img alt=\"\" class=\"xr_ap\" onmousemove=\"xr_mo(this,0,event)\" src=\"/assets/templates/am4life.v1.r4/images/13.png\" style=\"left: 800px; top: -11px; width: 174px; height: 217px;\" title=\"\"/> </a>, <a href=\"\" onclick=\"return(false);\"></a>]\n"
     ]
    }
   ],
   "source": [
    "print (soup.find_all('a'))"
   ]
  },
  {
   "cell_type": "code",
   "execution_count": null,
   "metadata": {},
   "outputs": [],
   "source": []
  }
 ],
 "metadata": {
  "kernelspec": {
   "display_name": "Python 3",
   "language": "python",
   "name": "python3"
  },
  "language_info": {
   "codemirror_mode": {
    "name": "ipython",
    "version": 3
   },
   "file_extension": ".py",
   "mimetype": "text/x-python",
   "name": "python",
   "nbconvert_exporter": "python",
   "pygments_lexer": "ipython3",
   "version": "3.6.5"
  }
 },
 "nbformat": 4,
 "nbformat_minor": 2
}
