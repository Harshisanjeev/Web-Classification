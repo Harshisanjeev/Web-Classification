{
 "cells": [
  {
   "cell_type": "code",
   "execution_count": 2,
   "metadata": {},
   "outputs": [
    {
     "data": {
      "text/plain": [
       "'/home/k7-user0/anaconda3'"
      ]
     },
     "execution_count": 2,
     "metadata": {},
     "output_type": "execute_result"
    }
   ],
   "source": [
    "pwd"
   ]
  },
  {
   "cell_type": "code",
   "execution_count": 3,
   "metadata": {},
   "outputs": [
    {
     "name": "stdout",
     "output_type": "stream",
     "text": [
      "/home/k7-user0\n"
     ]
    }
   ],
   "source": [
    "cd"
   ]
  },
  {
   "cell_type": "code",
   "execution_count": 11,
   "metadata": {},
   "outputs": [
    {
     "name": "stdout",
     "output_type": "stream",
     "text": [
      "error\n",
      "error\n",
      "error\n",
      "error\n",
      "error\n",
      "error\n",
      "error\n",
      "error\n",
      "error\n",
      "error\n",
      "error\n",
      "error\n",
      "error\n",
      "error\n",
      "error\n",
      "error\n",
      "error\n",
      "error\n",
      "error\n",
      "error\n",
      "error\n",
      "error\n"
     ]
    }
   ],
   "source": [
    "import pandas as pd\n",
    "from pandas import Series, DataFrame\n",
    "from bs4 import BeautifulSoup\n",
    "import requests\n",
    "import numpy as np\n",
    "\n",
    "\n",
    "\n",
    "headerlist = []\n",
    "footerlist = []\n",
    "contentlist = []\n",
    "error = []\n",
    "\n",
    "file = open('LinksList.txt', 'r')\n",
    "\n",
    "message = file.readline()\n",
    "message = file.readline()\n",
    "i=0\n",
    "\n",
    "while message and (i in range(150)):\n",
    "    try:\n",
    "        index = 0\n",
    "        m = message.index(',')\n",
    "\n",
    "        l = message[:m]\n",
    "\n",
    "        url = str(l[0:])\n",
    "\n",
    "        obj = url + '/'\n",
    "\n",
    "\n",
    "        #print(obj)\n",
    "        #print ('\\n')\n",
    "\n",
    "        c = requests.get(str(obj))\n",
    "\n",
    "        result = c.content\n",
    "\n",
    "        soup = BeautifulSoup(result, \"lxml\")\n",
    "\n",
    "        body = soup.find(\"header\")\n",
    "\n",
    "\n",
    "        foot = soup.find(\"footer\")\n",
    "\n",
    "        content = soup.find(\"div\")\n",
    "\n",
    "\n",
    "        headerlist.append(body)\n",
    "        index = 1\n",
    "\n",
    "        footerlist.append(foot)\n",
    "        index = 2\n",
    "\n",
    "        contentlist.append(content)\n",
    "        index = 3\n",
    "        #print(contentlist[i].get_text())\n",
    "\n",
    "\n",
    "    except:\n",
    "        print(\"error\")\n",
    "        error.append(obj)\n",
    "        index1 = 0\n",
    "        if index is 0:\n",
    "            try:\n",
    "                footerlist.append(foot)\n",
    "                index1 = 1\n",
    "                contentlist.append(content)\n",
    "                index1 = 2\n",
    "            except:\n",
    "                error.append(obj)\n",
    "                index2 = 0\n",
    "                if index1 is 0:\n",
    "                    try:\n",
    "                        contentlist.append(content)\n",
    "                        index2 = 1\n",
    "                    except:\n",
    "                        error.append(obj)\n",
    "                if index1 is 1:\n",
    "                    error.append(obj)\n",
    "        if index is 1:\n",
    "            index3 =0\n",
    "            try:\n",
    "                contentlist.append(content)\n",
    "                index3 = 1\n",
    "            except:\n",
    "                error.append(obj)\n",
    "                \n",
    "\n",
    "\n",
    "    message = file.readline()\n",
    "    #print(contentlist[i].get_text())\n",
    "    i+=1\n",
    "\n",
    "\n",
    "   # message = file.readline()\n",
    "\n",
    "file.close()"
   ]
  },
  {
   "cell_type": "code",
   "execution_count": 12,
   "metadata": {},
   "outputs": [
    {
     "data": {
      "text/plain": [
       "(129, 12819)"
      ]
     },
     "execution_count": 12,
     "metadata": {},
     "output_type": "execute_result"
    }
   ],
   "source": [
    "# Math\n",
    "import math\n",
    "\n",
    "# Plot imports\n",
    "import matplotlib.pyplot as plt\n",
    "import seaborn as sns\n",
    "sns.set_style('whitegrid')\n",
    "%matplotlib inline\n",
    "\n",
    "# Machine Learning Imports\n",
    "from sklearn.linear_model import LogisticRegression\n",
    "from sklearn.cross_validation import train_test_split\n",
    "\n",
    "# For evaluating our ML results\n",
    "from sklearn import metrics\n",
    "\n",
    "# Dataset Import\n",
    "import statsmodels.api as sm\n",
    "\n",
    "from sklearn.feature_extraction.text import TfidfVectorizer\n",
    "\n",
    "# Logistic Function\n",
    "def logistic(t):\n",
    "    return 1.0 / (1 + math.exp((-1.0)*t) )\n",
    "\n",
    "v = TfidfVectorizer()\n",
    "x = v.fit_transform([i.text for i in contentlist if None != i])\n",
    "x.todense().shape"
   ]
  },
  {
   "cell_type": "code",
   "execution_count": 38,
   "metadata": {},
   "outputs": [
    {
     "name": "stdout",
     "output_type": "stream",
     "text": [
      "{'skip': 10853, 'to': 11625, 'content': 4537, 'search': 10585, 'for': 6265, 'contact': 4525, 'volunteer': 12154, 'donate': 5266, 'right': 10320, 'life': 7973, 'of': 8920, 'ingham': 7261, 'county': 4646, 'join': 7638, 'menu': 8371, 'prolife': 9750, 'issues': 7441, 'resources': 10226, 'events': 5774, 'news': 8735, 'about': 2468, 'welcome': 12281, 'sb564': 10526, '565': 1433, 'passed': 9222, 'the': 11524, 'house': 6978, 'on': 8961, 'dec': 4921, '15': 202, '2016': 344, 'bill': 3596, 'senate': 10642, 'earlier': 5449, 'in': 7178, 'year': 12490, 'lt': 8116, 'gov': 6588, 'calley': 3900, 'signed': 10793, 'during': 5350, 'snyder': 10898, 'vacation': 12000, 'bills': 3601, 'prohibit': 9747, 'any': 2917, 'money': 8523, 'being': 3518, 'paid': 9142, 'abortionists': 2461, 'or': 9023, 'clinics': 4249, 'supplying': 11293, 'organs': 9046, 'and': 2857, 'tissue': 11616, 'aborted': 2452, 'babies': 3322, 'used': 11953, 'research': 10210, 'elective': 5545, 'abortion': 2456, 'removed': 10161, 'as': 3033, 'standard': 11068, 'benefit': 3539, 'from': 6360, 'health': 6822, 'plans': 9437, 'question': 9902, 'who': 12314, 'pays': 9257, 'insurance': 7313, 'was': 12234, 'answered': 2902, 'today': 11629, 'michigan': 8405, '62': 1543, '47': 1040, '27': 525, '11': 150, 'approved': 2966, 'citizen': 4194, 'initiated': 7266, 'opt': 9012, 'out': 9072, 'act': 2550, 'is': 7418, 'desires': 5062, 'coverage': 4659, 'will': 12338, 'pay': 9251, 'it': 7445, 'not': 8815, 'whether': 12306, 'legal': 7896, 'if': 7084, 'available': 3139, 'december': 4928, 'vote': 12159, 'victory': 12080, 'concludes': 4432, 'narrative': 8655, 'effort': 5524, 'by': 3787, 'cast': 3976, 'hundreds': 7009, 'thousands': 11571, 'volunteers': 12156, 'key': 7739, 'leaders': 7874, 'because': 3490, 'dedication': 4951, 'many': 8207, 'joins': 7641, '23': 424, 'other': 9062, 'states': 11093, 'opting': 9013, 'their': 11528, 'exchanges': 5813, 'through': 11583, 'affordable': 2692, 'care': 3943, 'death': 4916, 'decisions': 4941, 'are': 2989, 'made': 8151, 'behind': 3516, 'closed': 4254, 'doors': 5288, 'bob': 3650, 'tank': 11407, 'story': 11159, 'must': 8610, 'read': 9991, 'daughter': 4867, 'genevieve': 6444, 'marnon': 8231, 'part': 9193, 'legislative': 7910, 'team': 11440, 'lansing': 7826, 'hospital': 6967, 'experience': 5844, 'similar': 10808, 'stories': 11154, 'we': 12248, 've': 12037, 'heard': 6828, 'recently': 10024, 'setting': 10693, 'off': 8921, 'alarm': 2745, 'bells': 3533, 'how': 6983, 'our': 9070, 'medical': 8326, 'systems': 11371, 'handling': 6742, 'end': 5636, 'secret': 10597, 'do': 5232, 'resuscitate': 10266, 'orders': 9028, 'court': 4653, 'hearings': 6830, 'strip': 11179, 'caregivers': 3949, 'patients': 9242, 'never': 8728, 'be': 3464, 'conflicts': 4467, 'over': 9087, 'handled': 6741, 'educational': 5505, 'materials': 8260, 'did': 5126, 'you': 12500, 'know': 7782, 'have': 6788, 'access': 2510, 'books': 3671, 'videos': 12083, 'classrooms': 4222, 'personal': 9327, 'use': 11951, 'these': 11550, 'loan': 8062, 'resource': 10225, 'center': 4044, 'libraries': 7960, 'across': 2548, 'state': 11085, 'us': 11946, 'more': 8548, 'details': 5078, 'questions': 9904, 'call': 3897, '517': 1370, '292': 546, '2800': 532, 'tax': 11428, 'deductible': 4952, 'adoption': 2633, 'child': 4131, 'abuse': 2491, 'civil': 4200, 'disobedience': 5197, 'cloning': 4252, 'constitutional': 4517, 'convention': 4571, 'euthanasia': 5761, 'genetic': 6443, 'engineering': 5656, 'human': 7002, 'embryonic': 5593, 'stem': 11117, 'cell': 4039, 'march': 8212, 'dimes': 5143, 'nonviolence': 8791, 'picketing': 9392, 'population': 9518, 'school': 10546, 'based': 3412, 'surrogate': 11323, 'parenting': 9179, 'contracts': 4556, 'handicapped': 6739, 'women': 12392, 'reproductive': 10194, 'isn': 7433, 'matter': 8266, 'pro': 9696, 'vs': 12167, 'choice': 4150, 'chicago': 4127, 'tribune': 11730, 'november': 8832, '2017': 348, 'diversity': 5223, 'movement': 8581, 'richer': 10310, 'than': 11516, 'ever': 5779, 'jewish': 7627, 'journal': 7652, 'breaking': 3715, 'judge': 7676, 'halts': 6731, 'california': 3896, 'law': 7855, 'forcing': 6272, 'centers': 4046, 'advertise': 2650, 'abortions': 2462, 'lifesite': 7989, 'october': 8916, '31': 619, 'po': 9475, 'box': 3692, '954': 2107, 'holt': 6933, 'mi': 8396, '48842': 1096, 'copyright': 4593, '2005': 333, '2018': 356, 'all': 2766, 'rights': 10323, 'reserved': 10217, '757': 1723, '461': 1002, '0011': 4, 'namebright': 8643, 'com': 4345, 'next': 8742, 'generation': 6439, 'domain': 5259, 'registration': 10094, 'abortiongang': 2459, 'org': 9033, 'coming': 4357, 'soon': 10946, 'var': 12024, 'sc_project': 10530, '9484561': 2097, 'sc_invisible': 10529, 'sc_security': 10531, 'b0cbab70': 3188, 'sc_https': 10528, 'scjshost': 10554, 'https': 6994, 'document': 5241, 'location': 8071, 'protocol': 9791, 'secure': 10602, 'http': 6993, 'www': 12468, 'write': 12459, 'sc': 10527, 'ript': 10332, 'type': 11801, 'text': 11509, 'javascript': 7592, 'src': 11048, 'statcounter': 11084, 'counter': 4635, 'js': 7672, 'script': 10569, 'knowledge': 7784, 'empowering': 5619, 'home': 6935, 'might': 8412, 'pregnant': 9614, 'what': 12293, 'now': 8837, 'expect': 5837, 'victim': 12076, 'my': 8615, 'options': 9016, 'before': 3502, 'decide': 4931, 'pregnancy': 9612, 'get': 6466, 'support': 11294, 'financial': 6167, 'assistance': 3060, 'housing': 6980, 'healthcare': 6823, 'food': 6258, 'nutrition': 8866, 'childcare': 4133, 'your': 12504, 'directory': 5160, 'love': 8105, 'real': 9998, 'beth': 3550, 'blog': 3632, 'guys': 6695, 'ask': 3042, 'submit': 11214, 'faq': 5995, 'facing': 5961, 'an': 2849, 'unplanned': 11908, 'some': 10930, 'tough': 11667, 'make': 8179, 'they': 11551, 'even': 5769, 'difficult': 5135, 'when': 12302, 'don': 5264, 'information': 7256, 'need': 8690, 'truly': 11748, 'informed': 7258, 'decision': 4940, 'good': 6569, 'that': 11522, 'this': 11561, 'alone': 2789, 'here': 6872, 'answering': 2903, 'listening': 8034, 'concerns': 4431, 'providing': 9806, 'possible': 9537, 'hoping': 6963, 'find': 6170, 'practical': 9575, 'solutions': 10929, 'solid': 10923, 'facts': 5965, 'simply': 10811, 'friend': 6355, 'understands': 11866, 'going': 6557, 'come': 4350, 'place': 9422, '800': 1797, '712': 1691, 'help': 6852, '4357': 888, 'reach': 9984, 'trained': 11692, 'caring': 3953, 'professional': 9726, 'donation': 5274, 'compromote': 4416, 'page': 9138, 'too': 11648, 'manifesto': 8201, 'aderenti': 2613, 'aderisci': 2614, 'contattaci': 4532, 'sostienici': 10962, 'tesseramento': 11485, 'corteo': 4615, 'ore': 9029, 'adorazione': 2635, 'volant': 12152, 'video': 12081, 'no194': 8770, 'sito': 10836, 'ufficiale': 11824, 'del': 4992, 'comitato': 4358, 'referendario': 10063, 'per': 9290, 'abrogazione': 2475, 'della': 5006, '194': 262, 'felicitazioni': 6094, 'al': 2742, 'neo': 8712, 'ministro': 8445, 'lorenzo': 8093, 'fontana': 6255, 'iscritto': 7424, 'nostro': 8814, 'ritengo': 10340, 'doveroso': 5304, 'rivolgere': 10344, 'le': 7871, 'più': 9419, 'vive': 12138, 'la': 7803, 'sua': 11203, 'nomina': 8779, 'capo': 3931, 'dicastero': 5121, 'famiglia': 5988, 'disabilità': 5165, 'essendo': 5728, 'dall': 4840, 'anno': 2891, '2011': 339, 'che': 4114, 'fondai': 6241, 'da': 4827, 'solo': 10926, 'il': 7116, '18': 238, '2009': 337, 'finalizzato': 6164, 'referendaria': 10062, 'legge': 7904, 'conta': 4524, 'oltre': 8957, '30': 599, '000': 1, 'iscrizione': 7425, 'particolare': 9203, 'raccolsi': 9927, 'personalmente': 9329, 'di': 5111, 'fronte': 6362, 'ad': 2574, 'una': 11845, 'chiesa': 4129, 'desenzano': 5054, 'data': 4862, '28': 531, 'verso': 12065, '12': 159, 'occasione': 8902, 'un': 11844, 'evento': 5773, 'naturalmente': 8667, 'con': 4422, 'sottoscrizione': 10965, 'manuale': 8205, 'parte': 9194, 'dell': 5005, 'interessato': 7330, 'relativo': 10123, 'modulo': 8504, 'ho': 6921, 'davanti': 4870, 'ai': 2730, 'miei': 8411, 'occhi': 8904, 'mentre': 8370, 'scrivo': 10574, 'presente': 9644, 'autorizzazione': 3135, 'dello': 5008, 'stesso': 11130, 'alla': 2767, 'pubblicazione': 9821, 'nominativo': 8784, 'trattasi': 11712, 'quindi': 9912, 'uno': 11906, 'noi': 8776, 'ben': 3538, 'orgoglioso': 9048, 'esserlo': 5731, 'questa': 9900, 'circostanza': 4183, 'dimostra': 5144, 'quanto': 9890, 'fu': 6370, 'opportuna': 8998, 'nel': 8708, 'metodo': 8392, 'merito': 8379, 'scelta': 10540, 'sottoscritto': 10964, 'ferma': 6104, 'restando': 10247, 'apartiticità': 2930, 'appoggiare': 2957, 'campagna': 3907, 'elettorale': 5560, 'tre': 11717, 'forze': 6304, 'politiche': 9499, 'forza': 6303, 'nuova': 8860, 'unico': 11884, 'partito': 9208, 'antiabortista': 2908, 'sulla': 11277, 'scena': 10541, 'lega': 7895, 'fratelli': 6335, 'italia': 7446, 'due': 5343, 'formazioni': 6287, 'meno': 8360, 'laiciste': 7815, 'tra': 11675, 'quelle': 9898, 'possibilità': 9536, 'accesso': 2513, 'alle': 2769, 'camere': 3906, 'cui': 4727, 'seconda': 10594, 'militanza': 8423, 'nella': 8709, 'consapevolezza': 4488, 'non': 8786, 'tutti': 11782, 'partiti': 9207, 'sono': 10942, 'uguali': 11826, 'pur': 9848, 'cosciente': 4618, 'mondo': 8521, 'politica': 9496, 'gli': 6534, 'ambienti': 2822, 'parlamentari': 9189, 'ci': 4177, 'ostili': 9060, 'nostra': 8810, 'battaglia': 3420, 'rimane': 10326, 'durissima': 5351, 'unica': 11883, 'via': 12071, 'ottenere': 9066, 'obiettivo': 8880, 'quella': 9897, 'perché': 9295, 'mai': 8163, 'maggioranza': 8158, 'parlamentare': 9188, 'abrogherà': 2476, 'ma': 8143, 'avere': 3147, 'persona': 9325, 'sulle': 11278, 'nostre': 8812, 'posizioni': 9532, 'grossa': 6652, 'soddisfazione': 10913, 'voglio': 12146, 'condividere': 4444, 'nostri': 8813, 'militanti': 8422, 'questi': 9901, 'anni': 2888, 'hanno': 6748, 'lavorato': 7854, 'me': 8306, 'anche': 2855, 'partecipando': 9195, 'eventi': 5772, 'prossimo': 9780, 'dei': 4990, 'quali': 9883, 'lo': 8058, 'ricordo': 10315, 'nazionale': 8676, 'preghiera': 9609, 'si': 10772, 'svolgerà': 11344, 'sabato': 10448, 'dalle': 4842, 'bologna': 3660, 'piazza': 9388, 'giovanni': 6515, 'monte': 8533, 'vicino': 12075, 'basilica': 3417, 'stefano': 11116, 'può': 9865, 'partecipare': 9196, 'parzialmente': 9215, 'avv': 3155, 'pietro': 9399, 'guerini': 6675, 'presidente': 9650, 'ed': 5482, 'omonima': 8960, 'associazione': 3066, 'comments': 4371, 'giugno': 6520, 'filed': 6151, 'under': 11858, 'attività': 3097, 'novità': 8836, 'discorso': 5178, 'milano': 8416, '14': 188, 'aborto': 2466, 'referendum': 10064, 'irlandese': 7395, 'aprile': 2974, 'contro': 4562, 'sostegno': 10961, 'maggio': 8156, '20': 325, 'persecuzione': 9319, 'cattolici': 3993, 'putin': 9861, 'degno': 4984, 'nostalgico': 8809, 'urss': 11945, 'premetto': 9621, 'intendo': 7320, 'mio': 8456, 'post': 9540, 'rivolgermi': 10345, 'né': 8872, 'coloro': 4339, 'donne': 5278, 'consciamente': 4489, 'avvertono': 3157, 'irresistibile': 7398, 'attrazione': 3098, 'uomo': 11923, 'potere': 9555, 'dal': 4839, 'pugno': 9836, 'duro': 5352, 'sé': 11372, 'molto': 8509, 'rispettoso': 10338, 'pulsioni': 9841, 'sessuali': 10685, 'ciascuno': 4178, 'ritengono': 10341, 'attuale': 3099, 'cremlino': 4686, 'apprezzabile': 2962, 'nazionalista': 8677, 'nonostante': 8788, 'suo': 11287, 'passato': 9221, 'sue': 11257, 'dichiarazioni': 5124, 'elogiative': 5574, 'sul': 11275, 'regime': 10089, 'sovietico': 10977, 'oggettiva': 8935, 'imperialismo': 7155, 'russo': 10422, 'egli': 5527, 'rappresenta': 9962, 'ennesima': 5665, 'potenza': 9554, 'sia': 10773, 'rivolto': 10346, 'occidente': 8906, 'paese': 9137, 'geograficamente': 6454, 'occidentale': 8905, 'appartengono': 2936, 'mia': 8397, 'comunità': 4420, 'senso': 10653, 'stretto': 11175, 'cattolica': 3992, 'interno': 7340, 'essa': 5725, 'sanno': 10492, 'utilizzare': 11979, 'cervello': 4058, 'riflettere': 10318, 'parlare': 9192, 'slogan': 10875, 'eletto': 5559, 'altri': 2806, 'siamo': 10774, '24': 449, 'ha': 6717, 'dichiarato': 5123, 'lui': 8125, 'resto': 10249, 'sorprendente': 10953, 'quale': 9882, 'ex': 5794, 'fsb': 6368, 'kgb': 7746, 'apparato': 2934, 'responsabile': 10240, 'milioni': 8421, 'morti': 8557, 'polizia': 9503, 'segreta': 10625, 'servizio': 10682, 'segreto': 10626, 'quel': 9896, 'avuto': 3154, 'decenni': 4929, 'missili': 8475, 'puntati': 9846, 'italiani': 7448, 'teste': 11488, 'corriere': 4613, 'primo_piano': 9679, 'esteri': 5741, '2007': 335, '03_marzo': 40, '13': 173, 'montefiori': 8534, 'shtml': 10768, 'ricerca': 10307, 'repubblica': 10196, 'archivio': 2988, '04': 47, '26': 500, 'crollo': 4701, 'catastrofe': 3982, 'html': 6992, 'questo': 9906, 'epoca': 5694, 'cattocomunismo': 3991, 'strisciante': 11181, 'evidentemente': 5789, 'problema': 9702, 'qualche': 9880, 'nostrano': 8811, 'idee': 7055, 'confuse': 4468, 'idolatra': 7062, 'personaggio': 9326, 'paladino': 9152, 'valori': 12013, 'cristiani': 4695, 'senza': 10657, 'sapere': 10498, 'mutato': 8611, 'potrebbe': 9557, 'fare': 5998, 'pochi': 9479, 'giorni': 6514, 'visti': 12130, 'suoi': 11288, 'poteri': 9556, 'sull': 11276, 'peggiore': 9278, 'aborti': 2453, 'percentualmente': 9293, 'gravidanze': 6628, 'totali': 11661, 'doppio': 5289, 'quelli': 9899, 'praticati': 9585, 'negli': 8698, 'usa': 11947, 'neppure': 8714, 'fatto': 6011, 'russia': 10420, 'misteriosamente': 8483, 'scompaiano': 10555, 'vengano': 12047, 'assassinati': 3048, 'giornalisti': 6513, 'esponenti': 5723, 'opposizione': 9010, 'arrestati': 3019, 'oppositori': 9009, 'manifestano': 8198, 'pacificamente': 9133, 'ragazzini': 9935, 'avvenuto': 3156, 'documentato': 5244, 'ritenuto': 10342, 'taluni': 11401, 'importante': 7161, 'possa': 9533, 'manifestare': 8199, 'poi': 9486, 'russi': 10419, 'arrangino': 3017, 'faccia': 5949, 'coerenza': 4278, 'forse': 6295, 'però': 9340, 'cristianità': 4696, 'vi': 12070, 'riporto': 10329, 'sotto': 10963, 'fonte': 6256, 'filoamericano': 6160, 'stipendiato': 11142, 'soros': 10952, 'parlano': 9190, 'regola': 10096, 'chi': 4126, 'giornalista': 6512, 'conosciuto': 4487, 'relatore': 10124, 'conferenza': 4452, 'organizzata': 9045, 'fa': 5945, 'città': 4197, 'fn': 6223, 'su': 11202, 'signore': 10800, 'degli': 4983, 'anelli': 2862, 'entrare': 5683, 'vigore': 12101, 'democraticissimo': 5016, 'leggi': 7905, 'liberticide': 7957, 'vengono': 12048, 'perseguitati': 9321, 'soprattutto': 10948, 'islamici': 7428, 'ortodossi': 9058, 'primo': 9678, 'luogo': 8133, 'possono': 9539, 'proselitismo': 9777, 'predicare': 9601, 'pregare': 9608, 'fuori': 6390, 'delle': 5007, 'chiese': 4130, 'dunque': 5347, 'esempio': 5715, 'ciò': 4202, 'sorgere': 10950, 'specifico': 11000, 'dovere': 5303, 'denuncia': 5031, 'sarebbe': 10504, 'vietato': 12088, 'svolgere': 11343, 'preghiere': 9610, 'pubbliche': 9822, 'esterno': 5742, 'ospedali': 9059, 'lintraprendente': 8027, '10': 124, 'sapete': 10499, 'perseguita': 9320, 'ricorda': 10314, 'pezzo': 9350, 'qualcuno': 9881, 'considera': 4502, 'origine': 9054, 'ateismo': 3075, 'mondiale': 8520, 'maggior': 8157, 'numero': 8858, 'praticanti': 9584, '32': 626, 'libertà': 7959, 'religiosa': 10134, 'diritto': 5161, 'politico': 9501, 'cittadini': 4196, 'sancito': 10483, 'emendamento': 5596, 'costituzione': 4621, 'federale': 6080, 'varato': 12025, 'addirittura': 2602, '1791': 233, 'dalla': 4841, 'viene': 12086, 'fatta': 6010, 'discendere': 5174, 'ogni': 8936, 'altra': 2805, 'amici': 2837, 'amate': 2814, 'masochisticamente': 8247, 'nemico': 8711, 'aprite': 2975, 'se': 10582, 'siete': 10786, 'grado': 6602, 'farlo': 6000, 'articoli': 3025, 'giornale': 6511, 'marzo': 8244, '25': 473, 'older': 8952, 'posts': 9550, 'documenti': 5245, 'vogliamo': 12145, 'abrogare': 2474, 'italiano': 7449, 'adesione': 2615, 'progetto': 9741, 'deutsch': 5089, 'parere': 9183, 'cei': 4032, 'evangelium': 5765, 'vitae': 12132, 'vaticano': 12035, 'autonomia': 3133, 'categorie': 3983, 'media': 8322, 'rassegna': 9965, 'stampa': 11064, 'specifica': 10998, 'meta': 8384, 'accedi': 2503, 'rss': 10398, 'commenti': 4369, 'wordpress': 12404, 'seleziona': 10634, 'mese': 8381, 'gennaio': 6446, 'novembre': 8834, 'ottobre': 9067, 'settembre': 10691, 'dicembre': 5122, 'agosto': 2721, 'luglio': 8123, 'febbraio': 6075, '2015': 343, '2014': 342, '2013': 341, '2012': 340, '2010': 338, 'powered': 9565, 'development': 5096, 'councilfact': 4629, 'opinioncartaccounthomeabout': 8994, 'usgiveresourcesresources': 11959, 'classroomarkansas': 4221, 'teachersgeorgia': 11436, 'teacherutah': 11437, 'board': 3648, 'education': 5503, 'approvedhealth': 2967, 'wellness': 12284, 'curriculum': 4746, 'std': 11113, 'statsfor': 11101, 'organizationpregnancy': 9040, 'resourcespositive': 10233, 'test': 11486, 'clientnegative': 4238, 'clientsclients': 4240, 'long': 8079, 'term': 11475, 'earn': 5452, 'learn': 7881, 'mentor': 8369, 'self': 10635, 'directed': 5152, 'presentation': 9642, 'public': 9823, 'schoolsbibliographiesadvocacy': 10547, 'resourceschurch': 10230, 'resourcesbirthright': 10228, 'resourcesinfo': 10232, 'providershealth': 9804, 'clinic': 4243, 'resourcesfor': 10231, 'individualsstudent': 7229, 'researchparent': 10214, 'resourcesbrochures': 10229, 'dvdscontact': 5358, 'instructional': 7310, 'students': 11195, 'clients': 4239, 'individuals': 7228, 'publish': 9828, 'sources': 10971, 'product': 9719, 'protocolresources': 9792, 'classroom': 4220, 'arkansas': 3009, 'teachers': 11435, 'georgia': 6457, 'teacher': 11434, 'utah': 11973, 'tools': 11652, 'organization': 9039, 'advocacy': 2655, 'birthright': 3610, '17': 225, '85': 1866, 'church': 4175, '43': 872, 'info': 7252, 'providers': 9803, 'provider': 9802, 'physician': 9385, 'brochures': 3739, 'dvds': 5357, '22': 401, '39': 726, 'student': 11194, '55': 1411, 'parent': 9176, 'please': 9455, 'view': 12091, 'minute': 8454, 'preview': 9667, 'birth': 3608, 'updated': 11927, 'trailer': 11690, 'below': 3536, '16': 216, 'version': 12064, 'recommended': 10034, 'evidence': 5788, 'services': 10675, 'hdrc': 6811, 'initiatives': 7268, 'countrygivehuman': 4643, 'council': 4628, 'inc': 7181, '6555': 1574, 'sugarloaf': 11263, 'pkwy': 9420, 'suite': 11274, '307': 613, '262': 507, 'duluth': 5345, 'ga': 6403, 'email': 5581, 'protected': 9783, 'productscopyright': 9722, '501': 1345, 'nonprofit': 8789, 'nd': 8681, 'teens': 11454, 'position': 9528, 'statements': 11091, 'chapters': 4101, 'dvd': 5356, 'facebook': 5951, 'twitter': 11794, 'mail': 8164, 'list': 8030, 'pain': 9144, 'capable': 3927, 'north': 8803, 'dakota': 4836, 'dedicated': 4950, 'protecting': 9784, 'lives': 8048, 'every': 5780, 'fertilization': 6108, 'natural': 8666, 'calendar': 3894, 'largest': 7829, 'oldest': 8953, 'has': 6775, 'been': 3500, 'existence': 5827, 'since': 10814, '1970': 263, 'office': 8928, 'can': 3913, 'reached': 9985, 'at': 3074, 'ndrl': 8682, '701': 1682, '258': 490, '3811': 712, 'links': 8025, 'privacy': 9693, 'policy': 9493, 'hand': 6734, 'hope': 6959, 'picture': 9394, 'blessed': 3622, 'recent': 10023, 'speaker': 10989, 'guestbook': 6679, 'order': 9026, 'book': 3668, 'print': 9684, 'click': 4233, 'launch': 7848, 'slideshow': 10869, 'see': 10609, 'michael': 8400, 'clancy': 4210, 'photojournalist': 9378, 'thank': 11517, 'very': 12068, 'much': 8595, 'visiting': 12126, 'site': 10830, 'keeping': 7728, 'want': 12219, 'promote': 9758, 'sanctity': 10484, 'feel': 6088, 'free': 6342, 'so': 10899, 'gain': 6405, 'apologize': 2932, 'tried': 11732, 'new': 8730, 'career': 3946, 'traveling': 11716, 'extensively': 5874, 'maintained': 8172, 'years': 12491, 'wrote': 12465, 'share': 10721, 'anyway': 2924, 'little': 8040, 'boy': 3694, 'changed': 4093, 'everything': 5784, 'answer': 2901, 'patience': 9240, 'taken': 11393, 'august': 3107, '19': 252, '1999': 282, 'vanderbilt': 12022, 'university': 11899, 'nashville': 8657, 'tn': 11624, 'incredible': 7206, 'procedure': 9704, 'correct': 4610, 'spina': 11014, 'bifida': 3590, 'unborn': 11850, 'julie': 7689, 'armas': 3012, 'twenty': 11789, 'one': 8964, 'weeks': 12275, 'with': 12363, 'samuel': 10481, 'time': 11604, 'visit': 12124, 're': 9983, 'still': 11139, 'looking': 8084, 'surgery': 11314, 'google': 6574, 'also': 2798, 'amazon': 2821, 'clicking': 4236, 'link': 8022, 'received': 10020, 'request': 10202, 'speak': 10988, 'publicly': 9827, 'taking': 11396, 'chose': 4158, 'freelance': 6346, 'newspaper': 8739, 'photographer': 9373, 'shared': 10722, '150': 203, 'countries': 4641, 'blessing': 3624, 'able': 2444, 'people': 9287, 'featured': 6071, 'movie': 8583, 'gift': 6506, 'hosted': 6971, 'governor': 6592, 'mike': 8415, 'huckabee': 6996, 'world': 12415, 'premier': 9622, 'held': 6846, 'des': 5047, 'moines': 8505, 'iowa': 7385, 'unforgettable': 11876, 'night': 8754, 'meet': 8335, 'four': 6315, 'republican': 10198, 'presidential': 9651, 'contenders': 4536, 'blessings': 3625, 'cdata': 4022, '_gaq': 2278, 'push': 9856, '_setaccount': 2281, 'ua': 11811, '24528925': 461, '_trackpageview': 2282, 'function': 6379, 'createelement': 4676, 'async': 3073, 'true': 11746, 'ssl': 11052, 'analytics': 2854, 'getelementsbytagname': 6471, 'parentnode': 9180, 'insertbefore': 7288, 'gt': 6668, '364': 683, 'responses': 10242, 'laurie': 7853, 'says': 10525, '02': 28, 'pm': 9472, 'great': 6632, 'photo': 9369, 'am': 2811, 'amniotic': 2842, 'sac': 10450, 'thin': 11553, 'transparent': 11709, 'membrane': 8350, 'obviously': 8901, 'fetal': 6109, 'cut': 4760, 'open': 8976, 'along': 2791, 'uterus': 11976, 'doctor': 5238, 'didn': 5127, 'pull': 9837, 'wouldn': 12428, 'clearly': 4230, 'inside': 7290, 'would': 12427, 'like': 8002, 'looks': 8085, 'outside': 9084, 'could': 4624, 'easily': 5461, 'anonymous': 2898, '00': 0, 'where': 12304, 'bubble': 3751, 'baby': 3323, 'iris': 7394, 'july': 7690, '46': 998, 'melissa': 8344, 'think': 11556, 'seen': 10619, 'such': 11252, 'centered': 4045, 'important': 7160, 'selfish': 10636, 'let': 7933, 'family': 5992, 'without': 12369, 'deal': 4909, 'major': 8176, 'traumatic': 11714, 'abort': 2449, 'quite': 9915, 'womb': 12390, 'no': 8769, 'doubt': 5298, 'own': 9105, 'should': 10754, 'fail': 5969, 'contracept': 4550, 'stop': 11148, 'having': 6791, 'sex': 10701, 'just': 7703, 'murder': 8603, 'poor': 9514, 'willing': 12340, 'risk': 10335, 'won': 12395, 'husband': 7017, 'vasectomy': 12033, 'ready': 9995, 'another': 2899, 'woman': 12389, 'rather': 9969, 'happened': 6751, 'inconvenient': 7199, 'tubal': 11763, 'ligation': 7997, 'hysterectomies': 7034, 'necessarily': 8686, 'throw': 11585, 'into': 7353, 'menopause': 8361, 'ovaries': 9086, 'accuse': 2532, 'offensive': 8923, 'reverential': 10282, 'attitude': 3095, 'someone': 10934, 'else': 5576, 'change': 4092, 'look': 8082, 'eyes': 5883, 'two': 11796, 'children': 4135, 'claim': 4203, 'leaving': 7888, 'them': 11531, 'wonderful': 12397, 'consider': 4501, 'killing': 7759, 'sibling': 10775, 'something': 10935, 'prior': 9687, 'first': 6184, 'god': 6552, 'forbid': 6266, 'premeditated': 9620, 'already': 2796, 'decided': 4932, 'kill': 7757, 'unfortunate': 11877, 'enough': 5666, 'result': 10261, 'sexual': 10702, 'activity': 2564, 'awful': 3166, 'may': 8274, 'only': 8970, 'heart': 6831, 'dear': 4914, 'using': 11962, 'argue': 2997, 'but': 3780, 'couldn': 4625, 'myself': 8617, 'actually': 2568, 'light': 7999, 'ferocious': 6106, 'attack': 3083, 'kind': 7763, 'peache': 9269, 'especially': 5719, 'inspired': 7296, 'beauty': 3486, 'miracle': 8458, 'captured': 3936, 'photograph': 9370, 'which': 12307, 'apparently': 2935, 'less': 7931, 'herself': 6879, 'bless': 3621, 'june': 7695, '21': 382, '37': 692, 'grady': 6603, 'reply': 10180, '33': 640, 'absolutely': 2483, 'wow': 12432, 'maryann': 8240, 'check': 4116, 'fb': 6019, 'tammy': 11402, 'dr': 5311, 'joseph': 7650, 'bruner': 3745, 'allowed': 2779, 'his': 6906, 'operating': 8991, 'room': 10375, 'member': 8347, 'representing': 10191, 'he': 6812, 'wanted': 12220, 'publicity': 9826, 'things': 11555, 'go': 6547, 'way': 12245, 'planned': 9434, 'deny': 5033, 'put': 9860, 'himself': 6903, 'statement': 11089, 'staff': 11057, 'shouldn': 10756, 'shows': 10766, 'experimental': 5848, 'mother': 8564, 'learned': 7882, 'invaluable': 7365, 'lesson': 7932, 'particular': 9204, 'wasn': 12236, 'idea': 7052, 'allow': 2778, 'present': 9641, 'happy': 6757, 'positive': 9530, 'different': 5133, 'pioneer': 9410, 'maternal': 8261, 'eileen': 5533, '50': 1340, 'funny': 6389, 'until': 11918, 'thru': 11586, 'floored': 6211, 'say': 10522, 'joe': 7636, 'known': 7786, 'took': 11649, 'while': 12308, 'son': 10939, 'noah': 8771, 'whole': 12315, 'thing': 11554, 'really': 10007, 'reaching': 9987, 'anesthetic': 2868, 'failure': 5972, 'does': 5250, 'awesome': 3164, 'person': 9324, 'name': 8642, 'run': 10414, 'mud': 8596, 'disgusts': 5194, 'him': 6900, 'had': 6720, 'privilege': 9695, 'spent': 11012, 'lot': 8102, 'better': 3554, 'seems': 10618, 'wants': 12222, 'credit': 4682, 'ultimately': 11835, 'nothing': 8819, 'limelight': 8009, 'jones': 7644, 'born': 3678, 'spins': 11020, 'ago': 2718, 'pinned': 9407, 'wall': 12212, 'mind': 8433, 'forever': 6276, 'inspiration': 7295, 'therese': 11548, 'ruelle': 10406, 'april': 2972, 'mr': 8588, 'confession': 4454, 'seeing': 10611, 'admonision': 2628, 'permission': 9313, 'advance': 2643, 'sanctiy': 10485, 'aftermath': 2705, 'kermit': 7735, 'gosnell': 6583, 'trial': 11728, 'tues': 11767, '30th': 618, 'day': 4874, 'jury': 7702, 'deliberations': 4999, 'begin': 3508, 'prayer': 9589, 'campaign': 3908, 'jurors': 7701, 'convict': 4577, 'murders': 8605, 'those': 11565, 'vital': 12133, 'fight': 6147, 'alright': 2797, 'remove': 10159, 'images': 7139, 'ypsilanti': 12514, 'wish': 12359, 'darrell': 4859, 'blackfish': 3617, 'episode': 5692, 'kathy': 7717, 'ignorant': 7091, 'why': 12319, 'die': 5129, 'childbirth': 4132, 'perfectly': 9297, 'designed': 5060, 'give': 6522, 'loved': 8106, 'both': 3682, 'lived': 8045, 'body': 3654, 'were': 12286, 'parasites': 9174, 'pregnancies': 9611, 'destroyed': 5073, '49': 1112, 'always': 2807, 'fascinated': 6002, 'utero': 11975, 'reflex': 10073, 'well': 12283, 'leave': 7886, 'determinations': 5082, 'profession': 9725, 'response': 10241, 'comment': 4366, 'ages': 2715, 'blood': 3635, 'transfusions': 11700, 'emergency': 5599, 'continued': 4544, 'complications': 4412, 'ruptured': 10417, 'repaired': 10170, 'second': 10593, 'attempt': 3088, 'carry': 3963, 'most': 8562, 'likely': 8003, 'mean': 8308, 'viable': 12073, 'barely': 3404, 'survived': 11331, 'ignorantly': 7092, 'save': 10512, 'nobody': 8773, 'required': 10204, 'lay': 7861, 'down': 5306, 'legislated': 7907, 'become': 3494, 'stay': 11105, 'several': 10698, 'young': 12502, 'motherless': 8565, 'widower': 12330, 'chance': 4091, 'despite': 5068, 'control': 4563, 'fall': 5979, 'raped': 9957, 'hysterectomy': 7035, 'age': 2710, '34': 648, 'yet': 12496, 'addition': 2603, 'multitude': 8599, 'problems': 9703, 'case': 3970, 'biological': 3605, 'recover': 10042, 'try': 11756, 'yourself': 12508, 'shoes': 10748, 'choose': 4154, 'between': 3556, 'gut': 6691, 'wrenching': 12455, 'religion': 10133, 'tells': 11460, 'acceptable': 2505, 'whatever': 12294, 'dare': 4856, 'tell': 11458, 'permissible': 9312, 'spouse': 11034, 'force': 6268, 'oh': 8937, 'misguided': 8467, 'yes': 12495, 'standards': 11070, 'probably': 9699, 'heal': 6818, 'tikkun': 11600, 'olam': 8947, 'alive': 2765, 'dead': 4905, 'toddlers': 11632, 'ps': 9816, 'glad': 6526, 'worked': 12407, 'ok': 8943, 'sister': 10829, 'survives': 11332, 'cause': 3996, 'ponder': 9510, 'eh': 5528, 'jason': 7591, 'mccool': 8299, 'root': 10377, 'evil': 5790, 'kinds': 7765, 'niv': 8764, 'kjv': 7773, 'either': 5535, 'itself': 7456, 'greed': 6636, 'big': 3591, 'difference': 5132, 'secondly': 10595, 'occupation': 8907, 'means': 8313, 'makes': 8180, 'ability': 2442, 'take': 11392, 'photos': 9379, 'rest': 10246, 'certainly': 4054, 'job': 7631, 'once': 8963, 'lifetime': 7992, 'gotten': 6587, 'filthy': 6162, 'rich': 10308, 'finally': 6165, 'point': 9487, 'tired': 11613, 'extremely': 5881, 'polite': 9495, 'christlike': 4168, 'face': 5950, 'insults': 7312, 'accusations': 2531, 'saw': 10520, 'happen': 6750, 'front': 6361, 'telling': 11459, 'bit': 3613, 'short': 10751, 'fuse': 6395, 'handle': 6740, 'negative': 8694, 'feedback': 6087, 'nearly': 8685, 'modeled': 8499, 'turning': 11780, 'cheek': 4121, 'praying': 9592, 'persecute': 9317, 'far': 5997, 'throughout': 11584, 'section': 10600, 'haters': 6785, 'richly': 10311, 'peace': 9266, 'joy': 7657, 'earthly': 5457, 'success': 11249, 'guntharp': 6690, '48': 1075, 'times': 11606, 'each': 5445, 'blesses': 3623, 'show': 10759, 'creation': 4678, 'hurts': 7016, 'sake': 10468, 'persons': 9333, 'sacrifice': 10453, 'scripture': 10572, 'formed': 6290, 'knew': 7780, 'egg': 5526, 'sperm': 11013, 'joined': 7639, 'together': 11636, 'willed': 12339, 'performed': 9301, 'there': 11544, 'fact': 5962, 'period': 9305, 'glorious': 6539, 'came': 3904, 'above': 2470, 'served': 10672, 'sav': 10511, 'pregancy': 9607, 'directors': 5159, 'decatur': 4924, 'few': 6115, 'concerned': 4429, 'insuring': 7314, 'thanks': 11521, 'work': 12406, 'remarkable': 10143, 'lord': 8091, 'pages': 9140, 'group': 6658, 'appreciate': 2961, 'pat': 9235, 'february': 6076, 'vamped': 12020, 'website': 12263, 'themusicstorehouse': 11535, 'currently': 4744, 'construction': 4518, 'featuring': 6073, 'collaborative': 4287, 'radio': 9932, 'spots': 11033, 'produced': 9717, 'congressman': 4476, 'trent': 11727, 'franks': 6333, 'back': 3335, 'nineties': 8760, 'representative': 10189, 'relentless': 10131, 'defender': 4966, 'sponsored': 11028, 'outlaw': 9077, 'selective': 10633, 'gender': 6432, 'strictly': 11177, 'custom': 4752, 'parts': 9213, 'audio': 3103, 'presentations': 9643, 'called': 3899, 'echoes': 5477, 'freedom': 6344, 'relevant': 10132, 'number': 8854, 'concern': 4428, 'personhood': 9330, 'rep': 10168, 'delivery': 5004, 'compassionate': 4399, 'impactful': 7152, 'permissable': 9311, 'indebted': 7209, 'pray': 9587, 'strength': 11170, 'upholding': 11933, 'defending': 4967, 'least': 7884, 'spirit': 11021, 'almost': 2788, 'completely': 4407, 'permeated': 9310, 'consequently': 4499, 'deniers': 5027, 'protectors': 9786, 'ranks': 9954, 'advanced': 2644, 'equipment': 5699, 'prove': 9796, 'small': 10879, 'beings': 3519, 'someday': 10932, 'demographics': 5019, 'testify': 11492, 'aging': 2717, 'unreplaced': 11913, 'resulting': 10263, 'collapsed': 4289, 'economies': 5479, 'governments': 6591, 'viewed': 12092, 'sighted': 10788, 'flat': 6201, 'earthers': 5456, 'perhaps': 9304, 'establishment': 5735, 'protects': 9787, 'pushes': 9858, 'agenda': 2712, 'ones': 8965, 'old': 8948, 'll': 8052, 'send': 10645, '29': 543, 'novice': 8835, 'web': 12257, 'design': 5058, 'teresa': 11474, 'lynn': 8141, '01': 18, 'referring': 10069, 'patient': 9241, 'surgeon': 11311, 'helping': 6858, 'safety': 10462, 'future': 6400, 'indeed': 7210, 'trying': 11757, 'rachel': 9928, 'beating': 3483, 'touched': 11665, 'hearts': 6834, 'forgotten': 6282, 'image': 7128, 'tiny': 11611, 'touching': 11666, 'gloved': 6543, 'finger': 6174, 'powerful': 9566, 'timing': 11607, 'articles': 3024, '58': 1448, 'hopes': 6962, 'live': 8042, 'wonders': 12400, 'though': 11566, 'instead': 7306, 'survive': 11330, 'en': 5624, 'bring': 3733, 'tears': 11442, 'everytime': 5785, 'teaching': 11439, 'psychology': 9820, 'class': 4219, 'frustrating': 6367, 'created': 4674, 'controversy': 4568, 'fetuses': 6112, 'humans': 7007, 'reflexes': 10074, 'fetus': 6111, 'demonstrating': 5022, 'grasping': 6619, 'justify': 7708, 'opinions': 8995, 'impressive': 7171, 'steps': 11122, 'improve': 7173, 'otherwise': 9065, 'potentially': 9553, 'altering': 2801, 'disabilities': 5163, 'advancements': 2646, 'technology': 11448, 'olga': 8954, 'gasanova': 6423, '08': 77, 'doing': 5255, 'essay': 5726, 'against': 2709, 'looked': 8083, 'pictures': 9395, 'places': 9427, 'bible': 3586, 'explanation': 5859, 'proof': 9762, 'verses': 12063, 'others': 9063, 'anyways': 2925, 'wondering': 12399, 'cite': 4191, 'gladly': 6527, 'hi': 6883, 'debbie': 4919, 'taped': 11412, 'printer': 9686, 'peer': 9277, 'counselor': 4631, 'finished': 6178, 'fantasy': 5994, 'novel': 8831, 'upload': 11934, 'credits': 4684, 'donnie': 5280, 'moore': 8543, 'september': 10663, '51': 1363, 'sleep': 10861, 'bed': 3497, 'holding': 6927, 'grab': 6594, 'hands': 6743, 'arm': 3011, 'index': 7215, 'etc': 5746, 'asleep': 3045, 'move': 8579, 'around': 3016, 'kick': 7752, 'punch': 9842, 'stretching': 11174, 'possibly': 9538, 'personally': 9328, 'done': 5276, 'brag': 3699, 'asked': 3043, 'went': 12285, 'carefully': 3948, 'exposed': 5866, 'spine': 11016, 'perform': 9299, 'happens': 6753, 'latex': 7839, 'posed': 9525, 'moment': 8511, 'leslie': 7930, 'anesthesia': 2864, 'wks': 12377, 'grip': 6650, 'happening': 6752, 'cstex': 4716, 'grand': 6607, 'she': 10727, 'operation': 8992, 'helped': 6856, 'her': 6870, 'brain': 3701, 'develpment': 5100, 'quality': 9887, 'getting': 6476, 'objective': 8884, 'condem': 4437, 'doctors': 5240, 'performing': 9302, 'hurt': 7014, 'total': 11659, 'feels': 6091, 'blob': 3627, 'course': 4652, 'painful': 9145, 'imaging': 7144, 'doesn': 5251, 'emails': 5583, 'names': 8647, 'abortionist': 2460, 'commended': 4365, 'courage': 4649, 'devotion': 5104, 'improving': 7177, 'beautiful': 3484, 'behalf': 3513, 'relatives': 10122, 'honor': 6951, 'brunner': 3746, 'tulipan': 11771, 'virginia': 12116, 'ellesar': 5572, 'learning': 7883, 'spell': 11008, 'decied': 4935, 'higher': 6893, 'power': 9564, 'adham': 2618, 'amazing': 2820, 'emma': 5603, 'embryo': 5592, 'adult': 2640, 'stages': 11061, 'mary': 8239, 'hetrick': 6882, 'christian': 4163, 'acknowledging': 2546, 'issue': 7439, 'everyone': 5783, 'profiting': 9737, 'rot': 10385, 'insist': 7292, 'focusing': 6228, 'mistakes': 8482, 'improvement': 7174, 'saving': 10519, 'profits': 9738, 'besides': 3547, 'tithing': 11617, 'precious': 9600, 'making': 8181, 'increasing': 7205, 'fame': 5987, 'anyone': 2920, 'copyrights': 4595, 'model': 8498, 'aware': 3159, 'agreement': 2724, 'exclusive': 5815, 'underage': 11859, 'parents': 9181, 'bet': 3549, 'counted': 4634, 'appearance': 2940, 'minor': 8450, 'then': 11536, 'revert': 10288, 'brings': 3735, 'up': 11924, 'checked': 4117, 'judges': 7681, 'supporting': 11297, 'convicted': 4578, 'confused': 4469, 'understand': 11864, 'start': 11077, 'deadset': 4908, 'stubborn': 11193, 'grabbing': 6596, 'attached': 3082, 'soo': 10945, 'newborn': 8731, 'action': 2552, '38': 708, 'haven': 6789, 'digitally': 5140, 'nook': 8792, 'curious': 4737, 'abraham': 2472, 'lincoln': 8015, 'george': 6456, 'washington': 12235, 'rosa': 10379, 'parks': 9187, 'knows': 7787, 'soul': 10966, 'sends': 10647, 'purpose': 9853, 'mankind': 8203, 'undeniable': 11857, 'hanging': 6746, 'inspires': 7297, 'continue': 4543, 'pursuing': 9855, 'medicine': 8331, 'awestruck': 3165, 'perfect': 9296, 'masterfully': 8252, 'side': 10778, 'debate': 4917, 'effective': 5519, 'asking': 3044, 'rethink': 10270, 'cannot': 3922, 'affected': 2684, 'conviction': 4579, 'truth': 11753, 'victoria': 12078, 'im': 7127, 'paper': 9168, 'wanna': 12218, 'believe': 3524, 'definatley': 4972, '56': 1429, 'dave': 4871, 'left': 7893, 'speechless': 11006, 'often': 8934, 'responding': 10239, 'sooner': 10947, 'words': 12405, 'exactly': 5796, 'same': 10476, 'terrible': 11480, 'mistake': 8480, 'mona': 8518, 'prayers': 9591, 'meeting': 8336, 'woodland': 12401, 'dreamed': 5319, 'sad': 10457, 'excited': 5814, 'phase': 9356, 'grandberg': 6608, 'protect': 9782, 'speaking': 10991, 'sacrificing': 10456, 'sharing': 10723, 'followed': 6238, 'journey': 7655, 'intense': 7321, 'spiritual': 11022, 'battle': 3422, 'got': 6585, 'banquet': 3396, 'evening': 5770, 'grateful': 6623, 'invited': 7374, 'heading': 6815, 'dot': 5293, 'marriage': 8232, 'wherever': 12305, 'lead': 7872, 'moved': 8580, 'stated': 11087, 'uses': 11957, 'wretch': 12456, 'gave': 6428, 'glory': 6540, 'revealing': 10277, 'miraculous': 8460, 'placing': 9428, 'committed': 4377, 'mothers': 8566, 'thanking': 11520, 'saved': 10513, 'healthy': 6826, 'continuing': 4546, 'psalm': 9817, '139': 180, 'jeff': 7613, 'betty': 3555, 'related': 10116, 'ireland': 7393, 'kate': 7713, '06': 64, 'womens': 12393, 'repeat': 10172, 'after': 2700, 'aren': 2993, 'week': 12269, 'anti': 2907, 'away': 3161, 'wrong': 12463, 'rules': 10412, 'mason': 8248, 'testimony': 11504, 'upon': 11936, 'searching': 10586, 'grandfather': 6610, '1840': 246, 'maybe': 8276, 'catholic': 3988, 'proud': 9793, 'crime': 4689, 'needs': 8693, 'addressed': 2608, 'martin': 8236, 'ontological': 8973, 'status': 11103, 'grandmother': 6611, 'throes': 11582, 'morphine': 8555, 'ventilator': 12050, 'constant': 4513, 'caare': 3880, 'compel': 4400, 'plug': 9464, 'awareness': 3160, 'surroundings': 11325, 'conception': 4427, 'forward': 6301, 'foetus': 6232, 'develop': 5093, 'sequentially': 10665, 'continuously': 4549, 'unimpeded': 11888, 'fully': 6376, 'dependent': 5037, 'snuff': 10897, 'unaware': 11848, 'its': 7455, 'toledo': 11639, 'ohio': 8938, 'spring': 11038, 'dinner': 5146, 'honored': 6953, 'photography': 9377, 'event': 5771, 'marie': 8220, 'kesteleyn': 7737, 'voici': 12150, 'traduction': 11682, 'cordialement': 4599, 'main': 8166, 'du': 5339, 'voir': 12151, 'absolument': 2481, 'qui': 9908, 'suit': 11272, 'commencé': 4363, 'circuler': 4188, 'elle': 5571, 'aurait': 3118, 'dû': 5374, 'être': 12589, 'de': 4899, 'année': 2896, 'ou': 9068, 'peut': 9349, 'décennie': 5371, 'fait': 5975, 'moins': 8506, 'que': 9894, 'vous': 12166, 'ayez': 3171, 'obtenu': 8899, 'une': 11869, 'copie': 4589, 'édité': 12585, 'aux': 3137, 'ne': 8683, 'pouvez': 9561, 'probablement': 9698, 'pas': 9216, 'avoir': 3153, 'vue': 12170, 'est': 5733, 'celle': 4040, 'bébé': 3790, 'semaines': 10639, 'alexandre': 2757, 'opéré': 9022, 'par': 9170, 'chirurgien': 4149, 'diagnostic': 5115, 'prénatal': 9815, 'avait': 3140, 'révélé': 10427, 'grave': 6627, 'malformation': 8184, 'colonne': 4299, 'vertébrale': 12067, 'mère': 8622, 'petit': 9343, 'infirmière': 7244, 'obstétrique': 8896, 'atlanta': 3076, 'connaissait': 4477, 'remarquable': 10145, 'procédé': 9716, 'chirurgical': 4148, 'centre': 4050, 'médical': 8623, 'universitaire': 11897, 'effectue': 5523, 'ses': 10683, 'opérations': 9021, 'sur': 11304, 'dans': 4855, 'utérus': 11981, 'maternel': 8262, 'technique': 11445, 'consiste': 4510, 'sortir': 10959, 'abdomen': 2434, 'et': 5745, 'faire': 5973, 'petite': 9344, 'incision': 7189, 'pour': 9560, 'pratiquer': 9586, 'opération': 9020, 'pendant': 9283, 'opérait': 9019, 'sorti': 10958, 'sa': 10446, 'minuscule': 8453, 'mais': 8175, 'entièrement': 5681, 'développée': 5373, 'fermement': 6105, 'saisi': 10466, 'doigt': 5254, 'décrit': 5372, 'cela': 4033, 'comme': 4361, 'plus': 9471, 'émouvant': 12586, 'vie': 12085, 'instant': 7305, 'resté': 10260, 'totalement': 11660, 'immobile': 7150, 'photographe': 9371, 'capturé': 3938, 'cet': 4059, 'événement': 12588, 'étonnant': 12587, 'avec': 3142, 'clarté': 4217, 'parfaite': 9184, 'les': 7929, 'journalistes': 7653, 'ont': 8971, 'intitulé': 7352, 'espoir': 5722, 'texte': 11513, 'expliquant': 5862, 'commence': 4362, 'armasémerge': 3013, 'saisir': 10467, 'remercier': 10150, 'docteur': 5237, 'cadeau': 3884, 'qu': 9879, 'faisait': 5974, 'dit': 5220, 'pleuré': 9463, 'jours': 7656, 'quand': 9888, 'vu': 12169, 'santé': 10497, 'ayant': 3170, 'réussi': 10426, '100': 125, 'steve': 11131, 'deace': 4904, 'religious': 10135, 'nor': 8796, 'opinion': 8993, 'considering': 4508, 'single': 10820, 'man': 8189, 'kids': 7756, 'neither': 8706, 'liberal': 7954, 'conservative': 4500, 'viewpoints': 12094, 'morals': 8547, 'beliefs': 3523, 'clash': 4218, 'hearing': 6829, 'hit': 6912, 'strong': 11185, 'safely': 10461, 'contraception': 4551, 'protection': 9785, 'debated': 4918, 'screams': 10565, 'whenever': 12303, 'hear': 6827, 'arguments': 3002, 'honest': 6948, 'felt': 6099, 'considered': 4507, 'beginning': 3509, 'actual': 2566, 'simple': 10810, 'takes': 11394, 'stars': 11076, 'processes': 9709, 'aligned': 2762, 'ended': 5639, 'argument': 3000, 'sees': 10620, 'lets': 7935, 'mere': 8376, 'coincidence': 4284, 'clear': 4226, 'react': 9988, 'instinctively': 7307, 'demonstrates': 5021, 'living': 8050, 'breathing': 3718, 'soso': 10960, 'subhanallah': 11209, 'anything': 2922, 'interfere': 7334, 'endanger': 5637, 'stood': 11146, 'told': 11638, 'stand': 11067, 'lens': 7925, 'close': 4253, 'moving': 8584, 'previously': 9669, 'elicits': 5564, 'emotions': 5607, 'viewer': 12093, 'previous': 9668, 'entitled': 5679, 'weren': 12287, 'thats': 11523, 'erica': 5702, 'blogroll': 3633, 'homepage': 6939, 'erika': 5703, 'strassburger': 11162, 'brazilian': 3711, 'again': 2708, 'congratulations': 4473, 'pity': 9415, 'trouble': 11741, 'large': 7827, 'magazine': 8155, 'cover': 4658, 'recognized': 10032, 'greene': 6639, 'involuntary': 7378, 'deserving': 5057, 'unexpected': 11872, 'therefore': 11546, 'respond': 10237, 'keep': 7727, 'track': 11676, 'safe': 10460, 'exaggerate': 5797, 'shot': 10753, 'priority': 9690, 'merci': 8374, 'deux': 5090, 'vos': 12158, 'commentaires': 4367, 'je': 7611, 'utiliser': 11977, 'translate': 11704, 'outils': 9076, 'traduire': 11683, 'entier': 5676, 'christine': 4167, 'upset': 11938, 'invite': 7373, 'lie': 7969, 'cure': 4735, 'removal': 10158, 'fluid': 6215, 'built': 3762, 'alleviate': 2773, 'condition': 4442, 'hydrocephalus': 7030, 'associated': 3064, 'extent': 5875, 'disability': 5164, 'benefited': 3540, 'agree': 2722, 'diagnosed': 5113, 'abnormality': 2447, 'demand': 5011, 'continues': 4545, 'society': 10910, 'doomed': 5286, 'attacked': 3084, 'capturing': 3937, 'film': 6158, 'implying': 7158, 'arguing': 2999, 'fist': 6189, 'surgical': 11315, 'opening': 8980, 'flailed': 6198, 'forth': 6297, 'ludicrous': 8122, 'sort': 10956, 'speaks': 10992, 'interpret': 7343, 'message': 8382, 'written': 12462, 'surmise': 11317, 'foetuses': 6233, 'sentience': 10656, 'admit': 2626, 'proves': 9799, 'limb': 8007, 'anaesthesia': 2850, 'hardly': 6764, 'extraordinary': 5879, 'imply': 7157, 'somehow': 10933, 'gesture': 6465, 'mad': 8150, 'adults': 2642, 'thought': 11567, 'thousand': 11569, 'feelings': 6090, 'raises': 9943, 'cured': 4736, 'aborting': 2455, 'abnormal': 2445, 'hopefully': 6960, 'eugenics': 5753, 'leading': 7876, 'accurately': 2530, 'abnormalities': 2446, 'fixed': 6194, 'excuses': 5818, 'hold': 6925, 'admin': 2623, 'article': 3023, 'indicating': 7222, 'saver': 10516, 'automatically': 3132, 'easy': 5463, 'interested': 7332, 'posting': 9548, 'augustinus': 3110, 'bonjour': 3666, 'suis': 11271, 'arrivé': 3020, 'hasard': 6776, 'votre': 12165, 'internet': 7339, 'parlant': 9191, 'très': 11758, 'bien': 3588, 'anglais': 2875, 'trop': 11740, 'comprit': 4415, 'histoire': 6908, 'pouviez': 9562, 'amabilité': 2812, 'expliquer': 5863, 'francais': 6327, 'serais': 10666, 'ravi': 9976, 'tout': 11669, 'cas': 3968, 'belle': 3532, 'realise': 9999, 'circulation': 4187, 'tuong': 11776, 'provide': 9800, 'copy': 4592, 'publication': 9824, 'file': 6150, 'follow': 6237, 'linh': 8020, 'nguyen': 8746, 'micheal': 8402, 'somebody': 10931, 'squeezed': 11044, 'vietnamese': 12090, 'san': 10482, 'jose': 7647, 'spread': 11035, 'readers': 9993, 'covering': 4661, 'languague': 7824, '408': 794, '437': 891, '9006': 2027, 'clansy': 4211, 'mel': 8341, 'relaxed': 10125, 'anesthetized': 2869, 'muscles': 8606, 'activated': 2557, 'exact': 5795, 'weight': 12278, 'amount': 2845, 'definitely': 4976, 'cautious': 4000, 'regardless': 10087, 'recognize': 10031, 'michelle': 8404, 'robert': 10357, 'cooper': 4586, 'ashamed': 3036, 'comparing': 4394, 'bug': 3757, 'jane': 7585, 'fleeting': 6203, 'demonstrated': 5020, 'flailing': 6199, 'thrust': 11587, 'doe': 5249, 'brave': 3709, 'soldier': 10920, 'christ': 4162, 'devil': 5102, 'liar': 7951, 'weak': 12249, 'souls': 10967, 'lies': 7971, 'talk': 11398, 'complete': 4405, 'anna': 2884, 'review': 10289, 'weekend': 12273, 'hanson': 6749, 'works': 12411, 'mysterious': 8618, 'ways': 12247, 'clearing': 4228, 'accept': 2504, 'thinking': 11557, 'indent': 7212, 'writing': 12461, 'title': 11618, 'miracles': 8459, 'full': 6375, 'sure': 11305, 'however': 6984, 'published': 9829, 'reading': 9994, 'reviewing': 10290, 'james': 7583, 'snopes': 10895, 'denies': 5028, 'account': 2523, 'quote': 9917, 'mentioned': 8367, 'pretty': 9660, 'explanatory': 5861, 'refused': 10079, 'past': 9228, 'eleven': 5561, 'samira': 10477, 'sorry': 10955, 'wounds': 12431, 'advise': 2652, 'regarding': 10085, 'necessary': 8687, 'valuable': 12014, 'folic': 6234, 'acid': 2544, 'india': 7217, 'months': 8540, 'terminated': 11476, 'bifada': 3589, 'meningsule': 8359, 'hydrasplous': 7028, 'strongly': 11186, 'mentally': 8365, 'retarded': 10269, 'pregranant': 9615, '1st': 322, 'trauma': 11713, 'normal': 8800, 'advice': 2651, 'councelling': 4627, 'mumbai': 8600, 'kindly': 7764, '2nd': 595, 'option': 9014, 'wheather': 12298, 'suitable': 11273, '07': 72, 'researching': 10213, 'argumentative': 3001, 'college': 4295, 'huge': 6999, 'persuasion': 9336, 'quotes': 9918, 'craig': 4668, 'eloquent': 5575, 'mourn': 8573, 'loss': 8099, 'longer': 8080, 'innocent': 7278, '05': 55, 'note': 8817, 'roe': 10364, 'wade': 12202, 'million': 8427, 'lines': 8019, 'wiped': 12354, 'families': 5991, 'exist': 5825, 'laugh': 7846, 'play': 9444, 'opportunity': 9002, 'impact': 7151, 'best': 3548, 'friends': 6357, 'millions': 8428, 'grandchildren': 6609, 'conceived': 4424, 'said': 10463, 'likeness': 8004, 'rule': 10409, 'fish': 6187, 'sea': 10583, 'birds': 3607, 'sky': 10855, 'livestock': 8049, 'wild': 12334, 'animals': 2880, 'creatures': 4680, 'ground': 6656, 'male': 8183, 'female': 6100, 'fruitful': 6365, 'increase': 7202, 'fill': 6156, 'earth': 5455, 'subdue': 11208, 'gen': 6431, 'lifeblood': 7976, 'surely': 11306, 'accounting': 2527, 'animal': 2879, 'himer': 6902, 'character': 4103, 'sideline': 10779, 'camera': 3905, 'capture': 3935, 'peak': 9271, 'assignment': 3058, 'knowing': 7783, 'inclined': 7191, 'relying': 10138, 'instincts': 7308, 'attention': 3094, 'split': 11025, 'focused': 6226, 'january': 7587, 'tremendous': 11724, 'guy': 6694, 'eye': 5882, 'opener': 8979, 'honorable': 6952, 'yours': 12507, 'smith': 10886, 'amazed': 2818, 'afr': 2696, 'days': 4876, 'diabetes': 5112, 'given': 6523, 'medically': 8327, 'later': 7837, 'fine': 6172, 'murdered': 8604, 'guess': 6676, 'treadway': 11718, 'fellow': 6096, 'industry': 7235, 'died': 5130, 'fix': 6193, 'nation': 8661, 'voice': 12147, 'persecuted': 9318, 'photographs': 9376, 'pleasure': 9457, 'tennessean': 11469, 'va': 11999, 'former': 6291, 'distinguished': 5212, 'deceitful': 4927, 'ungodly': 11881, '44': 915, 'dont': 5284, 'anyones': 2921, 'explain': 5855, 'conscious': 4491, 'shocking': 10745, 'cascading': 3969, 'catharsis': 3987, 'kid': 7754, 'jacob': 7580, 'stargate': 11075, 'threshhold': 11578, 'nether': 8719, 'regions': 10090, 'touchdown': 11664, 'otherside': 9064, 'vigina': 12099, 'surpassing': 11319, 'esau': 5707, 'grasp': 6617, 'wll': 12378, 'susan': 11335, 'pic': 9389, '35': 661, 'worth': 12424, 'faring': 5999, 'coin': 4283, 'survivor': 11333, 'gianna': 6503, 'jessen': 7625, 'paula': 9247, 'emotional': 5605, 'sat': 10507, 'usually': 11971, 'morgan': 8552, 'special': 10993, 'hero': 6875, 'deserves': 5056, 'reason': 10009, 'fought': 6307, 'hard': 6762, '09': 84, 'alex': 2754, 'themselves': 11534, 'fourth': 6316, 'frame': 6324, 'frantically': 6334, 'waving': 12243, 'subsequently': 11245, 'grabbed': 6595, 'failed': 5970, 'drusilla': 5338, 'aspect': 3046, 'lengths': 7923, 'last': 7833, 'bad': 3378, 'beyond': 3560, 'wildest': 12335, 'dreams': 5320, 'katie': 7718, 'context': 4541, 'witnessing': 12373, 'investment': 7371, 'attending': 3093, 'awe': 3163, 'technological': 11446, 'advances': 2647, 'photographed': 9372, 'famous': 5993, 'imagined': 7143, 'champagne': 4089, 'lol': 8078, 'breathtaking': 3719, 'assistanr': 3061, 'types': 11804, 'feeling': 6089, 'situations': 10838, 'field': 6135, 'constantly': 4514, 'leaves': 7887, 'poverty': 9563, 'level': 7939, 'genius': 6445, 'sincerely': 10816, 'guts': 6692, 'realize': 10005, 'successful': 11250, 'physically': 9384, 'saddens': 10458, 'strengthen': 11171, 'equip': 5698, 'postings': 9549, 'warrior': 12231, '40': 774, 'foetal': 6231, 'mid': 8406, 'stillborn': 11140, 'theoretically': 11541, 'opponents': 8997, 'needed': 8691, 'doubts': 5299, 'saying': 10524, 'hoax': 6922, 'anaesthetics': 2852, 'awake': 3158, 'starts': 11082, 'wearing': 12253, 'imagine': 7142, 'emerged': 5597, 'muscular': 8607, 'nice': 8747, 'interesting': 7333, 'importance': 7159, 'proving': 9809, 'surgeries': 11313, 'groups': 6659, 'counts': 4645, '36': 677, 'preacher': 9595, 'giving': 6525, 'encourage': 5631, 'seymour': 10706, 'stride': 11178, 'scares': 10537, 'pushing': 9859, 'seminars': 10641, 'mandatory': 8196, 'harvesting': 6773, 'community': 4387, 'doodie': 5285, 'meanwhile': 8315, 'lotion': 8103, 'manufactures': 8206, 'collected': 4292, 'products': 9721, 'continuity': 4547, 'ethical': 5748, 'judgements': 7680, 'seriously': 10670, 'enfantterrible': 5649, 'performs': 9303, 'vindication': 12107, 'national': 8662, 'institute': 7309, 'study': 11197, 'mom': 8510, 'clinical': 4244, 'trials': 11729, 'reinforced': 10105, 'value': 12016, 'attacker': 3085, 'identified': 7056, 'remaining': 10140, 'silent': 10806, 'excuse': 5817, 'monopolize': 8528, 'villifying': 12104, 'measure': 8316, 'petty': 9348, 'grievance': 6648, 'goodness': 6571, 'assaulted': 3050, 'er': 5701, 'merely': 8377, 'pushed': 9857, 'jostled': 7651, 'police': 9491, 'permitted': 9316, 'stands': 11072, 'understood': 11867, 'photographic': 9375, 'admitting': 2627, 'assuming': 3068, 'prevent': 9662, 'assume': 3067, 'task': 11422, 'inadvertently': 7180, 'credible': 4681, 'explanations': 5860, 'disavowing': 5171, 'responsibility': 10243, 'aiding': 2733, 'abetting': 2438, 'lunatic': 8130, 'grudge': 6664, 'harass': 6758, 'threaten': 11573, 'feature': 6070, 'invented': 7368, 'drama': 5313, 'heighten': 6843, 'interest': 7331, '45': 957, 'tisome': 11615, 'cam': 3903, 'christmas': 4169, 'irresponsible': 7399, 'bought': 3688, 'twelve': 11788, 'gentlemen': 6451, 'listed': 8031, 'culpability': 4728, 'varying': 12031, 'degrees': 4986, 'denying': 5034, 'absolute': 2482, 'men': 8357, 'role': 10367, 'playing': 9449, 'blame': 3619, 'working': 12410, 'reminding': 10155, 'deserve': 5055, 'attended': 3092, 'premiere': 9623, 'host': 6970, 'coverup': 4662, 'highlighted': 6896, 'six': 10839, 'candidates': 3920, 'shown': 10765, 'cpac': 4667, 'merits': 8380, 'description': 5053, 'aside': 3040, 'participated': 9200, 'loose': 8089, 'cannons': 3921, 'mildly': 8418, 'nugent': 8851, 'rough': 10387, 'levels': 7940, 'moves': 8582, 'within': 12368, 'gratitude': 6624, 'reaches': 9986, 'nestle': 8716, 'veridiana': 12058, '59': 1456, 'midge': 8409, 'galesburg': 6410, 'rosalinda': 10380, 'nancy': 8650, 'enjoyed': 5663, 'allowing': 2781, 'joyfulaltitude': 7658, 'lozano': 8114, 'clancey': 4209, 'wonder': 12396, 'middle': 8408, 'rennovating': 10165, 'property': 9766, 'street': 11168, 'parenthood': 9178, 'country': 4642, 'crisis': 4694, 'reminder': 10153, 'rl': 10348, 'tonight': 11646, 'bethel': 3552, 'baptist': 3399, 'spoke': 11026, 'wife': 12332, 'digital': 5139, 'chooses': 4155, 'everywhere': 5786, 'remember': 10146, 'started': 11078, 'crying': 4713, 'found': 6309, 'three': 11577, 'impossible': 7166, 'differently': 5134, 'skeptical': 10847, 'science': 10550, 'respect': 10234, 'americans': 2831, 'fuss': 6396, 'hadn': 6721, 'regards': 10088, 'elaine': 5539, 'supposed': 11301, 'attacks': 3087, 'receive': 10019, 'izilde': 7472, 'ship': 10739, 'south': 10973, 'africa': 2698, '03': 35, 'linda': 8016, 'alpha': 2794, 'hoover': 6958, 'maskus': 8246, 'hate': 6783, 'filled': 6157, 'sometimes': 10937, 'easier': 5459, 'hateful': 6784, 'btw': 3750, 'profit': 9736, 'luck': 8120, 'african': 2699, 'christiane': 4165, 'elizabeth': 5570, 'sean': 10584, 'noel': 8774, 'example': 5801, 'frames': 6326, 'neurosurgeon': 8726, 'repairs': 10171, 'tina': 11609, 'rob': 10354, 'brother': 3742, 'walks': 12211, 'braces': 3698, 'mental': 8364, 'maturing': 8270, 'completly': 4408, 'problem': 9701, 'assure': 3069, 'anymore': 2919, 'unless': 11901, 'witnessed': 12371, 'sucessful': 11251, 'leclercq': 7889, 'lachat': 7809, 'fisher': 6188, 'mention': 8366, 'seán': 10707, 'magriabhaigh': 8161, 'involved': 7380, 'exists': 5830, 'pressure': 9655, 'form': 6283, 'forces': 6270, 'pharmaceutical': 9353, 'lobbyists': 8065, 'encapsulates': 5629, 'struggle': 11190, 'letting': 7938, 'disappeared': 5168, 'word': 12403, 'removing': 10163, 'notification': 8826, '53': 1395, 'aja': 2739, 'scroll': 10575, 'marcy': 8216, 'baraboo': 3400, '41': 809, 'kelly': 7731, 'jean': 7612, 'blown': 3640, 'training': 11693, 'dream': 5318, 'mine': 8438, 'expose': 5865, 'stephanyia': 11121, 'olger': 8955, 'connie': 4482, 'nurture': 8864, 'cow': 4664, 'gives': 6524, 'calf': 3895, 'turns': 11781, 'immediately': 7148, 'begins': 3511, 'basically': 3415, 'hell': 6848, 'plenty': 9461, 'talking': 11399, 'ass': 3047, 'obvious': 8900, 'helloooo': 6851, 'gods': 6555, 'procreate': 9715, 'minds': 8436, 'lose': 8096, 'hmmm': 6918, 'laughable': 7847, 'vegan': 12040, 'worn': 12418, 'leather': 7885, 'meat': 8319, 'wallet': 12214, 'keys': 7741, 'none': 8787, 'bred': 3720, 'forconsumption': 6273, 'proven': 9798, 'harvard': 6772, 'cats': 3990, 'dogs': 5253, 'monkeys': 8527, 'giraffes': 6516, 'donkeys': 5277, 'orany': 9025, 'smile': 10884, 'slice': 10866, 'throat': 11580, 'consumption': 4523, 'handbag': 6735, 'disgusting': 5193, 'fur': 6391, 'coat': 4273, 'ehh': 5529, 'heresay': 6873, 'roman': 10369, 'boarding': 3649, 'mass': 8249, 'sunday': 11284, 'thebible': 11526, 'minded': 8434, 'highly': 6898, 'educated': 5501, 'furthermore': 6394, 'garden': 6421, 'nutritious': 8867, 'vegetables': 12042, 'andmy': 2859, 'organic': 9036, 'killed': 7758, 'cows': 4665, 'feed': 6086, 'sista': 10828, 'haha': 6723, 'angie': 2874, 'latte': 7845, 'survival': 11329, 'fittest': 6191, 'lion': 8028, 'king': 7766, 'addresses': 2609, 'nicely': 8748, 'match': 8256, 'wits': 12374, 'darling': 4858, 'input': 7284, 'wi': 12321, 'describe': 5050, 'town': 11674, 'freed': 6343, 'spinal': 11015, 'clarified': 4214, 'harb': 6760, 'ran': 9951, 'hour': 6976, 'wanting': 12221, 'thoughts': 11568, 'fell': 6095, 'shrouded': 10767, 'buck': 3752, 'lied': 7970, 'hasn': 6780, 'ten': 11465, 'abby': 2430, 'voos': 12157, 'hmmmm': 6919, 'offers': 8927, 'ust': 11970, 'closing': 4257, 'thumbnail': 11590, 'sized': 10843, 'flopped': 6213, 'lifted': 7996, 'gently': 6452, 'tucked': 11765, 'scientist': 10552, 'average': 3146, 'following': 6239, 'presumably': 9657, 'lying': 8137, 'prone': 9761, 'occurred': 8911, 'gravity': 6629, 'reversed': 10285, 'causing': 3999, 'flop': 6212, 'surprised': 11321, 'intellect': 7317, 'scholarship': 10545, 'skill': 10850, 'notice': 8820, 'instance': 7303, 'totally': 11662, 'slight': 10872, 'caught': 3995, 'silver': 10807, 'halide': 6729, 'cellulose': 4042, 'acetate': 2540, 'ignorance': 7090, 'lack': 7810, 'masters': 8254, 'doctoral': 5239, 'answers': 2904, 'ockham': 8914, 'razor': 9979, 'ya': 12484, 'set': 10686, 'indivisible': 7230, 'liberty': 7958, 'justice': 7705, 'mah': 8162, 'yaan': 12485, 'bpth': 3696, 'encouraging': 5633, 'discouraging': 5180, 'websites': 12264, 'except': 5805, 'personnel': 9332, 'analysing': 2853, 'convincing': 4582, 'worry': 12420, 'believed': 3525, 'watching': 12240, 'accountable': 2524, '6th': 1678, 'grade': 6601, 'guardian': 6673, 'angle': 2876, 'mrs': 8591, 'dyer': 5362, 'couple': 4647, 'grabs': 6598, '3rd': 773, 'clicked': 4235, 'cares': 3951, 'plan': 9431, 'overall': 9088, 'inspiring': 7298, 'beliver': 3530, 'prefer': 9603, 'afraid': 2697, 'karen': 7712, 'forcibly': 6271, 'sole': 10921, 'holder': 6926, 'copied': 4590, 'friday': 6353, 'spending': 11011, 'walls': 12215, 'alot': 2793, 'proceeds': 9706, 'reward': 10296, 'openly': 8983, 'bind': 3603, 'enemy': 5647, 'jesus': 7626, 'till': 11601, 'freelanced': 6347, 'handyman': 6744, 'rebecca': 10012, 'understanding': 11865, 'meaness': 8309, 'thereyago': 11549, 'snap': 10891, 'celebrity': 4038, 'posing': 9527, 'ownership': 9107, 'tasteless': 11425, 'gained': 6406, 'press': 9652, 'op': 8974, 'discuss': 5185, 'remind': 10151, 'relish': 10136, 'stupid': 11200, 'high': 6892, 'horsed': 6966, 'pedastal': 9273, 'step': 11119, 'pics': 9393, 'blow': 3639, 'stephanie': 11120, 'noone': 8794, 'wished': 12360, 'harm': 6766, 'stating': 11097, 'elses': 5577, 'selling': 10638, 'grew': 6644, 'pastor': 9232, 'spend': 11010, 'parishioners': 9185, 'income': 7196, 'regular': 10098, 'donations': 5275, 'rail': 9939, 'churches': 4176, 'hired': 6904, 'mayor': 8278, 'city': 4198, 'payed': 9252, 'taxes': 11429, 'eat': 5464, 'accusing': 2533, 'lining': 8021, 'pockets': 9481, 'dad': 4832, 'empty': 5623, 'lauren': 7852, 'npr': 8839, 'pre': 9594, 'natal': 8660, 'common': 4380, '137712436': 179, 'prenatal': 9625, 'comes': 4352, 'helpful': 6857, 'legitimacy': 7917, 'commenting': 4370, 'presented': 9645, 'adams': 2589, 'visited': 12125, 'lagos': 7814, 'abuja': 2490, 'nigeria': 8753, 'trip': 11736, 'stayed': 11106, 'sickle': 10777, 'building': 3759, 'annie': 2889, 'rosario': 10381, 'bear': 3480, 'hugged': 7001, 'contract': 4554, 'assault': 3049, 'original': 9051, '2003': 331, 'moms': 8516, 'limited': 8011, 'upheld': 11931, 'validity': 12010, 'unable': 11846, 'multiple': 8598, 'prevented': 9664, 'developing': 5095, 'inutero': 7363, '1987': 272, 'functioning': 6380, 'delayed': 4995, 'teenager': 11452, 'thankful': 11518, 'trade': 11680, 'physical': 9383, 'challanges': 4085, 'manage': 8190, 'difficulties': 5136, 'brought': 3743, 'expected': 5839, 'risks': 10336, 'compared': 4393, 'rambled': 9948, 'angela': 2871, 'heros': 6877, 'denied': 5025, 'ally': 2784, 'putting': 9863, 'perspective': 9334, 'sent': 10654, 'smoky': 10887, 'mountains': 8572, 'reporter': 10184, 'practice': 9576, 'snakes': 10890, 'frightening': 6358, 'witness': 12370, 'phenomenon': 9359, 'passages': 9220, 'mark': 8224, 'became': 3489, 'becoming': 3496, 'donated': 5268, 'virtually': 12119, '42': 840, 'threatened': 11574, 'ray': 9978, 'paschall': 9217, 'silenced': 10805, 'marye': 8241, 'insight': 7291, 'final': 6163, 'sentence': 10655, 'everyday': 5782, 'earliest': 5450, 'interaction': 7325, 'stuff': 11199, 'crap': 4670, 'circulating': 4186, 'breath': 3716, 'factors': 5964, 'importantly': 7162, 'receiving': 10022, 'oxygen': 9113, 'placenta': 9426, 'co2': 4267, 'rise': 10333, 'detects': 5081, 'acidotic': 2545, 'causes': 3998, 'diaphragm': 5120, 'contracting': 4555, 'breathe': 3717, 'sterility': 11125, 'sterile': 11124, 'pelvic': 9280, 'organ': 9035, 'meticulous': 8391, 'outweighed': 9085, 'rate': 9966, 'surgeons': 11312, 'thankfully': 11519, 'defame': 4960, 'innovative': 7282, 'kesha': 7736, 'weather': 12255, 'husbands': 7018, 'early': 5451, 'weighed': 12277, 'pound': 9559, 'premature': 9618, 'hasent': 6778, 'suck': 11253, 'thumb': 11589, 'libel': 7953, 'slander': 10858, '52': 1380, 'occured': 8910, 'charge': 4105, 'billboards': 3598, '57': 1441, 'amusing': 2847, 'painting': 9148, 'calling': 3901, 'bothers': 3685, 'beat': 3482, 'adam': 2588, 'supposedly': 11302, 'profanity': 9724, 'unprotected': 11910, 'mature': 8269, 'peakobutter': 9272, 'immature': 7146, 'engage': 5654, 'classy': 4223, 'fuck': 6371, 'anger': 2872, 'stance': 11065, 'seeking': 10613, 'situation': 10837, 'discussion': 5187, 'bank': 3392, 'robbers': 10356, 'hitler': 6913, 'standing': 11071, 'accounted': 2526, 'ruling': 10413, 'maxim': 8273, 'add': 2593, 'speculate': 11003, 'efforts': 5525, 'scientific': 10551, 'speculation': 11004, 'pleasant': 9454, 'lengthy': 7924, 'licesed': 7968, 'residental': 10220, 'false': 5983, 'heck': 6840, 'stir': 11143, 'objectivity': 8886, 'whatsoever': 12296, 'ignoring': 7095, 'adopting': 2632, 'purely': 9852, 'whimsical': 12309, 'speculative': 11005, 'literally': 8038, 'reports': 10186, 'discipline': 5175, 'directly': 5157, 'cling': 4242, 'ignore': 7093, 'stick': 11134, 'guns': 6689, 'blind': 3626, 'logic': 8075, 'commonsense': 4382, 'nobel': 8772, 'laureates': 7851, 'physiology': 9387, 'genuine': 6453, 'critical': 4698, 'devoid': 5103, 'subjectivity': 11212, 'monica': 8524, 'christians': 4166, 'choices': 4153, 'actions': 2556, 'momma': 8515, 'ahh': 2727, 'caused': 3997, 'clamping': 4208, 'umbilical': 11841, 'cord': 4598, 'depending': 5038, 'active': 2558, 'management': 8191, 'stops': 11151, 'pulsating': 9840, 'vaginal': 12002, 'squeezing': 11045, 'lungs': 8132, 'build': 3758, 'expel': 5841, 'external': 5876, 'released': 10129, 'inflate': 7246, 'thus': 11594, 'sections': 10601, 'seconds': 10596, 'resuscitation': 10267, 'measures': 8318, 'bacterial': 3377, 'residing': 10221, 'medications': 8330, 'questioning': 9903, 'expand': 5834, 'mindset': 8437, 'alleviation': 2775, 'repair': 10169, 'requires': 10206, 'general': 6435, 'anaesthetic': 2851, 'monitored': 8526, 'recovery': 10043, 'purposes': 9854, 'arise': 3006, 'distress': 5216, 'proceedure': 9707, 'rushing': 10418, 'theatre': 11525, 'serious': 10669, 'mortality': 8556, 'indirectly': 7225, 'confirmed': 4464, 'usher': 11960, 'maureen': 8271, 'bosslady': 3680, 'specifically': 10999, 'awoke': 3169, 'grasped': 6618, 'hasnt': 6781, 'pioneered': 9411, 'allows': 2782, 'opposite': 9007, 'shift': 10736, 'refer': 10057, 'achieved': 2543, 'contents': 4538, 'abdominal': 2435, 'cavity': 4002, 'including': 7195, 'onto': 8972, 'replaced': 10176, 'drained': 5312, 'afterward': 2707, 'consideration': 4505, 'rh': 10298, 'factor': 5963, 'deciding': 4934, 'reaction': 9989, '54': 1402, 'rmg': 10351, 'rhi': 10301, 'happily': 6755, 'infringe': 7260, 'business': 3776, 'shoving': 10758, 'throats': 11581, 'nine': 8758, 'rolls': 10368, 'exposure': 5868, 'clock': 4251, 'background': 3372, 'tags': 11387, 'jen': 7616, 'convince': 4581, 'towards': 11672, 'staying': 11107, 'sidelines': 10780, 'robs': 10361, 'consequences': 4498, 'jews': 7628, 'wwii': 12467, 'deemed': 4956, 'hiding': 6891, 'faith': 5976, 'pick': 9390, '64th': 1570, 'hydrocephalous': 7029, 'kayla': 7719, 'moments': 8513, 'regarded': 10084, 'history': 6911, 'entire': 5677, 'pulled': 9838, 'showing': 10764, 'rogers': 10366, 'rooms': 10376, 'vendetta': 12045, 'intentionally': 7323, 'supercides': 11290, 'destroy': 5072, 'members': 8348, 'slammed': 10857, 'approach': 2963, 'direction': 5153, 'choosing': 4156, 'lifes': 7987, 'negligence': 8699, 'nicole': 8750, 'slide': 10867, 'replying': 10181, 'topic': 11656, 'table': 11380, 'lost': 8101, 'controversial': 4567, 'kettle': 7738, 'gains': 6408, 'revenge': 10279, 'damages': 4845, 'caesarean': 3885, 'immediate': 7147, 'near': 8684, 'developed': 5094, 'steroid': 11129, 'injections': 7271, 'detrimental': 5086, 'effect': 5518, 'grow': 6660, 'straight': 11161, 'neonatal': 8713, 'unit': 11895, 'amnion': 2841, 'chorion': 4157, 'expelling': 5842, 'amniocentesis': 2840, 'screening': 10567, 'carries': 3962, 'miscarriage': 8464, 'spontaneous': 11030, 'rejection': 10109, 'termination': 11477, 'unsterile': 11915, 'covered': 4660, 'vernix': 12062, 'consultants': 4520, 'avoid': 3150, 'mixes': 8488, 'antibodies': 2909, 'haemolytic': 6722, 'disease': 5188, 'christy': 4171, 'amy': 2848, 'ramos': 9949, 'amen': 2825, 'expressed': 5870, 'desire': 5061, 'desist': 5063, 'obeyed': 8878, 'wishes': 12361, 'losing': 8098, 'folk': 6235, 'yourselves': 12509, 'peddle': 9274, 'wares': 12226, 'picked': 9391, 'air': 2737, 'carried': 3961, 'intended': 7319, 'injure': 7272, 'line': 8018, '115': 155, 'mostly': 8563, 'donating': 5273, 'replies': 10179, 'pocket': 9480, 'puts': 9862, 'taste': 11424, 'mouths': 8578, 'gonna': 6567, '1000': 126, 'destroying': 5074, 'listing': 8035, 'phone': 9368, 'numbers': 8857, 'sorta': 10957, 'girl': 6517, 'restroom': 10259, 'harrass': 6769, 'exaggerating': 5799, 'sense': 10650, 'played': 9446, 'shadow': 10712, 'robbed': 10355, 'depicts': 5039, 'definition': 4977, 'seem': 10615, 'steady': 11115, 'interference': 7336, 'political': 9497, 'advancement': 2645, 'tends': 11467, 'slightly': 10873, 'mouth': 8576, 'marvel': 8238, 'sight': 10787, 'gripping': 6651, 'suppose': 11300, 'earnings': 5453, 'although': 2804, 'capitalise': 3929, 'iphone': 7390, 'outcomes': 9074, 'meant': 8314, 'abstinence': 2485, 'partner': 9209, 'toe': 11634, 'leads': 7877, 'chris': 4161, 'range': 9952, 'emotion': 5604, 'evokes': 5793, 'guessing': 6677, 'tom': 11641, 'pg': 9351, 'rated': 9967, 'highest': 6894, 'anesthesiologist': 2865, 'agrees': 2725, 'stalled': 11062, 'replacing': 10178, 'suggest': 11264, 'changing': 4096, 'grasps': 6620, 'perfomed': 9298, 'youngest': 12503, 'clarifying': 4215, 'distortion': 5214, 'innovating': 7281, 'disorder': 5198, 'simplys': 10812, 'lacks': 7812, 'bringing': 3734, 'shaming': 10718, 'creating': 4677, 'private': 9694, 'affair': 2681, 'nurse': 8861, 'nerves': 8715, 'located': 8070, 'contamination': 4531, 'stress': 11172, 'inch': 7186, 'abruptly': 2477, 'stopped': 11149, 'guarantee': 6670, 'captivating': 3933, 'foul': 6308, 'palmar': 9160, 'object': 8881, 'placed': 9423, 'palm': 9158, 'initiate': 7265, 'squash': 11043, 'phenomenal': 9358, 'defaming': 4961, 'perceptions': 9294, 'shed': 10728, 'stoop': 11147, 'lieu': 7972, 'disbeliefs': 5172, 'focus': 6225, 'restore': 10252, 'forgot': 6281, 'disgusted': 5192, 'mamas': 8188, 'teach': 11433, 'profound': 9739, 'meaning': 8310, 'essence': 5727, 'entirely': 5678, 'address': 2607, 'chill': 4139, 'hitting': 6914, 'explains': 5858, 'circle': 4182, 'sayin': 10523, 'lizelle': 8051, 'promise': 9754, 'appears': 2942, 'sabrina': 10449, 'faults': 6013, 'negatives': 8695, 'castle': 3979, 'sometime': 10936, 'land': 7818, 'unideal': 11886, 'daughters': 4868, 'path': 9236, 'jail': 7582, 'rehab': 10103, 'eventually': 5778, 'loving': 8109, 'productive': 9720, 'resentment': 10215, 'enjoy': 5662, 'mishap': 8469, 'negativity': 8696, 'streams': 11167, 'discredit': 5184, 'jesse': 7624, 'shaffer': 10713, 'inability': 7179, 'rational': 9971, 'sore': 10949, 'remote': 10157, 'villages': 12103, 'certificate': 4055, 'hospitals': 6969, 'comparison': 4395, 'tapeworms': 11414, 'thirdly': 11559, 'certain': 4053, 'circumstances': 4190, 'leonard': 7926, 'unbelievable': 11849, 'wonderfully': 12398, 'individual': 7226, 'existed': 5826, 'fortune': 6298, 'wartime': 12232, 'photographers': 9374, 'destruction': 5075, 'rodney': 10363, 'hatred': 6787, 'vented': 12049, 'regardles': 10086, 'misunderstood': 8485, 'lowlife': 8113, 'writes': 12460, 'aggressively': 2716, 'floor': 6210, 'attempting': 3090, 'tuck': 11764, 'signaling': 10790, 'gets': 6474, 'complicated': 4411, 'twice': 11790, 'nurses': 8862, 'entering': 5673, 'area': 2990, 'scrubbed': 10580, 'observer': 8893, 'germs': 6462, 'environment': 5688, 'lethal': 7934, 'tension': 11471, 'claiming': 4205, 'violate': 12109, 'factual': 5966, 'mild': 8417, 'basic': 3414, 'low': 8110, 'concentration': 4426, 'diprivan': 5149, 'oral': 9024, 'inductive': 7234, 'potent': 9551, 'cranial': 4669, 'complex': 4409, 'motor': 8570, 'described': 5051, 'stage': 11060, 'neurobiology': 8724, 'anesthesiology': 2867, 'sensationalism': 10649, 'remark': 10142, 'father': 6007, 'wy': 12469, 'abstain': 2484, 'foolishness': 6259, 'moron': 8554, 'idiot': 7060, 'rofl': 10365, 'concerning': 4430, 'asserted': 3052, 'confers': 4453, 'humanity': 7005, 'thereof': 11547, 'disqualifies': 5209, 'addressing': 2610, 'ummm': 11843, 'typed': 11802, 'missed': 8474, 'cuckoo': 4723, 'illiterate': 7123, 'wear': 12252, 'handbags': 6736, 'belts': 3537, 'beef': 3499, 'raised': 9942, 'butchered': 3781, 'qualify': 9885, 'destiny': 5071, 'planting': 9439, 'vegetable': 12041, 'seeds': 10610, 'planted': 9438, 'consumable': 4522, 'crop': 4702, 'shaking': 10714, 'head': 6813, 'receives': 10021, 'fractionated': 6321, 'palmer': 9162, 'various': 12029, 'settings': 10694, 'weigh': 12276, 'probability': 9697, 'puzzle': 9864, 'appendectomy': 2945, 'gallbladder': 6412, 'prepared': 9633, 'firmly': 6183, 'visitor': 12127, 'upsetting': 11939, 'contaminate': 4530, 'duty': 5355, 'freely': 6348, 'intraop': 7355, 'aforementioned': 2695, 'sinister': 10822, 'interpretation': 7344, 'base': 3410, 'toddler': 11631, 'electricity': 5549, 'carbon': 3940, 'monoxide': 8531, 'detector': 5080, 'screamed': 10564, 'loud': 8104, 'noise': 8777, 'operated': 8989, 'electrical': 5547, 'outlet': 9078, 'scream': 10563, 'mchugh': 8301, 'castro': 3980, 'cognotations': 4281, 'guard': 6672, 'messages': 8383, 'bewildered': 3559, 'invoke': 7375, 'amazement': 2819, 'reevaluate': 10056, 'angry': 2877, 'matters': 8267, 'bomb': 3662, 'threatening': 11575, 'drs': 5335, 'hypocrite': 7033, 'road': 10352, 'plants': 9440, 'grows': 6662, 'defense': 4968, 'mechanisms': 8321, 'reflect': 10071, 'consciousness': 4492, 'alternative': 2802, 'dangerous': 4851, 'perverted': 9339, 'further': 6393, 'boo': 3667, 'attach': 3081, 'snapped': 10892, 'owns': 9109, 'connieeeee': 4483, 'explaining': 5857, 'realization': 10004, 'utterly': 11980, 'ridiculous': 10317, 'sir': 10827, 'cocoa': 4274, 'puffs': 9835, 'roped': 10378, 'consent': 4495, 'afforded': 2693, '145': 190, 'atleast': 3078, 'courtesy': 4654, 'circulated': 4185, 'everybody': 5781, 'dwell': 5360, 'campaigning': 3911, 'vanderbuilt': 12023, 'humbled': 7008, 'remembered': 10147, 'gald': 6409, 'brian': 3723, 'tool': 11650, 'assessment': 3054, 'possess': 9534, 'infant': 7239, 'startle': 11080, 'require': 10203, 'elicited': 5563, 'shameful': 10717, 'tarnish': 11418, 'reputation': 10200, 'twisted': 11793, 'procedures': 9705, 'gwen': 6696, 'ows': 9111, 'fulfilling': 6374, 'destinies': 5070, 'eaten': 5465, 'actuality': 2567, 'wealthier': 12250, 'tune': 11775, 'subject': 11211, '6months': 1674, 'miscarriages': 8465, 'likes': 8005, 'tarnished': 11419, 'whose': 12318, 'buy': 3786, 'library': 7961, 'pig': 9400, 'pedophile': 9276, 'cringe': 4693, 'wait': 12203, 'sell': 10637, 'lukomski': 8127, 'experiencing': 5847, 'posted': 9545, 'create': 4673, 'transplant': 11710, 'entity': 5680, 'shocked': 10744, 'angered': 2873, 'anesthesiologists': 2866, 'drawing': 5316, 'monetary': 8522, 'seek': 10612, 'incident': 7188, 'wrapped': 12452, 'fingers': 6176, 'exaggerated': 5798, 'fragility': 6323, 'complexity': 4410, 'praise': 9582, 'truths': 11755, 'greatly': 6634, 'disappoint': 5169, 'srolon': 11049, 'decides': 4933, 'inocent': 7283, 'yep': 12494, 'opportunistic': 9000, 'advancing': 2648, 'attacking': 3086, 'appearances': 2941, 'sales': 10472, 'ill': 7117, 'zero': 12545, 'load': 8059, 'kimberly': 7762, 'responded': 10238, 'medication': 8329, 'properly': 9765, 'dosed': 5292, 'gestation': 6464, 'elicit': 5562, 'fragile': 6322, 'snowflake': 10896, 'cross': 4703, 'sedate': 10606, 'adjust': 2621, 'dose': 5291, 'intrigued': 7357, 'fake': 5978, 'medial': 8323, 'studying': 11198, 'zooming': 12553, 'tightly': 11599, 'flexed': 6206, 'replace': 10175, 'underneath': 11863, 'explained': 5856, 'woken': 12388, 'fears': 6069, 'punishment': 9845, 'suffered': 11260, 'fault': 6012, 'pure': 9851, 'yas': 12487, 'goos': 6577, 'nursing': 8863, 'breach': 3712, 'publishing': 9832, 'advocating': 2658, 'jackie': 7578, 'lifers': 7986, 'uneducated': 11870, 'propaganda': 9763, 'married': 8234, 'embracing': 5591, 'arms': 3014, 'shining': 10738, 'asshole': 3057, 'hides': 6890, 'thomas': 11563, 'fiction': 6133, 'realism': 10000, 'worthless': 12425, 'garbage': 6419, 'sam': 10475, 'presumptive': 9658, 'conclusion': 4433, 'draw': 5314, 'piece': 9397, 'dearly': 4915, 'bother': 3683, 'petrini': 9347, 'bodie': 3651, 'finish': 6177, 'verity': 12061, 'partially': 9198, 'delivering': 5003, 'feet': 6093, 'stabbing': 11054, 'technicality': 11443, 'yeah': 12489, 'sucking': 11254, 'brains': 3702, 'necessity': 8688, 'responsible': 10244, 'evils': 5791, 'timothy': 11608, 'alink': 2763, 'hollie': 6930, 'titled': 11619, 'dp': 5309, '1463755724': 192, 'tomorrow': 11645, 'jennifer': 7617, 'mwb': 8613, 'supporters': 11296, 'surface': 11308, 'courtroom': 4656, 'guilty': 6685, 'ain': 2736, 'jonarita': 7643, 'emily': 5601, 'jordan': 7646, 'incredibly': 7207, 'artist': 3027, 'credited': 4683, 'reference': 10058, 'kilo': 7761, 'bunch': 3765, 'shit': 10741, 'quick': 9909, 'isabelita': 7423, 'crave': 4671, 'hello': 6850, 'greetings': 6641, 'philippines': 9362, 'congenital': 4471, 'authenticity': 3124, 'mins': 8451, 'childs': 4136, 'horrible': 6965, 'prospective': 9778, 'altenative': 2800, 'cant': 3924, 'intrest': 7356, 'kristena': 7797, 'dc': 4881, 'herath': 6871, 'england': 5657, 'twat': 11786, 'obs': 8891, 'gyn': 6702, 'conduct': 4446, 'shellbel': 10734, 'boadie': 3647, 'third': 11558, 'trimester': 11734, 'okay': 8944, 'nope': 8795, 'merit': 8378, 'iraq': 7392, 'afghanistan': 2694, 'ampretty': 2846, 'stopping': 11150, 'generalization': 6436, 'war': 12223, 'fighting': 6148, 'sticking': 11136, 'noses': 8808, 'troops': 11739, 'president': 9649, 'prime': 9677, 'minister': 8442, 'compare': 4392, 'parasite': 9173, 'ends': 5646, 'results': 10264, 'meal': 8307, 'speel': 11007, 'spelling': 11009, 'encouragement': 5632, 'bottom': 3686, 'specualtion': 11002, 'mistaken': 8481, 'anethesia': 2870, 'liars': 7952, 'obtain': 8897, 'bachelors': 3334, 'degree': 4985, 'advocate': 2656, 'commend': 4364, 'lee': 7892, 'john': 7637, 'howser': 6985, 'larry': 7830, 'goldberg': 6561, 'removes': 10162, 'operate': 8988, 'completed': 4406, 'reported': 10183, 'frozen': 6363, 'paste': 9229, 'surety': 11307, 'amaze': 2817, 'assured': 3070, 'warn': 12228, 'applicable': 2951, 'commented': 4368, 'snoops': 10894, 'untrue': 11920, 'conscience': 4490, 'occur': 8909, 'influenced': 7250, 'gather': 6427, 'alexander': 2756, 'borne': 3679, 'gastroschisis': 6426, 'sun': 11283, 'peacefully': 9268, 'wholehearted': 12316, 'grace': 6599, 'beginnings': 3510, 'conclusions': 4434, 'minimal': 8440, 'empirical': 5611, 'backing': 3373, 'opportune': 8999, 'pedestal': 9275, 'inclinations': 7190, 'express': 5869, 'bothering': 3684, 'constitutes': 4515, 'agent': 2714, 'harassment': 6759, 'demands': 5012, 'sucks': 11255, 'sin': 10813, 'government': 6590, 'keeps': 7729, 'dictated': 5125, 'shape': 10720, 'talent': 11397, 'eight': 5530, 'arose': 3015, 'conceive': 4423, 'expecting': 5840, 'terrified': 11481, 'thrilled': 11579, 'routine': 10391, 'exam': 5800, 'equipped': 5700, 'preparing': 9634, 'steriods': 11127, 'entry': 5685, 'induction': 7233, 'labor': 7807, '8lbs': 2019, '5inches': 1509, 'length': 7922, 'lasted': 7834, 'morning': 8553, 'height': 6842, 'quickly': 9910, 'scores': 10559, 'goals': 6550, 'game': 6415, 'soccer': 10901, '103': 137, 'math': 8264, 'tests': 11506, 'recite': 10028, 'alphabetically': 2795, 'loves': 8108, 'languages': 7823, 'sing': 10818, 'healthiest': 6825, 'happiest': 6754, 'relate': 10115, 'staffing': 11059, 'assists': 3063, 'process': 9708, 'carrying': 3964, 'difficulty': 5137, 'textbook': 11511, 'rely': 10137, 'firm': 6182, 'believer': 3526, 'terms': 11479, 'denial': 5024, 'forgiveness': 6280, 'shame': 10716, 'truthful': 11754, 'shock': 10743, 'tide': 11595, 'rising': 10334, 'surrounding': 11324, 'reader': 9992, 'worms': 12417, 'pathetic': 9237, 'jackman': 7579, 'congrats': 4472, 'yr': 12515, 'anniversary': 2890, 'andrea': 2860, 'congregation': 4474, 'peggy': 9279, 'furious': 6392, 'interfered': 7335, 'mag': 8154, 'envy': 5689, 'quoting': 9919, 'quoyes': 9920, 'lori': 8094, 'emailed': 5582, 'unghire': 11880, 'ct': 4717, 'conference': 4450, 'holocaust': 6932, 'twin': 11791, 'towers': 11673, 'shall': 10715, 'recieved': 10026, 'minus': 8452, 'jim': 7629, 'counting': 4639, 'anthesia': 2905, 'sp': 10978, 'thnx': 11562, 'passion': 9224, 'medicals': 8328, 'deep': 4957, 'dwelve': 5361, 'tangle': 11406, 'docs': 5236, 'intentions': 7324, 'hurting': 7015, 'ownt': 9110, 'objections': 8883, 'pl': 9421, 'tagging': 11386, 'despicable': 5067, 'issued': 7440, 'issuing': 7444, 'certificates': 4056, 'kills': 7760, 'remains': 10141, 'believes': 3527, 'pipcture': 9412, 'wit': 12362, 'recall': 10015, 'lovely': 8107, 'connection': 4481, 'courageous': 4650, 'continuous': 4548, 'opposition': 9008, 'rejoicing': 10112, 'appointed': 2958, 'concord': 4436, 'nc': 8680, 'legs': 7918, 'liver': 8046, 'kidneys': 7755, 'tasty': 11426, 'fondest': 6242, 'memory': 8356, 'fetushood': 6113, 'listen': 8032, 'closely': 4255, 'trailerparks': 11691, 'thunk': 11592, 'trucker': 11745, 'jr': 7671, 'tapeworm': 11413, 'bowels': 3691, 'unlike': 11902, 'wth': 12466, 'demographic': 5018, 'raided': 9938, 'evironment': 5792, 'cultivates': 4730, 'depravity': 5041, 'believing': 3528, 'imaginary': 7141, 'correction': 4612, 'surprise': 11320, 'super': 11289, 'blobs': 3628, 'jemimah': 7615, 'delicately': 5000, 'intimate': 7351, 'goosebumps': 6579, 'poem': 9485, 'haze': 6793, 'carl': 3954, 'sandburg': 10487, 'represent': 10187, 'marissa': 8223, '666': 1583, 'eternal': 5747, 'eden': 5489, 'green': 6638, 'sodom': 10914, 'gomorrah': 6565, 'sinful': 10817, 'flesh': 6204, 'satan': 10508, 'turn': 11778, 'wicked': 12322, 'burn': 3770, 'almighty': 2786, 'maelyn': 8153, 'phil': 9360, 'fox': 6318, 'foxnews': 6319, '2933': 548, '519181': 1373, 'effects': 5522, 'severe': 10699, 'buildup': 3761, 'nineteen': 8759, 'sign': 10789, 'shunt': 10769, 'byproduct': 3788, 'damage': 4844, 'wears': 12254, 'leg': 7894, 'wheelchair': 12299, 'outcome': 9073, 'julia': 7688, 'sandy': 10490, 'project': 9749, 'maka': 8178, 'translated': 11705, 'spanish': 10984, 'edward': 5507, 'appleby': 2948, 'grabing': 6597, 'illustration': 7126, 'defining': 4975, 'trust': 11750, 'fee': 6085, 'investigation': 7370, 'define': 4973, 'spur': 11041, 'discovering': 5183, 'audiance': 3102, 'discover': 5181, 'fathers': 6009, 'ber': 3543, '2001': 329, 'initial': 7264, 'newspapers': 8740, 'include': 7192, 'mla': 8490, 'format': 6286, 'company': 4391, 'gracias': 6600, 'por': 9520, 'compartir': 4397, 'momento': 8512, 'tan': 11404, 'sublime': 11213, 'espero': 5721, 'tu': 11762, 'libro': 7964, 'algún': 2759, 'traducido': 11681, 'español': 5718, 'para': 9171, 'llegue': 8054, 'cantidad': 3926, 'gente': 6449, 'beautifull': 3485, 'tanks': 11408, 'ripping': 10330, 'limbs': 8008, 'sold': 10919, 'universities': 11898, 'organizations': 9041, 'reasons': 10011, 'rare': 9963, 'deliver': 5001, 'rip': 10328, 'apart': 2929, 'unfortunately': 11878, 'laws': 7858, 'uncommon': 11853, 'dehumanize': 4987, 'nazi': 8675, 'germany': 6461, 'owning': 9108, 'slaves': 10860, 'palestine': 9155, 'invasion': 7366, 'sons': 10944, 'occupations': 8908, 'obfuscate': 8879, 'deflect': 4978, 'latin': 7840, 'zygote': 12581, 'elderly': 5541, 'size': 10842, 'motivations': 8568, 'feminist': 6101, 'strive': 11182, 'deem': 4955, 'worthy': 12426, 'challenged': 4088, 'abused': 2492, 'implications': 7156, 'dianna': 5119, 'muted': 8612, 'grey': 6645, 'macleod': 8147, 'macy': 8149, 'paint': 9146, 'converting': 4576, 'catholicism': 3989, 'series': 10667, 'paintings': 9149, 'incorporating': 7201, 'theme': 11532, 'muhsin': 8597, 'allah': 2768, 'akber': 2741, 'grate': 6622, 'tim': 11603, 'knights': 7781, 'columbus': 4342, 'smallest': 10880, 'crews': 4687, 'intend': 7318, 'purchase': 9849, 'columbia': 4340, 'philip': 9361, 'uren': 11940, '12th': 172, 'element': 5552, 'obscuring': 8892, 'improvements': 7175, 'indicates': 7221, 'recipients': 10027, 'release': 10128, 'month': 8536, 'australia': 3120, 'online': 8968, 'omm': 8959, 'belly': 3534, 'familiar': 5990, 'senator': 10643, 'pence': 9282, 'voted': 12160, 'row': 10392, 'progress': 9745, 'defund': 4980, 'permanently': 9309, 'numerous': 8859, 'surfaced': 11309, 'pimps': 9406, 'securing': 10603, 'promises': 9755, 'clinicians': 4248, 'prostitutes': 9781, 'illegals': 7121, 'liveaction': 8043, 'counteract': 4636, 'taxpayer': 11430, 'funded': 6383, 'enterprise': 5674, 'perservering': 9322, 'tomb': 11643, 'co': 4266, 'sacred': 10452, 'decade': 4922, 'declares': 4945, 'prosper': 9779, 'jeremiah': 7619, 'prophet': 9767, 'nations': 8664, 'jun': 7693, 'justfacts': 7704, 'scooped': 10556, 'testifies': 11491, 'michaelclancyphotography': 8401, 'proudly': 9794, 'indiana': 7219, 'mission': 8477, 'vision': 12123, 'affiliation': 2690, 'affiliates': 2688, 'estate': 5737, 'planning': 9436, 'cash': 3973, 'assets': 3056, 'voter': 12161, 'alerts': 2751, 'regulations': 10101, 'statistics': 11100, 'voting': 12164, 'records': 10041, 'lifenews': 7983, 'ru': 10403, '486': 1092, 'lifeline': 7981, 'report': 10182, 'newsletter': 8736, 'gallery': 6413, 'podcast': 9482, 'marzen': 8243, 'memorial': 8353, 'url': 11943, 'jquery': 7670, 'rotator': 10386, 'crossslide': 4704, 'fade': 5967, 'open_new_window': 8977, 'irtl': 7401, 'wp': 12433, 'uploads': 11935, 'babynmom3': 3331, 'jpg': 7659, 'baby1': 3324, 'babyndad1': 3328, 'babynmom2': 3330, 'baby2': 3325, 'baby3': 3326, 'baby4': 3327, 'babynmom1': 3329, 'wrapper': 12453, 'width': 12331, '380px': 710, '250px': 475, 'align': 2761, 'container': 4527, 'overlay': 9091, 'top': 11655, 'display': 5201, 'block': 3630, 'decoration': 4948, 'padding': 9135, 'px': 9866, 'header': 6814, 'color': 4300, 'ff0000': 6116, 'font': 6243, 'subheader': 11210, 'trump': 11749, 'dollars': 5257, 'businesses': 3777, 'white': 12310, 'withdraws': 12366, 'global': 6535, 'abortion19': 2457, '2018the': 362, 'administration': 2625, 'announced': 2893, 'united': 11896, 'withdrawing': 12365, 'rig': 10319, 'autism': 3129, 'treated': 11720, 'euthanized': 5763, 'him19': 6901, '2018in': 357, 'childhood': 4134, 'dutch': 5354, 'psychiatric': 9818, '77': 1740, 'neglect': 8697, 'rick': 10312, 'santorum': 10496, 'bella': 3531, 'turned': 11779, '1019': 133, '2018on': 359, 'daugh': 4866, 'lena': 7921, 'dunham': 5346, 'bashes': 3413, 'immigration': 7149, 'embryos': 5594, '2018separating': 361, 'expe': 5836, 'blocked': 3631, 'resume': 10265, 'abortions19': 2463, '2018u': 363, 'district': 5219, 'kristine': 7798, 'baker': 3384, 'temporary': 11463, 'restraining': 10255, 'monday': 8519, 'arkans': 3008, 'helps': 6862, 'americas': 2834, 'escape': 5708, 'obamacare': 8876, 'employees': 5614, 'expan': 5833, 'proposes': 9772, 'funding': 6385, 'fundraiser': 6386, 'falls': 5982, 'prosecutors': 9776, 'refusing': 10080, 'defend': 4964, 'roundup': 10389, 'buttigieg': 3782, 'premium': 9624, 'domains': 5261, '303': 605, '893': 1930, '0552': 58, 'aidforwomen': 2732, 'sale': 10470, '2395': 444, 'transfer': 11698, 'registrar': 10093, 'finance': 6166, 'monthly': 8538, 'payments': 9255, '200': 326, 'payment': 9254, '199': 275, 'expert': 5850, 'hurry': 7013, 'gone': 6566, 'memorable': 8352, 'unique': 11893, 'extensions': 5873, 'drive': 5326, 'traffic': 11684, 'counterparts': 4637, 'valuations': 12015, 'watch': 12239, 'swapvidp8b': 11348, 'getelementbyid': 6470, 'vidframep8b': 12084, 'innerhtml': 7277, 'iframe': 7087, '480': 1076, '270': 526, 'youtube': 12512, 'embed': 5587, '9wcygjtw_sq': 2275, 'rel': 10114, 'autoplay': 3134, 'showinfo': 10763, 'controls': 4566, 'frameborder': 6325, 'allowfullscreen': 2780, 'recordfraud': 10040, 'rjs': 10347, 'profilevideo': 9735, 'cfm': 4075, 'window': 12346, 'settimeout': 10692, 'dochatpop': 5234, '50000': 1342, 'turbocharge': 11777, 'improves': 7176, 'presence': 9640, 'noticed': 8821, '73': 1705, 'registered': 10092, 'coms': 4417, 'benefits': 3541, 'seo': 10658, 'recognition': 10030, 'authority': 3126, 'smooth': 10888, 'transaction': 11695, 'gregory': 6642, 'terrill': 11482, 'negotiators': 8700, 'fast': 6004, 'direct': 5151, 'edson': 5497, 'tarraf': 11420, 'junior': 7698, 'quckly': 9893, 'client': 4237, 'mirko': 8462, 'sedeu': 10608, 'testimonials': 11493, 'todayour': 11630, 'price': 9672, '395': 730, 'usd': 11949, 'specialist': 10994, '9am': 2214, '5pm': 1516, 'mst': 8593, 'frequently': 6351, 'paidanswers': 9143, '80': 1796, 'assessperformance': 3055, '400': 775, 'charitableaid': 4108, '300': 600, 'shop': 10749, 'shopping': 10750, 'cart': 3966, 'categories': 3984, 'daily': 4835, 'deals': 4911, 'service': 10674, 'hassle': 6782, 'return': 10273, 'conditions': 4443, '101': 131, 'avoiding': 3152, 'customer': 4754, 'profile': 9730, 'hugedomains': 7000, 'rlm': 10349, 'careers': 3947, 'footeraul': 6262, 'facebookinstagramtwitteryoutube': 5952, 'accomplishments': 2520, 'advisors': 2653, 'employment': 5615, 'internship': 7341, 'externship': 5877, 'opportunities': 9001, 'alert': 2750, 'eds': 5496, 'experts': 5852, 'courts': 4657, 'nominations': 8783, 'amicus': 2838, 'briefs': 3727, 'supreme': 11303, 'federal': 6079, 'circuit': 4184, 'international': 7338, 'legislation': 7908, 'victories': 12079, 'rebut': 10014, 'succeed': 11248, 'morewomen': 8551, '2018resources': 360, 'youcan': 12501, 'aloneadvocates': 2790, 'spotlight': 11032, 'gray': 6631, 'nadine': 8640, 'strossen': 11187, 'schoolwatch': 10548, 'webinar': 12260, 'fatal': 6006, 'flaws': 6202, 'legalization': 7899, 'assisted': 3062, 'suicidewatch': 11270, 'aul': 3113, 'openingchief': 8981, 'marketingthink': 8230, 'chief': 4128, 'marketing': 8229, 'officer': 8929, 'openingthe': 8982, 'newly': 8734, 'playbook': 9445, 'edition': 5491, 'focuses': 6227, 'strategylearn': 11164, '2018where': 364, 'rank': 9953, 'mapping': 8210, 'momentum': 8514, 'toward': 11671, 'americasee': 2835, 'listshop': 8037, 'supportturn': 11299, 'youreverydayshopping': 12506, 'intosupport': 7354, 'enroll': 5668, 'formdisplay': 6289, 'nfforms': 8745, 'id': 7051, 'objecttype': 8888, 'editactive': 5490, 'updates': 11929, 'created_at': 4675, 'show_title': 10760, 'clear_complete': 4227, 'hide_complete': 6887, 'default_label_pos': 4963, 'wrapper_class': 12454, 'element_class': 5557, 'add_submit': 2594, 'logged_in': 8074, 'not_logged_in_msg': 8816, 'sub_limit_number': 11205, 'sub_limit_msg': 11204, 'calculations': 3891, 'formcontentdata': 6288, 'get_updates_1523022775954': 6467, 'firstname': 6186, 'lastname': 7835, 'go_1522254048405': 6548, 'currency': 4739, 'unique_field_error': 11894, 'submitted': 11215, 'drawerdisabled': 5315, 'ninjaforms': 8762, 'ninja': 8761, 'forms': 6294, 'changeemailerrormsg': 4094, 'enter': 5671, 'valid': 12006, 'confirmfielderrormsg': 4465, 'fields': 6140, 'fieldnumbernumminerror': 6139, 'min': 8432, 'error': 5704, 'fieldnumbernummaxerror': 6138, 'max': 8272, 'fieldnumberincrementby': 6137, 'increment': 7208, 'fieldtextarearteinsertlink': 6142, 'insert': 7287, 'fieldtextarearteinsertmedia': 6143, 'fieldtextarearteselectafile': 6144, 'select': 10629, 'formerrorscorrecterrors': 6292, 'errors': 5705, 'submitting': 11216, 'validaterequiredfield': 12007, 'honeypothoneypoterror': 6950, 'honeypot': 6949, 'fileuploadoldcodefileuploadinprogress': 6154, 'fileuploadoldcodefileupload': 6153, 'currencysymbol': 4741, 'fieldsmarkedrequired': 6141, 'marked': 8225, 'span': 10982, 'req': 10201, 'symbol': 11361, 'thousands_sep': 11572, 'decimal_point': 4937, 'dateformat': 4864, 'startofweek': 11081, 'previousmonth': 9670, 'nextmonth': 8743, 'monthsshort': 8541, 'jan': 7584, 'feb': 6074, 'mar': 8211, 'apr': 2971, 'jul': 7687, 'aug': 3105, 'sep': 10659, 'oct': 8915, 'nov': 8829, 'weekdays': 12270, 'tuesday': 11768, 'wednesday': 12267, 'thursday': 11593, 'saturday': 10509, 'weekdaysshort': 12272, 'mon': 8517, 'tue': 11766, 'wed': 12265, 'thu': 11588, 'fri': 6352, 'weekdaysmin': 12271, 'mo': 8494, 'th': 11514, 'fr': 6320, 'currency_symbol': 4740, 'beforeform': 3505, 'beforefields': 3504, 'afterfields': 2703, 'afterform': 2704, 'objectdomain': 8882, 'label': 7805, 'default': 4962, 'h3': 6708, 'container_class': 4528, 'beforefield': 3503, 'afterfield': 2702, 'label_pos': 7806, 'parenttype': 9182, 'element_templates': 5558, 'old_classname': 8949, 'wrap_template': 12451, 'wrap': 12450, 'hidden': 6885, 'placeholder': 9424, 'admin_label': 2624, 'help_text': 6853, 'desc_text': 5049, 'custom_name_attribute': 4753, 'fname': 6224, 'lname': 8057, 'processing_label': 9711, 'processing': 9710, 'sixth': 10840, 'button_red': 3784, 'textbox': 11512, 'button': 3783, 'whats': 12295, 'trending': 11726, 'grid': 6646, '18594': 247, 'element_1524201831214': 5554, '12px': 171, '10px': 148, 'element_1': 5553, 'element_2': 5555, 'element_3': 5556, 'hover': 6981, 'item': 7453, 'fff': 6125, 'css': 4715, 'code': 4275, 'layer': 7862, 'auto': 3130, 'overflow': 9090, 'margin': 8218, 'screen': 10566, '1024px': 136, '360px': 679, '768px': 1738, '1023px': 135, '320px': 628, '767px': 1737, '90': 2026, 'struggling': 11192, 'changes': 4095, 'youread': 12505, 'celebrating': 4036, 'foster': 6305, 'dayby': 4875, 'deanna': 4913, 'wallace': 12213, 'director': 5158, 'communications': 4384, 'favorite': 6016, 'wasread': 12237, 'connecting': 4480, 'passionate': 9225, 'activists': 2562, 'legislators': 7913, 'countryread': 4644, 'goose': 6578, 'sauce': 10510, 'considers': 4509, 'amendment': 2826, 'nifla': 8752, 'becerra': 3491, 'theread': 11545, 'winning': 12351, 'statesdeanna': 11094, 'drawn': 5317, 'pcc': 9264, 'theirread': 11530, 'accountabledeanna': 2525, 'culture': 4731, 'marketed': 8228, 'solutionread': 10928, '205': 371, 'owlcarousel': 9104, 'items': 7454, 'navtext': 8674, 'loop': 8087, 'autoheight': 3131, 'nav': 8668, 'dots': 5295, 'connected': 4479, '190': 253, 'validating': 12008, 'application': 2952, 'invalid': 7364, 'instagram': 7299, 'hours': 6977, 'miss': 8473, 'womenspeak2018': 12394, '4ghps1gzsm': 1331, '8kb6iuzfz8': 2018, 'testified': 11490, 'colleges': 4296, '4aufoj6nmy': 1168, 'detdoc80uo': 5079, 'availability': 3138, 'essential': 5729, 'obstetric': 8894, 'emergencies': 5598, 'legalizing': 7902, 'argentina': 2996, 'a1koax7x0y': 2314, 'icymi': 7050, 'delaware': 4993, '8w6w3otim7': 2025, 'theyfeelpain': 11552, 'uzxxh50pke': 11982, '514': 1367, 'rt': 10400, 'socofstseb': 10912, 'advocates': 2657, 'educate': 5500, 'testimonies': 11503, 'tireless': 11614, 'bioethics': 3604, 'ib8y9ss6o5': 7044, 'session': 10684, '1jf4zeaypq': 314, 'ahlkggf1yu': 2728, 'latest': 7838, 'gallup': 6414, 'polling': 9504, 'w1sopzbzrc': 12191, '512': 1365, 'isolatedscrolltwitter': 7434, 'mousewheel': 8575, 'dommousescroll': 5263, 'delta': 5010, 'wheeldelta': 12300, 'originalevent': 9052, 'detail': 5076, 'bottomoverflow': 3687, 'scrolltop': 10579, 'outerheight': 9075, 'scrollheight': 10578, 'topoverflow': 11658, 'preventdefault': 9663, 'fts': 6369, 'scrollable': 10576, 'footer': 6261, 'widget': 12327, 'update': 11926, 'connect': 4478, '2101': 384, 'wilson': 12343, 'boulevard': 3689, '525': 1385, 'arlington': 3010, '22201': 404, '202': 366, '289': 536, '1478': 194, 'reservedhome': 10218, 'layout_2': 7864, 'border': 3675, 'collapse': 4288, 'separate': 10660, 'moz': 8585, 'sizing': 10845, 'webkit': 12261, 'zone_bottom': 12550, 'zone_left': 12551, 'zone_right': 12552, 'vertical': 12066, '100px': 130, 'float': 6209, '5px': 1517, '736px': 1710, 'div': 5221, 'sys_text_widget': 11368, 'img': 7145, '15px': 215, 'relative': 10121, '4px': 1332, '25th': 499, 'celebration': 4037, 'faithful': 5977, 'communities': 4386, 'minnesota': 8449, 'spite': 11023, 'old_text_widget': 8951, 'old_text_wdiget': 8950, 'coalition': 4272, 'choicep': 4152, '6966minneapolis': 1635, 'mn': 8492, '55406': 1416, '6966info': 1634, 'mnrcrc': 8493, 'i49e80e1d51e741afffbd2f5c75336ba7_img': 7038, '42px': 871, '447': 930, '7354': 1709, 'appointment': 2959, 'paperwork': 9169, 'southfield': 10975, 'sterling': 11128, 'heights': 6844, 'westland': 12290, 'directions': 5155, 'pill': 9402, 'teenage': 11451, 'anomaly': 2897, 'views': 12095, 'healing': 6820, 'calculator': 3892, 'treatment': 11722, 'hpv': 6987, 'vaccine': 12001, 'gynecology': 6705, 'sexually': 10705, 'transmitted': 11708, 'infections': 7242, 'locations': 8072, 'detroit': 5087, 'canada': 3914, 'coupons': 4648, 'faqs': 5996, '586': 1451, '268': 518, '1700': 226, '734': 1708, '721': 1699, '4700': 1042, '248': 466, '559': 1422, '0590': 60, 'bodies': 3652, 'sexuality': 10704, 'northland': 8806, 'separates': 10661, 'cost': 4619, 'warm': 12227, 'clean': 4224, 'method': 8387, 'confusing': 4470, 'offer': 8924, 'counseling': 4630, 'nurturing': 8865, 'atmosphere': 3079, 'maintaining': 8173, 'freedoms': 6345, 'exceptional': 5807, 'ensure': 5669, 'certified': 4057, 'physicians': 9386, 'specially': 10996, 'practitioners': 9579, 'dignity': 5141, 'comfort': 4354, 'priorities': 9688, 'assist': 3059, 'convenient': 4570, 'relaxing': 10126, 'sensitive': 10652, 'licensed': 7966, 'department': 5035, 'licensing': 7967, 'regulatory': 10102, 'affairs': 2682, 'inspected': 7294, 'federation': 6084, 'network': 8722, 'realized': 10006, 'treat': 11719, 'specialize': 10995, 'morally': 8546, 'ethically': 5749, 'provides': 9805, 'commonly': 4381, 'eligible': 5566, 'determine': 5083, 'eligibility': 5565, 'funds': 6388, 'travel': 11715, 'hotel': 6974, 'arrangments': 3018, 'excellent': 5804, 'fees': 6092, 'lower': 8111, 'gardasil': 6420, 'lowest': 8112, 'prices': 9674, 'condom': 4445, 'broke': 3740, 'intercourse': 7328, 'ec': 5475, 'ect': 5480, 'unintended': 11889, 'includes': 7194, 'ultrasound': 11837, 'lab': 7804, 'prescriptions': 9639, 'deductibles': 4953, 'urine': 11942, 'sensi': 10651, 'testing': 11505, 'cheap': 4115, 'pills': 9404, 'methods': 8390, 'prescribe': 9636, 'prescription': 9638, 'dispensing': 5200, 'retail': 10268, 'pharmacies': 9354, 'program': 9742, 'rmc': 10350, 'pac': 9129, 'internships': 7342, 'cufon': 4726, 'struck': 11188, 'unconstitutional': 11854, 'texas': 11508, 'hb2': 6795, 'limiting': 8012, 'significant': 10795, 'decades': 4923, 'serve': 10671, 'wake': 12206, 'aimed': 2735, 'solely': 10922, 'landmark': 7820, 'chair': 4083, 'bevan': 3557, 'mandate': 8195, 'singular': 10821, 'moral': 8544, 'deeply': 4958, 'grant': 6614, 'license': 7965, 'impose': 7163, 'american': 2829, 'citizens': 4195, 'rallying': 9947, 'crowd': 4706, 'headline': 6816, 'rally': 9946, 'hellerstedt': 6849, 'brilliantly': 3732, 'ideals': 7053, 'intrusion': 7362, 'remarks': 10144, 'drop': 5332, 'double': 5297, 'chairs': 4084, 'highlight': 6895, 'party': 9214, 'cnn': 4265, 'republicans': 10199, 'abiding': 2441, 'belief': 3522, 'governs': 6593, 'reconcile': 10035, 'majority': 8177, 'legislatures': 7916, 'roadblocks': 10353, 'excessive': 5811, 'accessibility': 2512, 'began': 3506, 'officially': 8931, 'brief': 3726, 'considerations': 4506, 'deliberation': 4998, 'involving': 7384, 'restrictions': 10257, 'preventive': 9666, 'involvement': 7382, 'campaign4commonground': 3909, 'lobby': 8063, 'pleased': 9456, 'announce': 2892, 'targeted': 11417, 'remain': 10139, 'dollar': 5256, 'federally': 6082, 'programs': 9744, 'medicaid': 8325, 'metaslider_748': 8386, 'addclass': 2597, 'flexslider': 6207, 'plugin': 9466, 'conflict': 4466, 'avoidance': 3151, 'slideshowspeed': 10870, '10000': 127, 'animation': 2881, 'controlnav': 4565, 'directionnav': 5154, 'pauseonhover': 9249, 'horizontal': 6964, 'reverse': 10284, 'animationspeed': 2882, '600': 1522, 'prevtext': 9671, 'nexttext': 8744, 'timer_metaslider_748': 11605, 'slider': 10868, 'isready': 7438, 'tweets': 11787, 'gopchoice': 6580, 'fjs': 6196, 'platform': 9443, 'widgets': 12329, 'wjs': 12376, 'english': 5659, 'espanol': 5716, '616': 1535, '2383': 442, 'tour': 11668, 'west': 12288, 'alabama': 2743, 'variety': 12028, 'financially': 6168, 'wawc': 12244, 'accepts': 2508, 'appointments': 2960, 'facility': 5960, 'maintain': 8171, 'professionalism': 9727, 'confidentiality': 4458, 'friendly': 6356, 'knowledgeable': 7785, 'considerate': 4504, 'confidence': 4455, 'declaration': 4943, 'principles': 9683, 'wide': 12324, 'confidential': 4457, 'diseases': 5189, 'offered': 8925, '556': 1419, '2026': 367, 'schedule': 10542, 'glossarylink': 6542, 'exchange': 5812, 'sitemap': 10834, 'leadership': 7875, 'financials': 6169, 'publications': 9825, 'sheets': 10731, 'posters': 9547, 'bumper': 3764, 'stickers': 11135, 'alliance': 2776, 'weekly': 12274, 'wire': 12355, 'subscribe': 11217, 'wing': 12348, 'strategy': 11163, 'membership': 8349, 'artl': 3028, 'unfurls': 11879, 'protest': 9788, 'mccain': 8298, 'tragic': 11688, 'record': 10038, 'rejects': 10110, 'approving': 2968, 'unwanted': 11921, 'rapist': 9959, 'refusal': 10078, 'amendments': 2827, 'tiniest': 11610, 'boys': 3695, 'girls': 6518, 'promising': 9756, 'nominate': 8780, 'justices': 7706, 'antonin': 2914, 'scalia': 10534, 'authorized': 3128, 'surgically': 11316, 'dobson': 5233, 'violates': 12111, 'pledge': 9458, 'invoking': 7377, 'colorado': 4337, 'springs': 11039, 'rtl': 10401, '527': 1387, 'exposing': 5867, 'violating': 12112, 'invoked': 7376, 'violated': 12110, 'declaring': 4946, 'headquarters': 6817, '1990': 276, 'determined': 5084, 'endorsed': 5642, 'authorize': 3127, 'calls': 3902, 'daly': 4843, 'plays': 9450, 'visitors': 12128, 'broken': 3741, 'oath': 8873, 'repeated': 10173, 'letter': 7936, 'violation': 12113, 'romney': 10372, 'exit': 5831, 'transform': 11699, 'endorsements': 5644, '2008': 336, 'mitt': 8487, 'fred': 6339, 'thompson': 11564, 'curtis': 4751, 'opposes': 9005, 'withdrew': 12367, 'partisan': 9206, 'paul': 9246, 'weyrich': 12292, 'architect': 2984, 'bopp': 3673, 'jay': 7594, 'sekulow': 10628, 'whom': 12317, 'influence': 7249, 'among': 2843, 'rev': 10275, 'jerry': 7622, 'falwell': 5985, 'deceased': 4925, 'beloved': 3535, 'kennedy': 7733, 'reclaiming': 10029, 'america': 2828, 'founder': 6313, 'robertson': 10359, 'defended': 4965, 'china': 4143, 'forced': 6269, 'rudi': 10404, 'giuliani': 6521, 'billy': 3602, 'graham': 6604, 'crusade': 4710, 'duress': 5348, 'positively': 9531, 'hillary': 6899, 'clinton': 4250, 'workers': 12409, 'handbook': 6737, 'sincere': 10815, '1997': 280, 'cases': 3971, 'rape': 9955, 'incest': 7184, 'perverse': 9338, 'foundation': 6310, 'command': 4360, 'punish': 9843, 'ezekiel': 5884, 'artlaction': 3030, 'prohibits': 9748, 'nominee': 8785, 'ann': 2883, 'coulter': 4626, 'manifestly': 8200, 'candidate': 3919, 'correcting': 4611, 'deceit': 4926, 'mouthed': 8577, 'sound': 10968, 'bite': 3614, 'governed': 6589, 'lifer': 7984, 'provable': 9795, 'signature': 10791, '2006': 334, 'politically': 9498, 'calculated': 3890, 'conversion': 4573, 'allocated': 2777, 'massachusetts': 8250, 'dnc': 5231, 'mountain': 8571, 'protestpersonhood': 9790, 'guidelinessarah': 6683, 'palin': 9156, 'profileann': 9731, 'hang': 6745, 'ups': 11937, 'youtubeoppose': 12513, 'nat': 8659, 'rtlnot': 10402, 'courtpba': 4655, 'ban': 3391, 'saves': 10517, 'wasted': 12238, 'yearsandthenyoucankillthebaby': 12493, 'comlegacy': 4359, 'judas': 7675, 'boppa': 3674, 'jurisprudence': 7700, 'aulthe': 3114, 'tiller': 11602, 'vigilante': 12097, 'worksheetpersonhood': 12413, 'spandr': 10983, 'pledgewatch': 9460, 'ny': 8871, 'logo': 8077, 'troublessee': 11743, 'ron': 10373, 'obama': 8875, 'plumber': 9469, 'ap': 2928, 'gentleman': 6450, 'namedalan': 8645, 'keyes': 7740, 'gifts': 6507, 'artla': 3029, 'americanrtl': 2830, 'action1535': 2553, '303denver': 608, '802031': 1801, '888': 1924, 'proved': 9797, 'claims': 4206, 'reform': 10076, 'falsely': 5984, '1981': 270, 'prioritizes': 9689, 'socialized': 10907, 'permanent': 9308, 'seat': 10589, 'advisory': 2654, 'promotes': 9759, 'chemical': 4125, 'democrat': 5014, 'matt': 8265, 'nestor': 8717, 'disputing': 5208, 'argued': 2998, 'dispense': 5199, 'abortifacients': 2454, '2004': 332, 'researcher': 10211, 'douglas': 5301, 'melton': 8346, 'cells': 4041, 'supports': 11298, 'disputed': 5207, 'conversation': 4572, 'waiver': 12205, 'claimed': 4204, 'asserting': 3053, 'naral': 8654, 'login': 8076, 'font_0': 6244, '25px': 498, '4em': 1293, 'dinneuzeitgroteskltw01': 5147, '_812426': 2277, 'sans': 10493, 'serif': 10668, '18157c': 243, 'font_1': 6245, '16px': 224, 'din': 5145, 'w01': 12183, 'w02': 12186, 'w10': 12189, '999997': 2197, 'font_2': 6247, 'eade71': 5446, 'font_3': 6248, '130px': 175, '414141': 819, 'font_4': 6249, '110px': 152, 'c7c7c7': 3854, 'font_5': 6250, 'proxima': 9811, 'reg': 10082, 'font_6': 6251, 'font_7': 6252, 'avenir': 3144, 'w01_35': 12184, 'light1475496': 8000, 'font_8': 6253, 'font_9': 6254, '14px': 200, 'font_10': 6246, 'color_0': 4301, 'ffffff': 6130, 'backcolor_0': 3336, 'color_1': 4302, 'backcolor_1': 3337, 'color_2': 4313, '000000': 2, 'backcolor_2': 3348, 'color_3': 4324, 'ed1c24': 5483, 'backcolor_3': 3359, 'color_4': 4331, '0088cb': 13, 'backcolor_4': 3366, 'color_5': 4332, 'ffcb05': 6124, 'backcolor_5': 3367, 'color_6': 4333, '727272': 1701, 'backcolor_6': 3368, 'color_7': 4334, 'b0b0b0': 3187, 'backcolor_7': 3369, 'color_8': 4335, 'backcolor_8': 3370, 'color_9': 4336, 'backcolor_9': 3371, 'color_10': 4303, 'backcolor_10': 3338, 'color_11': 4304, 'backcolor_11': 3339, 'color_12': 4305, 'e8e6e6': 5433, 'backcolor_12': 3340, 'color_13': 4306, 'backcolor_13': 3341, 'color_14': 4307, 'backcolor_14': 3342, 'color_15': 4308, 'backcolor_15': 3343, 'color_16': 4309, 'c1d4fa': 3805, 'backcolor_16': 3344, 'color_17': 4310, 'a2bdf4': 2321, 'backcolor_17': 3345, 'color_18': 4311, '4d82ef': 1247, 'backcolor_18': 3346, 'color_19': 4312, '33579f': 645, 'backcolor_19': 3347, 'color_20': 4314, '1a2b50': 287, 'backcolor_20': 3349, 'color_21': 4315, 'b1b0de': 3205, 'backcolor_21': 3350, 'color_22': 4316, '8b89be': 1960, 'backcolor_22': 3351, 'color_23': 4317, '5e5c9d': 1499, 'backcolor_23': 3352, 'color_24': 4318, 'backcolor_24': 3353, 'color_25': 4319, '0c0b3e': 103, 'backcolor_25': 3354, 'color_26': 4320, 'f4eeb5': 5916, 'backcolor_26': 3355, 'color_27': 4321, 'backcolor_27': 3356, 'color_28': 4322, 'b0a755': 3184, 'backcolor_28': 3357, 'color_29': 4323, '756f38': 1722, 'backcolor_29': 3358, 'color_30': 4325, '3b381c': 744, 'backcolor_30': 3360, 'color_31': 4326, 'd3eacd': 4794, 'backcolor_31': 3361, 'color_32': 4327, 'acd5a1': 2534, 'backcolor_32': 3362, 'color_33': 4328, '81a079': 1824, 'backcolor_33': 3363, 'color_34': 4329, '566b51': 1434, 'backcolor_34': 3364, 'color_35': 4330, '2b3528': 565, 'backcolor_35': 3365, 'amatic': 2815, 'style': 11201, 'local': 8067, 'amaticsc': 2816, 'fonts': 6257, 'gstatic': 6667, 'v11': 11984, 'tuzyzwprpvbs1izr_vo0dq': 11784, 'ttf': 11761, 'truetype': 11747, '700': 1680, 'bold': 3656, 'tuz3zwprpvbs1izr_vomscg6eq': 11783, 'anton': 2913, 'v9': 11998, '1ptgg87lroyam3k9': 315, 'barlow': 3405, 'italic': 7450, 'v1': 11983, '7chrv4kjgogqm7e_cfs1who': 1779, 'bolditalic': 3657, '7chsv4kjgogqm7e_cfoa5wogvt8': 1780, '7chpv4kjgogqm7e_ass8': 1777, '7chqv4kjgogqm7e3t': 1778, '4s6vop': 1334, 'v7': 11996, 'xfu_0wlxv2_xktn': 12472, '6fq': 1673, 'caudex': 3994, 'esds311qop6bjur4ymkntb8': 5712, 'esdv311qop6bjur4ymo4kk8pmpa': 5714, 'esdq311qop6bjur4w_ke': 5711, 'esdt311qop6bjurwdteunj8g': 5713, 'chelsea': 4123, 'market': 8227, 'chelseamarket': 4124, 'v5': 11994, 'bcawqzshqfr89wnp_iapc8tzkchsjgo': 3448, 'cinzel': 4181, '8vij7ww63mvu7gt7': 2023, '8vik7ww63mvu7gtztuhuhwzf': 2024, 'cookie': 4583, 'v8': 11997, 'syky': 11360, 'y18lb0tsbf9kgqx': 12483, 'corben': 4597, 'lyjddgzzklqtcmpnqqna': 8139, 'lyjadgzzklqtcmpfhczqphov': 8138, 'cormorant': 4602, 'garamond': 6418, 'cormorantgaramond': 4603, 'co3zmx5slcnuhli8bley9mk7whwmhyjyrhtp': 4271, 'co3wmx5slcnuhli8bley9mk7whwmhyjyrepzva': 4269, 'co3bmx5slcnuhli8bley9mk7whwmhyjorg': 4268, 'co3ymx5slcnuhli8bley9mk7whwmhyjqel5vuq': 4270, 'damion': 4847, 'hv': 7020, 'xlzj3keue_yzkamwz': 12474, 'dancing': 4849, 'dancingscript': 4850, 'if2rxtr6ys': 7085, 'zf4s': 12546, 'kcswsvi_szluiuq': 7721, 'if2sxtr6ys': 7086, 'kcswsvi_szpbr_qkqiy': 7722, 'eb': 5467, 'ebgaramond': 5474, 'slgwmqsnjdsmc35jdf1k5grwsdw': 10865, 'slglmqsnjdsmc35jdf1k5grwciaqqgs': 10863, 'slgumqsnjdsmc35jdf1k5fry': 10864, 'slgjmqsnjdsmc35jdf1k5gzobrwv': 10862, 'enriqueta': 5667, 'v6': 11995, 'goksh6l7aufrrvv44hvjqkqn': 6560, 'gokph6l7aufrrvv44hvr92': 6559, '3kdxa': 770, 'forum': 6300, '6aey4ky': 1643, 'vb8ew_iw': 12036, 'fredericka': 6340, 'frederickathegreat': 6341, '9bt33cxnwt7aoctw2xjbcstzwvksibvv': 2218, 'sjxbi': 10846, 'jockey': 7633, 'jockeyone': 7634, 'htxpl2g2kjcfj4x8wi6ani_xgq': 6995, 'josefin': 7648, 'slab': 10856, 'josefinslab': 7649, 'lw': 8136, 'nwjwok3ps5gsjlnnkmalnrz6tdso': 8869, 'kwjwok3ps5gsjlnnkmalnrzywk9rnhgs': 7801, '5wjwok3ps5gsjlnnkmalnqg6q': 1520, 'mwjwok3ps5gsjlnnkmalvesu6kerg': 8614, 'jura': 7699, 'z7nbdrfiac4vbcm': 12528, 'z7nudrfiac4vvx9sdcw': 12531, 'kellyslab': 7732, 'w_7xjx0rz3cxunjc5t6tkm': 12199, 'lato': 7844, 'v14': 11987, 's6u8w4bmutphjxsaui': 10429, 's6u_w4bmutphjxsi5wq_fqfo': 10431, 's6uyw4bmutphjxawww': 10432, 's6u9w4bmutphh6uvswapha': 10430, 'libre': 7962, 'baskerville': 3418, 'librebaskerville': 7963, 'kmkhzrc3hgbbcjq75u4uslyuy4kn0qncwx8qcq': 7775, 'kmknzrc3hgbbcjq75u4uslyuy4kn0qnxaxy': 7777, 'kmkizrc3hgbbcjq75u4uslyuy4kn0qvitgy5kcu': 7776, 'lobster': 8066, 'v20': 11991, 'neilzcirqoswsqx9_ou': 8705, 'marck': 8214, 'marckscript': 8215, 'nwpttk2ongba3or78gapdwuczw': 8870, 'monoton': 8529, '5h1aizurongcibe4tkhlrw': 1508, 'haviland': 6790, 'mrdehaviland': 8589, 'opnvnooihjj96fdb73296ksbog3l60y': 8996, 'niconne': 8751, 'w8gah2qvrug1_rtfnqkn3a': 12195, 'noticia': 8822, 'noticiatext': 8825, 'vujodndf2yv9qppoepkyrp12ywtun0s': 12172, 'vujrdndf2yv9qppoepkyrp12ywphulvchda': 12174, 'vuj2dndf2yv9qppoepkyrp12adtd': 12171, 'vujpdndf2yv9qppoepkyrp1': 12173, '3r5ntmvv': 772, 'condensed': 4441, 'opensanscondensed': 8985, 'v12': 11985, 'z7nfdqdnbtkabzaiol9il_o6kjj73e7ff1ghpui': 12530, 'z7nfdqdnbtkabzaiol9il_o6kjj73e7ff0gmpui': 12529, 'oswald': 9061, 'v16': 11988, 'tk3iwkuhhaijg75ghg': 11622, 'tk3hwkuhhaijg75': 11621, 'ohojvq': 8942, 'overlock': 9092, 'z9xtdmdmwrin1_t9z7tc2ocslg': 12539, 'z9xqdmdmwrin1_t9z7tc0fwjhrcj9a': 12537, 'z9xvdmdmwrin1_t9z7tx6ok': 12540, 'z9xsdmdmwrin1_t9z7xizfmftrk': 12538, 'patrick': 9244, 'patrickhand': 9245, 'ldi1apsqoaytsuywp8zhfye8umlo': 7869, '6aez4k2ovqwijti': 1644, '6ae84k2ovqwitm4topc': 1642, 'playfair': 9447, 'playfairdisplay': 9448, 'v13': 11986, 'nufkd': 8848, 'vyszvivyub_rj3ij__anpxdtnyhq': 12180, 'nufnd': 8850, 'vyszvivyub_rj3ij__anpxdtngowwe4w': 12179, 'nufid': 8847, 'vyszvivyub_rj3ij__anpxpts': 12181, 'nufld': 8849, 'vyszvivyub_rj3ij__anpxbyf9pwk': 12178, 'poppins': 9516, 'pxigyp8kv8jhgfvrjjlufntf': 9870, 'pxidyp8kv8jhgfvrjjlmy15vgdel': 9868, 'pxieyp8kv8jhgfvrjjnedw': 9869, 'pxibyp8kv8jhgfvrlcz7z1jlea': 9867, 'questrial': 9907, 'qdvustchpbm7nuuevf70vifg': 9873, 'raleway': 9945, '1ptsg8zys_skggpnycg4q4fv': 318, '1ptpg8zys_skggpnycgw9qr_dnce': 316, '1ptug8zys_skggpnycmisg': 319, '1ptrg8zys_skggpnwjytwqhpbq': 317, 'roboto': 10360, 'v18': 11989, 'kfokcnqeu92fr1mu52xp': 7743, 'kfojcnqeu92fr1mu51tzbhc9': 7742, 'kfomcnqeu92fr1me5q': 7745, 'kfolcnqeu92fr1mmwulvaw': 7744, 'rozha': 10394, 'rozhaone': 10395, 'v4': 11993, 'alzy_zvftyp12zncg2krfh38': 2810, 'sacramento': 10451, 'buezpo6gcdjy0eizmbug4cmf': 3755, 'sail': 10464, 'dpejywibxwyjjb3jba': 5310, 'sarina': 10506, 'f6wfjf3itqwaslrj0rq': 5926, 'signika': 10798, 'vefr2_jtcgwq5ejvg18maw': 12038, 'vefu2_jtcgwq5ejve': 12039, 'ode3ljbw': 8918, 'spinnaker': 11017, 'w8gyh2oyx': 12196, 'i0_rvr6hmx1xyp': 7036, 'suez': 11258, 'suezone': 11259, 'v2': 11990, 'taijgmd_ez6rqscqgnfj': 11390, 'worksans': 12412, 'v3': 11992, 'qgysz_wnahgadqq43rh_cqds': 9877, 'qgypz_wnahgadqq43rh3x4x8lthi': 9876, 'incorporates': 7200, 'software': 10915, 'copyrighted': 4594, 'monotype': 8530, 'suppliers': 11292, 'install': 7300, 'redistribute': 10049, 'convert': 4575, 'modify': 8503, 'engineer': 5655, 'webfonts': 12259, 'helvetica': 6863, 'static': 11096, 'parastorage': 9175, 'user': 11955, 'ea95b44a': 5442, 'eab7': 5443, '4bd1': 1196, '861c': 1886, 'e73535e7f652': 5424, 'eot': 5690, 'iefix': 7063, '4021a3b9': 780, 'f782': 5931, '438b': 897, 'aeb4': 2667, 'c008109a8b64': 3793, 'woff': 12385, '669f79ed': 1585, '002c': 6, '4ff6': 1330, '965c': 2123, '9da453968504': 2235, 'd17bc040': 4778, '9e8b': 2245, '4397': 900, '8356': 1845, '8153f4a64edf': 1819, 'svg': 11342, 'f70da45a': 5928, 'a05c': 2288, '490c': 1114, 'ad62': 2579, '7db4894b012a': 1782, 'c5749443': 3839, '93da': 2087, '4592': 982, 'b794': 3291, '42f28d62ef72': 868, '73805f15': 1713, '38e4': 724, '4fb7': 1318, '8a08': 1941, 'd56bf29b483b': 4800, '874bbc4a': 1904, '0091': 14, '49f0': 1134, '93ef': 2088, 'ea4e69c3cc7a': 5441, 'braggadocio': 3700, 'f305266f': 5900, 'adfb': 2617, '4e4f': 1268, '9055': 2032, '1d7328de8ce6': 307, '518e4577': 1372, 'eecc': 5511, '4ecd': 1288, 'adb4': 2590, '2ee21df35b20': 586, 'f46241ad': 5915, '1f5d': 311, '4935': 1120, 'ad69': 2580, 'b0a78c2e191d': 3185, 'b2a0a25d': 3218, 'e054': 5378, '4c65': 1212, 'bffa': 3580, 'e5760b48dec3': 5411, 'clarendon': 4213, 'medium': 8334, '692107': 1631, 'c6993450': 3848, 'd795': 4812, '4fd3': 1323, 'b306': 3231, '38481733894c': 717, 'b6878f57': 3281, '4d64': 1241, '4d70': 1243, '926d': 2067, 'fa4dec6173a5': 5946, '0a6b6eff': 95, '6b5d': 1649, '46d4': 1028, 'b681': 3280, 'f356eef1e4c1': 5902, '600b1038': 1525, '76a8': 1739, '43b4': 904, 'a2f7': 2324, '2a6eb0681f95': 559, '3e0b2cd7': 758, '9657': 2122, 'b4af': 3254, 'e04122e8f1f7': 5376, 'bc176270': 3439, '17fa': 235, '4c78': 1216, 'a343': 2326, '9fe52824e501': 2267, '3516f91d': 663, 'ac48': 2496, '42cd': 860, 'acfe': 2542, '1be691152cc4': 298, 'd1b1e866': 4779, 'a411': 2339, '42ba': 858, '8f75': 2009, '72bf28e23694': 1702, 'snellroundhandw01': 10893, 'scrip': 10568, 'fea0fb7b': 6066, '884b': 1920, '4567': 972, 'a6dc': 2372, 'addb8e67baaa': 2596, 'efbfc170': 5516, 'aaf0': 2415, '4472': 931, '91f4': 2060, 'dbb5bc2f4c59': 4880, 'd974669d': 4825, '978c': 2152, '4bcf': 1195, '8843': 1919, 'b2b7c366d097': 3222, '5b2427b5': 1480, '3c1e': 747, '4b17': 1171, '9f3c': 2255, '720a332c9142': 1698, 'stencil': 11118, 'cc642b17': 4014, 'a005': 2283, '4f1e': 1297, '86e8': 1899, 'baffa4647445': 3383, 'a9eddc47': 2401, '990d': 2182, '47a3': 1064, 'be4e': 3469, 'c8cdec0090c6': 3860, '8d108476': 1988, '7a62': 1763, '4664': 1015, '821f': 1834, '03c8a522c030': 42, '7823e34c': 1751, '67dc': 1604, '467a': 1017, 'bbfb': 3437, 'efbb5f6c90f0': 5515, '717f8140': 1695, '20c9': 378, '4892': 1099, '9815': 2167, '38b48f14ce2b': 723, '03805817': 38, '4611': 1004, '4dbc': 1254, '8c65': 1977, '0f73031c3973': 116, 'd5f9f72d': 4803, 'afb7': 2677, '4c57': 1208, '8348': 1843, 'b4bdac42edbb': 3256, '05ad458f': 61, '263b': 511, '413f': 818, 'b054': 3179, '6001a987ff3e': 1523, 'titling': 11620, 'mt': 8594, 'w90': 12197, '2b6731dc': 569, '305d': 610, '4dcd': 1258, '928e': 2068, '805163e26288': 1804, 'faceff42': 5955, 'b106': 3194, '448b': 937, 'b4cf': 3257, '5b3a02ad61f1': 1481, '82f103e4': 1839, '7b1c': 1767, '49af': 1130, '862f': 1887, 'fe576da76996': 6065, '46f6946a': 1035, '4039': 785, '46e8': 1031, 'b001': 3175, 'be3e53068d46': 3468, 'americantypwrteritcw01': 2832, '731025': 1706, 'dff8aebe': 5107, 'deee': 4954, '47a7': 1065, '8575': 1878, 'b2f39c8473f8': 3226, '0c0f4d28': 104, '4c13': 1202, '4e84': 1280, '9a36': 2207, 'e63cd529ae86': 5417, '7f26a278': 1787, '84b3': 1863, '4587': 978, 'bf07': 3562, 'c8cdf7e347a9': 3861, '254ab931': 483, 'e6d6': 5420, '4307': 874, '9762': 2147, '5914ded49f13': 1460, 'soho': 10916, 'b2d6b869': 3225, '3f47': 766, '4c92': 1219, '83d3': 1852, '4546ffb860d0': 968, 'f84b539d': 5938, 'ed34': 5484, '4400': 916, 'a139': 2301, 'c0f909af49aa': 3802, '9ef27401': 2251, '09c0': 90, '434f': 886, 'b0f0': 3190, '784445b52ea2': 1753, '4ba3546a': 1191, '32f7': 638, '4e7d': 1278, 'be64': 3470, '8da01b23d46e': 1994, 'pacifica': 9132, 'w00': 12182, 'e50a5bb1': 5407, '8246': 1836, '4412': 919, '8c27': 1974, '4a18ba89a0fd': 1139, '6849614c': 1612, '986c': 2173, '45b1': 987, 'a1a7': 2310, '39c891759bb9': 734, '8ccb835c': 1984, '4668': 1016, '432d': 879, '8d1d': 1989, '099b48aafe4e': 88, '028040ec': 32, 'b956': 3312, '41d8': 832, 'a07d': 2289, 'b4d3466b8ed8': 3259, 'avenida': 3143, 'a8138b05': 2383, 'e5ff': 5413, '482f': 1081, 'a8f6': 2390, '8be894e01fc3': 1964, '53f05821': 1401, 'c783': 3852, '4593': 984, 'bf20': 3564, 'c3d770f32863': 3822, 'b7215bbe': 3289, '7870': 1755, '4733': 1048, '9e81': 2244, '28398fbed38b': 533, 'bc2def79': 3440, 'bd99': 3459, '49b9': 1131, '98b3': 2177, '502e34cc5552': 1347, 'itc': 7452, 'arecibo': 2992, '036d6c0b': 37, 'd067': 4775, '431a': 876, 'ab39': 2419, 'be3b89b1322f': 3467, '5d6cd606': 1495, 'b520': 3263, '4335': 881, '96e1': 2134, '755691d666e8': 1721, '03d7d783': 43, '5b99': 1483, '4340': 883, 'b373': 3239, '97c00246ec27': 2155, 'a5fab48f': 2358, '93a0': 2084, '403a': 786, 'b60e': 3273, 'bfdb0b69d973': 3577, 'droid': 5330, 'de5702ce': 4903, '174b': 230, '4ee6': 1291, 'a608': 2360, '6482d5d7eb71': 1561, '83ae2051': 1850, 'dcdd': 4886, '4931': 1119, '9946': 2188, '8be747a40d00': 1963, '63f35b58': 1557, 'a40f': 2338, '4f53': 1303, 'bb3e': 3426, '20396f202214': 369, '19db6ebc': 283, '2d1b': 576, '4835': 1084, '9588': 2112, '3fa45ff36f4e': 767, 'museo': 8608, '3b3d99a2': 745, '6b36': 1647, '4912': 1115, 'a93e': 2392, '29277020a5cf': 547, '28d74e9b': 541, '4ea9': 1284, '4e3c': 1265, 'b265': 3215, 'c67a72c66856': 3846, 'b432b4e1': 3250, '014a': 21, '4ed8': 1289, '865c': 1890, '249744f856b0': 469, '8e63fd1e': 2000, 'adc9': 2591, '460e': 1001, '9ef7': 2252, 'bbf98ee32a71': 3436, '01ab709f': 25, '22cf': 420, '4831': 1083, 'b24a': 3212, '8cf4eb852687': 1986, 'cacc0862': 3881, 'f146': 5890, '4746': 1051, '92b1': 2069, '60e6114a66c4': 1527, '54006f54': 1403, 'b61e': 3275, '4103': 811, 'abf8': 2440, 'b1d0294a2a9c': 3206, 'e5841f2e': 5412, '4583': 977, 'bfc3': 3574, 'a0e06742fedd': 2294, 'geotica': 6459, '91cc94e6': 2057, '2c98': 575, '4b42': 1177, 'aaec': 2414, '086abb6a9370': 82, 'cc0b2292': 4012, '9358': 2076, '41ee': 837, 'b3b9': 3243, '429952586f69': 856, '8558b493': 1874, 'da55': 4830, '4e6f': 1275, 'b473': 3252, '56d9c7dff2a4': 1439, 'ee507e8d': 5508, '069a': 69, '4cb6': 1226, 'b184': 3199, '62b1f3ab0102': 1546, '45563891': 970, '20ab': 377, '4087': 796, 'b16c': 3198, 'b3cfc26faac1': 3245, 'e947b76a': 5435, 'edcf': 5487, '4519': 961, 'bc3d': 3442, 'c2da35865717': 3817, 'c09cb36e': 3798, '5e79': 1500, '4033': 783, 'b854': 3302, '41e57fbf44fa': 835, 'f4245069': 5911, '28b7': 540, '43b7': 905, '8a10': 1942, '708b9f3c398b': 1685, 'reklamescriptw00': 10113, '5af7511a': 1478, 'dccc': 4885, '450d': 960, 'b2a2': 3219, 'bb8e3bb62540': 3431, '05b176f5': 62, 'c622': 3844, '4c35': 1203, 'af98': 2675, 'c0c056dd5b66': 3801, '9dcb5a3c': 2237, '1c64': 300, '4c9c': 1221, 'a402': 2336, '995bed762eb7': 2192, '1e87d66a': 310, 'd7f1': 4817, '4869': 1093, '8430': 1858, '51662777be57': 1369, 'nimbus': 8757, 'tw01con': 11785, '2101adaa': 385, '6a98': 1639, '4fa9': 1317, 'b085': 3183, '3b04c3722637': 743, '8fb1090e': 2014, 'b4d0': 3258, '4685': 1018, 'ac8f': 2497, '3d0c29d60130': 754, '5d5fc44e': 1494, 'e84b': 5429, '48ca': 1103, 'a5a7': 2353, 'bed8bdbf79a1': 3498, '24512b2a': 460, 'e22d': 5387, '4ebb': 1285, '887c': 1923, 'a334d039433c': 2325, 'bodoni': 3653, 'poster': 9546, 'ab0e3d15': 2416, '2f64': 591, '49c1': 1132, '8898': 1925, '817a2235e719': 1821, '4d1b9848': 1234, '7ebd': 1785, '472c': 1047, '9d31': 2228, '4af0aa7faaea': 1165, '197b5ef7': 269, '65e6': 1577, '4af6': 1166, '9fd9': 2265, 'bc9fc63038c7': 3446, 'a9bda117': 2397, 'c293': 3812, '40b5': 801, 'a2d8': 2323, '9f923f32623c': 2259, 'mobile': 8495, 'system': 11369, 'fallbacks': 5980, 'comic': 4356, '0d67e115': 107, 'f220': 5896, '4a6a': 1147, '81c2': 1828, 'ae0035bda922': 2659, '234c98b8': 434, '36ae': 689, '45ab': 986, '8a55': 1945, '77980708b2bc': 1747, '7ff2970c': 1790, '1d51': 305, '47be': 1066, '863d': 1888, 'b33afda8fb40': 3233, 'f1afa7d8': 5891, 'abee': 2437, '4268': 852, '9cf8': 2224, '85d43150fdb1': 1884, 'courier': 4651, 'b2977c8d': 3216, '4907': 1113, '4cc3': 1229, 'b5ed': 3271, '3dec9ca68102': 756, 'b059d02a': 3180, 'a222': 2316, '4c63': 1211, '9fd3': 2264, '705eaeea1c16': 1683, '52e3d484': 1392, '7188': 1696, '4c9e': 1222, '964e': 2120, 'b7a75e9dfa2f': 3292, 'c2182c36': 3808, '8eb4': 2002, '4a56': 1144, 'a0ff': 2296, 'dba7492ce96c': 4878, '9ae7059b': 2213, 'dd17': 4889, '4a4c': 1142, '8872': 1922, '5cb4dd551277': 1490, '4cefdf47': 1231, '0136': 20, '4169': 823, '9933': 2186, '3225dbbec9d9': 629, 'f7450934': 5930, '42f3': 869, '4193': 827, 'befa': 3501, 'c825772a9454': 3857, '25aa5449': 494, 'ccc1': 4017, '4f0e': 1295, 'ab3f': 2420, '4cf3b959208f': 1232, 'lucida': 8119, 'console': 4512, '527cb305': 1388, '4810': 1077, 'b337': 3232, '67756678c830': 1599, '60f4a13f': 1528, '3943': 729, '432a': 878, 'bb51': 3427, 'b612e41239c5': 3274, '38229089': 714, 'ebec': 5473, '4782': 1059, 'b8f2': 3310, '304cfdcea8d8': 609, 'f855783c': 5939, '1079': 142, '4396': 899, 'a7b7': 2378, 'f7d9179145be': 5933, 'tahoma': 11389, '1b155b1c': 291, 'e651': 5419, '4a51': 1143, '9d03': 2226, '0ca480aeaf9f': 105, '20323430': 368, '24f4': 471, '4767': 1056, '9d4d': 2230, '060d1e89758a': 65, '6e17e62d': 1660, '30cb': 614, '4840': 1086, '8e9d': 2001, '328c6b62316e': 633, '04ab3894': 53, '45ce': 990, '42ef': 866, 'aa11': 2404, 'e7c0cd7f7da9': 5426, 'arial': 3004, 'black': 3616, 'bf85e414': 3569, '1b16': 292, '4cd1': 1230, '8ce8': 1985, 'dad15daa7daa': 4833, 'c6f5bcd6': 3849, '66fc': 1588, '44af': 942, 'be95': 3477, 'bb1f2b38d080': 3423, '7b5b436b': 1768, 'a511': 2350, '402a': 781, '88d6': 1927, 'dbac700cee36': 4879, 'a5adcd35': 2354, 'c36a': 3819, '4b18': 1172, '953d': 2106, '47c029de4ef6': 1067, 'greek': 6637, 'w15': 12190, 'f0dd334c': 5888, '878c': 1908, '442c': 923, 'bda3': 3461, '0dbd122e87f1': 108, 'ae844b11': 2664, '5158': 1368, '4caf': 1224, '90b4': 2040, '7ace49ac3440': 1765, 'e63ef4f4': 5418, 'b7b9': 3295, '4f13': 1296, '8db5': 1996, 'd7f5cf89839f': 4818, '5ad2ed93': 1476, '1ba0': 295, '4b2c': 1175, 'a421': 2341, '22c5bcfb5b79': 419, 'w99': 12198, 'c3ebf729': 3823, '2608': 501, '4787': 1060, '9e5a': 2241, '248f329aface': 467, 'd3bbaa1b': 4793, 'd5e3': 4802, '431f': 877, '93a7': 2085, '9cea63601bb6': 2223, '78cb924f': 1757, '227d': 414, '4ab9': 1159, '83d5': 1853, 'f2b2e6656da5': 5899, 'ca045297': 3878, '34e1': 657, '462e': 1008, 'acc8': 2502, '75ef196ada02': 1729, 'coquette': 4596, 'b8c1ddea': 3305, '29ea': 558, '42ec': 864, '8a48': 1944, '32a89e792d3b': 634, '4e5374b3': 1271, 'a214': 2315, '41e5': 834, '81f0': 1829, 'a34c9292da7e': 2328, 'c20581c8': 3807, '0023': 5, '4888': 1098, 'aeaa': 2666, '9d32636dc17f': 2229, 'e514ed32': 5408, '1687': 222, '47d8': 1069, '8b39': 1956, '423fb7664d33': 847, 'rosewood': 10383, 'bd86870e': 3458, '0679': 68, '4116': 812, 'aa13': 2405, '96aa1d6c5944': 2130, '4d9bc879': 1250, 'ab51': 2422, '45da': 992, 'bf37': 3565, 'c9710cd1cc32': 3868, 'a5564fdb': 2351, '3616': 680, '4f27': 1299, 'a4e4': 2349, 'd932b6ae5b4a': 4824, 'f128ef28': 5889, 'daf3': 4834, '477b': 1058, '8027': 1802, '0fd8bdad2b91': 119, 'segoe_printregular': 10622, 'source': 10970, 'segoe_print': 10621, 'webfont': 12258, 'opensans': 8984, 'embedded': 5588, 'opentype': 8987, 'open_sansregular': 8978, 'edefe737': 5488, 'dc78': 4883, '4aa3': 1154, 'ad03': 2575, '3c6f908330ed': 750, '0078f486': 10, '8e52': 1999, '42c0': 859, 'ad81': 2585, '3c8d3d43f48e': 751, 'woff2': 12386, '908c4810': 2037, '64db': 1564, '4b46': 1179, 'bb8e': 3430, '823eb41f68c0': 1835, '4577388c': 973, '510f': 1364, '4366': 889, 'addb': 2595, '8b663bcc762a': 1957, 'b0268c31': 3176, 'e450': 5399, '4159': 820, 'bfea': 3579, 'e0d20e2b5c0c': 5380, 'w01_85': 12185, 'heavy1475544': 6838, '6af9989e': 1645, '235b': 437, '4c75': 1214, '8c08': 1967, 'a83bdaef3f66': 2384, 'd513e15e': 4799, '8f35': 2006, '4129': 815, 'ad05': 2576, '481815e52625': 1080, '61bd362e': 1538, '7162': 1693, '46bd': 1024, 'b67e': 3279, '28f366c4afbe': 542, 'ccd17c6b': 4018, 'e7ed': 5427, '4b73': 1188, 'b0d2': 3189, '76712a4ef46b': 1735, '20577853': 372, '40a7': 798, '4ada': 1162, 'a3fb': 2335, 'dd6e9392f401': 4891, 'baskervillemtw01': 3419, 'smbdit': 10882, '0224f3fd': 30, '52d3': 1391, '499a': 1128, 'ae2f': 2661, '637a041f87f0': 1553, 'c887df8e': 3858, 'b6c3': 3286, '4c97': 1220, '85b8': 1883, '91cfdde77b07': 2058, '5c4d5432': 1487, '75c4': 1728, '4f6b': 1306, 'a6e7': 2373, '8af4d54a33d1': 1952, '2ee46b89': 587, 'b7cb': 3297, '4bbe': 1193, '9d60': 2231, 'b7ca4354b706': 3296, '9714d635': 2137, '13b3': 183, '48b2': 1101, '9315': 2073, '5d0f72a69ab9': 1493, 'belinda': 3529, '63d38753': 1556, 'a8d9': 2389, '4262': 851, 'b844': 3301, '3a007ad848b4': 736, '242487aa': 453, '209a': 375, '4dbd': 1255, 'aca2': 2499, '64a3c73a8946': 1563, '4381b252': 893, 'd9f8': 4826, '4201': 842, 'bbf3': 3435, '9440e21259e7': 2095, '46c2c4f2': 1026, 'cd15': 4019, '4b7b': 1189, 'a4b4': 2347, 'aa04dbbd1655': 2403, '334f8999': 644, '3703': 693, '47f3': 1072, 'b147': 3196, '96b6dc3bf4b2': 2131, 'brandon': 3706, 'grot': 6654, 'e00ba30a': 5375, '0bf3': 102, '4c76': 1215, '9392': 2082, '8641fa237a92': 1889, '69b40392': 1637, '453a': 963, '438a': 896, 'a121': 2298, 'a49e5fbc9213': 2344, '9362bca5': 2077, 'b362': 3237, '4543': 966, 'a051': 2287, '2129e2def911': 388, '85060878': 1869, 'ca6c': 3879, '43cc': 908, 'ac31': 2495, '7edccfdca71b': 1786, '47f089a6': 1071, 'c8ce': 3862, '46fa': 1036, 'b98f': 3313, '03b8c0619d8a': 41, 'bree': 3721, 'oblique': 8889, '4e33bf74': 1264, '813a': 1817, '4818': 1079, '8313': 1841, '6ea9039db056': 1664, 'ceb3b4a3': 4028, '0083': 12, '44ae': 941, '95cb': 2113, 'e362f95cc91b': 5394, '4d716cea': 1244, '5ba0': 1484, '437a': 892, 'b5a8': 3270, '89ad159ea2be': 1937, 'c458fc09': 3825, 'c8dd': 3863, '4423': 922, '9767': 2148, 'e3e27082f155': 5397, '85ffb31e': 1885, '78ee': 1758, '4e21': 1262, '83d8': 1854, '4313269135a9': 875, 'adobe': 2629, 'caslon': 3974, 'smbd': 10881, 'd2804130': 4785, '67b0': 1603, '4fcf': 1322, '98fe': 2179, 'd781df92a56e': 4811, 'becfadb1': 3492, 'eaca': 5444, '4817': 1078, 'afbd': 2678, 'fe4d61e1f661': 6064, '6530bac7': 1572, '21ac': 396, '4e52': 1270, 'a014': 2284, 'dce6a8d937ab': 4887, 'b34e8a45': 3235, 'c92d': 3866, '4402': 917, '89bc': 1940, '43cc51c6b4e0': 909, '0804bb4a': 79, '399c': 732, '4547': 969, '9fa8': 2260, '0acf6268d8f6': 99, 'didot': 5128, '9c2cfd19': 2219, '472b': 1046, '4ef5': 1292, 'ad73': 2582, '43eee68dc43b': 911, 'abe3d3a9': 2436, 'c990': 3870, '459f': 985, '9407': 2091, '54ac96cd2f00': 1407, '09a4b57b': 89, '7400': 1715, '4d30': 1237, 'b4ba': 3255, 'd6e303c57868': 4805, 'a0cb08d5': 2293, '975f': 2146, '4c8d': 1217, 'bcdc': 3452, 'd771a014d92a': 4809, '86d60a09': 1897, 'e8f8': 5434, '4003': 777, 'b688': 3282, '0f8a2aba6532': 117, 'futura': 6399, '2b40e918': 566, 'd269': 4784, '4fd9': 1326, 'a572': 2352, '19f5fec7cd7f': 284, '26091050': 502, '06ef': 71, '4fd5': 1324, 'b199': 3201, '21b27c0ed85e': 398, 'cca525a8': 4015, 'ad89': 2586, '43ae': 902, 'aced': 2536, 'bcb49fb271dc': 3449, '88cc7a39': 1926, '1834': 245, '4468': 928, '936a': 2079, 'f3c25b5d81a1': 5903, '14d6bf5d': 197, '15f1': 214, '4794': 1062, 'b18e': 3200, 'c03fb9a5187e': 3795, 'cf053eae': 4062, 'ba1f': 3318, '44f3': 950, '940c': 2092, 'a34b68ccbbdf': 2327, '8bf38806': 1965, '3423': 650, '4080': 795, 'b38f': 3241, 'd08542f7e4ac': 4777, 'e2b9cbeb': 5393, 'fa8e': 5947, '41cd': 831, '8a6a': 1946, '46044b29ba52': 1000, 'c2a69697': 3813, '4f06': 1294, '4764': 1055, 'abd4': 2433, '625031a84e31': 1544, 'dc423cc1': 4882, 'bf86': 3570, '415c': 821, 'bc7d': 3443, 'ad7dde416a34': 2584, 'kepler': 7734, 'w03': 12187, 'scd': 10539, 'cp': 4666, 'fc00d5ae': 6030, '6d96': 1656, '4b5c': 1185, 'b68b': 3283, '4f5bdb562c98': 1305, 'b2b1472c': 3221, '55f2': 1427, '478a': 1061, 'a9c9': 2399, '9373214a27e5': 2080, '20f7861b': 380, '3ff7': 768, 'b0f5': 3191, '1e0626824a63': 309, '5c51e7a0': 1488, '6ecc': 1665, '46eb': 1032, 'a9ee': 2402, '376f8c4073af': 704, '37bea6d0': 707, '2f14': 588, '4e48': 1266, 'a76f': 2374, 'fd85171dcf26': 6052, 'lulo': 8128, '0163ac22': 22, '50a7': 1359, '406e': 792, 'aa64': 2408, 'c62ee6fbf3d7': 3845, 'aee74cb3': 2671, 'c913': 3865, '4b54': 1183, '9722': 2139, '6001c92325f2': 1524, '80de9d5d': 1813, 'ab5f': 2423, '40ce': 803, '911b': 2050, '104e51e93d7c': 138, '1b46b05b': 294, 'cfdd': 4074, '4d82': 1246, '8c2f': 1976, '5c6cfba1fe60': 1489, 'be340f0b': 3466, 'a2d4': 2322, '41df': 833, 'acb1': 2501, '4dc124330a88': 1256, '7e90123f': 1784, 'e4a7': 5402, '4689': 1019, 'b41f': 3248, '6bcfe331c00a': 1651, '64017d81': 1560, '9430': 2093, '4cba': 1227, '8219': 1833, '8f5cc28b923e': 2008, 'e56ecb6d': 5410, 'da41': 4829, '4bd9': 1198, '982d': 2168, '2d295bec9ab0': 579, '2aff4f81': 561, '3e97': 762, '4a83': 1151, '9e6c': 2242, '45e33c024796': 994, 'ab9cd062': 2427, '380f': 709, '4b53': 1182, 'b1a7': 3204, 'c0bec7402235': 3800, 'trend': 11725, '392aa98f': 728, 'a1bf': 2312, '4dc4': 1257, '9def': 2239, 'a5d27c73a0de': 2356, '29c66f1e': 557, '5243': 1383, '4f34': 1301, '8a19': 1943, '47405f72954c': 1050, 'c81cca03': 3856, '5f1a': 1505, '4252': 849, '9950': 2191, '096e60e2bde9': 86, '569b48ce': 1437, 'f71b': 5929, '4e2d': 1263, 'a80a': 2381, '1920efbd7187': 258, 'f284409f': 5898, '3669': 686, '43df': 910, 'bfe1': 3578, 'f9f9ee1bbc07': 5944, 'b41558bd': 3247, '2862': 535, '46c0': 1025, 'abf7': 2439, '536d2542fa26': 1397, '5cee8d6e': 1492, '89ad': 1936, '4d8c': 1248, 'a0ac': 2291, '584d316b15ae': 1450, '388ef902': 721, '2c31': 572, 'abb1': 2429, 'a40dcd81f6d6': 2337, '29c60077': 556, '2614': 505, '4061': 790, 'aa8d': 2410, '5bcfdf7354bb': 1485, '76250d27': 1732, 'b353': 3236, '4f3b': 1302, '90c6': 2042, '0ff635fabaab': 120, 'peaches': 9270, 'cream': 4672, '2250f930': 410, '9a6d': 2210, '4486': 936, 'a0eb': 2295, '6b407c5d6c9b': 1648, '3c5beda8': 749, '45cc': 989, '4f76': 1307, 'abca': 2432, '8eccfeb6220c': 2004, 'b36b499f': 3238, 'd776': 4810, '461c': 1005, 'bacb': 3333, 'fcbebe1cb9b4': 6047, '896d3828': 1932, '26ce': 524, '462a': 1007, '9f70': 2256, '62e0b5c90a70': 1547, '0dccbec2': 109, 'a882': 2385, '4dd9': 1259, '8da0': 1993, '3a035c808ce0': 738, 'ext': 5871, 'e4bd4516': 5404, '4480': 935, 'aa6e': 2409, '4e9b9029f53e': 1282, 'b56b944e': 3266, 'bbe0': 3433, '4450': 927, 'a241': 2319, 'de2125d3e682': 4901, '7da02f05': 1781, 'ae8b': 2665, '43a1': 901, 'aeb9': 2668, '83b3c0527c06': 1851, '66cac56e': 1587, 'd017': 4772, '4544': 967, '9d0c': 2227, 'f7d978f0c5c2': 5934, '8c0d8b0f': 1970, 'd7d6': 4815, '4a72': 1148, 'a418': 2340, 'c2373e4cbf27': 3809, '192dac76': 261, 'a6d9': 2371, '413d': 817, 'bb74': 3429, '22308f2e0cc5': 407, '47584448': 1053, '98c4': 2178, '436c': 890, '89b9': 1938, '8d6fbeb2a776': 1991, '375c70e5': 702, '6822': 1609, '492b': 1118, '8408': 1857, '7cd350440af7': 1775, '693834': 1633, 'be976e1d': 3478, '6edc': 1666, '4a1b': 1140, 'b50e': 3262, 'a6d326b5a02f': 2370, '01681361': 24, '4a95': 1152, '4651': 1013, 'a6c8': 2369, '4005d0fc4a79': 778, 'fdc26895': 6059, '148e': 195, '4fa8': 1316, '898d': 1933, '5eb459dabecf': 1501, 'd59136e2': 4801, 'c38a': 3820, '4ad4': 1161, '8dec': 1997, '2d258c12fd80': 577, '48e5a0e1': 1107, '2d56': 580, '46e5': 1030, '8fc4': 2015, '3d6d5c973cbf': 755, '07d62b21': 76, '8d7a': 1992, '4c36': 1204, 'be86': 3475, 'd32ab1089972': 4790, 'c0050890': 3792, 'bbed': 3434, '44b9': 945, '94df': 2101, '2611d72dbb06': 504, '9f774d17': 2257, 'c03a': 3794, '418e': 826, 'a375': 2331, '34f3beecbc7a': 658, 'americantypwrteritcw02': 2833, '737091': 1712, '04bcef92': 54, '4ec9': 1287, '4491': 938, '9f06': 2254, '433987df0eea': 882, '4e5713c6': 1273, 'f9bf': 5942, '44d7': 947, 'bc17': 3438, '775b7c102f1c': 1745, '80e40eb9': 1814, '815f': 1820, '9e99': 2247, '297117a6ef52': 550, '25bb0c90': 495, 'be7f': 3473, '4dfc': 1260, 'bfff': 3581, '5cd159d09832': 1491, 'ff80873b': 6120, '6ac3': 1641, '44f7': 951, 'b029': 3177, '1b4111beac76': 293, '80c34ad2': 1810, '27c2': 529, '4d99': 1249, '90fa': 2045, '985fd64ab81a': 2171, 'b8cb02c2': 3306, '5b58': 1482, '48d8': 1105, '9501': 2105, '8d02869154c2': 1987, '92c941ea': 2070, '2b06': 563, '4b72': 1187, '9165': 2051, '17476d424d6c': 229, '61d1e245': 1541, '4016': 779, '4f23': 1298, 'ad7a': 2583, '409a44cabe90': 797, '68eb3cfd': 1624, 'be6c': 3471, '4f9e': 1311, '8ca4': 1981, 'e13ce8d29329': 5384, '6db04d94': 1658, 'de0b': 4900, '4bf0': 1200, 'bf94': 3571, '113fd27e7440': 153, '84e110e9': 1864, 'fd29': 6050, '4036': 784, 'b9ad': 3315, '27968a6ba793': 528, '131201ff': 176, '3951': 731, 'b4d9': 3260, '2bc668927583': 570, '582278da': 1449, '0505': 56, '4fbe': 1320, '9102': 2048, '2b529c7c973a': 568, 'b82fbde2': 3300, '1655': 220, '4728': 1045, '96a9': 2129, '90ef022c4590': 2044, 'd325b64f': 4789, '214b': 393, '4fc0': 1321, '80d6': 1812, '4c61621cd542': 1210, '872d17cf': 1902, '70ac': 1687, '4722': 1043, 'b8ef': 3309, '0f1578125042': 114, '764779cf': 1734, '076d': 75, '427a': 854, '87b4': 1910, '136ccc83fba0': 178, 'f32cc734': 5901, '5673': 1435, '41a1': 828, 'bd6e': 3457, '1900c78691f5': 254, 'f627e21b': 5922, 'c1a5': 3804, '4e7a': 1276, 'b072': 3181, '37391ee8dcef': 698, '6a8b1499': 1638, 'f534': 5917, '46fe': 1037, 'a0af': 2292, '835bc83226cd': 1846, '301e2ea2': 604, '8153': 1818, '453c': 964, '9051': 2030, '0a729098e682': 96, 'cbe882c0': 4010, '2ac0': 560, '4a28': 1141, '8fe7': 2016, '14e527942047': 198, 'ec680f09': 5476, '6b07': 1646, '442d': 924, 'ab11': 2417, 'cea208cc138d': 4026, '440875eb': 918, 'e437': 5398, '41fc': 838, '8aae': 1950, 'b5658bbea3b7': 3265, 'bcc470b9': 3451, '5a9b': 1473, '45e9': 996, 'bf60': 3568, '6daca06bc70e': 1657, 'f9018056': 5940, 'f579': 5919, '4c4c': 1206, '95ea': 2114, '9bd02b859724': 2216, 'f6d0e775': 5925, 'b2fc': 3227, '4bc8': 1194, '8967': 1931, 'cd78486d451c': 4021, '02fb45ce': 33, 'd7cc': 4814, '491c': 1116, 'a176': 2309, 'e2a883a632b2': 5391, 'eb1185bb': 5468, '8f9d': 2012, '4855': 1091, '83fa': 1855, 'd06f0efef677': 4776, '5386718d': 1398, 'bec6': 3488, '41c5': 830, 'b998': 3314, '12dd1c859c53': 169, '01aba52b': 26, 'd32b': 4791, 'a681': 2367, 'd7b4dfa43041': 4813, '5606db21': 1430, 'eb18': 5469, '48fa': 1109, '979b': 2154, '63bdf28555c0': 1555, '3e5b24ea': 760, '4345': 884, '4830': 1082, '8c7d': 1978, '0e7ef26b4e63': 110, '7b175f51': 1766, 'ff6c': 6119, '47d2': 1068, '908c': 2036, 'ee8538c2880d': 5510, 'bd1a6a52': 3453, 'e0c2': 5379, 'b5a4': 3269, '2d25ec2b5706': 578, 'bb223dcd': 3425, '0a16': 92, '4e5a': 1274, 'b38b': 3240, '4f2a29f2bcbb': 1300, '94e45703': 2102, 'fbd7': 6026, '9fcd': 2262, '228ae59d6266': 416, 'ef282b80': 5512, '58de': 1453, '4b03': 1170, 'a90f': 2391, 'c5703d54e3b7': 3838, 'cb11dfc6': 4003, 'f3c4': 5904, '4a58': 1145, '83ac': 1849, 'df735ba9c428': 5105, 'w08': 12188, 'f432fcbc': 5912, 'ae52': 2663, '4db1': 1252, 'a4b3': 2346, 'c7145e69b3b6': 3851, '62a23651': 1545, '230c': 426, '4724': 1044, 'b2c0': 3223, '087544ed1a27': 83, 'e46f32da': 5400, 'eb61': 5470, '45e5': 995, 'a1b8': 2311, '49f3a5f782f8': 1135, '9e73fac6': 2243, 'b45b': 3251, '4ac5': 1160, 'a601': 2359, '9a0d70cd45b2': 2206, 'c06088a2': 3796, '994d': 2190, '44b4': 943, '9b38': 2215, '55d2ae9e13a9': 1425, '41280d6d': 814, '9240': 2065, '9e98': 2246, '3ea1a1913501': 763, 'bc33f504': 3441, '28ac': 538, '46ae': 1023, 'b258': 3213, 'd4fd1f599c47': 4797, '0faa6338': 118, 'fe10': 6063, '42e6': 863, '9346': 2075, '2c6626ddcd73': 574, 'cyrillic': 4767, '3d009cd7': 753, 'c8fe': 3864, '40c0': 802, '74f4ea8c530b': 1717, 'a9e95a29': 2400, '98a7': 2176, '404a': 789, '90ee': 2043, '1929ad09c696': 259, '0a7663fd': 97, 'eae8': 5447, '4e50': 1269, 'a67a': 2366, '225271f8cceb': 411, '58ae9be9': 1452, '5d95': 1497, '44b6': 944, '8b6c': 1958, 'e6da6a46822c': 5421, '9fe262dc': 2266, '5a55': 1471, '4d75': 1245, '91a4': 2054, 'aed76bd32190': 2669, '0a3939d0': 94, '3833': 716, '4db3': 1253, '8b85': 1959, 'f64c2b3350d2': 5923, '1b128d6d': 290, '126f': 165, '8f87': 2011, '3e7d30a1671c': 761, 'b791c850': 3290, 'fde1': 6060, '48b3': 1102, 'adf0': 2616, '8998d55b0866': 1934, '686a6a06': 1616, 'e711': 5423, '4bd2': 1197, 'b393': 3242, '8504a497bb3c': 1868, '6f8d1983': 1671, '4d34': 1238, '4fa4': 1315, '9110': 2049, '988f6c495757': 2174, '7903ee3f': 1759, 'e9ab': 5438, '4bdc': 1199, 'b7d2': 3298, 'd232de2da580': 4783, '9c58e9ea': 2221, 'fdea': 6062, '4b9c': 1190, 'b0f9': 3192, '0a2157389ed0': 93, '3f2ac2b4': 765, '0662': 67, '446d': 929, '8b8a': 1961, '51738492ea04': 1371, 'e04da7b7': 5377, 'ccbf': 4016, '4cbf': 1228, 'b19a': 3202, '947551d17de6': 2096, 'cb3483cd': 4004, '190a': 255, '4634': 1011, 'b345': 3234, 'd88f22f1e6f5': 4822, 'fea2ad42': 6067, '3ce1': 752, '43c4': 907, 'b571': 3267, '39159cc109a6': 727, 'd039cfc8': 4773, '41eb': 836, '46d5': 1029, 'ad1a': 2577, 'faf4f0d26222': 5968, '571d67cb': 1442, 'de3d': 4902, '41af': 829, '8c0a': 1968, '06a53d490466': 70, '70f941f5': 1690, 'd702': 4807, '4e7b': 1277, '8b15': 1954, 'ee65e6b855b9': 5509, 'e0ffd68e': 5383, '55a8': 1423, '4537': 962, 'b2d1': 3224, 'c51865ac15ee': 3836, '6ea78fbd': 1663, '72da': 1703, '406c': 791, 'bd23': 3454, '556297e62ebb': 1420, '73381861': 1707, 'eb6a': 5471, '4f7c': 1308, '8c14': 1971, 'cd34a714f943': 4020, '93adf2cf': 2086, 'f54c': 5918, '4a73': 1149, '8ec7': 2003, '43fe0b2c91a1': 914, 'a89d4dba': 2386, 'ce62': 4024, '4aaa': 1156, '8187': 1822, 'bea28a2b3a90': 3479, 'efcef8d3': 5517, '4e54': 1272, '4965': 1125, 'a5f0': 2357, '67f288d40c0a': 1605, '2593bfe2': 492, '2f34': 590, '4218': 844, 'a1e2': 2313, 'fde3bdc686e1': 6061, 'e84e67b7': 5430, 'd822': 4819, '43f4': 913, '80a9': 1809, '315fddffd712': 620, '7bbc8148': 1769, 'b9e2': 3316, '49ad': 1129, 'bd2a': 3455, 'b6a8ba78efa6': 3284, '2f6579cb': 592, '5ade': 1477, '4b70': 1186, 'a96a': 2395, '8fe9485fe73f': 2017, '1c7b5ef1': 301, '5b09': 1479, '4473': 932, '8003': 1798, 'a974846653a7': 2396, '805172a0': 1805, 'd718': 4808, '48ac': 1100, '9053': 2031, '873641b3e236': 1903, '1979f98e': 268, 'b074': 3182, '4385': 894, '81b0': 1825, '772f28a00668': 1743, 'e9678295': 5437, 'b67a': 3278, '4b01': 1169, 'bfb4': 3572, 'a357fa5dd939': 2330, '2c0bffef': 571, 'a666': 2365, '4646': 1012, 'a4bc': 2348, '7faf1fa689f5': 1788, '4696d714': 1020, 'e3c0': 5396, '4351': 887, '9df8': 2240, '2e4449d30c3d': 582, '936712ee': 2078, '6903': 1628, '4ab8': 1158, 'b6ad': 3285, '99e7ca1721d0': 2199, '50c03b26': 1360, 'fd3d': 6051, '4fa1': 1314, '96d0': 2133, 'd88b72129c4f': 4821, '9ee00678': 2250, 'b6d7': 3287, '4b4f': 1181, '8448': 1859, '70cfa267d36b': 1689, '6861fb60': 1615, 'a657': 2364, '44e2': 948, '92fa': 2071, '86bd26cd2657': 1895, 'bf5f466c': 3567, '6f51': 1668, '449d': 939, '91b3': 2055, '32f1f0c2b796': 637, '26819459': 519, '0b68': 100, '486b': 1094, 'ae05': 2660, '2ecdbd222feb': 584, '7cfb7eb0': 1776, '2332': 431, '4048': 788, 'a7f4': 2380, '2c3fa389c3a3': 573, '2edafc36': 585, 'cb97': 4007, '4b1a': 1173, '8803': 1916, 'a7b2e6125929': 2377, '00760470': 9, '0987': 87, '4c68': 1213, '844d': 1861, '564282fc8ff9': 1432, 'korean': 7794, 'fbbluegothicl': 6024, '902109a4': 2028, 'ea36': 5440, '40b3': 800, 'a234': 2318, '05747684a610': 59, '1a10c1c0': 286, '157a': 208, '4f57': 1304, '96c1': 2132, '1af2fc242e06': 289, '31b02a27': 623, '3c41': 748, 'bfbf': 3573, '84702627c9fd': 1862, 'e4aaa0ee': 5403, 'fcdd': 6048, '4558': 971, '9d8e': 2232, 'be75c6b8c417': 3472, 'fbchamblue': 6025, '3df084ed': 757, '47e4': 1070, '4347': 885, '91c7': 2056, '44d290c2c093': 946, '75c0e570': 1727, 'e4e0': 5405, '4e86': 1281, 'a031': 2286, '1ade01e5b3f5': 288, 'b9eacc4f': 3317, 'ef9b': 5513, '4ff5': 1329, 'bf09': 3563, 'ffca8edc43e2': 6123, '12333ad5': 162, '3ac0': 741, '4a7d': 1150, 'b109': 3195, '6d8c8101515a': 1655, 'fbgreen': 6027, '89bbab6a': 1939, '1291': 168, '4439': 926, '9384': 2081, 'bc7e36aae8e0': 3444, '399c1f00': 733, 'ff31': 6117, '4f87': 1309, '868c': 1892, 'bcbfcabcdd51': 3450, 'ad6cc8e5': 2581, '052c': 57, '4d6c': 1242, 'ab7b': 2424, '66b2f70edb5f': 1586, '0045c511': 8, 'e366': 5395, '4e81': 1279, 'bd42': 3456, '131808ac750f': 177, 'fbneogothic': 6028, '3323e5a2': 642, 'cefa': 4031, '4887': 1097, '9de9': 2238, '9fd287987664': 2263, 'c52a9d59': 3837, '984f': 2170, '45b4': 988, 'bfd7': 3576, '6f6af54eb89f': 1670, '58e6245d': 1454, '754a': 1719, '4a05': 1138, '9bd2': 2217, '25a655e31640': 493, '29c28905': 554, 'cc56': 4013, '4077': 793, '86f5': 1900, '917ad8e34c1c': 2053, 'fbplum': 6029, '837a8a7f': 1847, 'bb60': 3428, '42ed': 865, 'a5bc': 2355, 'c9368cc1ecba': 3867, '101fd386': 134, 'ed60': 5485, '4ed9': 1290, '8ac2': 1951, '80d0492347ac': 1811, '5539addf': 1415, 'e60b': 5415, '4fba': 1319, 'a356': 2329, 'cbab8abd16c6': 4008, '6329eea0': 1549, 'a953': 2393, '45d7': 991, '9074': 2034, '6f0594e27df7': 1667, 'nanumgothic': 8653, 'nanum': 8652, 'gothic': 6586, 'bm': 3641, 'hanna': 6747, 'arabic': 2979, 'ahmedltw20': 2729, 'outlineregul': 9081, '3b019dda': 742, '5201': 1381, '4a96': 1153, 'ab40': 2421, '449f0785e578': 940, 'bc9495bd': 3445, '5edc': 1502, '4c5b': 1209, 'be28': 3465, 'dfb45e27e688': 5106, 'bcaca41c': 3447, '2840': 534, '4aef': 1164, '9fb4': 2261, 'f0c66589e9cd': 5887, 'b5000ada': 3261, '6fa4': 1672, '4aae': 1157, '8c7e': 1979, '6e6abda2be56': 1662, 'arian': 3005, 'w20': 12193, '3e151393': 759, 'e605': 5414, '418c': 825, '8050': 1803, 'fb734e7b64b3': 6021, 'c977bad6': 3869, '94c3': 2100, '457c': 974, '9771': 2150, 'd8e0017a33c2': 4823, 'a7bdf7c7': 2379, 'b425': 3249, '4dae': 1251, 'b583': 3268, '9f86ec510f9f': 2258, 'da80aad9': 4831, 'b3bc': 3244, '417c': 824, '963f': 2118, 'b9033a872ec1': 3311, '64ef878b': 1566, 'c690': 3847, '447b': 934, 'a020': 2285, 'f4491b2de821': 5913, 'c257a373': 3810, '9919': 2183, '458c': 980, 'b7b2': 3294, '83850775058d': 1848, 'afa67eb7': 2676, '2358': 436, '4d1d': 1235, 'bdcd': 3462, 'da0436f5cfb2': 4828, '57ba934e': 1446, 'c7af': 3853, '4166': 822, 'a22c': 2317, '48eaf65f26bb': 1108, 'janna': 7586, 'a9c47d30': 2398, '0eca': 112, '8082': 1806, 'ac141c4c97b3': 2494, '26c24286': 523, '5aab': 1475, '4747': 1052, '81b9': 1826, '54330e77fb14': 1404, '9c4c7fff': 2220, '85b6': 1882, '442f': 925, '9726': 2140, 'af5f49d49e53': 2673, 'a24f53ee': 2320, 'e15e': 5385, '89a3': 1935, 'b6f17fbfcd72': 3288, 'kufi': 7800, '774ebfa2': 1744, '6ac0': 1640, '48cf': 1104, '8c15': 1972, '1394d7bab265': 182, 'e0e311dc': 5382, '5674': 1436, '493c': 1122, '8c19': 1973, 'f0a0a1422837': 5885, '96829dee': 2127, '2b11': 564, '4389': 895, 'a3b6': 2333, '35eabd423234': 675, 'e7b93a7e': 5425, 'e623': 5416, '4628': 1006, '809c': 1807, '4ae5df08148b': 1163, 'helveticaneueltw20': 6864, 'ligh': 7998, 'ab7f002d': 2426, '5f09': 1504, '4a65': 1146, 'b7ad': 3293, '9f01ec5bfaf0': 2253, 'b8ee7e47': 3308, '48e4': 1106, '4b5b': 1184, '8a74': 1947, 'cf02708fb54a': 4061, '074fa346': 74, 'a8c5': 2388, '4331': 880, '9d93': 2233, '7a06123af067': 1762, 'e953f49c': 5436, '15a9': 211, '4394': 898, '97dd': 2156, 'a3f230e12e0b': 2334, 'midan': 8407, '4d56c718': 1240, '5282': 1389, '4923': 1117, '867f': 1891, '763af2fa8575': 1733, 'be87d34b': 3476, '77db': 1748, '4286': 855, '87d9': 1911, 'd2964115c6c5': 4786, '539016b8': 1399, '1f78': 312, '4507': 959, 'b542': 3264, 'c9e55b269ac6': 3872, '3b8c2857': 746, '0ab3': 98, '4ea6': 1283, '90bc': 2041, '9928bf53340c': 2184, 'tanseekmodernw20': 11409, '73d94c9b': 1714, '15bd': 212, '4af9': 1167, 'bda1': 3460, 'c5ee4ed1c409': 3842, '688d77ff': 1620, '8c0d': 1969, '4baf': 1192, 'ac95': 2498, 'f45c034e1caf': 5914, '177fb002': 232, 'a619': 2361, '4d25': 1236, '8a79': 1948, 'af7d0e9a1ee6': 2674, '4fa09e39': 1313, 'beb9': 3487, '46ca': 1027, 'bfcc': 3575, 'f9518ab4a9bd': 5941, 'dinnextltw23': 5148, 'ultralight': 11836, 'b4a0535b': 3253, '3a89': 740, '43bd': 906, 'b3fb': 3246, 'b6619d0b0a09': 3277, '63b0b154': 1554, '64e6': 1565, '4846': 1087, 'be80': 3474, 'b601f3ce9b28': 3272, 'f3f08f13': 5905, 'd46f': 4795, '4589': 979, '90ac': 2039, '70c0a21cd061': 1688, '10870395': 145, '15e4': 213, '40b0': 799, '8f7e': 2010, '5ffab7195224': 1507, 'arabictypesettingw23': 2981, '28b4ce0b': 539, '3a59': 739, '909d63dd0351': 2038, '5a32e87e': 1470, '0f32': 115, '4971': 1126, 'a43f': 2342, '4ec453bc74ca': 1286, '50f516bf': 1361, '5611': 1431, '4134': 816, '9556': 2110, '2131aaea2b78': 390, '8db4ca73': 1995, '82e1': 1838, '4259': 850, 'afcd': 2680, 'c1f15b14f62b': 3806, 'coheadlinew23': 4282, 'arabicbol': 2980, '925638f2': 2066, '9ed0': 2249, '4f9a': 1310, 'a78d': 2375, '61d6eddd2b54': 1542, 'b15a6899': 3197, 'c706': 3850, '46a9': 1022, '8c2b': 1975, 'a80b62ba301b': 2382, '36ad9b9b': 688, '5fb9': 1506, '49e6': 1133, 'ad2d': 2578, '1daafccea16a': 308, '05e393a0': 63, '71df': 1697, '4e02': 1261, 'b8ba': 3304, '6f68f2b23b92': 1669, 'amiri': 2839, 'naskh': 8658, 'droidnaskh': 5331, 'hebrew': 6839, 'adler': 2622, 'w26': 12194, '8fa9b915': 2013, '180f': 241, 'aee7': 2670, '22fd066c52c6': 421, 'fcb3f76f': 6046, 'a112': 2297, '479e': 1063, 'ab7f': 2425, 'ab1c2be906c9': 2418, 'ceda4e97': 4029, 'a631': 2362, '4986': 1127, '8cab': 1983, '709e1775be33': 1686, '353c7faf': 666, '0d58': 106, '475b': 1054, '8caa': 1982, 'f1d863e0cf1d': 5892, 'frank': 6331, 'ruhl': 10408, '90882399': 2035, '52f1': 1393, '42a9': 857, '986b': 2172, 'c2c49d3fb409': 3816, '0e834425': 111, 'e268': 5389, '4b38': 1176, 'f24b8632d6ae': 5897, 'cb5aceab': 4006, '5dbf': 1498, '4c09': 1201, 'b650': 3276, '7c9d526cc117': 1774, '850e45c9': 1870, '49fa': 1136, '8e3f': 1998, 'c7dfd6579acc': 3855, 'haim': 6725, 'arukeem': 3032, '6de8df0c': 1659, '23af': 446, '9578': 2111, '42db4c756d2d': 861, 'f70c24b0': 5927, 'd6be': 4804, '4d04': 1233, '99cd': 2198, '46efc41d00b4': 1033, '2dd64ac4': 581, '7c3a': 1772, '47fb': 1073, 'acdb': 2535, '063b811c93d5': 66, 'a7ab1444': 2376, '5d94': 1496, '4474': 933, '86df47d8d5c1': 1898, 'miriam': 8461, 'acfa87dd': 2541, '5042': 1351, '40e1': 805, '87e9': 1912, '12e4a559269f': 170, '21aeb0a3': 397, '3309': 641, '4415': 920, '818b': 1823, '36f94e2a1a3a': 690, 'c5acaffd': 3841, '7553': 1720, '42ff': 870, 'a693': 2368, '8b9be795b4b3': 1962, 'dd50d8fb': 4890, '6769': 1597, '469f': 1021, '8bfa': 1966, '9caed8e6df18': 2222, 'nekudot': 8707, 'c0a57107': 3799, '844c': 1860, '4847': 1088, 'afc6': 2679, '00f3cb3c4d5f': 17, 'c28b65cd': 3811, '9544': 2108, '42f1': 867, '9ffc': 2268, 'd6ffa544e6fb': 4806, '9aa74607': 2212, 'c9af': 3871, '4c4b': 1205, '9a3f': 2208, 'fc76488dca25': 6045, '00381de4': 7, 'f82a': 5936, '4939': 1121, 'b8e1': 3307, '1bbde51ac4ce': 296, 'gulash': 6688, '7c672276': 1773, '1d07': 304, '4ff2': 1328, '8b1d': 1955, '3245af0dc5cc': 631, '64f53eeb': 1567, '1d5e': 306, 'aa3b': 2407, 'aa8e2c066320': 2411, '7e32a874': 1783, '81bc': 1827, '4d38': 1239, '87aa': 1909, 'ff626ce5a400': 6118, '857d7efc': 1879, '7a9c': 1764, '457d': 975, '8aa5': 1949, '44f0992e6441': 949, 'shabazi': 10711, 'dc7f3c57': 4884, 'fb2d': 6020, '4656': 1014, '9224': 2064, 'ef9f1c88477e': 5514, '09048cb1': 85, 'f6a6': 5924, '4b44': 1178, '9d96': 2234, '6d20013ef7e8': 1653, 'fec4486e': 6078, '254a': 482, '4cb4': 1225, 'b1a0': 3203, '859cf2190792': 1881, 'b25da79b': 3214, 'ff9a': 6121, '486e': 1095, 'bf4f': 3566, '2893c47da939': 537, 'chips': 4146, 'aa157336': 2406, 'ffa1': 6122, '476e': 1057, '9a72': 2211, 'e9f516e87ca3': 5439, 'e526922d': 5409, '4fe2': 1327, '4e4d': 1267, '834d': 1844, '6b62ebd244da': 1650, '03e7eb16': 44, '072f': 73, '4c53': 1207, 'b299': 3217, '08535bff2421': 81, 'b21a0ec6': 3211, '8efb': 2005, '40de': 804, '99f1': 2200, '20a11d482401': 376, 'alef': 2749, 'opensanshebrewcondensed': 8986, 'almoni': 2787, 'dl': 5230, 'aaa': 2412, 'asimon': 3041, 'atlas': 3077, '500': 1341, 'mixtape': 8489, 'museum': 8609, 'omes': 8958, 'meodedpashut': 8372, 'oeregular': 8919, 'meodedpashut_oeregular': 8373, 'added': 2598, 'configure': 4460, 'weights': 12279, 'hndh1klam5qu9t6': 6920, 'swgjgpeszw2xoq': 11354, 'xsnqo47m55da': 12481, 'e7mevayvogmqfwwl61pkhpeszw2xoq': 5428, 'idlyxffa1c7oapildl4z0feszw2xoq': 7061, 'bhnuf0uvsidyki5gmzk0cpeszw2xoq': 3583, 'kit': 7771, 'rd0ckanhvpp3znwtc2cj6feszw2xoq': 9982, 'skey': 10849, '5473b731ec7fc9c1': 1406, '3kad02ozfsdbt78htot2og': 769, 'fiku7gwzty_12xzg_jt8ea': 6149, 'xyjz': 12482, 'jnkfiyujf8uc3lizw': 7630, '5m21sdflkd52qavfmhs6ca': 1515, '1w8psahvvyy4urc6mp8jwq': 324, 'a0a0114a1dcab3ac': 2290, 'dzxs_vxzuhdm2mebkna8slqlyebsez9czjksnmjlowm': 5368, 'dzxs_vxzuhdm2mebkna8svk_varhqviz0nv9q090hn8': 5370, 'dzxs_vxzuhdm2mebkna8shsxeywm7fgeyasgu71clg0': 5366, 'dzxs_vxzuhdm2mebkna8si3usbnsvpkopqaur': 5367, '2r7iu': 597, 'dzxs_vxzuhdm2mebkna8sqwubotb': 5369, 'js2tycoqmtm97g': 7673, '8f53aa2e7deadc4a': 2007, '87imawi619lmx9bhlchot_eszw2xoq': 1913, 'vszulfksk0lljjfeaxcreveszw2xoq': 12168, 'dfwswefqld8exfyn7gh_gpeszw2xoq': 5108, 'okegwhkhbnn': 8945, 'dhuhi27hy_eszw2xoq': 5110, 'uifadmjqtos_jddggbxitveszw2xoq': 11828, 'c608c610063635f9': 3843, '97uahxiqzroncbacei3aw_y6323mhuzfjmgtvxag2ie': 2161, '97uahxiqzroncbacei3aw1txra8tvwticgirnjhmvjw': 2158, '97uahxiqzroncbacei3awz8e0i7kzn': 2162, 'epnyo3hzu7kw': 5693, '97uahxiqzroncbacei3aw6cwcynf_cdxxwclxiixg1c': 2160, '97uahxiqzroncbacei3aw5bd9num7myrqqz30ypagq4': 2159, 'c06e7213f788649e': 3797, '9_7s_twegdh5pq3u05rvkvy6323mhuzfjmgtvxag2ie': 2205, '9_7s_twegdh5pq3u05rvkltxra8tvwticgirnjhmvjw': 2202, '9_7s_twegdh5pq3u05rvkj8e0i7kzn': 2201, '9_7s_twegdh5pq3u05rvkqcwcynf_cdxxwclxiixg1c': 2204, '9_7s_twegdh5pq3u05rvkpbd9num7myrqqz30ypagq4': 2203, '934406f772f9777d': 2074, 't6nd4cfprhzp44q5qajcc': 11374, 'zie7ia0up7': 12547, 'vwgqa0igvy': 12177, 't6nd4cfprhzp44q5qajcc6g5ei2g47jwe0': 11377, 'auftd150': 3104, 't6nd4cfprhzp44q5qajcc9ih4imgi8p11rfo6ypcpc0': 11378, 't6nd4cfprhzp44q5qajcc102b4v3fuxqf9czj1quoia': 11375, 't6nd4cfprhzp44q5qajcc5s_zal0arjvp2tkn2': 11376, 'hjhm': 6917, 'dd030d266f3beccc': 4888, 'bmc0pgmxrhphrzjmniizpezie7ia0up7': 3644, 'bmc0pgmxrhphrzjmniizpag5ei2g47jwe0': 3642, 'bmc0pgmxrhphrzjmniizpdih4imgi8p11rfo6ypcpc0': 3643, 'bmc0pgmxrhphrzjmniizpv02b4v3fuxqf9czj1quoia': 3645, 'bmc0pgmxrhphrzjmniizpzs_zal0arjvp2tkn2': 3646, 'b80be3241fe40325': 3299, 'extralight': 5878, 'u_mynr_qyp37m7vgvmiyz6lsqkusdpixlwfj': 11806, 'zm2w_a': 12549, 'u_mynr_qyp37m7vgvmiyzxuojzskwg4xbwp_c_qqx0o': 11810, 'u_mynr_qyp37m7vgvmiyzxa1rvmpjeky21_gqjallji': 11809, 'u_mynr_qyp37m7vgvmiyz9qqynqkv_9plp7mupa0s4g': 11808, 'u_mynr_qyp37m7vgvmiyz91lkoz82bbu2f46dhhcs3c': 11807, '7c020d2757de915d': 1771, 'fd_udbezj8ehxbdsqlupl6lsqkusdpixlwfj': 6053, 'fd_udbezj8ehxbdsqluplxuojzskwg4xbwp_c_qqx0o': 6057, 'fd_udbezj8ehxbdsqluplxa1rvmpjeky21_gqjallji': 6056, 'fd_udbezj8ehxbdsqlupl9qqynqkv_9plp7mupa0s4g': 6055, 'fd_udbezj8ehxbdsqlupl91lkoz82bbu2f46dhhcs3c': 6054, 'ebac65da87d8d365': 5472, 'semibold': 10640, 'z9rx03xuz9znhtmg1_ghgalsqkusdpixlwfj': 12532, 'z9rx03xuz9znhtmg1_ghgruojzskwg4xbwp_c_qqx0o': 12536, 'z9rx03xuz9znhtmg1_ghgra1rvmpjeky21_gqjallji': 12535, 'z9rx03xuz9znhtmg1_ghgdqqynqkv_9plp7mupa0s4g': 12534, 'z9rx03xuz9znhtmg1_ghgd1lkoz82bbu2f46dhhcs3c': 12533, 'd84f72eaa49bc5a2': 4820, '4udxuxg54jlpep5iko5amalsqkusdpixlwfj': 1335, '4udxuxg54jlpep5iko5amruojzskwg4xbwp_c_qqx0o': 1339, '4udxuxg54jlpep5iko5amra1rvmpjeky21_gqjallji': 1338, '4udxuxg54jlpep5iko5amdqqynqkv_9plp7mupa0s4g': 1337, '4udxuxg54jlpep5iko5amd1lkoz82bbu2f46dhhcs3c': 1336, 'f1df08d30998b725': 5893, 'h3r77awdsldr1e_2g4qqgfqlyebsez9czjksnmjlowm': 6711, 'h3r77awdsldr1e_2g4qqgpk_varhqviz0nv9q090hn8': 6713, 'h3r77awdsldr1e_2g4qqgbsxeywm7fgeyasgu71clg0': 6709, 'h3r77awdsldr1e_2g4qqgc3usbnsvpkopqaur': 6710, 'h3r77awdsldr1e_2g4qqgkwubotb': 6712, '1bdc08fe61c3cc9e': 297, '2nblovek2hia2eeuv_3cbw': 594, 'rijg6i_ioxjjsh07ueo2mw': 10325, 'p0a1c4_gk5nzktugswnurq': 9119, 'ratt6mpbkxjrr3sy5fmedg': 9975, 'dvq6luzb0viwp07p6fissw': 5359, '87759fb096548f6d': 1907, 'glawpwcsgdvagnuogufkalsqkusdpixlwfj': 6529, 'glawpwcsgdvagnuogufkruojzskwg4xbwp_c_qqx0o': 6533, 'glawpwcsgdvagnuogufkra1rvmpjeky21_gqjallji': 6532, 'glawpwcsgdvagnuogufkdqqynqkv_9plp7mupa0s4g': 6531, 'glawpwcsgdvagnuogufkd1lkoz82bbu2f46dhhcs3c': 6530, 'e6f64e60fb8d9268': 5422, 'fm41upuvp7ktkuzhl0pfqfy6323mhuzfjmgtvxag2ie': 6219, 'fm41upuvp7ktkuzhl0pfqvtxra8tvwticgirnjhmvjw': 6221, 'fm41upuvp7ktkuzhl0pfqt8e0i7kzn': 6220, 'fm41upuvp7ktkuzhl0pfqacwcynf_cdxxwclxiixg1c': 6218, 'fm41upuvp7ktkuzhl0pfqzbd9num7myrqqz30ypagq4': 6222, 'f21d6e783fa43c88': 5895, '9vwmteb5jtxknotv949npvqlyebsez9czjksnmjlowm': 2274, '9vwmteb5jtxknotv949npfk_varhqviz0nv9q090hn8': 2271, '9vwmteb5jtxknotv949nprsxeywm7fgeyasgu71clg0': 2272, '9vwmteb5jtxknotv949nps3usbnsvpkopqaur': 2273, '9vwmteb5jtxknotv949npawubotb': 2270, 'ce7ef9d62ca89319': 4025, 'adjpmnd83pdergxlver': 2620, 'svqlyebsez9czjksnmjlowm': 11345, 'sfk_varhqviz0nv9q090hn8': 10709, 'srsxeywm7fgeyasgu71clg0': 11050, 'ss3usbnsvpkopqaur': 11051, 'sawubotb': 10521, 'cea76fe63715a67a': 4027, 'rbebacoccnn': 9980, '5ixkdivljalsqkusdpixlwfj': 1510, '5ixkdivljruojzskwg4xbwp_c_qqx0o': 1514, '5ixkdivljra1rvmpjeky21_gqjallji': 1513, '5ixkdivljdqqynqkv_9plp7mupa0s4g': 1512, '5ixkdivljd1lkoz82bbu2f46dhhcs3c': 1511, '7fbc556774b13ef0': 1789, 'c4fpk8_hifkox59qcgwdcqlsqkusdpixlwfj': 3832, 'c4fpk8_hifkox59qcgwdchuojzskwg4xbwp_c_qqx0o': 3831, 'c4fpk8_hifkox59qcgwdcha1rvmpjeky21_gqjallji': 3830, 'c4fpk8_hifkox59qcgwdctqqynqkv_9plp7mupa0s4g': 3834, 'c4fpk8_hifkox59qcgwdct1lkoz82bbu2f46dhhcs3c': 3833, '29c3bd833a54ba8c': 555, '51v0xj5vpw1clyhnhfd8npy6323mhuzfjmgtvxag2ie': 1379, '51v0xj5vpw1clyhnhfd8nftxra8tvwticgirnjhmvjw': 1376, '51v0xj5vpw1clyhnhfd8nd8e0i7kzn': 1375, '51v0xj5vpw1clyhnhfd8nkcwcynf_cdxxwclxiixg1c': 1378, '51v0xj5vpw1clyhnhfd8njbd9num7myrqqz30ypagq4': 1377, 'e8c74abecf94633e': 5432, 'swlctgmymr1gjdnjixepiq': 11359, '2woyxydnpu0v4iiqyu9d1g': 598, 'hjgnstwx9qxgsxqew62rq': 6916, 'qoexc9ijqujyxhlvznnlgg': 9878, 'lynhuf7': 8140, 'w_9_po3mkwoasw': 12200, '32d7acf8757dbad0': 636, '14axwkgjhkio': 196, 'yyup_ktzezie7ia0up7': 12525, 'yyup_ktzag5ei2g47jwe0': 12523, 'yyup_ktzdih4imgi8p11rfo6ypcpc0': 12524, 'yyup_ktzv02b4v3fuxqf9czj1quoia': 12526, 'yyup_ktzzs_zal0arjvp2tkn2': 12527, '9a40589dc4645af7': 2209, '8p49g4dnpmzgb5cgwnfgjveszw2xoq': 2020, 'cdbgxfko8gdkbd5u5tuxqpeszw2xoq': 4023, 'w1xpmgu0wrpbcawedg1fm_eszw2xoq': 12192, '_lipjp17fzmseklpaeodnveszw2xoq': 2279, 'mgr_1euqfxptc1k5cbfqwveszw2xoq': 8395, 'ae428d300932fbee': 2662, 'zqlneecqpsd9sxlmasd2e_y6323mhuzfjmgtvxag2ie': 12578, 'zqlneecqpsd9sxlmasd2e1txra8tvwticgirnjhmvjw': 12575, 'zqlneecqpsd9sxlmasd2ez8e0i7kzn': 12579, 'zqlneecqpsd9sxlmasd2e6cwcynf_cdxxwclxiixg1c': 12577, 'zqlneecqpsd9sxlmasd2e5bd9num7myrqqz30ypagq4': 12576, '4c8d0d0b13516148': 1218, 'ys165lxqgudghyumxeu6xfy6323mhuzfjmgtvxag2ie': 12517, 'ys165lxqgudghyumxeu6xvtxra8tvwticgirnjhmvjw': 12519, 'ys165lxqgudghyumxeu6xt8e0i7kzn': 12518, 'ys165lxqgudghyumxeu6xacwcynf_cdxxwclxiixg1c': 12516, 'ys165lxqgudghyumxeu6xzbd9num7myrqqz30ypagq4': 12520, 'f60e73b1bbf362f3': 5921, 'xjloki': 12473, 'f3wr7nrwxgs0pz': 5906, 'f3wr7nrwxgs0pz6g5ei2g47jwe0': 5909, 'f3wr7nrwxgs0pz9ih4imgi8p11rfo6ypcpc0': 5910, 'f3wr7nrwxgs0pz102b4v3fuxqf9czj1quoia': 5907, 'f3wr7nrwxgs0pz5s_zal0arjvp2tkn2': 5908, '989d87b0113009a2': 2175, 'hw7dqwyfve7wfofzpow4xuzie7ia0up7': 7025, 'hw7dqwyfve7wfofzpow4xqg5ei2g47jwe0': 7023, 'hw7dqwyfve7wfofzpow4xtih4imgi8p11rfo6ypcpc0': 7024, 'hw7dqwyfve7wfofzpow4xl02b4v3fuxqf9czj1quoia': 7021, 'hw7dqwyfve7wfofzpow4xps_zal0arjvp2tkn2': 7022, '25c93348b6ec64d8': 496, 'gwz_pin1aind9eyjp868e_y6323mhuzfjmgtvxag2ie': 6700, 'gwz_pin1aind9eyjp868e1txra8tvwticgirnjhmvjw': 6697, 'gwz_pin1aind9eyjp868ez8e0i7kzn': 6701, 'gwz_pin1aind9eyjp868e6cwcynf_cdxxwclxiixg1c': 6699, 'gwz_pin1aind9eyjp868e5bd9num7myrqqz30ypagq4': 6698, 'bb2021537ac38f74': 3424, 'abqvvqvnhekhkwtmdhdrba': 2471, 'rqrf4aqrkuh3ft98nhh2ma': 10397, 'pyqsdanugli2usdo': 9871, 'd4izq': 4798, 'awm5wxtmjerp': 3168, 'acrtgt4qq': 2549, 'fxol0nmpfyugf72xec': 6402, 'uaw': 11812, '653237e53512d0de': 1573, 'cgairkap9empe8_pwxbajpy6323mhuzfjmgtvxag2ie': 4080, 'cgairkap9empe8_pwxbajftxra8tvwticgirnjhmvjw': 4077, 'cgairkap9empe8_pwxbajd8e0i7kzn': 4076, 'cgairkap9empe8_pwxbajkcwcynf_cdxxwclxiixg1c': 4079, 'cgairkap9empe8_pwxbajjbd9num7myrqqz30ypagq4': 4078, '4b4aed5676a34753': 1180, 'qzxlkvqa6tuc5rksb3_y6323mhuzfjmgtvxag2ie': 9924, 'qzxlkvqa6tuc5rksb31txra8tvwticgirnjhmvjw': 9921, 'qzxlkvqa6tuc5rksb3z8e0i7kzn': 9925, 'qzxlkvqa6tuc5rksb36cwcynf_cdxxwclxiixg1c': 9923, 'qzxlkvqa6tuc5rksb35bd9num7myrqqz30ypagq4': 9922, '23b674776eaa386b': 447, 'iejm9hvxcattz37y8gzwvbbfiualwvfstsosxmaa9xk': 7069, 'iejm9hvxcattz37y8gzwvsnmxve3wgf96edbcalcbke': 7077, 'iejm9hvxcattz37y8gzwverggqquj_f3dxtxejk8zkm': 7073, 'iejm9hvxcattz37y8gzwvxyc8uqyvz_us7w6ea7mdze': 7082, 'iejm9hvxcattz37y8gzwvqitn0ump03uw4urt5ynj1a': 7076, '4f9ed6f80d6d2fa0': 1312, 'iejm9hvxcattz37y8gzwvazxwemcpfqms4xqhkbvwcw': 7066, 'iejm9hvxcattz37y8gzwvxp87xhfzkxvitf5ebjwljk': 7080, 'iejm9hvxcattz37y8gzwvebenh4r5m1mlxjyci0bc78': 7072, 'iejm9hvxcattz37y8gzwvxxoueby_dx2rsmmi51ge6g': 7081, 'iejm9hvxcattz37y8gzwvagjaoahgqhi62igmrzxlga': 7065, '4b255bdbddcd870c': 1174, 'zuqx3k1yuel3eavo': 12580, 'zpeao6ddmtmvj_b6gwp8dnsglc': 12564, 'zpeahjqqayvfgmnrfwqyqn': 12557, 'dis': 5162, 'zpeahnmd6bowmi0fiyv_ehe03s': 12558, 'zpeaoubhi3ylzgw9v5fst4kwps': 12566, 'zpeam2ywsqashtsccep__b8zg8': 12563, '5a7e0a432eb14fbf': 1472, 'zpeapsqekc2v_afcl0idpkekug': 12568, 'zpeajp2k1cgsixppkxulytjk5a': 12562, 'zpeahx141arjc0ugpdodjjeevk': 12560, 'zpeas_ggsklhsdnft5n268bumy': 12570, 'zpeahpsknrag': 12559, 'hynzxrksprgig': 7031, 'a646f7df62b0db07': 2363, 'iejm9hvxcattz37y8gzwvbvz384bzepylptpekmcryu': 7070, 'iejm9hvxcattz37y8gzwvvbiiifz1smkhjdurtupci4': 7078, 'iejm9hvxcattz37y8gzwvbadr2dd9womtsy4m3s93hu': 7068, 'iejm9hvxcattz37y8gzwvexpwxx9sjlsy6mmhsxouuc': 7074, 'iejm9hvxcattz37y8gzwvyo0qi8fzokth4sqk1tx': 7083, 'ke': 7724, 'e242efc8b3e67934': 5388, 'iejm9hvxcattz37y8gzwvdlojvq3p58mlwv6tqgfa7m': 7071, 'iejm9hvxcattz37y8gzwvvyupuln7yznhgimh66hsoi': 7079, 'iejm9hvxcattz37y8gzwvqibirsdtzvmhtwexvjeoce': 7075, 'iejm9hvxcattz37y8gzwvadtwbnc4gtxi9cqqfnpxfo': 7064, 'iejm9hvxcattz37y8gzwvb6hl2egtyro_zdfbqjt1mm': 7067, '3181ffd829cb74e8': 621, 'zpeasyoq9jxh7': 12572, 'yfovtee3llx0': 12497, 'zpeaonfvaeyxi1frb3lciklt24': 12565, 'zpeaggc7xrjygm306pfqsi3klu': 12555, 'zpeatfqxaw0uhkapqgkrkadcls': 12573, 'zpeaie': 12561, '6qxdi5m9waclpjay0': 1676, 'd056cd8e7bb95ad3': 4774, 'zpeagfsqqybkgff_cwatpqgixs': 12554, 'zpeaowxh9gdibkbmfnju2pczcs': 12567, 'zpeasgx3acpz6d8mjoi1mynzxq': 12571, 'zpear5mzroaqvz37xinnivx6c0': 12569, 'zpeah8ztj6klbz1ts_1': 12556, '_3vuri': 2276, 'f5baa31c9854d669': 5920, 'uc3zejagji85gf9qfabgipmrph9zsfqytabbz9sgz_q': 11822, 'uc3zejagji85gf9qfabgiiwmvkc5ixg8pd2cmemdjbi': 11817, 'uc3zejagji85gf9qfabgimitpqsvb0ehpnqvdm': 11820, 'qg4s': 9875, 'uc3zejagji85gf9qfabgietnlckwlsa9ycyidjap5kc': 11815, 'uc3zejagji85gf9qfabgimnytsxa_r9i1monmpekxr4': 11821, 'c119c2be8134ed06': 3803, 'uc3zejagji85gf9qfabgipqcspnvwchzqnkqku5jwiy': 11823, 'uc3zejagji85gf9qfabgilxv9tigpwqarkdg': 11819, '_mdlp0': 2280, 'uc3zejagji85gf9qfabgiiidmzadcgb76cj_fd30hhc': 11816, 'uc3zejagji85gf9qfabgibczlbibq3ajzfr3': 11814, 'm2vmlg': 8142, 'uc3zejagji85gf9qfabgikcikrnra47layiy5yivxvc': 11818, '5c26bbaa7df0e616': 1486, 'n7g4pqjvfp2kubl0vbldefesdfruyl5okoajznjb7ys': 8632, 'n7g4pqjvfp2kubl0vbldepizzymr4bukactxjcn2kle': 8637, 'n7g4pqjvfp2kubl0vbldenxhfcspldajrhlfkgopuyg': 8636, 'n7g4pqjvfp2kubl0vbldelo34k': 8635, 'oxaezf4ilayxgj0c': 9112, 'n7g4pqjvfp2kubl0vbldek8_qdjw54vp4qrnw69d70m': 8634, 'a95cefd51a12ec17': 2394, 'n7g4pqjvfp2kubl0vbldeiwnlpdplx5s8akag': 8633, 'i5qxu': 7040, 'n7g4pqjvfp2kubl0vbldea9qp145tn5qb9rqenc5fti': 8628, 'n7g4pqjvfp2kubl0vbldebmhjy5m6rp_nsn2hjkjhfc': 8629, 'n7g4pqjvfp2kubl0vbldeewfowwjhcb6pv3dv1otigc': 8630, 'n7g4pqjvfp2kubl0vbldefave8wjwcplyd': 8631, '4c_k3wkc': 1223, '5aa2cfa063a6b631': 1474, 'dk0etgxizjn6ya8zaeym2t9rcsrvjgratirlxbzwhdg': 5228, 'dk0etgxizjn6ya8zaeym2rn': 5227, '0beyhaec1kqeqpfpwrs': 101, 'dk0etgxizjn6ya8zaeym2utcetocmz2wcdel46uoham': 5229, 'dk0etgxizjn6ya8zaeym2fog': 5226, 'cy6dhy5xgu82688fsg': 4765, 'dk0etgxizjn6ya8zaeym2cgf0dee6mlqv9opp_1prbi': 5225, 'c89f400061e5d0a8': 3859, 'kgbfwabt0zrla5w1ywjowd1f__mtqj': 7747, 'prxs2eomsg0': 9814, 'kgbfwabt0zrla5w1ywjowzr92e8gbbe58j0phy_yhty': 7751, 'kgbfwabt0zrla5w1ywjoww_wcyvccuawdspcx_4uxqg': 7749, 'kgbfwabt0zrla5w1ywjowwfbpar0qrg': 7750, 'i_8utxkq0sc': 7041, 'kgbfwabt0zrla5w1ywjowt9ghufziu5fa7lv6rowahm': 7748, '4fd71febfd48d6c': 1325, 'stboo2wad2lpx45sxyjqbvqlyebsez9czjksnmjlowm': 11112, 'stboo2wad2lpx45sxyjqbfk_varhqviz0nv9q090hn8': 11109, 'stboo2wad2lpx45sxyjqbrsxeywm7fgeyasgu71clg0': 11110, 'stboo2wad2lpx45sxyjqbs3usbnsvpkopqaur': 11111, 'stboo2wad2lpx45sxyjqbawubotb': 11108, '484edb0fdce88a64': 1089, 'wmvkxvcouffp_qmcpfuyzvqlyebsez9czjksnmjlowm': 12384, 'wmvkxvcouffp_qmcpfuyzfk_varhqviz0nv9q090hn8': 12381, 'wmvkxvcouffp_qmcpfuyzrsxeywm7fgeyasgu71clg0': 12382, 'wmvkxvcouffp_qmcpfuyzs3usbnsvpkopqaur': 12383, 'wmvkxvcouffp_qmcpfuyzawubotb': 12380, 'e507c3e2b7915ad1': 5406, 'oy22yog8ej3in_muvwm29klsqkusdpixlwfj': 9116, 'oy22yog8ej3in_muvwm29buojzskwg4xbwp_c_qqx0o': 9115, 'oy22yog8ej3in_muvwm29ba1rvmpjeky21_gqjallji': 9114, 'oy22yog8ej3in_muvwm29nqqynqkv_9plp7mupa0s4g': 9118, 'oy22yog8ej3in_muvwm29n1lkoz82bbu2f46dhhcs3c': 9117, 'cb4eb159e5e3db1f': 4005, 'lfxvrpugfg5ktd7p0wrwkqlsqkusdpixlwfj': 7945, 'lfxvrpugfg5ktd7p0wrwkhuojzskwg4xbwp_c_qqx0o': 7944, 'lfxvrpugfg5ktd7p0wrwkha1rvmpjeky21_gqjallji': 7943, 'lfxvrpugfg5ktd7p0wrwktqqynqkv_9plp7mupa0s4g': 7947, 'lfxvrpugfg5ktd7p0wrwkt1lkoz82bbu2f46dhhcs3c': 7946, '9ecf9384a6d643b6': 2248, 'kdrypgfdqxefclmsxpkq3w': 7723, '2hxzmnafruktsbr9nrgo': 593, 'ku6vhbqmazhan_nxcmlqsq': 7799, 'btu4ssvveqk58cdyjlam9g': 3749, 'i5jxx2jzdumchytn9dgylg': 7039, '91f32e07d083dd3a': 2059, '6temgpq_0zdlpe7b6hhijq': 1677, '7nlfsqczhqw_pwpkrwroyw': 1792, 'i1pn3gihk5vyp0yw5gqksq': 7037, 'zpv3sokabmf4wff105oljw': 12574, 'adjmoxvahbo08wmaf5ydsa': 2619, '3480a19627739c0d': 656, 'xnvd6tsqi9wmknvnh5hnepy6323mhuzfjmgtvxag2ie': 12480, 'xnvd6tsqi9wmknvnh5hneftxra8tvwticgirnjhmvjw': 12477, 'xnvd6tsqi9wmknvnh5hned8e0i7kzn': 12476, 'xnvd6tsqi9wmknvnh5hnekcwcynf_cdxxwclxiixg1c': 12479, 'xnvd6tsqi9wmknvnh5hnejbd9num7myrqqz30ypagq4': 12478, '8107d606b7e3d38e': 1816, 'acvtq8q0lykknxrll28rn_y6323mhuzfjmgtvxag2ie': 2572, 'acvtq8q0lykknxrll28rn1txra8tvwticgirnjhmvjw': 2569, 'acvtq8q0lykknxrll28rnz8e0i7kzn': 2573, 'acvtq8q0lykknxrll28rn6cwcynf_cdxxwclxiixg1c': 2571, 'acvtq8q0lykknxrll28rn5bd9num7myrqqz30ypagq4': 2570, '5334e9c0b67702e2': 1396, 'santa': 10494, 'augustbold': 3109, 'augustlight': 3111, 'augustmedium': 3112, 'knedge': 7778, 'knedgebold': 7779, 'sitebackground': 10831, 'sitebackgroundbgbeforetransition': 10833, 'sitebackgroundbgaftertransition': 10832, 'wp2_zoomedin': 12439, 'cursor': 4748, 'skins': 10852, '1229': 161, 'wysiwyg': 12470, 'core': 4601, 'themes': 11533, 'cursor_zoom_out': 4750, 'png': 9474, 'cur': 4734, 'wp2_zoomedout': 12440, 'cursor_zoom_in': 4749, 'wp2link': 12443, 'wp2img': 12441, 'wp2imgimage': 12442, 'izp83dhjscreenwidthbackground': 7479, 'izp83dhj': 7473, 'fixedposition': 6195, 'izp83dhj_footer': 7475, 'izp83dhj_bg': 7474, 'rgba': 10297, '255': 485, '0px': 121, 'izp83dhjbg': 7476, 'mobileview': 8496, 'radius': 9933, 'izp83dhjinlinecontent': 7478, 'izp83dhjcenteredcontent': 7477, 'charity': 4109, 'effectiveness': 5521, 'ultrasounds': 11839, 'deterring': 5085, 'grants': 6615, 'exams': 5802, 'txtnew': 11799, 'break': 3713, 'pointer': 9488, 'txtnew_override': 11800, 'li': 7949, 'inherit': 7262, 'spacing': 10980, 'ol': 8946, 'ul': 11831, '3em': 764, '5em': 1503, 'disc': 5173, 'decimal': 4936, 'square': 11042, 'dir': 5150, 'h1': 6706, 'h2': 6707, 'h4': 6714, 'h5': 6715, 'h6': 6716, 'izqqg9tx': 7506, 'izqqg9txpreloaderoverlay': 7507, '373737': 697, 'izqqg9txpreloaderoverlaycontent': 7508, 'izqqg9txunavailablemessageoverlay': 7509, 'izqqg9txunavailablemessageoverlaycontent': 7511, 'izqqg9txunavailablemessageoverlaytextcontainer': 7515, 'neue': 8723, 'helveticaneuew01': 6865, '55roma': 1428, 'helveticaneuew02': 6866, 'helveticaneuew10': 6867, 'inline': 7275, 'izqqg9txunavailablemessageoverlayreloadbutton': 7514, '0099ff': 16, 'underline': 11861, 'izqqg9txunavailablemessageoverlayiconcontainer': 7513, 'izqqg9txunavailablemessageoverlaydismissbutton': 7512, 'izqqg9txunavailablemessageoverlaytexttitle': 7516, 'hideiframe': 6888, 'izqqg9txunavailablemessageoverlay_buttons': 7510, 'opacity': 8975, 'hideoverlay': 6889, 'exempt': 5822, 'corporation': 4609, 'defined': 4974, 'irs': 7400, 'izpafqpnscreenwidthbackground': 7486, 'izpafqpn': 7480, 'izpafqpn_footer': 7482, 'izpafqpn_bg': 7481, 'izpafqpnbg': 7483, 'izpafqpninlinecontent': 7485, 'izpafqpncenteredcontent': 7484, 'b1': 3193, 'b1link': 3209, 'shoulduseflex': 10757, 'b1labelwrapper': 3208, 'flex': 6205, 'pack': 9134, 'transition': 11702, '4s': 1333, 'ease': 5458, '0s': 122, 'b1label': 3207, 'calc': 3889, 'space': 10979, 'nowrap': 8838, 'disabled': 5166, '124': 164, '153': 207, '151': 205, 'desktop': 5064, '204': 370, 'izqq54s2bordernode': 7488, 'izqq54s2inlinecontent': 7489, 'izqq54s2inlinecontentparent': 7490, 'izqq54s2': 7487, 'shouldhideoverflowcontent': 10755, 'izqq60ot1': 7491, '50px': 1362, 'izqq60ot1inlinecontent': 7498, 'izqq60ot1navigationarrows': 7500, 'navigation': 8671, 'arrows': 3021, 'izqq60ot1dotsmenuwrapper': 7497, 'izqq60ot1bg': 7496, 'izqq60ot1inlinecontentparent': 7499, 'izqq60ot1_hide': 7493, 'izqq60ot1_navigation': 7494, 'izqq60ot1_btn': 7492, 'izqq60ot1nextbutton': 7501, 'scalex': 10533, 'izqq60ot1_selected': 7495, '2px': 596, '232': 429, '230': 425, 'stroke': 11183, '1px': 320, 'izqq60ot1slidebordernode': 7503, 'izqq60ot1slideinlinecontent': 7504, 'izqq60ot1slideinlinecontentparent': 7505, 'izqq60ot1slide': 7502, 'strc1': 11165, 'responsive': 10245, 'strc1inlinecontent': 11166, 'ms': 8592, 'template': 11461, 'columns': 4344, 'rows': 10393, '1fr': 313, 'column': 4343, 'tragedy': 11687, 'imagebutton_1link': 7137, 'visible': 12122, 'touch': 11663, 'tap': 11411, 'imagebutton_1defaultimage': 7133, 'imagebutton_1hoverimage': 7135, 'imagebutton_1activeimage': 7131, 'imagebutton_1_correct': 7130, 'positioning': 9529, 'imagebutton_1': 7129, 'hovered': 6982, 'pressed': 9653, 'transition_fade': 11703, 'prepare_adh': 9627, 'prepare_ahd': 9628, 'prepare_dah': 9629, 'prepare_dha': 9630, 'prepare_had': 9631, 'prepare_hda': 9632, '1s': 321, '5s': 1518, 'imagebutton_1defaultimageimage': 7134, 'imagebutton_1hoverimageimage': 7136, 'imagebutton_1activeimageimage': 7132, '70': 1679, 'challenge': 4086, 'p1bg': 9121, 'p1': 9120, 'p1inlinecontent': 9122, 'pc1screenwidthbackground': 9263, 'pc1': 9258, 'pc1_footer': 9259, 'pc1bg': 9260, 'pc1inlinecontent': 9262, 'pc1centeredcontent': 9261, 'jc9zgvdz': 7603, 'jc9zgvdzlink': 7606, 'jc9zgvdzlabelwrapper': 7605, 'jc9zgvdzlabel': 7604, 'jca132lb': 7607, 'jca132lblink': 7610, 'jca132lblabelwrapper': 7609, 'jca132lblabel': 7608, '008081': 11, 'homewho': 6942, 'arewhat': 2995, 'dotestimoniesgrantscontact': 5294, 'usmore': 11964, 'jc9zb740itemscontainer': 7597, 'jc9zb740morecontainer': 7598, 'jc9zb740dropwrapper': 7596, '99999': 2196, 'visibility': 12121, '7px': 1794, 'dropmode': 5333, 'dropup': 5334, 'jc9zb740repeaterbutton': 7599, 'jc9zb740repeaterbuttonlinkelement': 7602, 'jc9zb740repeaterbutton_gapper': 7600, 'jc9zb740repeaterbuttonlabel': 7601, 'selected': 10630, 's_dtakstpawidgetskin': 10433, 's_dtakstpawidgetskinpreloaderoverlay': 10434, 's_dtakstpawidgetskinpreloaderoverlaycontent': 10435, 's_dtakstpawidgetskinunavailablemessageoverlay': 10436, 's_dtakstpawidgetskinunavailablemessageoverlaycontent': 10438, 's_dtakstpawidgetskinunavailablemessageoverlaytextcontainer': 10442, 's_dtakstpawidgetskinunavailablemessageoverlayreloadbutton': 10441, 's_dtakstpawidgetskinunavailablemessageoverlayiconcontainer': 10440, 's_dtakstpawidgetskinunavailablemessageoverlaydismissbutton': 10439, 's_dtakstpawidgetskinunavailablemessageoverlaytexttitle': 10443, 's_dtakstpawidgetskinunavailablemessageoverlay_buttons': 10437, 'ruler': 10411, 'iao': 7043, 'teststyles': 11507, 'philosophy': 9365, 'awc': 3162, 'overview': 9100, 'pa': 9128, 'survivors': 11334, 'gynecological': 6704, 'trans': 11694, 'initiative': 7267, 'therapeutic': 11542, 'essure': 5732, 'novasure': 8830, 'endometrial': 5641, 'ablation': 2443, 'allentown': 2772, 'commerce': 4372, 'bethlehem': 3553, '18017': 240, '877': 1906, '342': 649, '5292': 1390, 'dial': 5117, '484': 1085, '821': 1832, '0821': 80, 'staffed': 11058, 'experienced': 5845, 'accredited': 2529, 'dept': 5044, 'trusted': 11751, '1978': 267, 'hablamos': 6718, 'llamar': 8053, 'favor': 6015, 'pida': 9396, 'hablar': 6719, 'nuestras': 8844, 'consejeras': 4493, 'bilingües': 3595, 'sterilization': 11126, 'iuds': 7457, 'nexplanon': 8741, 'comprehensive': 4413, 'laser': 7832, 'hair': 6726, 'consultation': 4521, 'aesthetician': 2672, 'areas': 2991, 'lehigh': 7919, 'northampton': 8804, 'luzerne': 8135, 'monroe': 8532, 'berks': 3546, 'lackawanna': 7811, 'montgomery': 8535, 'schuylkill': 10549, 'bucks': 3753, 'googleplus': 6576, 'linkedin': 8023, 'pinterest': 9408, 'ob': 8874, 'rochester': 10362, 'reversal': 10283, 'stds': 11114, 'symptoms': 11366, 'fertility': 6107, 'toggle': 11637, '32px': 639, '25em': 497, '181818': 244, '43em': 912, '40px': 807, 'cursive': 4747, '88px': 1928, '14em': 199, '72px': 1704, '18em': 250, '56px': 1440, '48px': 1111, '24px': 472, '46em': 1034, '20px': 381, '55em': 1426, 'b8b5ae': 3303, '75736d': 1724, '525252': 1386, 'bababa': 3320, '616161': 1536, '046c51': 52, 'd2d2d2': 4788, 'a4a4a4': 2345, '575757': 1444, '303030': 606, 'adcfc5': 2592, 'a8a8a8': 2387, '757575': 1725, '494949': 1123, '65a693': 1576, 'd1cdc0': 4781, 'ada99c': 2587, '85827a': 1880, 'alleghenyreproductive': 2771, 'gmail': 6544, 's_smhkwrichtextnewskin': 10444, 's_smhkwrichtextnewskin_override': 10445, '412': 813, '661': 1581, '8811': 1918, '363': 681, '6901': 1627, '5910': 1459, 'kirkwood': 7770, 'st': 11053, 'pittsburgh': 9414, '15206': 206, 'lb1itemscontainer': 7868, 'lb1': 7865, 'lb1imageitemlink': 7867, 'lb1imageitemimageimage': 7866, 'allegheny': 2770, 'wix': 12375, 'fc1screenwidthbackground': 6037, 'fc1': 6031, 'fc1_footer': 6033, 'fc1_bg': 6032, 'fc1bg': 6034, 'fc1inlinecontent': 6036, 'fc1centeredcontent': 6035, 'wp1_zoomedin': 12434, 'wp1_zoomedout': 12435, 'wp1link': 12438, 'wp1img': 12436, 'wp1imgimage': 12437, 'homeabortion': 6936, 'carepain': 3950, 'managementthe': 8192, 'pillschedulinggyne': 9405, 'servicesfrequently': 10679, 'questionspaymentmore': 9905, 'ja00ejfi3itemscontainer': 7529, 'ja00ejfi3morecontainer': 7530, '166': 221, '147': 193, 'ja00ejfi3dropwrapper': 7528, 'ja00ejfi3repeaterbutton': 7531, 'palatino': 9153, 'antiqua': 2912, 'linotype': 8026, 'ja00ejfi3repeaterbuttonlinkelement': 7534, 'ja00ejfi3repeaterbutton_gapper': 7532, 'ja00ejfi3repeaterbuttonlabel': 7533, 'hc1screenwidthbackground': 6803, 'hc1': 6797, 'hc1_footer': 6799, 'hc1_bg': 6798, 'hc1bg': 6800, 'hc1inlinecontent': 6802, 'hc1centeredcontent': 6801, 'ja00ejf1wrapper': 7527, '180px': 242, '980px': 2165, 'ja00ejf1_hiddenfield': 7522, 'ja00ejf1_first': 7521, '30px': 617, 'ja00ejf1': 7519, 'textarea': 11510, 'outline': 9080, '108': 143, '81': 1815, 'ja00ejf1_error': 7520, '8b0000': 1953, 'resize': 10222, 'ja00ejf1fieldmessage': 7524, '128px': 167, 'ja00ejf1submit': 7526, 'ja00ejf1notifications': 7525, 'ja00ejf1_success': 7523, 'bada55': 3379, '35px': 676, 'ltr': 8117, 'wp4_zoomedin': 12444, 'wp4_zoomedout': 12445, 'wp4link': 12448, 'wp4img': 12446, 'wp4imgimage': 12447, 'ja00emsf': 7559, 'ja00emsfinlinecontent': 7561, 'ja00emsfcontainer': 7560, 'scheduling': 10543, 'ja00emsx2': 7562, 'ja00emsx2inlinecontent': 7564, 'ja00emsx2container': 7563, 'ja00emtm2': 7565, 'ja00emtm2inlinecontent': 7567, 'ja00emtm2container': 7566, 'ja00emtw2': 7568, 'ja00emtw2inlinecontent': 7570, 'ja00emtw2container': 7569, 'ja00emuv': 7571, 'ja00emuvinlinecontent': 7573, 'ja00emuvcontainer': 7572, 'accepted': 2507, 'ja00emv52': 7574, 'ja00emv52inlinecontent': 7576, 'ja00emv52container': 7575, 'ja00elbd': 7535, 'ja00elbdinlinecontent': 7537, 'ja00elbdcontainer': 7536, 'ja00elda': 7538, 'ja00eldainlinecontent': 7540, 'ja00eldacontainer': 7539, 'ja00ele4': 7541, 'ja00ele4inlinecontent': 7543, 'ja00ele4container': 7542, 'menstrual': 8363, 'visits': 12129, 'ja00eleb': 7544, 'ja00elebinlinecontent': 7546, 'ja00elebcontainer': 7545, 'arhc': 3003, 'lifestyle': 7991, 'ja00elf41': 7547, 'ja00elf41inlinecontent': 7549, 'ja00elf41container': 7548, 'ja00elfo': 7550, 'ja00elfoinlinecontent': 7552, 'ja00elfocontainer': 7551, 'ja00elgt': 7553, 'ja00elgtinlinecontent': 7555, 'ja00elgtcontainer': 7554, 'discomfort': 5177, 'ja00elh1': 7556, 'ja00elh1inlinecontent': 7558, 'ja00elh1container': 7557, 'ja00ejenbg': 7517, 'ja00ejeninlinecontent': 7518, 'western': 12289, 'pennsylvania': 9286, 'anchor_1': 2856, 'displayed': 5202, '521': 1382, '42dbb222a3b2889c': 862, 'utc': 11974, 'server': 10673, 'browser': 3744, 'cloudflare': 4259, 'plannedparenthoodosbc': 9435, 'returning': 10274, 'displaying': 5203, 'minutes': 8455, 'owner': 9106, 'hosting': 6972, 'additional': 2604, 'troubleshooting': 11742, 'ip': 7388, '122': 160, '241': 451, 'performance': 9300, 'security': 10605, 'current': 4742, 'billboard': 3597, 'archives': 2987, 'jack': 7577, 'mini': 8439, 'ads': 2637, 'policies': 9492, 'speakers': 10990, 'ira': 7391, 'charitable': 4107, 'securities': 10604, 'pause': 9248, '1989': 274, 'persuasive': 9337, 'offering': 8926, 'alternatives': 2803, 'melanie': 8342, 'helpline': 6860, '366': 685, '7773': 1746, 'mailing': 8165, 'date': 4863, 'widget_mailchimpsf_widget': 12328, '75em': 1730, 'mc_subheader': 8294, '18px': 251, 'mc_merge_var': 8290, '0em': 113, 'mc_var_label': 8296, 'mc_interest_label': 8287, 'mc_input': 8285, 'mc_phone': 8291, 'mc_select': 8292, 'mc_address_label': 8280, 'mc_list': 8289, 'mc_interests_header': 8288, 'mc_interest': 8286, 'mc_signup_submit': 8293, 'mc_unsub_link': 8295, 'mc_header_address': 8284, 'mc_email_format': 8281, 'mc_email_options': 8282, 'mc_email_type': 8283, 'renowned': 10166, 'television': 11457, 'outreach': 9082, 'cancelled': 3918, 'nbsp': 8679, 'developmental': 5097, 'coordinates': 4587, 'hiccup': 6884, 'fingerprints': 6175, 'margaret': 8217, 'sanger': 10491, 'coined': 4285, 'widely': 12325, '1914': 256, 'appeals': 2938, 'conversions': 4574, 'hotline': 6975, 'reminded': 10152, '18669': 248, 'mpls': 8587, '55418': 1417, 'box18669': 3693, 'minneapolis': 8448, '612': 1532, '781': 1749, '0410': 48, 'educationabortiongeorgia': 5504, 'booklet': 3669, 'selection': 10632, 'syndrome': 11367, 'communitymaafa': 4388, 'genocide': 6447, '21st': 400, 'century': 4052, 'toomanyaborted': 11653, 'endangered': 5638, 'species': 10997, 'unwhite': 11922, 'issuesis': 7443, 'wins': 12352, 'careassisted': 3944, 'suicide': 11268, 'dangers': 4852, 'rationing': 9973, 'score': 10557, 'futile': 6397, 'pallative': 9157, 'embryrosthe': 5595, 'abc': 2431, 'escr': 5710, 'emerging': 5600, 'technologytranshumanism': 11449, 'genoism': 6448, 'servicespregnancy': 10680, 'explore': 5864, 'maternity': 8263, 'homes': 6940, 'newborns': 8732, 'consentright': 4496, 'developmentfirst': 5098, 'abortionabortion': 2458, 'complaint': 4403, 'myths': 8619, 'legislationpro': 7909, 'updatedrain': 11928, 'swamp': 11347, 'fruits': 6366, 'hall': 6730, 'rundown': 10415, 'weathering': 12256, 'storm': 11158, 'federalfederal': 6081, 'stateethical': 11088, 'statistic': 11098, 'reporting': 10185, 'trafficking': 11686, 'expansion': 5835, 'exercise': 5823, 'sustaining': 11339, 'oversight': 9097, 'restoration': 10250, 'mckoon': 8302, 'setzler': 10696, 'harbor': 6761, 'parental': 9177, 'raffensperger': 9934, 'legislatorscontact': 7914, 'official': 8930, 'tips': 11612, 'elected': 5542, 'officials': 8932, 'alertslegislative': 2753, 'scorecard': 10558, 'hb': 6794, 'legislator': 7911, 'files': 6152, 'actiongrtl': 2554, 'paccandidate': 9130, 'endorsement': 5643, 'ted': 11450, 'cruz': 4711, 'legislatorga': 7912, 'statementsposition': 11092, 'editorialsjoshua': 5494, 'edmondshow': 5495, 'transcends': 11697, 'biology': 3606, 'oppose': 9003, 'hr': 6988, '1797': 234, 'fired': 6181, 'deck': 4942, 'goliath': 6564, 'ideas': 7054, 'kobayashi': 7789, 'maru': 8237, 'speck': 11001, 'wayne': 12246, 'duboisa': 5340, 'abandoning': 2428, 'veil': 12043, 'directives': 5156, 'beware': 3558, 'shortfall': 10752, 'cult': 4729, 'panels': 9165, 'theey': 11527, 'baack': 3319, 'captive': 3934, 'victims': 12077, 'europe': 5756, 'darkness': 4857, 'exceptions': 5808, 'passé': 9227, 'grtl': 6663, 'chimp': 4142, 'contraceptives': 4552, 'promoting': 9760, 'illusionary': 7124, 'jolly': 7642, 'giant': 6504, 'heartless': 6833, 'bright': 3728, 'unregulated': 11912, 'carnage': 3955, 'terminology': 11478, 'guest': 6678, 'editorialsincrementalism': 5493, 'regulation': 10100, 'win': 12344, 'risky': 10337, 'proposition': 9773, 'civilized': 4201, 'facade': 5948, 'politicians': 9500, 'intrinsic': 7358, 'gmo': 6545, 'countdown': 4633, 'doug': 5300, 'collins': 4297, 'reject': 10107, 'destination': 5069, 'proliferate': 9751, 'rage': 9936, 'redemption': 10047, 'app': 2933, 'unthinkable': 11917, 'adopt': 2631, 'suzanne': 11341, 'wardabortion': 12224, 'facilities': 5959, 'balancing': 3387, 'equation': 5697, 'fatherhood': 6008, 'cadavers': 3883, 'dolphins': 5258, 'harry': 6770, 'davis': 4873, 'scouts': 10561, 'unlikely': 11903, 'pair': 9150, 'dog': 5252, 'bullet': 3763, 'infanticide': 7240, 'telemedicine': 11456, 'aborts': 2467, 'newest': 8733, 'decline': 4947, 'ides': 7058, 'indefensible': 7211, 'resourcesabortion': 10227, 'documentation': 5243, 'pastorssermons': 9234, 'powerpoint': 9567, 'templates': 11462, 'literature': 8039, 'guidelines': 6682, 'pillars': 9403, 'referenceswhat': 10061, 'threats': 11576, 'transhumanism': 11701, 'pharmacological': 9355, 'enhancement': 5661, 'chimeras': 4141, 'vitro': 12137, 'ectogenesis': 5481, 'helpdonatelife': 6855, 'invest': 7369, 'car': 3939, 'volunteerapplication': 12155, 'chapter': 4100, 'leader': 7873, 'lobbyistcontact': 8064, 'ppsellsbabyparts': 9574, 'reed': 10054, 'shirt': 10740, 'eventspresident': 5776, 'cornerspring': 4607, 'winter': 12353, 'summer': 11281, 'newsletterjuly': 8737, 'eventspillars': 5775, 'upcoming': 11925, 'releasescall': 10130, 'disappointed': 5170, 'lawmakers': 7856, 'pass': 9218, 'faces': 5956, 'unsafe': 11914, 'passes': 9223, 'hails': 6724, 'milestone': 8420, 'raw': 9977, 'cookies': 4584, 'praises': 9583, 'historic': 6909, 'salutes': 10473, 'voters': 12162, 'backs': 3375, 'rapists': 9960, 'mourns': 8574, 'endorses': 5645, 'prescribed': 9637, 'chaptersstart': 4102, 'contactabout': 4526, 'ear': 5448, 'petition': 9345, 'forget': 6277, 'sol': 10917, 'pitchon': 9413, '2019': 365, 'primary': 9676, 'drives': 5328, 'fuels': 6372, 'polls': 9505, 'produces': 9718, 'checkout': 4119, 'precedes': 9598, 'objectives': 8885, 'hide': 6886, 'agendas': 2713, 'inspect': 7293, 'diligent': 5142, 'excerise': 5809, 'depended': 5036, 'goal': 6549, 'constitution': 4516, 'accomplishes': 2519, 'election': 5543, 'cycle': 4766, '66': 1580, 'ballot': 3389, 'hollow': 6931, 'phillips': 9363, 'masterpiece': 8253, 'cake': 3887, 'homosexual': 6946, 'wedding': 12266, 'switchto5x': 11357, 'stlight': 11144, 'publisher': 9830, '948afdc1': 2098, 'e47c': 5401, '8320': 1842, 'e88ccadeaf58': 5431, 'oregon': 9030, 'lunacy': 8129, 'slippery': 10874, 'slope': 10877, 'legalize': 7900, '1994': 279, 'verge': 12057, 'deplorable': 5040, 'starvation': 11083, 'dehydration': 4989, 'agonizing': 2719, 'games': 6416, 'dealing': 4910, 'infirm': 7243, 'resorting': 10224, 'euphemisms': 5754, 'tested': 11489, 'deceptive': 4930, 'manipulate': 8202, 'bittersweet': 3615, 'celebrates': 4035, 'honors': 6955, 'contributions': 4561, 'sacrifices': 10455, 'honoring': 6954, 'ultimate': 11834, 'remembering': 10148, 'champion': 4090, 'norcross': 8797, 'norma': 8799, 'mccorvey': 8300, 'scientists': 10553, 'discovered': 5182, 'flash': 6200, 'tragically': 11689, 'reality': 10001, 'shine': 10737, 'brightly': 3730, 'moderate': 8500, 'pragmatists': 9581, 'abstract': 2486, 'apply': 2955, 'effectively': 5520, 'philosophical': 9364, 'entrenching': 5684, 'pages1': 9141, 'corner': 4605, 'biblical': 3587, 'unjust': 11900, 'justly': 7710, 'humanely': 7004, 'twtr': 11797, 'rpp': 10396, 'interval': 7347, '30000': 601, 'shell': 10733, '1c571c': 299, '041409': 49, '038c17': 39, 'features': 6072, 'scrollbar': 10577, 'behavior': 3514, 'render': 10164, 'setuser': 10695, 'username': 11956, 'password': 9226, 'dan': 4848, 'becker': 3493, 'blend': 3620, 'prudence': 9813, 'pragmatism': 9580, 'principled': 9682, 'politics': 9502, 'donald': 5265, 'wildmon': 12336, 'association': 3065, 'nih': 8756, 'drinking': 5324, 'scathing': 10538, 'hep': 6869, 'spitting': 11024, 'felony': 6098, 'machines': 8146, 'predict': 9602, 'boundary': 3690, 'neurologist': 8725, 'treats': 11723, 'tantalizing': 11410, 'sarepta': 10505, 'gene': 6434, 'therapy': 11543, 'duchenne': 5341, '783': 1752, 'holcomb': 6924, 'bridge': 3725, 'rd': 9981, '30071': 602, '770': 1741, '339': 646, '6880': 1619, 'fax': 6018, '1711': 227, 'limitless': 8013, 'potential': 9552, 'vulnerability': 12175, 'fundamental': 6382, 'founding': 6314, 'documents': 5247, 'forefathers': 6274, 'citing': 4193, 'independence': 7213, 'compassion': 4398, 'racial': 9929, 'ethnic': 5750, 'economic': 5478, 'divides': 5224, '251': 477, '706': 1684, 'signers': 10794, 'holy': 6934, 'sites': 10835, 'signatures': 10792, '320': 627, 'μετάβαση': 12711, 'σε': 12757, 'περιεχόμενο': 12736, 'μαθετε': 12706, 'για': 12633, 'την': 12782, 'έκτρωση': 12597, 'βίντεο': 12625, 'πως': 12751, 'γίνεται': 12630, 'μια': 12714, 'γράψτε': 12638, 'ιστορία': 12686, 'σας': 12756, 'απαντήστε': 12616, 'στο': 12768, 'ερωτηματολόγιο': 12675, 'όλη': 12802, 'αλήθεια': 12605, 'τις': 12785, 'εκτρώσεις': 12663, 'δυστυχώς': 12654, 'οι': 12723, 'νεαρές': 12721, 'γυναίκες': 12640, 'προχωρούν': 12747, 'στην': 12767, 'διακοπή': 12649, 'της': 12783, 'εγκυμοσύνης': 12658, 'χωρίς': 12798, 'να': 12720, 'έχουν': 12601, 'πλήρη': 12738, 'επίγνωση': 12669, 'τι': 12784, 'σημαίνει': 12760, 'καθώς': 12693, 'και': 12694, 'ψυχολογικές': 12800, 'σωματικές': 12777, 'επιπτώσεις': 12672, 'που': 12744, 'θα': 12683, 'μετά': 12710, 'οπωσδήποτε': 12728, 'πρέπει': 12745, 'δείτε': 12641, 'μέχρι': 12704, 'τέλους': 12779, 'τα': 12780, 'παρακάτω': 12732, 'αποφασίσετε': 12621, 'βήμα': 12624, 'δημοσιεύστε': 12645, 'δικιά': 12653, 'ανώνυμα': 12613, 'ιστοσελίδα': 12687, 'μας': 12708, 'διαβάζεται': 12646, 'καθημερινά': 12692, 'από': 12622, 'περισσότερες': 12737, 'κοπέλλες': 12699, 'οποίες': 12726, 'μπορεί': 12717, 'επηρεαστούν': 12670, 'εμπειρία': 12668, 'αλλάξουν': 12606, 'γνώμη': 12637, 'επισκεφθείτε': 12673, 'το': 12786, 'ektrosi': 5536, 'aboutyou': 2469, 's0': 10428, 'swfobject': 11353, 'plugins': 9467, 'mediaplayer': 8324, 'swf': 11352, 'sfvideo0': 10710, '250': 474, 'addparam': 2606, 'allowscriptaccess': 2783, 'wmode': 12379, 'addvariable': 2612, 'ektrwsi': 5537, 'uncovered': 11855, 'flv': 6216, 'config': 4459, 'xml': 12475, 'autostart': 3136, 'video0': 12082, 'κατεβάστε': 12697, 'παραπάνω': 12733, 'ντοκουμέντο': 12722, 'γίνονται': 12631, 'εκτρωσεις': 12661, 'βιντεο': 12626, 'χειρουργειο': 12796, 'πονάει': 12740, 'έμβρυο': 12599, 'όταν': 12804, 'του': 12788, 'κάνουν': 12691, 'ποιές': 12739, 'είναι': 12657, 'ψυχοσωματικές': 12801, 'στη': 12766, 'γυναίκα': 12639, 'συνιστούμε': 12774, 'απαραιτήτως': 12617, 'αναλυτικό': 12610, 'σεμινάριο': 12758, 'μπορείτε': 12718, 'αναρτήσετε': 12611, 'διαδίκτυο': 12648, 'αντιγράψτε': 12612, 'επικολλήστε': 12671, 'τον': 12787, 'κώδικα': 12702, 'πρόχειρο': 12749, 'στον': 12770, 'οποιουδήποτε': 12727, 'ιστοτόπου': 12688, 'ιστολογίου': 12685, 'embedslideshow': 5589, 'docid': 5235, 'dgmzrbqd_1f3q27hhc': 5109, '410': 810, 'αφήστε': 12623, 'απάντηση': 12614, 'ακύρωση': 12604, 'απάντησης': 12615, 'ηλ': 12681, 'διεύθυνσή': 12650, 'δεν': 12643, 'δημοσιεύεται': 12644, 'υποχρεωτικά': 12794, 'πεδία': 12734, 'σημειώνονται': 12761, 'με': 12709, 'σχόλιο': 12776, 'όνομα': 12803, 'διεύθυνση': 12651, 'ιστότοπος': 12689, 'recaptchaoptions': 10018, 'red': 10045, 'lang': 7821, 'tabindex': 11379, 'διαβάστε': 12647, 'προσωπικές': 12746, 'μαρτυρίες': 12707, 'δικές': 12652, 'συνδεθείτε': 12773, 'μαζί': 12705, 'ζωη': 12678, 'οχι': 12729, 'έκτρωσηδημιουργία': 12598, 'εμβλήματος': 12667, 'πρόσφατα': 12748, 'άρθρα': 12593, 'πειραιώς': 12735, 'σεραφείμ': 12759, 'έγκλημα': 12595, 'των': 12790, 'εκτρώσεων': 12664, 'μητροπολίτης': 12713, 'σάμου': 12754, 'συγχαίρουμε': 12772, 'τους': 12789, 'αναισθησιολόγους': 12609, 'άγιος': 12592, 'παΐσιος': 12730, 'σαμος': 12755, 'πανέμορφη': 12731, 'είδηση': 12656, 'γνωστή': 12636, 'ηθοποιός': 12680, 'έκανα': 12596, 'κατέστρεψε': 12696, 'τη': 12781, 'ζωή': 12677, 'μου': 12715, 'στοιχεία': 12769, 'σοκ': 12762, 'έφηβες': 12600, 'ελλάδα': 12665, 'γιατρός': 12635, 'εδώλιο': 12659, '13χρονη': 187, 'οικονομική': 12725, 'κρίση': 12700, 'σύγχρονος': 12778, 'ηρώδης': 12682, 'δελαπόρτας': 12642, 'αποκάλυψε': 12619, 'γιατί': 12634, 'ρένα': 12753, 'βλαχοπούλου': 12627, 'έγινε': 12594, 'ποτέ': 12743, 'μάνα': 12703, 'πότε': 12752, 'αποκτά': 12620, 'ψυχή': 12799, 'kατηγορίες': 7802, 'αμεση': 12608, 'βοήθεια': 12628, 'εκπαίδευση': 12660, 'εκτρωτικά': 12662, 'χάπια': 12795, 'ελληνίδες': 12666, 'επώνυμοι': 12674, 'ηθική': 12679, 'ιατρική': 12684, 'καρκίνος': 12695, 'στήθους': 12763, 'κυβερνήσεις': 12701, 'νέα': 12719, 'οικογένεια': 12724, '67': 1590, 'πρόωρες': 12750, 'γεννήσεις': 12632, 'στατιστικά': 12764, 'υποστηρικτές': 12793, 'αμβλώσεων': 12607, 'χριστιανισμός': 12797, 'σχόλια': 12775, 'ευαγγελία': 12676, 'συγνώμη': 12771, 'αγγελέ': 12602, 'μουλένα': 12716, 'ακόμα': 12603, 'πονάειλένα': 12741, 'πονάειλιτσα': 12742, 'απογνωσηevie': 12618, 'μην': 12712, 'κάνετε': 12690, 'στείλτε': 12765, 'popupfadopen': 9519, 'δύναμη': 12655, 'map': 8208, '1998': 281, 'visually': 12131, 'globe': 6537, 'interactive': 7326, 'pace': 9131, 'reproductiverights': 10195, 'worldwide': 12416, '1992': 278, 'signifies': 10797, 'disclaimer': 5176, 'campaigns': 3912, 'pep': 9288, 'glossary': 6541, 'bookmarks': 3670, 'redirected': 10048, 'prochoiceactionnetwork': 9712, '68px': 1625, '6e6968': 1661, '34px': 659, '2f2e2e': 589, '60px': 1530, '21px': 399, '17px': 236, 'd1cac9': 4780, 'b0aaa9': 3186, 'e2aaaa': 5392, 'c58383': 3840, 'b03737': 3178, '460000': 999, 'e0dcc3': 5381, 'c2bc9c': 3814, 'a39964': 2332, '6d6643': 1654, '363321': 682, 'cbd3b8': 4009, '9da687': 2236, '6c7a4c': 1652, '485133': 1090, '242919': 455, 'bdcfd9': 3463, '94a8b3': 2099, '69808c': 1636, '325466': 632, '192a33': 260, 'arizona': 3007, 'iwzl4mvy': 7459, 'iwzl4mvypreloaderoverlay': 7460, 'iwzl4mvypreloaderoverlaycontent': 7461, 'iwzl4mvyunavailablemessageoverlay': 7462, 'iwzl4mvyunavailablemessageoverlaycontent': 7464, 'iwzl4mvyunavailablemessageoverlaytextcontainer': 7468, 'iwzl4mvyunavailablemessageoverlayreloadbutton': 7467, 'iwzl4mvyunavailablemessageoverlayiconcontainer': 7466, 'iwzl4mvyunavailablemessageoverlaydismissbutton': 7465, 'iwzl4mvyunavailablemessageoverlaytexttitle': 7469, 'iwzl4mvyunavailablemessageoverlay_buttons': 7463, 'ihdfen0kscreenwidthbackground': 7102, 'ihdfen0k': 7096, 'ihdfen0k_footer': 7098, 'ihdfen0k_bg': 7097, '160': 217, '159': 210, 'ihdfen0kbg': 7099, 'ihdfen0kinlinecontent': 7101, 'ihdfen0kcenteredcontent': 7100, 'iru44nfc': 7402, 'iru44nfclink': 7405, 'iru44nfclabelwrapper': 7404, 'iru44nfclabel': 7403, 'irx1e9zcwrapper': 7417, 'irx1e9zc_hiddenfield': 7413, 'irx1e9zc': 7410, 'irx1e9zc_foot': 7412, 'irx1e9zc_success': 7416, '68b04d': 1623, 'irx1e9zc_error': 7411, 'e21c21': 5386, '3px': 771, '254': 481, 'fieldmessagehidden': 6136, 'irx1e9zc_right': 7415, 'irx1e9zc_left': 7414, '45px': 997, 'fffffe': 6129, 'azrtl': 3174, '4633': 1010, '54th': 1410, 'phoenix': 9367, 'az': 3172, '85018': 1867, 'values': 12018, 'equal': 5695, 'walk': 12207, 'alongside': 2792, 'empower': 5617, 'mercy': 8375, 'burdens': 3767, 'iru84w6x': 7406, 'iru84w6xlink': 7409, 'iru84w6xlabelwrapper': 7408, 'iru84w6xlabel': 7407, '1974': 265, 'homeabout': 6937, 'usneed': 11965, 'grantscontact': 6616, 'usdonatemore': 11950, 'ihozflemitemscontainer': 7104, 'ihozflemmorecontainer': 7105, 'ihozflemdropwrapper': 7103, 'ihozflemrepeaterbutton': 7106, 'ihozflemrepeaterbuttonlinkelement': 7109, 'ihozflemrepeaterbutton_gapper': 7107, 'ihozflemrepeaterbuttonlabel': 7108, 'hc2screenwidthbackground': 6810, 'hc2': 6804, 'hc2_footer': 6806, 'hc2_bg': 6805, 'hc2bg': 6807, 'hc2inlinecontent': 6809, 'hc2centeredcontent': 6808, 'donatechanging': 5267, 'campaignchampion': 3910, 'lifelegislationabortionphysician': 7980, 'suicidepolitical': 11269, 'actionpregnancy': 2555, 'helpresourceseducationabortion': 6861, 'healingadoptionget': 6821, 'involvedvolunteereventsannual': 7381, 'banquetstudentsabout': 3398, 'usmission': 11963, 'statementmethods': 11090, 'structurechapter': 11189, 'affiliateselection': 2689, 'maryland': 8242, 'donateget': 5269, 'surveys': 11328, 'prefix': 9606, 'prof': 9723, 'hon': 6947, 'cf_value_10074468_first__space__name': 4066, '40ex': 806, 'cf_value_10074468_last__space__name': 4067, 'cf_value_10074468_email': 4065, 'recaptcha': 10017, 'enabled': 5627, 'customform_table': 4757, '98': 2163, 'cf_10074468': 4063, 'customform_row': 4756, 'customform_field': 4755, '606060': 1526, 'customform_value': 4759, 'd7d7d7': 4816, '68': 1606, 'reset': 10219, '16em': 223, 'customform_tooltip': 4758, '2e77c0': 583, 'td': 11432, 'mdrtl': 8305, 'arena': 2994, 'annapolis': 2885, 'educating': 5502, 'combined': 4348, 'cfc': 4073, '55276': 1414, 'plate': 9441, 'pressing': 9654, 'contributed': 4559, 'deliberate': 4997, 'unacceptable': 11847, 'socially': 10908, 'legally': 7903, 'acts': 2565, 'distinct': 5211, 'activities': 2563, 'affiliate': 2687, 'committee': 4378, 'cf_value_8820328_first__space__name': 4070, 'cf_value_8820328_last__space__name': 4071, 'cf_value_8820328_phone': 4072, 'cf_value_8820328_email': 4069, 'cf_value_8820328_comments': 4068, 'cf_8820328': 4064, '13px': 184, 'goodsearch': 6572, 'designate': 5059, 'goodshop': 6573, 'provided': 9801, 'percentage': 9292, 'stores': 11153, 'participating': 9201, 'target': 11416, 'staples': 11073, 'toolbar': 11651, '420': 841, 'chinquapin': 4145, 'round': 10388, 'md': 8304, '21401': 392, 'crtl': 4707, 'denver': 5032, 'witnesses': 12372, 'notified': 8827, 'coloradortl': 4338, 'anytime': 2923, '7155': 1692, '38th': 725, 'avenue': 3145, 'noon': 8793, '30please': 616, 'prayerfully': 9590, 'annual': 2894, 'gospel': 6584, 'millif': 8426, 'organize': 9042, 'aughenbaugh': 3106, 'vulnerable': 12176, 'helpless': 6859, 'neighbors': 8703, 'signs': 10801, 'distribute': 5218, 'tracts': 11679, 'inestimable': 7236, 'golden': 6562, 'unto': 11919, 'preborn': 9596, 'proclaim': 9713, 'folks': 6236, 'plead': 9453, 'accomplice': 2517, 'bloodguilt': 3636, 'silence': 10804, 'fruit': 6364, 'repentance': 10174, 'driving': 5329, 'inform': 7254, 'littlest': 8041, 'quebec': 9895, '17th': 237, 'intersection': 7346, 'badly': 3382, 'neighbor': 8701, 'adorn': 2636, 'rescue': 10207, 'slaughter': 10859, 'hates': 6786, 'bloodshed': 3637, 'spared': 10985, 'begging': 3507, 'denier': 5026, 'contains': 4529, 'bearing': 3481, 'generally': 6437, 'clickable': 4234, 'contentsabortion': 4539, 'incestabortion': 7185, 'rapechildren': 9956, 'wombcrime': 12391, 'innocentcrime': 7279, 'exodus': 5832, 'emotionsjudging': 5608, 'righteous': 10321, 'judgmentkids': 7684, 'godlove': 6553, 'intervenemade': 7348, 'imagepain': 7138, 'resulted': 10262, 'sinsanctity': 10825, 'fetologyscience': 6110, 'morality': 8545, 'philosophyvigilantism': 9366, 'condemnedabortion': 4439, 'deuteronomy': 5088, 'teaches': 11438, 'frees': 6349, 'cliché': 4232, 'emboldens': 5590, 'criminals': 4692, 'increases': 7204, 'crimes': 4690, 'cruel': 4709, 'typically': 11805, 'worse': 12421, 'criminal': 4691, 'dispose': 5204, 'tempts': 11464, 'suffering': 11261, 'sins': 10824, 'guilt': 6684, 'wickedness': 12323, 'scriptural': 10571, 'spoken': 11027, 'condemns': 4440, 'principle': 9681, 'recorded': 10039, 'lawyers': 7860, 'sherri': 10735, 'points': 9489, 'behold': 3517, 'virgin': 12115, 'mat': 8255, 'rebekah': 10013, 'struggled': 11191, 'moses': 8560, 'genesis': 6442, 'drink': 5323, 'wine': 12347, 'nazirite': 8678, 'babe': 3321, 'leaped': 7880, 'luke': 8126, '5the': 1519, 'testament': 11487, 'refers': 10070, 'centuries': 4051, 'incarnation': 7183, 'twins': 11792, 'fraternal': 6336, 'scriptures': 10573, 'thumbs': 11591, 'toes': 11635, 'melodies': 8345, 'songs': 10941, 'bore': 3676, 'samson': 10480, 'alcohol': 2748, 'modern': 8501, 'welfare': 12282, 'ca': 3877, 'fl': 6197, 'ia': 7042, 'nv': 8868, 'ri': 10302, 'tx': 11798, 'ut': 11972, 'drinks': 5325, 'inflict': 7248, 'thirst': 11560, 'regulate': 10099, 'excess': 5810, 'hydramnios': 7027, 'polyhydramnios': 9508, 'affects': 2686, 'somewhat': 10938, 'alleviated': 2774, 'swallowing': 11346, 'eventual': 5777, 'increased': 7203, 'injection': 7270, 'artificial': 3026, 'hunger': 7012, 'stimulator': 11141, 'peptide': 9289, 'eating': 5466, 'sweets': 11351, 'skirts': 10854, 'innocents': 7280, 'plainly': 9429, 'sinned': 10823, 'jer': 7618, 'covetousness': 4663, 'shedding': 10729, 'practicing': 9578, 'oppression': 9011, 'violence': 12114, 'adultery': 2641, 'sacrificed': 10454, 'fire': 6180, 'molech': 8507, 'kings': 7768, '13the': 186, 'intentional': 7322, 'tumors': 11774, 'eve': 5768, 'david': 4872, 'herod': 6876, 'venture': 12051, 'individually': 7227, 'forgiven': 6279, 'corporate': 4608, 'prematurely': 9619, 'follows': 6240, 'punished': 9844, 'accordingly': 2522, 'imposes': 7164, 'tooth': 11654, 'foot': 6260, 'wound': 12429, 'stripe': 11180, 'homicide': 6944, 'harmed': 6767, 'theologians': 11538, 'wrongly': 12464, 'passage': 9219, 'dies': 5131, 'penalty': 9281, 'distinguishes': 5213, 'verb': 12054, 'accidentally': 2514, 'equated': 5696, 'injury': 7274, 'unintentional': 11890, 'legalized': 7901, 'valuing': 12019, 'consequence': 4497, 'shaw': 10726, 'kole': 7790, 'indicate': 7220, 'contended': 4535, 'mistranslate': 8484, 'author': 3125, 'mentions': 8368, 'barrenness': 3407, 'yaw': 12488, 'tsaw': 11759, 'connotation': 4486, 'ים': 12809, 'יה': 12807, 'ון': 12805, 'וש': 12806, 'ית': 12810, 'יו': 12808, '043': 51, 'creature': 4679, 'describing': 5052, 'births': 3611, 'mosaic': 8558, 'restitution': 10248, 'unintentionally': 11891, 'injured': 7273, 'applies': 2954, 'idiom': 7059, 'fit': 6190, 'greeting': 6640, 'sounded': 10969, 'ears': 5454, '44the': 955, 'brephos': 3722, 'ἐλισάβετ': 12811, 'ἐσκίρτησεν': 12813, 'τὸ': 12791, 'βρέφος': 12629, 'transliteration': 11706, 'ἐν': 12812, 'τῇ': 12792, 'κοιλίᾳ': 12698, 'mοu': 8627, 'named': 8644, 'incarnate': 7182, 'entered': 5672, 'judging': 7682, 'judgment': 7683, 'rightly': 10322, 'judged': 7677, 'gorsuch': 6582, 'roberts': 10358, 'alito': 2764, 'souter': 10972, 'connor': 4485, 'cheered': 4122, 'nominated': 8781, 'ronald': 10374, 'reagan': 9997, 'bush': 3775, 'central': 4049, 'late': 7836, 'notre': 8828, 'dame': 4846, 'professor': 9729, 'charles': 4110, 'rice': 10306, 'taught': 11427, 'youtu': 12511, 'r4essbge10y': 9926, '1973': 264, 'neil': 8704, 'warning': 12229, 'sandra': 10488, '1986': 271, 'anthony': 2906, '1988': 273, 'clarence': 4212, '1991': 277, 'nomination': 8782, 'bork': 3677, 'slouching': 10878, 'illustrates': 7125, 'absurdity': 2487, 'opposing': 9006, 'opposed': 9004, 'approve': 2965, 'uphold': 11932, 'pretend': 9659, 'cbs': 4011, 'airs': 2738, 'defunding': 4982, 'diversion': 5222, 'relayed': 10127, 'activist': 2561, 'sutherland': 11340, 'accomplish': 2518, 'greater': 6633, 'defunded': 4981, 'fund': 6381, 'abolish': 2448, 'impotent': 7167, 'hyde': 7026, '1976': 266, 'dozens': 5308, 'billionaires': 3600, 'overnight': 9094, 'grim': 6649, 'billion': 3599, '2b': 562, 'congress': 4475, 'meaningless': 8312, 'coffers': 4280, 'ryan': 10424, 'cent': 4043, 'willingly': 12341, 'barack': 3401, 'blackmun': 3618, 'five': 6192, 'enforced': 5652, 'controlled': 4564, 'executive': 5821, 'houses': 6979, 'judicial': 7685, 'branch': 3703, '60': 1521, 'judiciary': 7686, 'seven': 10697, 'votes': 12163, 'distract': 5215, 'dismembering': 5195, 'worst': 12423, 'fraudulent': 6337, 'referenced': 10059, 'wring': 12458, 'prepare': 9626, 'woke': 12387, 'urge': 11941, 'godpresident': 6554, 'tear': 11441, 'sheet': 10730, 'sample': 10479, 'reactions': 9990, 'neutral': 8727, 'longmont': 8081, 'wilkins': 12337, 'atrocious': 3080, 'aurora': 3119, 'ashley': 3037, 'moser': 8559, 'unrecognized': 11911, '13th': 185, 'heather': 6835, 'surovik': 11318, 'gorham': 6581, 'driver': 5327, 'junction': 7694, 'lileigh': 8006, 'lehnen': 7920, 'rejected': 10108, 'contradicted': 4557, 'surprising': 11322, 'charges': 4106, 'leah': 7879, 'gee': 6430, 'jerimiah': 7621, 'dying': 5363, 'ruled': 10410, 'filing': 6155, '2002': 330, 'amanda': 2813, 'prosecutor': 9775, 'enable': 5626, 'introduced': 7359, 'legislature': 7915, 'democrats': 5017, 'commission': 4373, 'revised': 10292, 'statutes': 11104, 'proximate': 9812, 'homo': 6945, 'sapiens': 10500, 'respective': 10235, 'contemporaneously': 4534, 'underlying': 11862, 'historical': 6910, 'notes': 8818, 'documenting': 5246, 'unfolded': 11874, 'pagelink': 9139, 'burning': 3771, 'buildings': 3760, 'half': 6728, 'loaf': 8061, 'abortionshocking': 2464, 'sarah': 10503, 'profileshocking': 9733, 'profileunborn': 9734, 'acta': 2551, 'archive': 2985, 'archiveamendment': 2986, 'song': 10940, 'tony': 11647, 'funderburk': 6384, 'download': 5307, 'years50': 12492, 'dead1': 4906, 'commitment': 4375, '1145': 154, 'wheat': 12297, 'ridge': 10316, '800341': 1799, 'crtl303': 4708, '753': 1718, '9394': 2083, 'newsletters': 8738, 'lifewatch': 7994, 'quarterly': 9892, 'taskforce': 11423, 'methodists': 8389, 'esteem': 5739, 'contemplates': 4533, 'begun': 3512, 'unofficial': 11907, 'umc': 11842, 'laity': 7816, 'proposal': 9770, '161': 218, 'origin': 9050, 'bookstore': 3672, 'experiences': 5846, 'theologically': 11539, 'durham': 5349, 'theology': 11540, 'celebrate': 4034, 'katharine': 7714, 'reminds': 10156, 'moreparticipate': 8550, 'worship': 12422, 'cindy': 4180, 'evansadministrator': 5767, 'coordinatorpo': 4588, '306cottleville': 612, '63338636': 1551, '294': 549, '2344': 433, 'charter': 4112, 'net': 8718, 'channelingsexual': 4098, 'fulfilledas': 6373, 'imaginable': 7140, 'reverend': 10281, 'stallsworthquoted': 11063, 'methodist': 8388, 'paragraph': 9172, '509': 1357, 'exclusively': 5816, 'letters': 7937, 'sustain': 11338, 'sending': 10646, 'tumas': 11772, '306': 611, 'cottleville': 4623, '63338': 1550, 'weebly': 12268, 'saveone': 10515, '615': 1534, '347': 655, '8800': 1915, 'summit': 11282, 'sheila': 10732, 'ripple': 10331, 'chosen': 4159, 'profoundly': 9740, 'starting': 11079, 'grossly': 6653, 'overlooked': 9093, 'unfairly': 11873, 'stereotyped': 11123, 'shut': 10771, 'hers': 6878, 'growing': 6661, 'grandmothers': 6612, 'siblings': 10776, 'pastors': 9233, 'pulpit': 9839, 'acceptance': 2506, 'condemnation': 4438, 'raise': 9941, 'paying': 9253, 'maintenance': 8174, 'upgrades': 11930, 'periodic': 9306, 'transactions': 11696, 'ministry': 8446, 'verified': 12059, 'sharon': 10724, 'clark': 4216, '403': 782, 'forbidden': 6267, '760': 1731, '741': 1716, '9796': 2153, '257': 488, 'east': 5462, 'escondido': 5709, '92025': 2063, 'homewhy': 6943, 'servicesfor': 10678, 'menemergency': 8358, 'contraceptivesabortionyour': 4553, 'pregnancypregnancy': 9613, 'ultrasoundpatient': 11838, 'educationif': 5506, 'href': 6989, 'indexof': 7216, 'a141758': 2307, 'chosenoption': 4160, 'healthespañolcontact': 6824, 'usif': 11961, 'a140989': 2302, 'a138700': 2299, 'a141364': 2306, 'a141135': 2303, 'a141136': 2304, 'a141314': 2305, 'a138703': 2300, 'a173072': 2308, 'mmenu': 8491, 'professionals': 9728, 'confirm': 4461, 'diagnosis': 5114, 'confirmation': 4462, 'viability': 12072, 'cared': 3945, 'referral': 10065, 'clínicas': 4263, 'el': 5538, 'punto': 9847, 'encuentro': 5634, 'todas': 11628, 'las': 7831, 'españa': 5717, 'inicio': 7263, 'addthis_config': 2611, 'services_exclude': 10677, 'ui_language': 11827, 'es': 5706, 'services_compact': 10676, 'google_plusone_share': 6575, 'favorites': 6017, 'clinicasabortos': 4246, 'gratuito': 6626, 'espontáneo': 5724, 'pastillas': 9231, 'abortar': 2451, 'quirúrgico': 9913, 'precio': 9599, 'ley': 7941, 'información': 7255, 'educación': 5499, 'enfermedades': 5650, 'transmisión': 11707, 'ginecología': 6509, 'métodos': 8625, 'anticonceptivos': 2911, 'reproducción': 10193, 'humana': 7003, 'urología': 11944, 'noticias': 8823, 'anuncia': 2915, 'clínica': 4262, 'palmas': 9161, 'últimas': 12590, 'noticiassuscríbete': 8824, 'más': 8621, 'aumentan': 3115, 'nuevos': 8846, 'diagnósticos': 5116, 'vih': 12102, 'europa': 5755, 'siguen': 10803, 'aumentando': 3116, 'los': 8095, 'casos': 3975, 'región': 10095, 'especialmente': 5720, 'este': 5738, 'comentarios': 4351, 'facilitar': 5957, 'acceso': 2509, 'reduciría': 10052, 'pobreza': 9478, 'último': 12591, 'informe': 7257, 'naciones': 8639, 'unidas': 11885, 'sobre': 10900, 'población': 9476, 'mundial': 8601, 'concluye': 4435, 'derechos': 5046, 'sexuales': 10703, 'reducirían': 10053, 'pobrez': 9477, 'dificulta': 5138, 'estadounidense': 5736, 'aprueba': 2976, 'medida': 8333, 'permite': 9315, 'empresas': 5622, 'dejar': 4991, 'cubrir': 4722, 'gratuitamente': 6625, 'preguntas': 9616, 'cuanto': 4719, 'tiempo': 11596, 'tarda': 11415, 'realizar': 10002, 'realizarme': 10003, 'tienen': 11598, 'hospitalizar': 6968, 'interrupción': 7345, 'embarazo': 5585, 'método': 8624, 'farmacológico': 6001, 'hola': 6923, 'quiero': 9911, 'aserme': 3035, 'cuánto': 4763, 'cuesta': 4725, 'zaragoza': 12543, 'entra': 5682, 'siendo': 10785, 'menor': 8362, 'edad': 5486, 'podria': 9484, 'tomar': 11642, 'esta': 5734, 'pastilla': 9230, 'mis': 8463, 'padre': 9136, 'supieran': 11291, 'búsqueda': 3791, 'rápida': 10425, 'comunidad': 4419, 'andalucía': 2858, 'aragón': 2982, 'asturias': 3071, 'cantabria': 3925, 'castilla': 3978, 'mancha': 8194, 'león': 7942, 'cataluña': 3981, 'ceuta': 4060, 'valenciana': 12005, 'extremadura': 5880, 'galicia': 6411, 'islas': 7432, 'baleares': 3388, 'canarias': 3917, 'rioja': 10327, 'madrid': 8152, 'melilla': 8343, 'murcia': 8602, 'navarra': 8669, 'pais': 9151, 'vasco': 12032, 'euskadi': 5759, 'provincia': 9808, 'coruña': 4616, 'álava': 12583, 'albacete': 2746, 'alicante': 2760, 'almería': 2785, 'ávila': 12584, 'badajoz': 3380, 'barcelona': 3403, 'burgos': 3768, 'cáceres': 4769, 'cádiz': 4770, 'castellón': 3977, 'ciudad': 4199, 'córdoba': 4771, 'cuenca': 4724, 'gerona': 6463, 'girona': 6519, 'granada': 6606, 'guadalajara': 6669, 'guipúzcoa': 6687, 'huelva': 6997, 'huesca': 6998, 'jaén': 7595, 'gran': 6605, 'canaria': 3916, 'lerida': 7928, 'lleida': 8055, 'lugo': 8124, 'málaga': 8620, 'orense': 9032, 'ourense': 9071, 'palencia': 9154, 'pontevedra': 9512, 'salamanca': 10469, 'tenerife': 11468, 'segovia': 10623, 'sevilla': 10700, 'soria': 10951, 'tarragona': 11421, 'teruel': 11484, 'valencia': 12004, 'valladolid': 12011, 'vizcaya': 12139, 'zamora': 12542, 'localidad': 8068, 'algeciras': 2758, 'alzira': 2809, 'ansoáin': 2900, 'avilés': 3148, 'beniarbeig': 3542, 'bilbao': 3593, 'cartagena': 3967, 'plana': 9432, 'elche': 5540, 'elx': 5579, 'gandia': 6417, 'gijón': 6508, 'lorca': 8090, 'miguelturra': 8414, 'oviedo': 9103, 'palma': 9159, 'mallorca': 8185, 'puerto': 9834, 'maría': 8245, 'sebastián': 10592, 'donostia': 5283, 'bezana': 3561, 'santander': 10495, 'tacoronte': 11385, 'telde': 11455, 'vigo': 12100, 'vitoria': 12136, 'gasteiz': 6424, 'acerca': 2539, 'aviso': 3149, 'mapa': 8209, 'enlaces': 5664, 'interés': 7350, 'síguenos': 11373, 'vimeo': 12105, 'encuéntranos': 5635, 'méxico': 8626, 'clinicas': 4245, 'em': 5580, 'portugal': 9523, 'uk': 11829, 'todos': 11633, 'reservados': 10216, 'desarrollo': 5048, 'diseño': 5190, 'balneariais': 3390, 'uso': 11966, 'utilizamos': 11978, 'propias': 9768, 'terceros': 11473, 'análisis': 2927, 'medición': 8332, 'nuestra': 8843, 'mejorar': 8340, 'nuestros': 8845, 'servicios': 10681, 'continua': 4542, 'navegando': 8670, 'consideramos': 4503, 'acepta': 2537, 'aceptar': 2538, 'getcookie': 6468, 'c_name': 3874, 'c_value': 3876, 'c_start': 3875, 'null': 8852, 'c_end': 3873, 'unescape': 11871, 'substring': 11247, 'setcookie': 10687, 'exdays': 5820, 'exdate': 5819, 'setdate': 10688, 'getdate': 6469, 'expires': 5854, 'toutcstring': 11670, 'tiendaaviso': 11597, 'barraaceptacion': 3406, 'ponercookie': 9511, '365': 684, 'inner': 7276, 'fff8a1': 6126, 'footerpolitical': 6263, 'lifebecause': 7975, 'ortl': 9056, 'polst': 9506, 'contest': 4540, 'winners': 12350, 'ortlef': 9057, 'auction': 3101, 'highlights': 6897, 'nrl': 8840, 'abridged': 2473, 'soliloquy': 10925, '94': 2090, 'caption': 3932, 'namethis': 8649, 'validation': 12009, 'unchanged': 11852, 'ajax': 2740, 'gforminitspinner': 6501, 'gravityforms': 6630, 'spinner': 11018, 'gif': 6505, 'gform_ajax_frame_13': 6487, 'is_postback': 7421, 'gf_ajax_postback': 6479, 'form_content': 6284, 'gform_wrapper_13': 6498, 'is_confirmation': 7419, 'gform_confirmation_wrapper_13': 6490, 'is_redirect': 7422, 'gformredirect': 6502, 'is_form': 7420, 'hasclass': 6777, 'gform_validation_error': 6496, 'removeclass': 10160, 'delay': 4994, 'milliseconds': 8429, 'chrome': 4172, 'offset': 8933, 'gforminitdatepicker': 6499, 'gforminitpricefields': 6500, 'current_page': 4743, 'gform_source_page_number_13': 6495, 'val': 12003, 'trigger': 11733, 'gform_page_loaded': 6491, 'gf_submitting_13': 6483, 'confirmation_content': 4463, 'replacewith': 10177, 'gf_13': 6478, 'gform_confirmation_loaded': 6488, 'gform_13': 6485, 'append': 2943, 'gform_post_render': 6493, 'typeof': 11803, 'gf_global': 6481, 'undefined': 11856, 'gf_currency_config': 6480, 'symbol_left': 11362, 'symbol_right': 11364, 'symbol_padding': 11363, 'thousand_separator': 11570, 'decimal_separator': 4938, 'decimals': 4939, 'base_url': 3411, 'number_formats': 8855, 'spinnerurl': 11019, 'formid': 6293, 'currentpage': 4745, 'placeholders': 9425, 'gform_post_conditional_logic': 6492, 'isinit': 7426, 'oregonfrom': 9031, 'social': 10902, 'dow': 5305, 'ugly': 11825, 'organized': 9043, 'afternoon': 2706, 'salem': 10471, 'disgraced': 5191, 'wingard': 12349, 'appeal': 2937, 'lawsuit': 7859, 'pres': 9635, 'reinstating': 10106, 'reveal': 10276, 'bloc': 3629, 'competitive': 4401, 'elections': 5544, 'solidarity': 10924, 'reestablishing': 10055, 'contribute': 4558, 'footersite': 6264, 'signup': 10802, 'summaries': 11279, 'emailthis': 5584, 'gform_ajax_frame_10': 6486, 'gform_wrapper_10': 6497, 'gform_confirmation_wrapper_10': 6489, 'gform_source_page_number_10': 6494, 'gf_submitting_10': 6482, 'gf_10': 6477, 'gform_10': 6484, '503': 1349, '463': 1009, '8563': 1876, 'river': 10343, 'keizer': 7730, '97303': 2142, 'reasoning': 10010, '2017august': 350, 'rhetoric': 10299, 'phrasing': 9382, 'affect': 2683, 'discussing': 5186, 'boggling': 3655, 'sides': 10781, 'vocabulary': 12144, 'agreed': 2723, 'dialogue': 5118, 'caveat': 4001, 'motives': 8569, 'employed': 5612, 'foes': 6230, 'rarely': 9964, 'referred': 10067, 'foe': 6229, 'subconsciously': 11207, 'biases': 3585, 'frankly': 6332, 'vast': 12034, 'rhetorical': 10300, 'maneuver': 8197, 'denigrate': 5029, 'dehumanizing': 4988, 'language': 7822, 'clump': 4261, 'nomalized': 8778, 'humanize': 7006, 'emphasizes': 5610, 'ongoing': 8967, 'involves': 7383, 'progression': 9746, 'emphasize': 5609, 'phrase': 9381, 'committing': 4379, 'reveals': 10278, 'lifelong': 7982, 'undone': 11868, 'proper': 9764, 'essentially': 5730, 'recognizing': 10033, '2017july': 351, 'attitudes': 3096, 'vary': 12030, 'exhaustive': 5824, 'encompasses': 5630, 'rates': 9968, 'harder': 6763, 'collect': 4291, 'verify': 12060, 'domestic': 5262, 'missing': 8476, 'incomplete': 7198, 'australian': 3121, 'austria': 3122, 'austrian': 3123, '2000': 327, 'belgium': 3521, 'belgian': 3520, 'brazil': 3710, 'canadian': 3915, 'chile': 4137, 'chilean': 4138, 'chinese': 4144, 'costa': 4620, 'rica': 10304, 'rican': 10305, 'cuba': 4720, 'cuban': 4721, 'denmark': 5030, 'france': 6328, 'french': 6350, 'republic': 10197, 'georgian': 6458, 'german': 6460, 'greece': 6635, 'hungary': 7011, 'hungarian': 7010, 'indian': 7218, 'israel': 7436, 'israeli': 7437, 'italy': 7451, 'italian': 7447, 'japan': 7589, 'japanese': 7590, 'kazakhstan': 7720, 'netherlands': 8720, 'zealand': 12544, 'norway': 8807, 'poland': 9490, 'polish': 9494, 'portuguese': 9524, 'romania': 10370, 'romanian': 10371, 'russian': 10421, 'spain': 10981, 'sweden': 11349, 'swedish': 11350, 'switzerland': 11358, 'swiss': 11356, 'kingdom': 7767, 'british': 3737, 'rake': 9944, 'adding': 2601, 'guttmacher': 6693, 'lancet': 7817, 'legality': 7898, 'broad': 3738, 'strokes': 11184, 'communist': 4385, 'soviet': 10976, 'union': 11892, 'permissive': 9314, 'particularly': 9205, 'britain': 3736, 'scandinavia': 10535, 'restrictive': 10258, 'restrict': 10256, 'asia': 3038, 'approximately': 2969, 'panama': 9164, 'bolivia': 3659, 'haiti': 6727, 'colombia': 4298, 'thailand': 11515, 'indonesia': 7231, 'banned': 3393, 'outright': 9083, 'respects': 10236, 'illegal': 7118, 'illegality': 7119, 'instances': 7304, 'occurs': 8912, 'enforcement': 5653, 'primarily': 9675, 'mexico': 8393, 'operates': 8990, 'grassroots': 6621, 'statewide': 11095, 'nationally': 8663, 'neighboring': 8702, 'geographically': 6455, 'heavily': 6837, 'involve': 7379, 'deformity': 4979, 'strict': 11176, 'presents': 9646, 'backwards': 3376, 'overturned': 9099, 'widespread': 12326, 'corners': 4606, 'fifty': 6146, 'liberalized': 7955, '1920': 257, 'intact': 7316, 'significantly': 10796, 'impression': 7170, 'ending': 5640, 'persistence': 9323, 'afford': 2691, 'glance': 6528, 'appear': 2939, 'annually': 2895, 'inflated': 7247, 'misrepresenting': 8472, 'contributing': 4560, 'references': 10060, '9171': 2052, '906898': 2033, 'ibid': 7045, 'bbc': 3432, 'legalised': 7897, '6586959': 1575, 'stm': 11145, 'hammond': 6732, 'peter': 9342, 'christianaction': 4164, 'za': 12541, 'htm': 6991, 'induced': 7232, 'pubs': 9833, 'fb_iaw': 6022, 'limit': 8010, 'originally': 9053, 'gojoewesley': 6558, 'theologhia': 11537, 'gendercide': 6433, 'elsewhere': 5578, 'prevalence': 9661, 'balance': 3386, 'ratios': 9974, 'estimated': 5743, 'ironic': 7397, 'normally': 8802, 'proclaims': 9714, 'instrument': 7311, 'empowerment': 5620, 'devalued': 5091, 'disposed': 5205, 'conceiving': 4425, 'poses': 9526, 'embarrassing': 5586, 'awkward': 3167, 'rationalize': 9972, 'empowers': 5621, 'empowered': 5618, 'feminists': 6102, 'grotesque': 6655, 'prominent': 9753, 'combine': 4347, 'devastating': 5092, 'according': 2521, 'wikipedia': 12333, 'scholars': 10544, 'proportion': 9769, 'decreases': 4949, 'globally': 6536, 'junhong': 7697, 'vietnam': 12089, 'myanmar': 8616, 'korea': 7793, 'systematically': 11370, 'trafficked': 11685, 'mainland': 8170, 'taiwan': 11391, 'marriages': 8233, 'moreover': 8549, 'ullman': 11833, 'fidell': 6134, 'suggested': 11265, 'pornography': 9521, 'molestation': 8508, 'ratio': 9970, 'practiced': 9577, 'suggesting': 11266, 'coerced': 4276, 'manner': 8204, 'skew': 10848, 'tens': 11470, 'rampant': 9950, 'asian': 3039, 'eighteen': 5531, 'societies': 10909, 'sizes': 10844, 'capacity': 3928, 'eliminate': 5567, 'misogyny': 8470, 'developments': 5099, 'eliminating': 5569, 'douthat': 5302, 'ross': 10384, 'york': 12498, 'mosher': 8561, 'steven': 11132, 'lifesitenews': 7990, 'ldn': 7870, '08041510z': 78, 'loses': 8097, '10m': 146, 'south_asia': 10974, '4592890': 983, '2016july': 347, 'handed': 6738, 'companion': 4390, 'bolton': 3661, 'infamous': 7238, 'sharp': 10725, 'backlash': 3374, 'led': 7891, 'influencing': 7251, 'mitigated': 8486, 'modified': 8502, 'casey': 3972, 'pp': 9569, 'sets': 10690, 'summary': 11280, 'attempted': 3089, 'exception': 5806, 'unsuccessful': 11916, 'illegally': 7120, 'declared': 4944, 'goes': 6556, '9th': 2269, '14th': 201, 'technically': 11444, 'becomes': 3495, 'largely': 7828, 'clinician': 4247, 'justifiable': 7707, 'psychological': 9819, 'familial': 5989, 'criticism': 4699, 'overreach': 9095, 'garnered': 6422, 'ventured': 12052, 'ordered': 9027, 'justiﬁcation': 7709, 'ruth': 10423, 'bader': 3381, 'ginsburg': 6510, 'ﬁnd': 12816, 'byron': 3789, 'criticized': 4700, 'occasions': 8903, 'ignored': 7094, 'overturn': 9098, 'segregation': 10624, 'plessy': 9462, 'ferguson': 6103, 'finds': 6171, 'gonzales': 6568, 'carhart': 3952, 'nelson': 8710, 'publishers': 9831, 'cornell': 4604, 'nmnewsandviews': 8767, '2016february': 346, 'overwhelming': 9102, '89': 1929, 'additionally': 2605, 'preferred': 9605, 'foremost': 6275, 'easiest': 5460, 'ninth': 8763, 'stigma': 11138, 'unmarried': 11905, 'consensus': 4494, 'comfortable': 4355, 'approaching': 2964, 'heartbeat': 6832, 'invasive': 7367, 'delivered': 5002, 'partial': 9197, 'wary': 12233, 'seemingly': 10617, 'subcommittee': 11206, 'separation': 10662, 'powers': 9568, '158': 209, '97th': 2157, 'etsy': 5752, '2016august': 345, 'illinois': 7122, 'looms': 8086, 'ahead': 2726, '920': 2062, 'comprises': 4414, 'nationwide': 8665, 'circumstance': 4189, 'waiting': 12204, 'periods': 9307, 'limits': 8014, 'depressed': 5042, 'league': 7878, 'whitted': 12313, 'cleary': 4231, 'takiff': 11395, 'magnoliadailyphoto': 8160, 'blogspot': 3634, 'capitol': 3930, 'hustle': 7019, 'bustle': 3779, 'populated': 9517, 'cities': 4192, 'forty': 6299, 'percent': 9291, 'sixty': 10841, 'representation': 10188, 'wealthy': 12251, '95': 2104, 'vitello': 12135, 'chilling': 4140, 'finer': 6173, 'lawrence': 7857, 'frohwirth': 6359, 'dauphinee': 4869, 'lindsay': 8017, 'singh': 10819, 'susheela': 11336, 'anne': 2886, 'quantitative': 9889, 'qualitative': 9886, 'perspectives': 9335, '110': 151, '118': 157, 'abort73': 2450, 'restoring': 10254, 'reducing': 10051, 'quarter': 9891, 'resort': 10223, 'desperate': 5065, 'category': 3985, 'epidemic': 5691, 'countless': 4640, 'adobobob': 2630, 'edublogs': 5498, 'estimates': 5744, 'exceeds': 5803, 'koolstra': 7792, 'kathryn': 7716, 'incidence': 7187, 'journals': 7654, '4304111': 873, 'pdf': 9265, 'coercion': 4277, 'triumph': 11738, 'refrain': 10077, 'studies': 11196, 'undergo': 11860, '84': 1856, 'accompany': 2516, 'dealt': 4912, 'gaining': 6407, 'informing': 7259, 'fb_induced_abortion': 6023, 'rue': 10405, 'vincent': 12106, 'coleman': 4286, 'priscilla': 9691, 'reardon': 10008, 'preliminary': 9617, 'monitor': 8525, 'sr5': 11047, 'artsenverbond': 3031, 'nl': 8766, 'ruhama': 10407, 'daniela': 4853, 'christopher': 4170, 'crouch': 4705, 'jody': 7635, 'duffy': 5344, 'mcneil': 8303, 'lorei': 8092, 'siegel': 10784, 'martha': 8235, 'shuping': 10770, 'mobley': 8497, 'sr': 11046, 'pilar': 9401, 'plazas': 9452, 'facilitators': 5958, 'retreat': 10271, 'inexpressive': 7237, 'motivating': 8567, 'walking': 12210, 'anticipate': 2910, 'agony': 2720, 'surfaces': 11310, 'judgemental': 7679, 'isolation': 7435, 'sadness': 10459, 'reconnect': 10036, 'eighty': 5532, 'healed': 6819, 'wave': 12242, 'magic': 8159, 'wand': 12217, 'memories': 8355, 'forgive': 6278, 'oneself': 8966, 'anxiety': 2916, 'panic': 9166, 'emotionally': 5606, 'numb': 8853, 'sorrow': 10954, 'depressionclick': 5043, 'coping': 4591, 'skills': 10851, 'addiction': 2600, 'relationships': 10120, 'vineyard': 12108, 'retreats': 10272, 'fostering': 6306, 'restorationfor': 10251, 'wounded': 12430, '404': 787, '717': 1694, '5557': 1418, '470': 1041, '3433': 651, 'comwomen': 4421, 'misoprostol': 8471, 'navigationhome': 8672, 'dosage': 5290, 'adverse': 2649, 'useful': 11954, 'detailed': 5077, 'accessed': 2511, 'drug': 5336, 'fda': 6058, 'prevention': 9665, 'gastric': 6425, 'ulcers': 11832, 'chronic': 4173, 'nonsteroidal': 8790, 'inflammatory': 7245, 'drugs': 5337, 'nsaids': 8842, 'obstetrics': 8895, 'gynaecology': 6703, 'varies': 12027, 'indication': 7223, 'route': 10390, 'angusta': 2878, 'tablet': 11381, 'µg': 12582, 'labour': 7808, 'nordic': 8798, 'danish': 4854, 'azanta': 3173, 'obtained': 8898, 'european': 5757, 'ladders': 7813, 'shanice': 10719, 'richardson': 10309, 'liverpool': 8047, 'organisations': 9037, 'characteristics': 4104, 'spc': 10987, 'cytotec': 4768, 'lists': 8036, 'pyrexia': 9872, 'fever': 6114, 'shivering': 10742, 'hyperstimulation': 7032, 'teratogenicity': 11472, 'andrew': 2861, 'frcog': 6338, 'ukinfo': 11830, 'fiala': 6131, 'phd': 9357, 'vienna': 12087, 'usability': 11948, 'pixus': 9418, 'existjoin': 5829, 'uspregnancy': 11968, 'centersdonate': 4048, 'stork': 11156, 'bus': 3773, 'monthlyan': 8539, '105': 139, '175enter': 231, 'donatesave': 5271, 'storks': 11157, 'statealabamaalaskaarizonaarkansascaliforniacoloradoconnecticutdelawaredistrict': 11086, 'columbiafloridageorgiahawaiiidahoillinoisindianaiowakansaskentuckylouisianamainemarylandmassachusettsmichiganminnesotamississippimissourimontananebraskanevadanew': 4341, 'hampshirenew': 6733, 'jerseynew': 7623, 'mexiconew': 8394, 'yorknorth': 12499, 'carolinanorth': 3956, 'dakotaohiooklahomaoregonpennsylvaniarhode': 4837, 'islandsouth': 7431, 'carolinasouth': 3957, 'dakotatennesseetexasutahvermontvirginiawashingtonwest': 4838, 'virginiawisconsinwyoming': 12117, 'zip': 12548, 'birthday': 3609, 'month01': 8537, 'january02': 7588, 'february03': 6077, 'march04': 8213, 'april05': 2973, 'may06': 8275, 'june07': 7696, 'july08': 7691, 'august09': 3108, 'september10': 10664, 'october11': 8917, 'november12': 8833, 'card': 3941, 'expiration': 5853, 'facebookradiosave': 5953, 'sundayemaileventother': 11285, 'venue': 12053, '64': 1559, 'pressured': 9656, 'solution': 10927, 'buses': 3774, 'abusive': 2493, 'relationship': 10119, 'yakemah': 12486, 'englewood': 5658, 'nj': 8765, 'expectant': 5838, 'worksyour': 12414, 'busour': 3778, 'ultrasoundsaboard': 11840, 'recieve': 10025, 'optionsexpectant': 9018, 'life4': 7974, 'savethestorksget': 10518, 'storieseach': 11155, 'donatepartner': 5270, 'cup': 4733, 'coffee': 4279, 'lifefundraisejoin': 7978, 'missioncontactdonatepregnancy': 8478, 'centersblogjoin': 4047, 'usstorefaq': 11969, 'grounds': 6657, 'revisited': 10293, 'brass': 3707, 'plates': 9442, 'brick': 3724, 'pavers': 9250, 'virtual': 12118, 'store': 11152, 'heaven': 6836, 'partnership': 9212, 'partners': 9211, 'onbeforeunload': 8962, 'promo': 9757, 'main01slideshow': 8167, 'jpghttp': 7662, 'memorialfortheunborn': 8354, 'nmu': 8768, '01slideshow': 27, 'jpg02slideshow': 7660, '02slideshow': 34, 'jpg03slideshow': 7661, '03slideshow': 46, 'generations': 6440, 'miscarried': 8466, 'nameless': 8646, 'honoured': 6956, 'remembrance': 10149, 'granite': 6613, 'holds': 6928, 'honouring': 6957, 'peaceful': 9267, 'sanctuary': 10486, 'engraved': 5660, 'paths': 9238, 'solace': 10918, 'markers': 8226, 'pool': 9513, 'burden': 3766, 'grief': 6647, 'similarly': 10809, 'tangible': 11405, 'closure': 4258, 'hopeless': 6961, 'testimonialstestimonials2': 11502, 'testimonials2': 11495, 'jpgtestimonials3': 7664, 'testimonials3': 11496, 'jpgtestimonials4': 7665, 'testimonials4': 11497, 'jpgtestimonials5': 7666, 'testimonials5': 11498, 'jpgtestimonials6': 7667, 'testimonials6': 11499, 'jpgtestimonials7': 7668, 'testimonials7': 11500, 'jpgtestimonials8': 7669, 'testimonials8': 11501, 'jpgtestimonials1': 7663, 'testimonials1': 11494, 'joomla': 7645, 'gnu': 6546, '614': 1533, '547': 1405, '0099': 15, 'ohiolife': 8939, 'comparisons': 4396, 'cards': 3942, 'ohiorighttolife': 8940, 'ohiovotesforlife': 8941, 'cx': 4764, '016795375125685391181': 23, 'dzalhw5yr3e': 5365, 'gcse': 6429, 'cse': 4714, 'cool': 4585, 'log': 8073, '572': 1443, '4223': 846, 'seattle': 10591, 'renton': 10167, 'tacoma': 11384, 'sedation': 10607, 'indications': 7224, 'lgbtq': 7948, 'insemination': 7286, 'jobs': 7632, 'reviews': 10291, 'pap': 9167, 'smears': 10883, 'infection': 7241, 'checks': 4120, 'hiv': 6915, 'sti': 11133, 'evaluations': 5764, 'apple': 2947, 'sliding': 10871, 'scale': 10532, '263': 510, 'rainier': 9940, 'ave': 3141, 'wa': 12201, '98057': 2164, 'parking': 9186, 'olive': 8956, '1454': 191, '98101': 2166, '1401': 189, 'luther': 8134, '98405': 2169, 'cedar': 4030, 'aaahc': 2413, 'rigorous': 10324, 'accreditation': 2528, 'ambulatory': 2824, 'combines': 4349, 'activism': 2560, 'preserve': 9647, 'demystify': 5023, 'protestors': 9789, 'trusting': 11752, 'walked': 12208, 'door': 5287, 'consistently': 4511, 'confident': 4456, 'spot': 11031, 'dried': 5322, 'impressed': 7169, 'en_gb': 5625, 'sdk': 10581, 'xfbml': 12471, 'jssdk': 7674, 'weblizar': 12262, 'independent': 7214, 'fwhc': 6401, 'ein': 5534, '91': 2047, '1083929': 144, 'ware': 12225, 'uncategorized': 11851, 'berkeley': 3544, 'uc': 11813, 'asuc': 3072, 'loaded': 8060, 'firstimage': 6185, 'filter': 6161, 'checkforloaded': 4118, 'setinterval': 10689, 'readystate': 9996, 'clearinterval': 4229, 'usecss': 11952, 'ipad': 7389, 'flickering': 6208, '7000': 1681, 'smoothheight': 10889, 'walter': 12216, 'hoye': 6986, 'worker': 12408, 'ounder': 9069, 'issues4life': 7442, 'introducing': 7360, 'evans': 5766, '8pm': 2021, 'bsl': 3748, 'stacey': 11055, 'massey': 8251, '7pm': 1793, 'naacp': 8638, 'misguidedly': 8468, 'reverses': 10286, 'stances': 11066, 'francine': 6329, 'anene': 2863, 'bomberger1': 3665, 'provocative': 9810, 'slogans': 10876, 'tsiaras': 11760, 'talks': 11400, 'entertainment': 5675, 'academic': 2500, 'sapling': 10501, 'showcase': 10761, 'spreading': 11036, 'anneliise': 2887, 'rehn': 10104, 'mcb': 8297, '61': 1531, 'gsi': 6665, '512345': 1366, 'berkeleyforlife': 3545, '3456789': 653, '10111213141516': 132, '17181920212223': 228, '24252627282930': 454, 'bi': 3584, 'meetings': 8337, 'wheeler': 12301, 'tuesdays': 11769, 'tabling': 11382, 'sproul': 11040, 'plaza': 9451, 'fridays': 6354, 'tba': 11431, 'unilever': 11887, 'sunlight': 11286, 'sf': 10708, 'tags2013': 11388, 'shower': 10762, 'calapalooza': 3888, 'documentary': 5242, 'harold': 6768, 'malcolm': 8182, 'potts': 9558, 'meetingss': 8338, 'petals': 9341, 'dust': 5353, 'bomberger': 3664, 'francisco': 6330, 'scott': 10560, 'klusendorf': 7774, 'radiance': 9931, 'alx': 2808, 'php': 9380, 'voices': 12148, 'podcasts': 9483, 'dayton': 4877, 'wright': 12457, 'haskell': 6779, 'miami': 8398, 'valley': 12012, 'archdiocese': 2983, 'cincinnati': 4179, 'maafa21': 8144, 'mildred': 8419, 'jefferson': 7614, 'rapper': 9961, 'nick': 8749, 'canon': 3923, 'carson': 3965, 'breakfast': 3714, 'chain': 4082, 'p7_opdmm': 9126, 'p7dmm_1': 9127, '450': 958, 'guardians': 6674, 'proposed': 9771, 'locally': 8069, '990': 2181, 'internal': 7337, 'ii': 7110, 'javascriptkit': 7593, 'scripts': 10570, 'gsitesearch': 6666, 'curobj': 4738, 'domainroot': 5260, 'selectedindex': 10631, 'qfront': 9874, 'cmd': 4264, 'technologies': 11447, '46px': 1038, '19px': 285, '454242': 965, '22px': 423, '161515': 219, '11px': 158, 'ｍｓ': 12817, 'ｐゴシック': 12818, 'pgothic': 9352, '돋움': 12815, 'dotum': 5296, '3a00ff': 737, 'f7b800': 5932, 'd2cece': 4787, '737070': 1711, 'fcf2aa': 6049, 'f9eb80': 5943, 'f7db07': 5935, 'a49204': 2343, '524902': 1384, 'f1f4ed': 5894, 'd4efb7': 4796, '82cc33': 1837, '578922': 1445, '2b4411': 567, 'f0b2a5': 5886, 'e28b77': 5390, 'd3310c': 4792, '8d2008': 1990, '461004': 1003, 'b2aafc': 3220, '8c7ffa': 1980, '1d05f7': 303, '1303a5': 174, '0a0252': 91, 'maine': 8168, 'c2bg': 3815, '69': 1626, 'c2inlinecontent': 3818, 'c3bg': 3821, '247': 465, 'c3inlinecontent': 3824, 'homenewspregnant': 6938, 'helpabortionmaine': 6854, 'societyend': 10911, 'liferesourceslegislativemore': 7985, 'ddm2itemscontainer': 4893, 'ddm2morecontainer': 4894, 'ddm2dropwrapper': 4892, 'ddm2repeaterbutton': 4895, 'ddm2repeaterbuttonlinkelement': 4898, 'ddm2repeaterbutton_gapper': 4896, '8px': 2022, 'ddm2repeaterbuttonlabel': 4897, 'b2': 3210, 'b2link': 3230, 'b2labelwrapper': 3229, 'b2label': 3228, 'mrlc': 8590, '207': 374, '782': 1750, '0101': 19, '0221': 29, 'auburn': 3100, '04212': 50, 'vl1': 12141, '2000px': 328, 'dashed': 4861, 'alertsemailmobile': 2752, 'numberafghanistan': 8856, '93åland': 2089, 'islands': 7430, '358': 672, '18albania': 249, '355algeria': 669, '213american': 391, 'samoa': 10478, '684andorra': 1613, '376angola': 703, '244anguilla': 459, '264antigua': 513, 'barbuda': 3402, '268argentina': 520, '54armenia': 1408, '374aruba': 700, '297australia': 551, '61austria': 1537, '43azerbaijan': 903, '994bahamas': 2189, '242bahrain': 456, '973bangladesh': 2143, '880barbados': 1917, '246belarus': 463, '375belgium': 701, '32belize': 635, '501benin': 1346, '229bermuda': 418, '441bhutan': 921, '975bolivia': 2145, 'plurinational': 9470, '591bonaire': 1461, 'sint': 10826, 'eustatius': 5760, 'saba': 10447, '599': 1469, '7bosnia': 1770, 'herzegovina': 6880, '387botswana': 720, '267brazil': 517, '55british': 1424, 'ocean': 8913, 'territory': 11483, '246brunei': 464, 'darussalam': 4860, '673bulgaria': 1594, '359burkina': 674, 'faso': 6003, '226burundi': 413, '257cambodia': 489, '855cameroon': 1875, '237canada': 440, '1cape': 302, 'verde': 12056, '238cayman': 443, '345central': 654, '236chad': 439, '235chile': 438, '56china': 1438, '86christmas': 1896, 'island': 7429, '61cocos': 1539, 'keeling': 7726, '61colombia': 1540, '57comoros': 1447, '269congo': 522, '242congo': 457, 'democratic': 5015, '243cook': 458, '682costa': 1610, '506côte': 1354, 'ivoire': 7458, '225croatia': 412, '385cuba': 718, '53curaçao': 1400, '9cyprus': 2225, '357czech': 671, '420denmark': 843, '45djibouti': 993, '253dominica': 480, '767dominican': 1736, '809ecuador': 1808, '593egypt': 1463, '20el': 379, 'salvador': 10474, '503equatorial': 1350, 'guinea': 6686, '240eritrea': 450, '291estonia': 545, '372ethiopia': 696, '251falkland': 478, 'malvinas': 8187, '500faroe': 1343, '298fiji': 552, '679finland': 1602, '358france': 673, '33french': 647, 'guiana': 6680, '594french': 1464, 'polynesia': 9509, '689gabon': 1622, '241gambia': 452, '220georgia': 402, '995germany': 2193, '49ghana': 1137, '233gibraltar': 432, '350greece': 662, '30greenland': 615, '299grenada': 553, '473guadeloupe': 1049, '590guam': 1457, '671guatemala': 1592, '502guernsey': 1348, '44guinea': 952, '224guinea': 409, 'bissau': 3612, '245guyana': 462, '592haiti': 1462, '509honduras': 1358, '504hong': 1352, 'kong': 7791, '852hungary': 1872, '36iceland': 691, '354india': 668, '91indonesia': 2061, '62iran': 1548, 'islamic': 7427, '98iraq': 2180, '964ireland': 2121, '353isle': 667, '44israel': 953, '972italy': 2141, '39jamaica': 735, '876japan': 1905, '81jersey': 1830, '44jordan': 954, '962kazakhstan': 2117, '7kenya': 1791, '254kiribati': 484, '686korea': 1617, '850korea': 1871, '82kuwait': 1840, '965kyrgyzstan': 2124, '996lao': 2194, '856latvia': 1877, '371lebanon': 695, '961lesotho': 2116, '266liberia': 516, '231libya': 428, '218liechtenstein': 395, '423lithuania': 848, '370luxembourg': 694, '352macao': 665, '853macedonia': 1873, 'yugoslav': 12522, '389madagascar': 722, '261malawi': 506, '265malaysia': 515, '60maldives': 1529, '960mali': 2115, '223malta': 408, '356marshall': 670, '692martinique': 1632, '596mauritania': 1466, '222mauritius': 406, '230mayotte': 427, '262mexico': 508, '52micronesia': 1394, 'federated': 6083, '691moldova': 1630, '373monaco': 699, '377mongolia': 705, '976montenegro': 2149, '382montserrat': 715, '664morocco': 1582, '212mozambique': 389, '258namibia': 491, '264nauru': 514, '674nepal': 1595, '977netherlands': 2151, '31new': 624, 'caledonia': 3893, '687new': 1618, '64nicaragua': 1568, '505niger': 1353, '227nigeria': 415, '234niue': 435, '683norfolk': 1611, '672northern': 1593, 'mariana': 8219, '670norway': 1591, '47oman': 1074, '968pakistan': 2128, '92palau': 2072, '680palestine': 1607, '970panama': 2136, '507papua': 1355, '675paraguay': 1596, '595peru': 1465, '51philippines': 1374, '63pitcairn': 1558, '64poland': 1569, '48portugal': 1110, '351puerto': 664, 'rico': 10313, '787qatar': 1756, '974réunion': 2144, '262romania': 509, '40russian': 808, '7rwanda': 1795, '250saint': 476, 'barthélemy': 3409, '590saint': 1458, 'helena': 6847, 'ascension': 3034, 'tristan': 11737, 'cunha': 4732, '290saint': 544, 'kitts': 7772, 'nevis': 8729, '869saint': 1894, 'lucia': 8118, '758saint': 1726, 'pierre': 9398, 'miquelon': 8457, '508saint': 1356, 'grenadines': 6643, '784samoa': 1754, '685san': 1614, 'marino': 8222, '378sao': 706, 'tome': 11644, 'principe': 9680, '239saudi': 445, 'arabia': 2978, '966senegal': 2125, '221serbia': 403, '381seychelles': 713, '248sierra': 468, 'leone': 7927, '232singapore': 430, '65sint': 1579, 'maarten': 8145, '721slovakia': 1700, '421slovenia': 845, '386solomon': 719, '677somalia': 1600, '252south': 479, '27south': 530, 'sandwich': 10489, '500south': 1344, 'sudan': 11256, '211spain': 387, '34sri': 660, 'lanka': 7825, '94sudan': 2103, '249suriname': 470, '597svalbard': 1467, 'mayen': 8277, '79swaziland': 1761, '268sweden': 521, '46switzerland': 1039, '41syrian': 839, 'arab': 2977, '963taiwan': 2119, 'province': 9807, '886tajikistan': 1921, '992tanzania': 2185, '255thailand': 486, '66togo': 1589, '228tokelau': 417, '690tonga': 1629, '676trinidad': 1598, 'tobago': 11627, '868tunisia': 1893, '216turkey': 394, '90turkmenistan': 2046, '993turks': 2187, 'caicos': 3886, '649tuvalu': 1562, '688uganda': 1621, '256ukraine': 487, '380united': 711, 'emirates': 5602, '971united': 2138, '44united': 956, '1uruguay': 323, '598uzbekistan': 1468, '998vanuatu': 2195, '678venezuela': 1601, 'bolivarian': 3658, '58viet': 1455, 'nam': 8641, '84wallis': 1865, 'futuna': 6398, '681yemen': 1608, '967zambia': 2126, '260zimbabwe': 503, '263namelast': 512, 'namesubscribe': 8648, 'subscribeform_1wrapper': 11244, 'subscribeform_1_hidden': 11228, 'subscribeform_1': 11218, 'subscribeform_1_message': 11233, '800px': 1800, '81px': 1831, '1000px': 128, '300px': 603, 'subscribeform_1_wrapper': 11242, 'subscribeform_1_container': 11222, '210': 383, '206': 373, 'subscribeform_1_table': 11239, 'subscribeform_1_fixed': 11226, 'layout': 7863, 'subscribeform_1_bottom': 11220, 'subscribeform_1_with': 11241, 'subscribeform_1_button': 11221, 'subscribeform_1_icon': 11229, 'envelope': 5687, '54px': 1409, 'rect': 10044, 'subscribeform_1_title': 11240, 'icon': 7049, '65px': 1578, 'subscribeform_1_input': 11230, 'subscribeform_1_error': 11225, 'subscribeform_1_line': 11232, 'subscribeform_1_phone': 11234, 'subscribeform_1_phone_wrapper': 11235, 'subscribeform_1_phonefield': 11236, 'subscribeform_1_drop': 11223, '106px': 140, 'subscribeform_1_selected': 11237, 'subscribeform_1_after': 11219, 'polygon': 9507, 'subscribeform_1_forphone': 11227, '126px': 166, 'subscribeform_1_editorview': 11224, 'd1d1d1': 4782, 'subscribeform_1_success': 11238, 'subscribeform_1_invertible': 11231, 'subscribeform_1phonenumberfield': 11243, '86px': 1901, '96px': 2135, 'mainerighttolife': 8169, 'ppb0': 9570, 'ppb0text': 9572, 'ppb0submitimage': 9571, 'ppb0trackingpixel': 9573, 'fc2screenwidthbackground': 6044, 'fc2': 6038, 'fc2_footer': 6040, 'fc2_bg': 6039, 'fc2bg': 6041, 'fc2inlinecontent': 6043, 'fc2centeredcontent': 6042, 'iy35psztiframe': 7471, 'iy35pszt': 7470, 'iframenotshown': 7088, 'iframerenderedinvisible': 7089, 'c4bg': 3829, '6px': 1675, 'c4_ribbon': 3828, 'c4_fr': 3827, 'c4_fl': 3826, 'c4inlinecontent': 3835, 'founded': 6312, 'inviolable': 7372, 'actively': 2559, 'vl2': 12142, 'vl2line': 12143, 'ikzl60zy_zoomedin': 7111, 'ikzl60zy_zoomedout': 7112, 'ikzl60zylink': 7115, 'ikzl60zyimg': 7113, 'ikzl60zyimgimage': 7114, 'hot': 6973, '558': 1421, '0333': 36, 'p2bg': 9124, 'p2': 9123, 'p2inlinecontent': 9125, 'donors': 5282, 'latinos': 7841, 'irma': 7396, 'golf': 6563, 'club': 4260, 'corsage': 4614, 'hometown': 6941, 'buffet': 3756, 'lifewalk': 7993, 'trinity': 11735, 'youth': 12510, 'tkrl': 11623, 'prison': 9692, 'cos': 4617, 'missions': 8479, 'lucy': 8121, 'fowler': 6317, 'saint': 10465, 'rita': 10339, 'kingsburg': 7769, 'prc': 9593, 'ribbon': 10303, 'cutting': 4762, 'visalia': 12120, 'brigid': 3731, 'tulare': 11770, '23rd': 448, 'banquetseptember': 3397, 'pmvisalia': 9473, '0weeks0days0hours': 123, 'entryshare': 5686, 'facebookshare': 5954, 'twittershare': 11795, 'pinterestshare': 9409, 'linkedinshare': 8024, 'tumblrshare': 11773, 'vkshare': 12140, 'redditshare': 10046, 'ethnicity': 5751, 'regret': 10097, 'theirmanetwork': 11529, 'latinos4life': 7842, 'hispanic': 6907, 'bilingual': 3594, 'communication': 4383, 'topics': 11657, 'dating': 4865, 'latinosforlife': 7843, 'voices4life': 12149, 'reverence': 10280, 'seeks': 10614, 'aged': 2711, 'distressed': 5217, 'participation': 9202, 'regard': 10083, 'experimentation': 5849, 'democracy': 5013, 'identify': 7057, 'counties': 4638, 'legislate': 7906, 'mindful': 8435, 'impoverished': 7168, 'impaired': 7154, 'incompetent': 7197, 'disadvantaged': 5167, 'defenseless': 4969, 'electronic': 5550, 'enfold': 5651, 'kriesi': 7796, 'conferences': 4451, 'infobox': 7253, 'secretariatmembershipfiapac': 10598, 'programme': 9743, 'fiapac': 6132, 'fam': 5986, 'plann': 9433, 'reprod': 10192, 'liberating': 7956, 'barriers': 3408, 'nantes': 8651, 'flyer': 6217, 'forwarding': 6302, 'colleagues': 4290, 'deadline': 4907, 'extended': 5872, 'survey': 11327, 'conducting': 4448, 'vema': 12044, '31st': 625, 'minimum': 8441, 'star': 11074, 'comet': 4353, 'standardization': 11069, 'researchers': 10212, 'meaningful': 8311, 'aim': 2734, 'narrow': 8656, 'collectively': 4294, 'generating': 6438, 'measured': 8317, 'delphi': 5009, 'fifteen': 6145, 'anywhere': 2926, 'expertise': 5851, 'participate': 9199, 'representatives': 10190, 'reduce': 10050, 'variation': 12026, 'collection': 4293, 'closes': 4256, '22nd': 422, 'katherine': 7715, 'whitehouse': 12311, 'whitehousek': 12312, 'int': 7315, 'organised': 9038, 'applications': 2953, 'formally': 6285, 'assembly': 3051, 'volume': 12153, 'applauds': 2946, 'pledged': 9459, 'existing': 5828, 'aid': 2731, 'commitments': 4376, 'deficit': 4971, 'overseas': 9096, 'delegates': 4996, 'brussels': 3747, '180': 239, 'euros': 5758, 'launched': 7849, 'deputy': 5045, 'imposition': 7165, 'gag': 6404, 'commit': 4374, 'joining': 7640, 'prosecution': 9774, 'northern': 8805, 'offences': 8922, 'relating': 10118, 'imprint': 7172, 'personhoodohio': 9331, 'babyproofing': 3332, 'lections': 7890, 'fun': 6378, 'happiness': 6756, 'lighten': 8001, 'aura': 3117, 'vibe': 12074, 'priceless': 9673, 'smiles': 10885, 'brighten': 3729, 'mood': 8542, 'cackling': 3882, 'weirdly': 12280, 'cute': 4761, 'guaranteed': 6671, 'wiring': 12356, 'appliances': 2950, 'unforeseen': 11875, 'devices': 5101, 'painters': 9147, 'outlets': 9079, 'installed': 7302, 'guide': 6681, 'valued': 12017, 'accidents': 2515, 'electronics': 5551, 'carpet': 3960, 'cleaners': 4225, 'hazard': 6792, 'plugged': 9465, 'energized': 5648, 'conductor': 4449, 'precautions': 9597, 'ensuring': 5670, 'appliance': 2949, 'companies': 4389, 'requirements': 10205, 'electric': 5546, 'burns': 3772, 'faulty': 6014, 'installations': 7301, 'objects': 8887, 'injected': 7269, 'consult': 4519, 'chiropractor': 4147, 'metal': 8385, 'toasters': 11626, 'water': 12241, 'wet': 12291, 'relates': 10117, 'inserting': 7289, 'channel': 4097, 'unplug': 11909, 'cords': 4600, 'tendency': 11466, 'sparks': 10986, 'distant': 5210, 'substations': 11246, 'climb': 4241, 'holes': 6929, 'fallen': 5981, 'obey': 8877, 'warnings': 12230, 'materia': 8259, 'iceable': 7046, 'hiring': 6905, 'electrician': 5548, 'plam': 9430, 'ministries': 8444, 'ministering': 8443, 'sidewalks': 10783, 'sidewalk': 10782, 'counselors': 4632, 'symposium': 11365, 'interdenominational': 7329, 'convictions': 4580, 'attend': 3091, 'vigils': 12098, 'affecting': 2685, 'ytd': 12521, 'willingness': 12342, 'neck': 8689, '651': 1571, '797': 1760, '6370': 1552, 'lift': 7995, 'orlando': 9055, 'evict': 5787, 'michele': 8403, 'herzog': 6881, 'florida': 6214, 'manager': 8193, 'revitalizing': 10294, 'surrounds': 11326, 'tampa': 11403, 'purchased': 9850, 'acres': 2547, 'post0': 9541, 'revoke': 10295, 'marijuana': 8221, 'introduction': 7361, 'pendergraft': 9284, 'prayed': 9588, 'cried': 4688, 'ambulance': 2823, 'hemorrhaging': 6868, 'harsh': 6771, 'probation': 9700, 'rescuers': 10208, 'editor': 5492, 'rose': 10382, 'prolifesociety': 9752, 'miller': 8425, 'mich': 8399, 'kovaly': 7795, 'matthew': 8268, 'connolly': 4484, 'minn': 8447, 'patrice': 9243, 'woodworth': 12402, 'goodman': 6570, 'wis': 12357, 'bloomfield': 3638, 'fails': 5971, 'senators': 10644, 'dismemberment': 5196, 'debra': 4920, 'braun': 3708, 'lmp': 8056, 'included': 7193, 'heidi': 6841, 'heitkamp': 6845, 'chuck': 4174, 'desperately': 5066, 'normalize': 8801, 'running': 10416, 'trashy': 11711, 'tabloid': 11383, 'mill': 8424, 'post3': 9544, 'presidency': 9648, 'restored': 10253, 'caroling': 3958, 'conducted': 4447, 'mills': 8430, 'carols': 3959, 'reconsider': 10037, 'recap': 10016, 'walker': 12209, 'vigil': 12096, 'organizing': 9044, 'post16': 9543, 'seeming': 10616, 'defiance': 4970, 'raid': 9937, 'interviewed': 7349, 'seized': 10627, 'judgement': 7678, 'malpractice': 8186, 'defacing': 4959, 'battery': 3421, 'van': 12021, 'sears': 10587, 'mechanic': 8320, 'employee': 5613, 'quit': 9914, 'apologetic': 2931, 'winandy': 12345, 'rescues': 10209, 'migliorino': 8413, 'alexan': 2755, 'dria': 5321, 'albuquerque': 2747, 'post15': 9542, '1163': 156, 'payne': 9256, '55130': 1413, '771': 1742, '1500': 204, '4000': 776, 'intercessors': 7327, 'br': 3697, 'donnell': 5279, 'chapel': 4099, 'harvests': 6774, 'supporter': 11295, 'criteria': 4697, 'overcoming': 9089, 'discouragement': 5179, 'refocusing': 10075, 'basics': 3416, 'reversing': 10287, 'reflections': 10072, 'reminders': 10154, 'jericho': 7620, 'vendors': 12046, 'films': 6159, 'jaffe': 7581, 'memo': 8351, 'foundations': 6311, 'kickstart': 7753, 'social_youtube': 10906, 'social_twitter': 10905, 'social_facebook': 10903, 'social_instagram': 10904, 'icoichoosing': 7048, 'ames': 2836, 'fort': 6296, 'dodge': 5248, 'burlington': 3769, 'charlie': 4111, 'liaison': 7950, 'savedmy': 10514, '3037': 607, 'statistically': 11099, 'eliminated': 5568, 'fear': 6068, 'statswhat': 11102, 'choice95': 4151, 'abortive': 2465, 'vitalstats': 12134, 'knowto': 7788, 'matching': 8258, 'challenge30may': 4087, '10mayoh': 147, 'signing': 10799, '03mayjoin': 45, '10th': 149, 'obria': 8890, 'brand08marin': 3705, 'bombarded': 3663, 'unlimited': 11904, 'story03novshare': 11160, 'whylife': 12320, 'iowa30octjoin': 7386, 'icoi': 7047, 'luncheon': 8131, 'rejoice': 10111, 'mc4wp': 8279, 'listeners': 8033, 'callback': 3898, 'donatevolunteer': 5272, 'matched': 8257, 'generous': 6441, 'donor': 5281, 'landing': 7819, 'needing': 8692, '2018iowa': 358, 'register': 10091, 'iowawalkforlife': 7387, '319': 622, '1006': 129, 'ins': 7285, 'fundraising': 6387, 'brand': 3704, 'costs': 4622, 'partnered': 9210, '2017share': 354, 'season': 10588, 'sponsors': 11029, 'kaloper': 7711, '2017reaching': 352, 'fastest': 6005, 'launching': 7850, '2017we': 355, 'trick': 11731, 'treating': 11721, 'alan': 2744, 'lisa': 8029, 'cry': 4712, '2017an': 349, 'expenses': 5843, 'budget': 3754, 'rsvp': 10399, 'complementary': 4404, 'duck': 5342, 'dynasty': 5364, '2017reserve': 353, 'seats': 10590, 'bigimprint': 3592, 'banner': 3394, 'banners': 3395, 'looped': 8088, 'mp4': 8586, 'profiles': 9732, 'bethany': 3551, 'overwhelmed': 9101, 'scared': 10536, 'racing': 9930, 'cta': 4718, 'options_asianwoman_computer_oustide': 9017, 'jumps': 7692, 'swinging': 11355, 'keaira': 7725, 'possibility': 9535, 'anybody': 2918, 'creeann': 4685, 'adoptive': 2634, 'claire': 4207, 'senior': 10648, 'worried': 12419, 'troup': 11744, 'finsupport_cauc_sitting_on_parkbench_hands': 6179, 'stressful': 11173, 'hardship': 6765, 'qualified': 9884, 'preference': 9604, 'hbspt': 6796, 'portalid': 9522, '2116899': 386, '27306194': 527, '4aa7': 1155, '4590': 981, '9434': 2094, 'f83032f77342': 5937, 'livechat': 8044, 'midnight': 8410, 'chat': 4113, '238': 441, '4269': 853, 'addeventlistener': 2599, 'sticky': 11137, 'adtegrity': 2638, 'pixel': 9416, 'adtpix': 2639, '107633': 141, 'appendchild': 2944, 'stackadapt': 11056, 'tracker': 11677, 'tracking': 11678, 'pixels': 9417, 'saq': 10502, 'conv': 4569, 'vf6hezotuq_iemah4zd8vg': 12069, 'suspended': 11337, 'aftereffects': 2701, 'pop': 9515, 'quiz': 9916, 'referrals': 10066, 'elliot': 5573, '123givelife': 163, 'comare': 4346, 'wisconsin': 12358, 'teenbreaks': 11453, 'comteenbreaks': 4418, 'optionline': 9015, 'orga': 9034, 'art': 3022, 'employs': 5616, 'toll': 11640, '9027': 2029, '95495nightingalealliance': 2109, 'orgwisconsin': 9049, 'nightingale': 8755, 'euthanasianational': 5762, 'nrlc': 8841, 'orgnational': 9047, 'compiled': 4402, 'esteemed': 5740, 'useventsaccomplishmentsmissionnewsroomfind': 11958, 'pendule': 9285, 'gethours': 6472, 'getminutes': 6473, 'getseconds': 6475, 'amorpm': 2844, 'secspassed': 10599, '3600': 678, 'absoh': 2479, '00096': 3, 'absohr': 2480, 'absus': 2488, '0272': 31, 'absusr': 2489, 'disptime': 5206, 'onload': 8969, 'petitiondefund': 9346, 'pathways': 9239, 'losses': 8100, 'unhealthy': 11882, 'behaviors': 3515, 'sonoma': 10943, 'lifeevery': 7977, 'usour': 11967, 'goalsonoma': 6551, 'scpl': 10562, 'fellowship': 6097, 'with_unbrandinglogo': 12364, 'shockmode': 10746, 'navigator': 8673, 'mimetypes': 8431, 'shockwave': 10747, 'enabledplugin': 5628, '550': 1412, '88': 1914, 'bgcolor': 3582, 'pluginspage': 9468, 'macromedia': 8148, 'noembed': 8775, 'lifesavers': 7988, 'glorifyjesus': 6538, 'htbeat': 6990, 'absmiddle': 2478, 'alt': 2799, 'appname': 2956, 'netscape': 8721, 'appversion': 2970, 'buttoncaption': 3785, 'mega': 8339, 'bakersfield': 3385, 'impacts': 7153, 'refutes': 10081, 'suicidal': 11267, 'suffers': 11262, 'botched': 3681, '323': 630, '2229': 405, 'lifehouse': 7979, 'streets': 11169, 'wr': 12449, 'cgi': 4081, 'referrer': 10068, 'spreadthe': 11037, 'palmquist': 9163, 'printcode': 9685, 'lsm': 8115, 'verdana': 12055, 'ffff33': 6127, '666666': 1584, '333333': 643, 'categorylisting': 3986, 'ffff66': 6128, 'プラセンタサプリの効果でアンチエイジング': 12814, 'heritage': 6874, 'fulton': 6377, 'rapids': 9958, '49503phone': 1124, '458': 976, '3694toll': 687, '345': 652, '1393': 181}\n"
     ]
    },
    {
     "data": {
      "text/plain": [
       "(81, 12819)"
      ]
     },
     "execution_count": 38,
     "metadata": {},
     "output_type": "execute_result"
    }
   ],
   "source": [
    "#For content\n",
    "\n",
    "i=0\n",
    "templist = []\n",
    "\n",
    "try:\n",
    "    vectorizer = TfidfVectorizer()\n",
    "    x = vectorizer.fit_transform([i.text for i in contentlist if None != i])\n",
    "    vocab1 = vectorizer.vocabulary_\n",
    "    print(vocab1)\n",
    "    #print(x.todense())\n",
    "    templist.append(list(x.todense()))                                ##CHECK THE X.TODENSE ARRAY\n",
    "except:\n",
    "    zerolist = [0]*50\n",
    "    A=np.empty((1,), dtype=list)\n",
    "    A.fill([0]*50)\n",
    "    print(A)\n",
    "    templist.append(list(A))\n",
    "\n",
    "df1=pd.DataFrame(x.todense(),columns= list(range(1,12820)))\n",
    "df1.drop_duplicates(inplace=True)\n",
    "df1.shape"
   ]
  },
  {
   "cell_type": "code",
   "execution_count": 40,
   "metadata": {},
   "outputs": [
    {
     "name": "stdout",
     "output_type": "stream",
     "text": [
      "{'search': 1240, 'for': 609, 'contact': 374, 'volunteer': 1488, 'donate': 477, 'right': 1201, 'to': 1397, 'life': 846, 'of': 992, 'ingham': 754, 'county': 391, 'join': 797, 'menu': 907, 'prolife': 1137, 'issues': 779, 'resources': 1190, 'events': 541, 'news': 961, 'about': 123, 'human': 724, 'development': 448, 'resource': 1189, 'councilfact': 389, 'not': 976, 'opinioncartaccount': 1009, 'legislative': 837, 'action': 131, 'center': 304, 'ohio': 996, 'closely': 338, 'monitors': 927, 'each': 489, 'and': 170, 'every': 545, 'piece': 1078, 'legislation': 835, 'that': 1375, 'could': 388, 'affect': 146, 'the': 1376, 'lives': 862, 'rights': 1202, 'citizens': 333, 'we': 1506, 'need': 954, 'you': 1555, 'help': 695, 'us': 1455, 'by': 269, 'calling': 282, 'your': 1557, 'representatives': 1184, 'internet': 767, 'security': 1244, 'tools': 1404, 'website': 1511, 'marketing': 889, 'webmail': 1510, 'more': 932, 'my': 947, 'earthlink': 492, 'blog': 247, 'account': 129, 'support': 1337, 'live': 860, 'chat': 314, 'location': 866, 'aul': 200, 'facebookinstagramtwitteryoutube': 562, 'home': 708, 'mission': 918, 'our': 1029, 'team': 1355, 'accomplishments': 128, 'directors': 460, 'advisors': 143, 'employment': 519, 'history': 706, 'internship': 768, 'externship': 558, 'opportunities': 1010, 'media': 898, 'alert': 152, 'op': 1005, 'eds': 499, 'book': 250, 'experts': 552, 'states': 1308, 'courts': 394, 'nominations': 971, 'amicus': 167, 'briefs': 259, 'before': 226, 'united': 1441, 'supreme': 1340, 'court': 393, 'federal': 587, 'circuit': 331, 'other': 1028, 'state': 1302, 'international': 766, 'victories': 1473, 'order': 1016, 'model': 924, 'testimony': 1370, 'call': 280, 'now': 979, 'careers': 293, 'testimonials': 1369, 'en': 521, 'español': 533, '800': 103, '447': 75, '7354': 98, 'request': 1187, 'an': 169, 'appointment': 177, '24': 53, 'hour': 716, 'paperwork': 1046, 'southfield': 1284, 'sterling': 1315, 'heights': 694, 'westland': 1517, 'get': 636, 'directions': 457, 'abortion': 118, 'first': 602, 'trimester': 1422, '14': 21, 'weeks': 1513, 'pill': 1079, 'second': 1242, '15': 24, 'michigan': 912, 'wait': 1499, 'time': 1392, 'teenage': 1358, 'law': 824, 'anesthesia': 171, 'fetal': 593, 'anomaly': 172, 'religious': 1178, 'views': 1476, 'on': 1000, 'choosing': 325, 'clinic': 336, 'after': 148, 'care': 291, 'supporting': 1339, 'loved': 872, 'one': 1002, 'emotions': 518, 'physical': 1075, 'healing': 684, 'pregnancy': 1113, 'options': 1014, 'calculator': 278, 'test': 1368, 'decision': 431, 'at': 190, 'abortions': 121, 'miscarriage': 916, 'treatment': 1420, 'adoption': 139, 'women': 1534, 'health': 685, 'plan': 1088, 'emergency': 515, 'contraception': 379, 'birth': 243, 'control': 382, 'family': 577, 'planning': 1090, 'healthy': 687, 'mi': 911, 'hpv': 721, 'vaccine': 1462, 'gynecology': 664, 'sexually': 1261, 'transmitted': 1417, 'infections': 749, 'locations': 867, 'detroit': 447, 'indiana': 747, 'canada': 284, 'who': 1522, 'are': 180, 'advocacy': 144, 'videos': 1475, 'coupons': 392, 'financial': 596, 'assistance': 186, 'insurance': 765, 'faqs': 579, 'links': 853, '586': 87, '268': 59, '1700': 28, '734': 97, '721': 96, '4700': 79, '248': 55, '559': 85, '0590': 7, 'leadership': 833, 'financials': 597, 'publications': 1145, 'fact': 569, 'sheets': 1264, 'posters': 1104, 'dvds': 488, 'bumper': 266, 'stickers': 1316, 'involved': 773, 'pro': 1127, 'healthcare': 686, 'alliance': 162, 'weekly': 1512, 'wire': 1529, 'press': 1120, 'subscribe': 1327, 'wp2_zoomedin': 1544, 'cursor': 403, 'url': 1454, 'https': 723, 'static': 1309, 'parastorage': 1047, 'com': 350, 'services': 1256, 'skins': 1278, '1229': 17, '80': 102, 'images': 741, 'wysiwyg': 1550, 'core': 384, 'themes': 1381, 'base': 221, 'cursor_zoom_out': 405, 'png': 1094, 'cur': 402, 'auto': 202, 'overflow': 1032, 'hidden': 703, 'display': 466, 'block': 246, 'wp2_zoomedout': 1545, 'cursor_zoom_in': 404, 'wp2link': 1548, 'wp2img': 1546, 'wp2imgimage': 1547, 'position': 1102, 'box': 256, 'shadow': 1262, '000': 0, 'user': 1458, 'select': 1248, 'none': 973, 'allentown': 161, 'strc1': 1322, 'data': 412, 'mobile': 922, 'responsive': 1193, 'strc1inlinecontent': 1323, 'absolute': 125, 'top': 1406, 'bottom': 255, 'left': 834, 'relative': 1176, 'ms': 940, 'grid': 656, 'webkit': 1509, 'pack': 1038, 'justify': 805, 'content': 377, 'template': 1362, 'columns': 349, '100': 12, 'rows': 1211, '1fr': 35, 'flex': 603, 'row': 1210, 'start': 1301, 'column': 348, 'end': 522, 'span': 1287, 'margin': 888, 'wp1_zoomedin': 1539, 'wp1_zoomedout': 1540, 'wp1link': 1543, 'wp1img': 1541, 'wp1imgimage': 1542, 'allegheny': 159, 'reproductive': 1185, 's_smhkwrichtextnewskin': 1215, 'word': 1535, 'wrap': 1549, 'break': 257, 'text': 1373, 'align': 155, 'pointer': 1096, 's_smhkwrichtextnewskin_override': 1216, 'important': 742, 'li': 842, 'font': 607, 'style': 1326, 'inherit': 755, 'weight': 1514, 'line': 852, 'height': 693, 'letter': 841, 'spacing': 1286, 'normal': 974, 'ol': 998, 'ul': 1434, 'padding': 1039, '3em': 69, '5em': 88, 'list': 856, 'type': 1432, 'disc': 464, 'decimal': 430, 'circle': 330, 'square': 1296, 'dir': 456, 'rtl': 1212, 'h1': 665, 'h2': 666, 'h3': 667, 'h4': 668, 'h5': 669, 'h6': 670, 'color': 345, 'alleghenyreproductive': 160, 'gmail': 645, '412': 71, '661': 93, '8811': 106, 'lb1itemscontainer': 831, 'width': 1524, 'white': 1521, 'space': 1285, 'nowrap': 980, 'last': 820, 'child': 317, 'lb1': 828, 'mobileview': 923, 'lb1imageitemlink': 830, 'lb1imageitemimageimage': 829, 'homeabortion': 709, 'carepain': 294, 'managementthe': 883, 'pillschedulinggyne': 1082, 'servicesfrequently': 1257, 'asked': 183, 'questionspaymentmore': 1149, 'ja00ejfi3itemscontainer': 785, 'calc': 277, '0px': 9, 'inline': 760, 'visible': 1480, 'ja00ejfi3morecontainer': 786, 'background': 214, 'rgba': 1198, '101': 13, '166': 27, '147': 22, 'border': 253, 'radius': 1153, 'ja00ejfi3dropwrapper': 784, 'index': 746, '99999': 112, 'opacity': 1006, 'visibility': 1479, '7px': 101, 'dropmode': 484, 'dropup': 485, 'ja00ejfi3repeaterbutton': 787, 'sizing': 1277, '14px': 23, '4em': 81, 'georgia': 635, 'palatino': 1043, 'antiqua': 175, 'linotype': 855, 'serif': 1255, 'header': 683, 'div': 467, 'default': 436, 'ja00ejfi3repeaterbuttonlinkelement': 790, 'ja00ejfi3repeaterbutton_gapper': 788, '5px': 89, 'ja00ejfi3repeaterbuttonlabel': 789, '10px': 15, '181818': 32, 'transition': 1416, '4s': 82, 'ease': 493, '0s': 10, 'drop': 483, 'over': 1031, 'preview': 1123, 'hover': 719, '046c51': 6, 'selected': 1249, 'active': 133, 'missionaries': 919, 'preborn': 1112, 'educationabortiongeorgia': 502, 'statistics': 1311, 'informed': 753, 'consent': 368, 'booklet': 251, 'morning': 933, 'methods': 909, 'associated': 188, 'risks': 1205, 'sex': 1260, 'selection': 1250, 'pain': 1041, 'post': 1103, 'syndrome': 1345, 'in': 743, 'black': 245, 'communitymaafa': 355, '21': 48, 'genocide': 633, '21st': 50, 'century': 309, 'toomanyaborted': 1405, 'ga': 629, 'children': 318, 'endangered': 523, 'species': 1291, 'unwhite': 1449, 'unborn': 1437, 'prenatal': 1117, 'issuesis': 780, 'when': 1519, 'does': 472, 'begin': 227, 'if': 730, 'they': 1383, 'say': 1227, 'love': 871, 'wins': 1527, 'careassisted': 292, 'suicide': 1331, 'dangers': 410, 'obamacare': 985, 'rationing': 1163, 'quality': 1147, 'years': 1552, 'score': 1236, 'futile': 626, 'vs': 1493, 'pallative': 1044, 'personhood': 1068, 'national': 951, 'org': 1019, 'stem': 1312, 'cells': 303, 'embryrosthe': 514, 'abc': 115, 'cell': 302, 'research': 1188, 'check': 315, 'adult': 141, 'embryonic': 512, 'addressing': 137, 'escr': 532, 'emerging': 516, 'technologytranshumanism': 1356, 'eugenics': 537, 'genoism': 634, 'pregnant': 1114, 'free': 616, 'servicespregnancy': 1258, 'centers': 305, 'explore': 554, 'maternity': 892, 'homes': 712, 'additional': 135, 'related': 1175, 'safe': 1217, 'place': 1085, 'newborns': 959, 'consentright': 369, 'know': 812, 'woman': 1532, 'it': 781, 'men': 906, 'only': 1004, 'developmentfirst': 449, 'third': 1386, 'types': 1433, 'abortionabortion': 119, 'complaint': 360, 'forced': 611, 'america': 166, 'myths': 948, 'gender': 632, 'based': 222, 'legislationpro': 836, 'updatedrain': 1453, 'swamp': 1344, 'update': 1452, 'february': 585, '22': 51, '2016': 45, 'finish': 599, 'march': 886, '31': 63, 'fruits': 621, 'january': 792, '16': 26, 'hall': 672, 'fame': 575, 'moving': 939, 'along': 163, 'rundown': 1214, 're': 1165, 'dead': 424, 'jim': 795, 'weathering': 1507, 'storm': 1320, '29': 61, 'federalfederal': 588, 'funding': 624, 'ban': 218, 'bill': 239, '2013': 42, '2015': 44, 'sanctity': 1222, 'act': 130, 'stateethical': 1304, 'embryos': 513, 'report': 1180, 'aborted': 116, 'tissue': 1395, 'sales': 1219, 'statistic': 1310, 'reporting': 1181, 'anti': 174, 'trafficking': 1411, 'expansion': 550, 'amendment': 165, 'defense': 440, 'exercise': 548, 'protection': 1141, 'physician': 1076, 'orders': 1017, 'sustaining': 1342, 'oversight': 1033, 'freedom': 617, 'restoration': 1195, 'mckoon': 895, 'setzler': 1259, 'harbor': 676, 'termination': 1365, 'rapist': 1158, 'parental': 1048, 'raffensperger': 1154, 'thompson': 1388, 'legislatorscontact': 840, 'local': 864, 'official': 994, 'tips': 1394, 'speaking': 1289, 'elected': 505, 'officials': 995, 'alertslegislative': 154, 'scorecard': 1237, 'hb': 682, '954': 110, 'legislator': 838, 'files': 595, 'political': 1098, 'actiongrtl': 132, 'paccandidate': 1037, 'endorsements': 525, 'endorsement': 524, 'procedure': 1129, 'ted': 1357, 'cruz': 397, 'defend': 438, 'legislatorga': 839, 'senate': 1253, 'house': 718, 'find': 598, 'talking': 1351, 'with': 1531, 'statementsposition': 1307, 'statements': 1306, 'why': 1523, 'must': 945, 'vote': 1490, 'rape': 1156, 'incest': 744, 'is': 776, 'ever': 544, 'okay': 997, 'editorialsjoshua': 497, 'edmondshow': 498, 'transcends': 1414, 'biology': 242, 'did': 451, 'oppose': 1011, 'hr': 722, '1797': 30, 'hate': 679, 'job': 796, 'can': 283, 'fired': 601, 'all': 157, 'hands': 674, 'deck': 433, 'fall': 573, 'goliath': 649, 'believing': 232, 'comes': 352, 'hearing': 689, 'ideas': 727, 'have': 680, 'consequences': 370, 'books': 252, 'new': 958, 'laws': 826, 'go': 647, 'into': 769, 'effect': 503, 'july': 800, 'passion': 1056, 'thank': 1374, 'facebook': 561, 'kobayashi': 813, 'maru': 890, 'speck': 1292, 'what': 1518, '90': 108, 'mean': 896, 'wayne': 1504, 'duboisa': 487, 'mail': 874, 'tragedy': 1412, 'aborting': 117, 'toddlers': 1399, 'latest': 822, 'trend': 1421, 'abortionists': 120, 'abandoning': 113, 'veil': 1465, 'advance': 142, 'directives': 458, 'patient': 1062, 'beware': 235, 'china': 321, 'population': 1101, 'shortfall': 1268, 'committed': 353, 'lie': 845, 'death': 428, 'cult': 399, 'rising': 1204, 'panels': 1045, 'theey': 1377, 'baack': 210, 'do': 468, 'yourself': 1558, 'captive': 287, 'victims': 1472, 'europe': 538, 'heart': 690, 'darkness': 411, 'exceptions': 547, 'ignoring': 731, 'obvious': 989, 'making': 880, 'passé': 1057, 'meet': 904, 'grtl': 658, 'favorite': 584, 'chimp': 320, 'never': 957, 'too': 1402, 'young': 1556, 'contraceptives': 380, 'hardly': 677, 'affordable': 147, 'especially': 534, 'returning': 1197, 'principles': 1125, 'promoting': 1139, 'beyond': 236, 'shameful': 1263, 'seeking': 1246, 'illusionary': 740, 'jolly': 798, 'green': 655, 'giant': 637, 'heartless': 692, 'express': 557, 'there': 1382, 'no': 969, 'words': 1536, 'turning': 1426, 'light': 850, 'killed': 809, 'being': 231, 'bright': 260, 'enough': 528, 'unregulated': 1443, 'carnage': 295, 'wanted': 1500, 'or': 1015, 'alive': 156, 'essential': 535, 'medical': 899, 'terminology': 1366, 'part': 1051, 'overview': 1034, 'organ': 1021, 'donation': 479, 'things': 1385, 'consider': 372, 'good': 650, 'old': 999, 'people': 1064, 'keeping': 808, 'up': 1450, 'selfish': 1252, 'guest': 661, 'editorialsincrementalism': 496, 'regulation': 1173, 'columbus': 347, 'next': 966, 'gosnell': 651, 'most': 934, 'dangerous': 409, 'earth': 491, 'win': 1525, '10': 11, 'tell': 1361, 'risky': 1206, 'proposition': 1140, 'civilized': 335, 'society': 1280, 'breaking': 258, 'facade': 559, 'choose': 324, 'tags': 1348, 'message': 908, 'attempt': 191, 'resuscitation': 1196, 'defending': 439, 'innocent': 761, 'politicians': 1099, 'intrinsic': 770, 'value': 1464, 'gmo': 646, 'humans': 725, 'countdown': 390, 'begins': 229, 'how': 720, 'define': 441, 'choice': 322, 'don': 475, 'make': 879, 'deals': 427, 'doug': 481, 'collins': 344, 'reject': 1174, 'path': 1060, 'destination': 445, 'day': 415, 'prayer': 1110, 'proliferate': 1138, 'rate': 1162, 'rachel': 1152, 'was': 1502, 'expected': 551, 'rage': 1155, 'redemption': 1169, 'man': 881, 'perspective': 1069, 'app': 176, 'unthinkable': 1448, 'happening': 675, 'twice': 1427, 'called': 281, 'adopt': 138, 'cannot': 286, 'be': 223, 'feminist': 591, 'suzanne': 1343, 'wardabortion': 1501, 'facilities': 567, 'far': 580, 'from': 620, 'rare': 1160, 'exposed': 556, 'two': 1429, 'un': 1436, 'balancing': 216, 'equation': 531, 'fatherhood': 583, 'beating': 224, 'cadavers': 275, 'change': 310, 'mind': 914, 'world': 1538, 'thing': 1384, 'dolphins': 474, 'dr': 482, 'harry': 678, 'davis': 414, 'well': 1515, 'lived': 861, 'girl': 639, 'scouts': 1238, 'planned': 1089, 'parenthood': 1049, 'unlikely': 1442, 'pair': 1042, 'dog': 473, 'touched': 1408, 'changed': 311, 'saved': 1225, 'silver': 1273, 'bullet': 265, 'isn': 778, 'so': 1279, 'infanticide': 748, 'telemedicine': 1360, 'aborts': 122, 'newest': 960, 'tool': 1403, 'decline': 434, 'ides': 729, 'dimes': 453, 'indefensible': 745, 'decisions': 432, 'roe': 1208, 'doe': 471, 'perfect': 1066, 'resourcesabortion': 1191, 'facility': 568, 'documentation': 470, 'pastorssermons': 1059, 'powerpoint': 1106, 'templates': 1363, 'literature': 859, '50': 83, 'passages': 1053, 'scripture': 1239, 'pray': 1109, 'church': 328, 'guidelines': 662, 'churches': 329, 'pillars': 1080, 'referenceswhat': 1172, 'culture': 401, 'threats': 1391, 'transhumanism': 1415, 'pharmacological': 1073, 'enhancement': 527, 'cloning': 337, 'chimeras': 319, 'vitro': 1486, 'fertilization': 592, 'ectogenesis': 495, 'euthanasia': 539, 'helpdonatelife': 697, 'many': 884, 'ways': 1505, 'invest': 771, 'work': 1537, 'purchase': 1146, 'giving': 643, 'needs': 955, 'car': 288, 'program': 1133, 'give': 641, 'volunteerapplication': 1489, 'chapter': 312, 'leader': 832, 'become': 225, 'member': 905, 'office': 993, 'citizen': 332, 'lobbyistcontact': 863, 'representative': 1183, 'ppsellsbabyparts': 1107, 'elizabeth': 508, 'reed': 1170, 'save': 1224, 'shirt': 1266, 'eventspresident': 543, 'cornerspring': 385, 'winter': 1528, '2014': 43, 'summer': 1332, 'spring': 1295, 'newsletterjuly': 963, 'june': 802, 'may': 893, 'december': 429, 'november': 977, 'october': 990, 'august': 198, 'eventspillars': 542, '2018': 46, 'reach': 1166, 'benefit': 233, 'dinner': 455, 'calendar': 279, 'upcoming': 1451, 'releasescall': 1177, 'investigation': 772, 'disappointed': 463, 'lawmakers': 825, 'failure': 571, 'pass': 1052, 'liberty': 843, 'measure': 897, 'faces': 564, 'expose': 555, 'unsafe': 1445, 'passes': 1055, 'super': 1336, 'majority': 878, 'hails': 671, 'milestone': 913, 'raw': 1164, 'deal': 425, 'those': 1389, 'cookies': 383, 'praises': 1108, 'taxpayer': 1354, 'funded': 623, 'historic': 705, 'effort': 504, 'salutes': 1220, 'voters': 1491, 'backs': 215, 'denying': 442, 'rapists': 1159, 'embryo': 511, 'mourns': 937, 'ruling': 1213, 'pac': 1036, 'endorses': 526, 'president': 1119, 'face': 560, 'doctor': 469, 'prescribed': 1118, 'candidates': 285, 'big': 238, 'chaptersstart': 313, 'contactabout': 375, 'ear': 490, 'statement': 1305, 'faith': 572, 'homeabout': 710, 'usneed': 1460, 'grantscontact': 654, 'usdonatemore': 1456, 'ihozflemitemscontainer': 733, 'ihozflemmorecontainer': 734, '47': 78, '46': 77, 'ihozflemdropwrapper': 732, 'ihozflemrepeaterbutton': 735, '15px': 25, 'din': 454, 'w01': 1495, 'w02': 1496, 'w10': 1497, 'sans': 1223, 'ihozflemrepeaterbuttonlinkelement': 738, 'ihozflemrepeaterbutton_gapper': 736, '3px': 70, 'ihozflemrepeaterbuttonlabel': 737, 'ffffff': 594, 'b0aaa9': 205, 'info': 750, 'saveone': 1226, '615': 90, '347': 66, '8800': 105, 'toggle': 1400, 'navigation': 952, 'login': 868, 'recovery': 1168, 'ones': 1003, 'faq': 578, 'staff': 1298, 'success': 1330, 'stories': 1317, 'summit': 1333, 'sheila': 1265, 'fire': 600, '501': 84, '227': 52, '4357': 74, 'future': 627, 'choices': 323, 'information': 752, 'oregon': 1018, 'lifebecause': 847, 'everyone': 546, 'deserves': 443, 'advocate': 145, 'ortl': 1026, 'policies': 1097, 'alerts': 153, 'facts': 570, 'numbers': 984, 'assisted': 187, 'polst': 1100, 'contest': 378, 'winners': 1526, 'ortlef': 1027, 'auction': 195, 'conference': 365, 'wade': 1498, 'highlights': 704, 'nrl': 981, 'today': 1398, 'main': 876, 'questions': 1148, 'reasoning': 1167, 'womb': 1533, 'de': 423, 'aktuell': 151, 'newsletter': 962, 'projekte': 1136, 'initiativen': 758, 'museumstour': 944, 'kollektionen': 814, 'restaurierberichte': 1194, 'objekte': 987, 'verhütung': 1469, 'überblick': 1566, 'selbstbeobachtung': 1247, 'scheidenspülungen': 1231, 'scheidenbarrieren': 1230, 'kondome': 815, 'vergebliche': 1468, 'versuche': 1470, 'spiralen': 1294, 'pille': 1081, 'co': 340, 'sterilisation': 1314, 'zukunftsmethoden': 1563, 'schwangerschaftstests': 1235, 'körpermodelle': 817, 'abbruch': 114, 'instrumente': 763, 'substanzen': 1329, 'medikamente': 902, 'themen': 1380, 'dies': 452, 'sind': 1274, 'unsere': 1446, 'schwangerschaftstest': 1234, 'schicksale': 1232, 'pionierinnen': 1084, 'pflanzen': 1071, 'medizin': 903, 'sammlung': 1221, 'literatur': 858, 'zitate': 1562, 'bibliothek': 237, 'kategorien': 807, 'bücher': 270, 'zeitungsartikel': 1560, 'werbe': 1516, 'infofolder': 751, 'plakate': 1086, 'flugblätter': 604, 'gebrauchsanweisungen': 630, 'fachzeitschriften': 566, 'fachartikel': 565, 'originaldokumente': 1025, 'aufklärung': 197, 'kataloge': 806, 'nachschlagewerke': 949, 'über': 1565, 'uns': 1444, 'besucherinfo': 234, 'öffnungszeiten': 1564, 'preise': 1116, 'adresse': 140, 'lageplan': 819, 'führungen': 628, 'gruppen': 659, 'schulen': 1233, 'audioguide': 196, 'shop': 1267, 'linksammlung': 854, 'museumsinfo': 943, 'entstehungsgeschichte': 530, 'muvs': 946, 'chronik': 327, 'gründer': 660, 'auszeichnungen': 201, 'unterstützung': 1447, 'spenden': 1293, 'medienberichte': 901, 'presse': 1121, 'kontakt': 816, 'misoprostol': 917, 'accessibility': 127, 'existjoin': 549, 'uspregnancy': 1461, 'centersdonate': 306, 'mother': 935, 'her': 701, 'baby': 212, 'thousands': 1390, 'their': 1378, 'visiting': 1481, 'stork': 1318, 'bus': 267, 'watch': 1503, 'back': 213, 'once': 1001, 'monthlyan': 931, 'takes': 1350, '30': 62, 'seconds': 1243, '35': 67, 'mo': 921, 'helps': 699, '70': 95, '105': 14, '175enter': 29, 'monthly': 930, 'amount': 168, 'donatesave': 478, 'storks': 1319, 'non': 972, 'profit': 1131, 'organization': 1022, 'tax': 1353, 'deductible': 435, 'name': 950, 'street': 1324, 'address': 136, 'city': 334, 'statealabamaalaskaarizonaarkansascaliforniacoloradoconnecticutdelawaredistrict': 1303, 'columbiafloridageorgiahawaiiidahoillinoisindianaiowakansaskentuckylouisianamainemarylandmassachusettsmichiganminnesotamississippimissourimontananebraskanevadanew': 346, 'hampshirenew': 673, 'jerseynew': 794, 'mexiconew': 910, 'yorknorth': 1554, 'carolinanorth': 296, 'dakotaohiooklahomaoregonpennsylvaniarhode': 407, 'islandsouth': 777, 'carolinasouth': 297, 'dakotatennesseetexasutahvermontvirginiawashingtonwest': 408, 'virginiawisconsinwyoming': 1477, 'zip': 1561, 'email': 510, 'phone': 1074, 'birthday': 244, 'month': 928, 'month01': 929, 'january02': 793, 'february03': 586, 'march04': 887, 'april05': 178, 'may06': 894, 'june07': 803, 'july08': 801, 'august09': 199, 'september10': 1254, 'october11': 991, 'november12': 978, 'payment': 1063, 'credit': 395, 'card': 289, 'number': 983, 'expiration': 553, 'year': 1551, 'code': 341, 'hear': 688, 'facebookradiosave': 563, 'sundayemaileventother': 1335, 'venue': 1467, 'vuoi': 1494, 'ricevere': 1200, 'la': 818, 'rassegna': 1161, 'stampa': 1299, 'chi': 316, 'siamo': 1270, 'il': 739, 'movimento': 938, 'per': 1065, 'vita': 1483, 'italiano': 782, 'nostra': 975, 'attività': 193, 'centri': 308, 'di': 450, 'aiuto': 150, 'alla': 158, 'sos': 1283, 'progetto': 1132, 'gemma': 631, 'culle': 398, 'associazioni': 189, 'locali': 865, 'abruzzo': 124, 'calabria': 276, 'emilia': 517, 'romagna': 1209, 'lazio': 827, 'lombardia': 869, 'sicilia': 1271, 'veneto': 1466, 'giovani': 638, 'web': 1508, 'mondo': 926, 'bioetica': 241, 'biodiritto': 240, 'medicina': 900, 'comunicazione': 363, 'sì': 1346, 'noi': 970, 'famiglia': 576, 'vitanews': 1485, 'comunicati': 362, 'kit': 811, 'contatti': 376, 'twitter': 1428, 'dona': 476, 'comparisons': 358, 'ballot': 217, 'cards': 290, 'page': 1040, '572': 86, '4223': 72, 'seattle': 1241, 'renton': 1179, 'tacoma': 1347, '424': 73, '210': 49, '7637': 100, 'late': 821, 'term': 1364, 'glossary': 644, 'terms': 1367, 'am': 164, 'provider': 1142, 'map': 885, 'mailing': 875, 'educate': 500, 'archives': 179, '2012': 41, '2011': 40, '2010': 39, '2009': 38, 'uncategorized': 1438, 'maine': 877, 'txtnew': 1430, 'txtnew_override': 1431, 'c2bg': 271, '69': 94, '66': 92, 'c2inlinecontent': 272, 'c3bg': 273, '247': 54, 'c3inlinecontent': 274, 'homenewspregnant': 711, 'helpabortionmaine': 696, 'vitae': 1484, 'societyend': 1281, 'liferesourceslegislativemore': 848, 'ddm2itemscontainer': 417, 'ddm2morecontainer': 418, '255': 57, 'ddm2dropwrapper': 416, 'ddm2repeaterbutton': 419, 'ddm2repeaterbuttonlinkelement': 422, 'ddm2repeaterbutton_gapper': 420, '8px': 107, 'ddm2repeaterbuttonlabel': 421, '737070': 99, '1d05f7': 34, 'b2': 206, 'button': 268, 'b2link': 209, 'shoulduseflex': 1269, 'b2labelwrapper': 208, 'initial': 756, 'items': 783, 'b2label': 207, '13px': 20, '000000': 1, 'disabled': 462, 'false': 574, 'transparent': 1418, 'solid': 1282, 'desktop': 444, 'true': 1424, '204': 47, 'board': 248, 'donors': 480, 'outreach': 1030, 'latinos': 823, 'voices': 1487, 'irma': 775, 'network': 956, 'golf': 648, 'banquet': 219, 'past': 1058, 'republican': 1186, 'club': 339, '18': 31, 'mothers': 936, 'corsage': 386, 'fundraiser': 625, '12': 16, 'step': 1313, '04': 5, '19': 33, 'hometown': 713, 'buffet': 263, 'lifewalk': 849, '03': 4, '20': 36, 'initiative': 757, 'trinity': 1423, 'youth': 1559, 'night': 967, '08': 8, 'tkrl': 1396, 'jail': 791, 'prison': 1126, 'ministry': 915, 'podcast': 1095, '02': 3, 'project': 1134, 'truth': 1425, 'cos': 387, '27': 60, '26': 58, 'missions': 920, 'sunday': 1334, '25': 56, 'spanish': 1288, 'congress': 366, 'st': 1297, 'lucy': 873, 'catholic': 301, 'fowler': 615, 'saint': 1218, 'rita': 1207, 'kingsburg': 810, 'holy': 707, 'connect': 367, 'use': 1457, 'power': 1105, 'prc': 1111, 'ultrasound': 1435, 'ribbon': 1199, 'cutting': 406, '01': 2, 'visalia': 1478, 'mass': 891, 'brigid': 261, 'plam': 1087, 'open': 1007, 'guys': 663, 'ella': 509, 'parenting': 1050, 'friends': 619, 'icoichoosing': 726, 'this': 1387, 'イソフラボンを深く知る': 1567, 'projects': 1135, 'initiatives': 759, 'museum': 941, 'tour': 1409, 'collections': 343, 'conserving': 371, 'cultural': 400, 'assets': 184, 'objects': 986, 'self': 1251, 'observation': 988, 'vaginal': 1463, 'rinsing': 1203, 'barriers': 220, 'attempts': 192, 'condoms': 364, 'coils': 342, 'company': 356, 'tests': 1372, 'body': 249, 'models': 925, 'instruments': 764, 'substances': 1328, 'pharmaceutical': 1072, 'drugs': 486, 'topics': 1407, 'plight': 1092, 'pioneers': 1083, 'plants': 1091, 'literary': 857, 'quotes': 1151, 'library': 844, 'categories': 300, 'newspaper': 964, 'articles': 182, 'ad': 134, 'flyers': 606, 'professional': 1130, 'journals': 799, 'education': 501, 'catalogues': 299, 'reference': 1171, 'visitor': 1482, 'opening': 1008, 'hours': 717, 'prices': 1124, 'travel': 1419, 'tours': 1410, 'groups': 657, 'museums': 942, 'very': 1471, 'beginning': 228, 'timeline': 1393, 'founder': 614, 'awards': 204, 'supporters': 1338, 'contributors': 381, 'reports': 1182, 'pregnanti': 1115, 'studentmedia': 1325, 'resourceshow': 1192, 'helptake': 700, 'sign': 1272, 'petitiondonate': 1070, 'quick': 1150, 'useventsaccomplishmentsmissionnewsroomfind': 1459, 'sites': 1276, '123givelife': 18, 'comare': 351, 'wisconsin': 1530, 'near': 953, 'just': 804, 'enter': 529, 'teenbreaks': 1359, 'comteenbreaks': 361, 'gives': 642, 'detailed': 446, 'plus': 1093, 'dealing': 426, 'both': 254, 'girls': 640, 'own': 1035, 'chose': 326, 'like': 851, 'feel': 589, 'optionline': 1013, 'orga': 1020, 'heartbeat': 691, 'art': 181, 'helpline': 698, 'employs': 520, 'trained': 1413, 'consultants': 373, 'available': 203, 'assist': 185, 'crisis': 396, 'directly': 459, 'them': 1379, 'toll': 1401, '877': 104, '9027': 109, 'option': 1012, '95495nightingalealliance': 111, 'orgwisconsin': 1024, 'founded': 613, 'nightingale': 968, '2002': 37, 'site': 1275, 'date': 413, 'euthanasianational': 540, 'committee': 354, 'nrlc': 982, 'orgnational': 1023, 'provides': 1143, 'compiled': 359, 'esteemed': 536, 'elections': 507, 'passed': 1054, 'defeated': 437, 'where': 1520, 'stand': 1300, 'election': 506, 'central': 307, 'voting': 1492, 'cases': 298, 'newsroom': 965, 'fast': 582, 'babies': 211, 'pictures': 1077, 'having': 681, 'hot': 715, 'problems': 1128, 'personal': 1067, 'attorney': 194, 'management': 882, 'hospice': 714, 'providing': 1144, 'food': 608, 'fluids': 605, 'york': 1553, 'task': 1352, 'force': 610, 'freeultrasounds': 618, 'see': 1245, 'pressured': 1122, 'diseases': 465, 'abstinence': 126, 'testing': 1371, 'disabilities': 461, 'ips': 774, 'governing': 652, 'farming': 581, 'video': 1474, 'pathways': 1061, 'build': 264, 'identify': 728, 'losses': 870, 'story': 1321, 'unhealthy': 1440, 'behaviors': 230, 'take': 1349, 'answers': 173, 'heritage': 702, '320': 64, 'east': 494, 'fulton': 622, 'grand': 653, 'rapids': 1157, '49503phone': 80, '616': 91, '458': 76, '3694toll': 68, '345': 65, '1393': 19, 'surgical': 1341, 'comparing': 357, 'instructions': 762, 'scheduling': 1229, 'bring': 262, 'special': 1290, 'under': 1439, 'fees': 590, 'aid': 149, 'schedule': 1228, 'form': 612}\n",
      "(42, 1568)\n"
     ]
    },
    {
     "data": {
      "text/plain": [
       "(42, 1568)"
      ]
     },
     "execution_count": 40,
     "metadata": {},
     "output_type": "execute_result"
    }
   ],
   "source": [
    "#For header\n",
    "\n",
    "i=0\n",
    "templist = []\n",
    "\n",
    "\n",
    "try:\n",
    "    v = TfidfVectorizer()\n",
    "    x = v.fit_transform([i.text for i in headerlist if None != i])\n",
    "    vocab2 = v.vocabulary_\n",
    "    print(vocab2)\n",
    "    templist.append(list(x.todense()))\n",
    "except:\n",
    "    zerolist = [0]\n",
    "    A=np.empty((1,), dtype=object)\n",
    "    A.fill(0)\n",
    "    print(A)\n",
    "    templist.append(list(A))\n",
    "\n",
    "    \n",
    "print(x.todense().shape)\n",
    "\n",
    "df2=pd.DataFrame(x.todense(),columns=list(range(1, 1569)))\n",
    "df2.shape"
   ]
  },
  {
   "cell_type": "code",
   "execution_count": 41,
   "metadata": {},
   "outputs": [
    {
     "name": "stdout",
     "output_type": "stream",
     "text": [
      "{'copyright': 576, '2018': 39, 'hdrc': 765, 'org': 1046, '501': 208, 'nonprofit': 1011, 'organization': 1047, 'window': 1420, 'fbasyncinit': 687, 'function': 726, 'fb': 686, 'init': 826, 'appid': 419, '126739610711965': 21, 'channelurl': 518, 'ohiolife': 1032, 'nationbuilder': 997, 'com': 551, 'channel': 517, 'html': 795, 'status': 1248, 'true': 1351, 'version': 1393, 'v2': 1384, 'cookie': 574, 'xfbml': 1441, 'id': 801, 'var': 1388, 'js': 881, 'fjs': 704, 'getelementsbytagname': 738, 'if': 802, 'getelementbyid': 737, 'return': 1168, 'createelement': 585, 'async': 438, 'src': 1240, 'connect': 563, 'facebook': 679, 'net': 999, 'en_us': 659, 'sdk': 1200, 'parentnode': 1066, 'insertbefore': 837, 'document': 632, 'script': 1199, 'jssdk': 883, 'cdata': 509, 'tinymcerails': 1334, 'configuration': 561, 'default': 612, 'selector': 1205, 'textarea': 1318, 'tinymce': 1333, 'toolbar_items_size': 1341, 'small': 1221, 'branding': 490, 'false': 682, 'menubar': 970, 'fix_list_elements': 702, 'forced_root_block': 714, 'convert_urls': 573, 'relative_urls': 1153, 'browser_spellcheck': 493, 'block_formats': 476, 'normal': 1013, 'heading': 766, 'h1': 758, 'h2': 759, 'h3': 760, 'h4': 761, 'h5': 762, 'block': 475, 'quote': 1142, 'blockquote': 477, 'code': 542, 'sample': 1192, 'samp': 1191, 'valid_elements': 1385, 'align': 398, 'class': 539, 'style': 1257, 'title': 1335, 'dir': 624, 'u003cltr': 1361, 'rtl': 1184, 'lang': 898, 'xml': 1442, 'rel': 1151, 'rev': 1169, 'charset': 525, 'hreflang': 793, 'tabindex': 1301, 'accesskey': 379, 'type': 1358, 'name': 994, 'href': 792, 'target': 1307, 'download': 639, 'abbr': 374, 'acronym': 381, 'address': 385, 'area': 426, 'shape': 1211, 'coords': 575, 'alt': 407, 'bdo': 462, 'big': 470, 'br': 489, 'button': 495, 'caption': 505, 'cite': 536, 'col': 543, 'char': 521, 'charoff': 524, 'span': 1234, 'valign': 1386, 'width': 1418, 'colgroup': 545, 'dd': 604, 'del': 616, 'datetime': 603, 'div': 629, 'data': 601, 'ajax': 395, 'dl': 630, 'dt': 643, 'em': 654, 'figcaption': 695, 'figure': 696, 'hr': 791, 'size': 1218, 'noshade': 1016, 'img': 810, 'longdesc': 938, 'usemap': 1380, 'border': 483, 'hspace': 794, 'vspace': 1402, 'height': 769, 'ins': 836, 'kbd': 885, 'label': 897, 'for': 713, 'legend': 909, 'map': 951, 'mark': 958, 'noscript': 1015, 'strike': 1252, 'strong': 1254, 'tbody': 1309, 'tfoot': 1320, 'thead': 1324, 'tt': 1352, 'td': 1310, 'colspan': 549, 'rowspan': 1182, 'bgcolor': 469, 'background': 454, 'bordercolor': 484, 'scope': 1198, 'th': 1321, 'font': 708, 'face': 678, 'color': 547, 'h6': 763, 'li': 916, 'ol': 1035, 'compact': 557, 'pre': 1113, 'sub': 1258, 'sup': 1292, 'table': 1302, 'cellspacing': 513, 'cellpadding': 512, 'frame': 720, 'rules': 1185, 'summary': 1291, 'tr': 1343, 'ul': 1365, 'admin_toolbar_and_plugins': 387, 'ui': 1364, 'wysiwig': 1439, 'image_title': 807, 'image_advtab': 805, 'link_context_toolbar': 923, 'toolbar': 1340, 'formatselect': 717, 'bold': 480, 'italic': 852, 'underline': 1371, 'forecolor': 715, 'alignleft': 400, 'aligncenter': 399, 'alignright': 401, 'bullist': 494, 'numlist': 1025, 'outdent': 1052, 'indent': 817, 'link': 922, 'unlink': 1374, 'image': 804, 'undo': 1372, 'redo': 1148, 'removeformat': 1157, 'fullscreen': 725, 'plugins': 1095, 'autoresize': 445, 'autosave': 447, 'colorpicker': 548, 'lists': 929, 'paste': 1070, 'textcolor': 1319, 'with_font_select': 1423, 'fontsizeselect': 711, 'fontselect': 710, 'font_formats': 709, 'andale': 414, 'mono': 983, 'times': 1332, 'arial': 429, 'helvetica': 775, 'sans': 1194, 'serif': 1207, 'black': 474, 'avant': 448, 'garde': 732, 'book': 482, 'antiqua': 416, 'palatino': 1061, 'courier': 581, 'new': 1002, 'georgia': 735, 'impact': 811, 'chicago': 528, 'symbol': 1296, 'tahoma': 1304, 'terminal': 1312, 'monaco': 981, 'roman': 1178, 'trebuchet': 1348, 'ms': 990, 'geneva': 734, 'verdana': 1389, 'page_content': 1058, 'image_list': 806, 'attachments': 440, 'images': 808, 'json': 882, 'images_upload_url': 809, 'autoresponse_content': 446, 'mailing_content': 943, 'mailing_content_with_font_select': 944, 'consent_form_content': 565, 'admin': 386, 'consent_forms': 566, 'no_image_list_content': 1007, 'ugc_content': 1363, 'extended_valid_elements': 677, 'nofollow': 1008, 'initialize': 828, 'home': 788, 'about': 376, 'who': 1416, 'we': 1408, 'are': 425, 'issues': 849, 'blog': 478, 'news': 1003, 'ortl': 1049, 'in': 815, 'the': 1323, 'press': 1118, 'releases': 1154, 'newsletters': 1004, 'legislation': 910, 'legislative': 911, 'action': 382, 'center': 514, 'find': 700, 'your': 1444, 'legislator': 912, 'state': 1244, 'and': 413, 'federal': 688, 'get': 736, 'involved': 842, 'become': 464, 'member': 969, 'chapters': 520, 'churches': 533, 'intern': 840, 'march': 954, 'life': 918, 'events': 670, 'calendar': 501, 'volunteer': 1400, 'job': 879, 'opportunities': 1040, 'oratory': 1043, 'contest': 570, 'donate': 635, 'other': 1050, 'types': 1360, 'of': 1027, 'giving': 745, 'vote': 1401, 'pro': 1124, 'where': 1413, 'do': 631, 'register': 1150, 'twitter': 1354, 'pinterest': 1086, 'instagram': 838, 'youtube': 1446, 'podcast': 1098, 'ohio': 1031, 'right': 1173, 'to': 1336, '88': 331, 'east': 646, 'broad': 492, 'street': 1251, 'suite': 1290, '620': 250, 'columbus': 550, 'oh': 1030, '43215': 181, '614': 246, '547': 223, '0099': 2, 'linksabout': 926, 'us': 1377, 'earthlink': 645, 'mail': 942, 'partner': 1069, 'programs': 1129, 'helpsupport': 774, 'live': 931, 'chat': 527, 'contact': 567, 'enter': 662, 'location': 933, 'started': 1243, 'good': 747, 'is': 844, 'eligible': 652, 'hyperlink': 799, 'internet': 841, 'service': 1208, 'from': 724, 'call': 502, 'today': 1338, 'order': 1044, '866': 324, '383': 163, '3080': 124, 're': 1144, 'sorry': 1230, 'not': 1017, 'currently': 591, 'uncode': 1368, 'initrow': 830, '110080': 18, 'all': 402, 'rights': 1174, 'reserved': 1163, 'sitemapprivacy': 1216, 'policyterms': 1101, 'conditions': 560, 'aul': 442, 'reservedhome': 1164, 'media': 967, 'states': 1245, 'courts': 582, 'privacy': 1123, 'policy': 1100, 'locations': 934, 'careers': 507, '800': 307, '447': 185, '7354': 293, 'email': 655, 'protected': 1132, 'human': 797, 'alliance': 406, '2017': 37, 'hla': 786, 'donor': 637, 'terms': 1314, 'promotes': 1131, 'awareness': 450, 'inherent': 824, 'dignity': 622, 'personhood': 1075, 'born': 485, 'preborn': 1114, 'without': 1425, 'exception': 673, 'or': 1042, 'compromise': 559, 'proclaims': 1126, 'defends': 613, 'culture': 588, 'chastity': 526, 'through': 1331, 'education': 648, 'social': 1222, 'political': 1102, 'affirming': 391, 'alternatives': 408, 'abortion': 375, 'infanticide': 820, 'assisted': 437, 'suicide': 1289, 'euthanasia': 667, 'accomplishes': 380, 'its': 854, 'mission': 977, 'spirit': 1237, 'prayer': 1112, 'non': 1009, 'violence': 1397, 'project': 1130, 'ultrasound': 1366, 'charity': 523, 'that': 1322, 'exists': 675, 'educate': 647, 'public': 1136, 'effectiveness': 650, 'ultrasounds': 1367, 'deterring': 620, 'give': 744, 'grants': 751, 'profit': 1128, 'crisis': 587, 'pregnancy': 1115, 'centers': 515, 'purchase': 1137, 'equipment': 664, 'training': 1344, 'help': 771, 'women': 1427, 'their': 1325, 'communities': 556, 'free': 721, 'exams': 672, 'frequently': 723, 'asked': 435, 'questions': 1140, 'txtnew': 1356, 'word': 1428, 'wrap': 1436, 'break': 491, 'text': 1317, 'start': 1242, 'pointer': 1099, 'none': 1010, 'txtnew_override': 1357, 'left': 908, 'important': 812, 'justify': 884, 'auto': 444, 'inherit': 825, 'weight': 1411, 'line': 921, 'letter': 914, 'spacing': 1233, 'padding': 1057, '3em': 169, 'margin': 955, '5em': 243, 'list': 928, 'disc': 627, 'decimal': 606, 'circle': 535, 'square': 1239, 'izqqg9tx': 867, 'overflow': 1053, 'hidden': 782, 'iframe': 803, 'position': 1105, 'absolute': 377, '100': 12, 'izqqg9txpreloaderoverlay': 868, 'top': 1342, '373737': 153, 'izqqg9txpreloaderoverlaycontent': 869, 'izqqg9txunavailablemessageoverlay': 870, 'izqqg9txunavailablemessageoverlaycontent': 872, 'rgba': 1170, '255': 94, '5px': 244, 'izqqg9txunavailablemessageoverlaytextcontainer': 876, 'family': 683, 'neue': 1000, 'helveticaneuew01': 776, '55roma': 227, 'helveticaneuew02': 777, 'helveticaneuew10': 778, '14px': 24, 'display': 628, 'inline': 831, 'vertical': 1394, 'middle': 973, '10px': 17, 'izqqg9txunavailablemessageoverlayreloadbutton': 875, '0099ff': 3, 'decoration': 610, 'cursor': 593, 'izqqg9txunavailablemessageoverlayiconcontainer': 874, 'izqqg9txunavailablemessageoverlaydismissbutton': 873, 'izqqg9txunavailablemessageoverlaytexttitle': 877, 'hideiframe': 783, 'izqqg9txunavailablemessageoverlay_buttons': 871, 'opacity': 1038, 'hideoverlay': 784, 'facts': 681, 'statistics': 1247, 'articles': 432, 'as': 433, 'moving': 987, 'pictures': 1082, 'baby': 452, 'see': 1202, 'on': 1036, 'tax': 1308, 'exempt': 674, 'corporation': 578, 'defined': 614, 'by': 496, 'irs': 843, 'donations': 636, 'deductible': 611, 'inc': 816, 'wp2_zoomedin': 1431, 'url': 1376, 'https': 796, 'static': 1246, 'parastorage': 1062, 'services': 1209, 'skins': 1220, '1229': 20, '80': 306, 'wysiwyg': 1440, 'core': 577, 'themes': 1327, 'base': 459, 'cursor_zoom_out': 595, 'png': 1097, 'cur': 590, 'wp2_zoomedout': 1432, 'cursor_zoom_in': 594, 'wp2link': 1435, 'wp2img': 1433, 'wp2imgimage': 1434, 'box': 488, 'shadow': 1210, '000': 0, 'user': 1381, 'select': 1204, 'follow': 707, 'googleplus': 750, 'linkedin': 924, 'quick': 1141, 'links': 925, 'why': 1417, 'choose': 532, 'awc': 451, 'care': 506, 'financial': 699, 'information': 822, 'birth': 472, 'control': 572, 'options': 1041, 'trans': 1345, 'health': 768, 'initiative': 829, 'directions': 626, 'hours': 789, '31': 126, 'south': 1231, 'commerce': 554, 'way': 1407, 'bethlehem': 467, 'pa': 1055, '18017': 28, '484': 198, '821': 312, '0821': 11, '877': 330, '342': 132, '5292': 220, 'dial': 621, 'allentown': 405, 'online': 1037, 'resources': 1166, 'design': 618, 'credits': 586, 'orleans': 1048, 'office': 1029, '4612': 192, 'claiborne': 537, 'avenuenew': 449, 'la': 896, '70125': 287, '504': 212, '496': 201, '0212': 6, '831': 315, '3117': 128, 'client': 540, 'baton': 461, 'rouge': 1180, '760': 295, 'colonial': 546, 'drivebaton': 641, '70806': 289, '225': 56, '218': 49, '4862': 199, '663': 260, '6470': 253, 'twitterfacebook': 1355, 'alleghenyreproductive': 404, 'gmail': 746, 's_smhkwrichtextnewskin': 1186, 's_smhkwrichtextnewskin_override': 1187, '412': 175, '661': 259, '8811': 333, '363': 147, '6901': 283, '5910': 233, 'kirkwood': 891, 'st': 1241, 'pittsburgh': 1087, '15206': 25, 'usa': 1378, 'lb1itemscontainer': 906, 'white': 1415, 'space': 1232, 'nowrap': 1021, 'last': 900, 'child': 529, 'lb1': 903, 'mobileview': 980, 'lb1imageitemlink': 905, 'lb1imageitemimageimage': 904, 'allegheny': 403, 'reproductive': 1160, 'proudly': 1133, 'created': 584, 'with': 1422, 'wix': 1426, 'read': 1145, 'more': 984, 'hollow': 787, 'victory': 1395, 'religious': 1156, 'liberty': 917, '2016': 36, 'arizona': 430, 'iwzl4mvy': 856, 'iwzl4mvypreloaderoverlay': 857, 'iwzl4mvypreloaderoverlaycontent': 858, 'iwzl4mvyunavailablemessageoverlay': 859, 'iwzl4mvyunavailablemessageoverlaycontent': 861, 'iwzl4mvyunavailablemessageoverlaytextcontainer': 865, 'iwzl4mvyunavailablemessageoverlayreloadbutton': 864, 'iwzl4mvyunavailablemessageoverlayiconcontainer': 863, 'iwzl4mvyunavailablemessageoverlaydismissbutton': 862, 'iwzl4mvyunavailablemessageoverlaytexttitle': 866, 'iwzl4mvyunavailablemessageoverlay_buttons': 860, 'saveone': 1196, 'site': 1215, 'transactions': 1346, 'ministry': 975, 'have': 764, 'been': 465, 'verified': 1392, 'sharon': 1212, 'clark': 538, 'finance': 698, 'arkansas': 431, 'resource': 1165, 'powered': 1106, 'systems': 1300, 'park': 1067, 'drive': 640, '101': 14, 'little': 930, 'rock': 1177, 'ar': 421, '72211': 292, '227': 59, '4357': 182, 'login': 937, 'back': 453, 'oregon': 1045, 'categories': 508, 'leave': 907, 'comment': 552, 'impressum': 813, 'muvs': 992, 'unterstützen': 1375, 'presse': 1119, 'dsgvo': 642, 'info': 821, 'museum': 991, 'für': 729, 'verhütung': 1391, 'und': 1369, 'schwangerschaftsabbruch': 1197, 'pixus': 1088, 'website': 1410, 'marketing': 959, 'our': 1051, 'missioncontactdonatepregnancy': 978, 'centersblogjoin': 516, 'usstorefaq': 1383, 'save': 1195, 'storks': 1250, 'eventi': 669, 'archivio': 424, 'riservata': 1175, 'mappa': 953, 'sito': 1217, 'movimento': 986, 'per': 1074, 'vita': 1398, 'italiano': 851, 'lungotevere': 940, 'dei': 615, 'vallati': 1387, '00186': 1, 'romatel': 1179, '06': 10, '8621': 323, '7076': 288, '03013330489copyright': 8, 'paid': 1060, 'ohiorighttolife': 1033, 'pac': 1056, 'authorized': 443, 'any': 417, 'candidate': 504, 'committee': 555, 'www': 1438, 'ohiovotesforlife': 1034, 'rss': 1183, 'cedar': 510, 'river': 1176, 'clinics': 541, 'independent': 818, 'feminist': 692, 'greater': 753, 'seattle': 1201, 'tacoma': 1303, 'areas': 427, 'planned': 1092, 'parenthood': 1064, 'affiliate': 390, 'fwhc': 728, 'charitable': 522, 'ein': 651, '91': 339, '1083929': 16, 'operates': 1039, '2013': 35, 'designed': 619, 'ware': 1406, 'choice': 531, 'medical': 968, 'beverly': 468, 'hills': 785, 'ca': 497, 'phone': 1078, 'appointments': 420, '424': 180, '210': 44, '7637': 296, 'general': 733, 'inquiries': 835, '3102478745': 127, '99': 364, 'north': 1014, 'cienega': 534, 'boulevard': 487, '90211': 337, 'berkeley': 466, 'students': 1256, 'wordpress': 1429, 'theme': 1326, 'alx': 409, 'mrlc': 989, '207': 41, '782': 298, '0101': 5, 'fax': 685, '0221': 7, 'write': 1437, 'maine': 946, '257': 97, 'auburn': 441, 'me': 965, '04212': 9, 'vl1': 1399, 'max': 962, '2000px': 34, '1px': 32, 'dashed': 600, '35': 135, 'min': 974, 'subscribe': 1259, 'alertsemailmobile': 396, 'numberafghanistan': 1023, '93åland': 342, 'islands': 848, '358': 144, '18albania': 29, '355algeria': 141, '213american': 47, 'samoa': 1190, '684andorra': 277, '376angola': 157, '244anguilla': 80, '264antigua': 105, 'barbuda': 457, '268argentina': 110, '54armenia': 224, '374aruba': 155, '297australia': 118, '61austria': 247, '43azerbaijan': 183, '994bahamas': 367, '242bahrain': 77, '973bangladesh': 357, '880barbados': 332, '246belarus': 83, '375belgium': 156, '32belize': 130, '501benin': 209, '229bermuda': 62, '441bhutan': 184, '975bolivia': 359, 'plurinational': 1096, '591bonaire': 234, 'sint': 1214, 'eustatius': 666, 'saba': 1188, '599': 242, '7bosnia': 302, 'herzegovina': 781, '387botswana': 166, '267brazil': 109, '55british': 226, 'indian': 819, 'ocean': 1026, 'territory': 1315, '246brunei': 84, 'darussalam': 599, '673bulgaria': 266, '359burkina': 146, 'faso': 684, '226burundi': 58, '257cambodia': 98, '855cameroon': 320, '237canada': 71, '1cape': 30, 'verde': 1390, '238cayman': 72, '345central': 133, 'african': 393, 'republic': 1161, '236chad': 70, '235chile': 69, '56china': 228, '86christmas': 327, 'island': 847, '61cocos': 248, 'keeling': 886, '61colombia': 249, '57comoros': 229, '269congo': 112, '242congo': 78, 'democratic': 617, '243cook': 79, '682costa': 275, 'rica': 1171, '506côte': 215, 'ivoire': 855, '225croatia': 57, '385cuba': 164, '53curaçao': 222, '9cyprus': 373, '357czech': 143, '420denmark': 177, '45djibouti': 190, '253dominica': 92, '767dominican': 297, '809ecuador': 309, '593egypt': 236, '20el': 42, 'salvador': 1189, '503equatorial': 211, 'guinea': 756, '240eritrea': 75, '291estonia': 117, '372ethiopia': 152, '251falkland': 90, 'malvinas': 949, '500faroe': 206, '298fiji': 119, '679finland': 272, '358france': 145, '33french': 131, 'guiana': 755, '594french': 237, 'polynesia': 1104, '689gabon': 282, '241gambia': 76, '220georgia': 51, '995germany': 368, '49ghana': 202, '233gibraltar': 67, '350greece': 136, '30greenland': 125, '299grenada': 120, '473guadeloupe': 195, '590guam': 231, '671guatemala': 264, '502guernsey': 210, '44guinea': 186, '224guinea': 55, 'bissau': 473, '245guyana': 82, '592haiti': 235, '509honduras': 218, '504hong': 213, 'kong': 893, '852hungary': 318, '36iceland': 148, '354india': 140, '91indonesia': 340, '62iran': 251, 'islamic': 846, '98iraq': 363, '964ireland': 348, '353isle': 139, 'man': 950, '44israel': 187, '972italy': 356, '39jamaica': 168, '876japan': 329, '81jersey': 310, '44jordan': 188, '962kazakhstan': 346, '7kenya': 303, '254kiribati': 93, '686korea': 279, 'people': 1073, '850korea': 317, '82kuwait': 314, '965kyrgyzstan': 349, '996lao': 369, '856latvia': 321, '371lebanon': 151, '961lesotho': 345, '266liberia': 108, '231libya': 65, '218liechtenstein': 50, '423lithuania': 179, '370luxembourg': 150, '352macao': 138, '853macedonia': 319, 'former': 718, 'yugoslav': 1447, '389madagascar': 167, '261malawi': 101, '265malaysia': 107, '60maldives': 245, '960mali': 344, '223malta': 54, '356marshall': 142, '692martinique': 286, '596mauritania': 239, '222mauritius': 53, '230mayotte': 64, '262mexico': 102, '52micronesia': 221, 'federated': 689, '691moldova': 285, '373monaco': 154, '377mongolia': 158, '976montenegro': 360, '382montserrat': 162, '664morocco': 261, '212mozambique': 46, '258namibia': 99, '264nauru': 106, '674nepal': 267, '977netherlands': 361, '31new': 129, 'caledonia': 500, '687new': 280, 'zealand': 1448, '64nicaragua': 255, '505niger': 214, '227nigeria': 60, '234niue': 68, '683norfolk': 276, '672northern': 265, 'mariana': 956, '670norway': 263, '47oman': 196, '968pakistan': 352, '92palau': 341, '680palestine': 273, '970panama': 354, '507papua': 216, '675paraguay': 268, '595peru': 238, '51philippines': 219, '63pitcairn': 252, '64poland': 256, '48portugal': 200, '351puerto': 137, 'rico': 1172, '787qatar': 300, '974réunion': 358, '262romania': 103, '40russian': 171, 'federation': 690, '7rwanda': 305, '250saint': 89, 'barthélemy': 458, '590saint': 232, 'helena': 770, 'ascension': 434, 'tristan': 1350, 'da': 598, 'cunha': 589, '290saint': 116, 'kitts': 892, 'nevis': 1001, '869saint': 326, 'lucia': 939, '758saint': 294, 'martin': 960, 'french': 722, 'part': 1068, 'pierre': 1083, 'miquelon': 976, '508saint': 217, 'vincent': 1396, 'grenadines': 754, '784samoa': 299, '685san': 278, 'marino': 957, '378sao': 159, 'tome': 1339, 'principe': 1122, '239saudi': 73, 'arabia': 423, '966senegal': 350, '221serbia': 52, '381seychelles': 161, '248sierra': 85, 'leone': 913, '232singapore': 66, '65sint': 258, 'maarten': 941, 'dutch': 644, '721slovakia': 291, '421slovenia': 178, '386solomon': 165, '677somalia': 270, '252south': 91, 'africa': 392, '27south': 114, 'sandwich': 1193, '500south': 207, 'sudan': 1288, '211spain': 45, '34sri': 134, 'lanka': 899, '94sudan': 343, '249suriname': 86, '597svalbard': 240, 'jan': 878, 'mayen': 964, '47': 194, '79swaziland': 301, '268sweden': 111, '46switzerland': 193, '41syrian': 176, 'arab': 422, '963taiwan': 347, 'province': 1135, 'china': 530, '886tajikistan': 334, '992tanzania': 365, 'united': 1373, '255thailand': 95, '66togo': 262, '228tokelau': 61, '690tonga': 284, '676trinidad': 269, 'tobago': 1337, '868tunisia': 325, '216turkey': 48, '90turkmenistan': 338, '993turks': 366, 'caicos': 498, '649tuvalu': 254, '688uganda': 281, '256ukraine': 96, '380united': 160, 'emirates': 657, '971united': 355, 'kingdom': 889, '44united': 189, '1uruguay': 33, '598uzbekistan': 241, '998vanuatu': 370, '678venezuela': 271, 'bolivarian': 481, '58viet': 230, 'nam': 993, '84wallis': 316, 'futuna': 727, '681yemen': 274, '967zambia': 351, '260zimbabwe': 100, '263namelast': 104, 'namesubscribe': 995, 'now': 1019, 'subscribeform_1wrapper': 1286, 'subscribeform_1_hidden': 1270, 'subscribeform_1': 1260, 'input': 833, 'webkit': 1409, 'appearance': 418, 'moz': 988, 'subscribeform_1_message': 1275, '800px': 308, '81px': 311, '1000px': 13, '300px': 122, 'subscribeform_1_wrapper': 1284, 'subscribeform_1_container': 1264, '01': 4, '4px': 204, '24px': 87, 'solid': 1227, '206': 40, 'bottom': 486, 'subscribeform_1_table': 1281, 'cell': 511, 'container': 568, 'subscribeform_1_fixed': 1268, 'layout': 902, 'fixed': 703, 'row': 1181, '20px': 43, 'relative': 1152, 'subscribeform_1_bottom': 1262, 'subscribeform_1_with': 1283, 'inner': 832, 'subscribeform_1_button': 1263, '11px': 19, '4em': 203, 'ｍｓ': 1451, 'ｐゴシック': 1452, 'pgothic': 1077, '돋움': 1450, 'dotum': 638, '250px': 88, '1d05f7': 31, 'calc': 499, '7px': 304, 'sizing': 1219, 'active': 384, 'hover': 790, '161515': 27, 'subscribeform_1_icon': 1271, 'envelope': 663, '54px': 225, 'float': 705, 'radius': 1143, '50': 205, 'rect': 1147, 'fill': 697, 'stroke': 1253, 'subscribeform_1_title': 1282, '22px': 63, 'din': 623, 'next': 1005, 'w01': 1403, 'light': 920, 'w02': 1404, 'w10': 1405, 'ffffff': 693, 'icon': 800, '65px': 257, 'subscribeform_1_input': 1272, 'placeholder': 1090, 'd2cece': 597, '15px': 26, 'subscribeform_1_error': 1267, '8b0000': 335, 'subscribeform_1_line': 1274, 'item': 853, 'subscribeform_1_phone': 1276, 'subscribeform_1_phone_wrapper': 1277, 'direction': 625, 'initial': 827, 'subscribeform_1_phonefield': 1278, 'subscribeform_1_drop': 1265, '106px': 15, 'subscribeform_1_selected': 1279, 'transparent': 1347, 'subscribeform_1_after': 1261, 'no': 1006, 'repeat': 1158, 'svg': 1295, '8px': 336, 'polygon': 1103, 'subscribeform_1_forphone': 1269, '126px': 22, 'subscribeform_1_editorview': 1266, 'd1d1d1': 596, 'subscribeform_1_success': 1280, 'bada55': 455, 'subscribeform_1_invertible': 1273, 'subscribeform_1phonenumberfield': 1285, 'mobile': 979, '45px': 191, '86px': 328, '96px': 353, 'mainerighttolife': 947, 'ppb0': 1107, 'ppb0text': 1109, '48': 197, '30': 121, 'ppb0submitimage': 1108, 'ppb0trackingpixel': 1110, 'tulare': 1353, 'kings': 890, 'enfold': 660, 'kriesi': 894, 'plam': 1091, 'kickstart': 888, 'log': 936, 'social_youtube': 1226, 'social_twitter': 1225, 'social_facebook': 1223, 'social_instagram': 1224, 'this': 1329, 'does': 633, 'offer': 1028, 'refer': 1149, 'terminations': 1313, 'provided': 1134, 'an': 411, 'educational': 649, 'should': 1213, 'be': 463, 'relied': 1155, 'substitute': 1287, 'professional': 1127, 'advice': 389, 'am': 410, 'pregnant': 1116, 'emergency': 656, 'contraception': 571, 'what': 1412, 'morning': 985, 'after': 394, 'pill': 1085, 'ella': 653, 'parenting': 1065, 'adoption': 388, 'guys': 757, 'support': 1293, '3700': 149, 'alexandria': 397, 'pike': 1084, 'cold': 544, 'spring': 1238, 'ky': 895, '41035': 172, '305': 123, 'main': 945, 'williamstown': 1419, '41097': 174, '7134': 290, 'price': 1121, 'florence': 706, '41042': 173, '20176': 38, '859': 322, '282': 115, '9878': 362, '豆の力を最大限に受ける': 1449, 'imprint': 814, 'nowi': 1020, 'studenti': 1255, 'pregnantmedia': 1117, 'resourcestake': 1167, 'actioncontact': 383, 'monkcms': 982, 'mapnewsroomhow': 952, 'you': 1443, 'can': 503, 'helpfind': 772, 'chapter': 519, 'wisconsin': 1421, 'healing': 767, 'pathways': 1071, 'stories': 1249, 'perspectives': 1076, 'counseling': 579, 'nor': 1012, 'it': 850, 'meant': 966, 'take': 1305, 'place': 1089, 'sometimes': 1228, 'experience': 676, 'create': 583, 'intense': 839, 'emotions': 658, 'may': 963, 'feel': 691, 'equipped': 665, 'deal': 605, 'own': 1054, 'please': 1094, 'use': 1379, 'locator': 935, 'access': 378, 'national': 996, 'local': 932, 'prevention': 1120, 'lifeline': 919, 'at': 439, '273': 113, 'talk': 1306, '8255': 313, 'thinking': 1328, 'planning': 1093, 'hurt': 798, 'yourself': 1445, 'googleanalyticsobject': 749, 'push': 1138, 'arguments': 428, 'date': 602, 'google': 748, 'analytics': 412, 'ga': 730, 'ua': 1362, '2452590': 81, 'send': 1206, 'pageview': 1059, 'sonoma': 1229, 'county': 580, 'with_unbrandinglogo': 1424, 'footer': 712, 'banner': 456, '40': 170, 'informationabortion': 823, 'comparison': 558, 'surgical': 1294, '24': 74, 'consent': 564, 'law': 901, 'decision': 609, 'making': 948, 'process': 1125, 'format': 716, 'linkspatient': 927, 'comments': 553, 'assistance': 436, 'mi': 972, 'parental': 1063, 'notice': 1018, 'practices': 1111, 'helpful': 773, 'photo': 1080, 'gallery': 731, 'facility': 680, 'photosgeneral': 1081, 'question': 1139, 'gf_global': 740, 'gf_currency_config': 739, 'dollar': 634, 'symbol_left': 1297, 'symbol_right': 1299, 'symbol_padding': 1298, 'thousand_separator': 1330, 'decimal_separator': 607, 'decimals': 608, 'base_url': 460, 'heritageclinic': 780, 'wp': 1430, 'content': 569, 'gravityforms': 752, 'number_formats': 1022, 'spinnerurl': 1236, 'spinner': 1235, 'gif': 743, 'first': 701, 'confirm': 562, 'phonepreferred': 1079, 'method': 971, 'telephonevia': 1311, 'replymessage': 1159, 'ensure': 661, 'patient': 1072, 'request': 1162, 'exact': 671, 'letters': 915, 'numbers': 1024, 'seen': 1203, 'here': 779, 'typeof': 1359, 'undefined': 1370, 'jquery': 880, 'bind': 471, 'gform_post_render': 742, 'event': 668, 'formid': 719, 'currentpage': 592, 'android': 415, 'test': 1316, 'navigator': 998, 'useragent': 1382, 'input_2_6': 834, 'mask': 961, '999': 371, '9999': 372, 'keypress': 887, 'which': 1414, '13': 23, 'blur': 479, 'gform_post_conditional_logic': 741, 'fields': 694, 'isinit': 845, 'ready': 1146, 'trigger': 1349}\n"
     ]
    },
    {
     "data": {
      "text/plain": [
       "(52, 1453)"
      ]
     },
     "execution_count": 41,
     "metadata": {},
     "output_type": "execute_result"
    }
   ],
   "source": [
    "#For footer\n",
    "\n",
    "i=0\n",
    "templist = []\n",
    "\n",
    "try:\n",
    "    v = TfidfVectorizer()\n",
    "    x = v.fit_transform([i.text for i in footerlist if None != i])\n",
    "    vocab3 = v.vocabulary_\n",
    "    print(vocab3) \n",
    "    templist.append(list(x.todense()))\n",
    "except:\n",
    "    zerolist = [0]*50\n",
    "    A=np.empty((1,), dtype=list)\n",
    "    A.fill([0]*50)\n",
    "    print(A)\n",
    "    templist.append(list(A))\n",
    "#print(x.todense().shape)\n",
    "df3=pd.DataFrame(x.todense(),columns=list(range(1, 1454)))\n",
    "df3.shape"
   ]
  },
  {
   "cell_type": "code",
   "execution_count": 42,
   "metadata": {},
   "outputs": [],
   "source": [
    "#For content\n",
    "#81, 42, 52\n",
    "\n",
    "dataframe = DataFrame(columns=(['content_or_not']))\n",
    "for i in range(81):\n",
    "    dataframe.loc[i] = 1\n",
    "for j in range(82, 124):\n",
    "    dataframe.loc[j] = 0\n",
    "for k in range(124, 176):\n",
    "    dataframe.loc[k] = 0\n",
    "    \n"
   ]
  },
  {
   "cell_type": "code",
   "execution_count": 43,
   "metadata": {},
   "outputs": [
    {
     "data": {
      "text/plain": [
       "LogisticRegression(C=1.0, class_weight=None, dual=False, fit_intercept=True,\n",
       "          intercept_scaling=1, max_iter=100, multi_class='ovr', n_jobs=1,\n",
       "          penalty='l2', random_state=None, solver='liblinear', tol=0.0001,\n",
       "          verbose=0, warm_start=False)"
      ]
     },
     "execution_count": 43,
     "metadata": {},
     "output_type": "execute_result"
    }
   ],
   "source": [
    "tempdf = pd.concat([df1,df2], axis =0)\n",
    "\n",
    "final_df = pd.concat([tempdf, df3], axis = 0)\n",
    "\n",
    "Y = dataframe\n",
    "\n",
    "X = final_df\n",
    "X = X.fillna(X.mean())\n",
    "\n",
    "\n",
    "Y = np.ravel(Y)\n",
    "#Y\n",
    "\n",
    "# Creating a Logistic Regression Class object\n",
    "logreg = LogisticRegression()\n",
    "Y=Y.astype('int')\n",
    "# Spliting the data into Training and Testing sets\n",
    "X_train, X_test, Y_train, Y_test = train_test_split(X, Y, test_size=0.4,random_state=2)\n",
    "\n",
    "#print(X_train)\n",
    "\n",
    "\n",
    "# Training the model with the training set\n",
    "logreg.fit(X_train, Y_train)"
   ]
  },
  {
   "cell_type": "code",
   "execution_count": 23,
   "metadata": {},
   "outputs": [
    {
     "name": "stdout",
     "output_type": "stream",
     "text": [
      "0.7\n"
     ]
    }
   ],
   "source": [
    "# Prediction from X_test\n",
    "Y_pred = logreg.predict(X_test)\n",
    "\n",
    "#Checking accuracy\n",
    "print (metrics.accuracy_score(Y_test,Y_pred))"
   ]
  },
  {
   "cell_type": "code",
   "execution_count": 44,
   "metadata": {},
   "outputs": [],
   "source": [
    "dest = vocab1.copy()\n",
    "dest.update(vocab2)"
   ]
  },
  {
   "cell_type": "code",
   "execution_count": 45,
   "metadata": {},
   "outputs": [],
   "source": [
    "dest.update(vocab3)"
   ]
  },
  {
   "cell_type": "code",
   "execution_count": 49,
   "metadata": {},
   "outputs": [
    {
     "name": "stdout",
     "output_type": "stream",
     "text": [
      "['gald', 'madrid', 'lynn', 'btw', 'maafa21', 'bsl', 'machines', 'macleod', 'macromedia', 'macy', 'mad', 'brussels', 'maelyn', 'main01slideshow', 'mag', 'brunner', 'maggio', 'maggior', 'maggioranza', 'magic', 'magnoliadailyphoto', 'magriabhaigh', 'mah', 'mai', 'bubble', 'buck', 'luther', 'luogo', 'burden', 'bunch', 'loves', 'bullet', 'lowest', 'lowlife', 'lozano', 'lsm', 'buildup', 'buildings', 'luck', 'lucy', 'ludicrous', 'luglio', 'lugo', 'luke', 'lukomski', 'buffet', 'lunacy', 'lunatic', 'lungs', 'bruner', 'brother', 'maryann', 'breathe', 'manuale', 'manufactures', 'mapa', 'bridge', 'brick', 'brephos', 'bred', 'marcy', 'breathtaking', 'breathing', 'marie', 'broke', 'marissa', 'markers', 'breach', 'brazil', 'marnon', 'marriages', 'married', 'martha', 'brass', 'maru', 'manner', 'mankind', 'manipulate', 'manifesto', 'mainland', 'maintenance', 'mais', 'british', 'maka', 'britain', 'brings', 'brilliantly', 'malcolm', 'mallorca', 'brigid', 'mamas', 'brightly', 'brighten', 'managementthe', 'mancha', 'mandate', 'mandatory', 'maneuver', 'manifestano', 'manifestare']\n"
     ]
    }
   ],
   "source": [
    "indices = np.argsort(vectorizer.idf_)[::-1]\n",
    "features = vectorizer.get_feature_names()\n",
    "top_n = 100\n",
    "top_features = [features[i] for i in indices[:top_n]]\n",
    "print(top_features)"
   ]
  },
  {
   "cell_type": "code",
   "execution_count": 24,
   "metadata": {},
   "outputs": [
    {
     "data": {
      "text/plain": [
       "992"
      ]
     },
     "execution_count": 24,
     "metadata": {},
     "output_type": "execute_result"
    }
   ],
   "source": [
    "index_array = np.argsort(logreg.coef_)\n",
    "index_array[0,0]\n"
   ]
  },
  {
   "cell_type": "code",
   "execution_count": 25,
   "metadata": {},
   "outputs": [
    {
     "data": {
      "text/plain": [
       "array([[ 992,  402,  846, 1174,  576]])"
      ]
     },
     "execution_count": 25,
     "metadata": {},
     "output_type": "execute_result"
    }
   ],
   "source": [
    "index_array[:, :5]"
   ]
  },
  {
   "cell_type": "code",
   "execution_count": 27,
   "metadata": {},
   "outputs": [
    {
     "data": {
      "text/plain": [
       "(1, 12819)"
      ]
     },
     "execution_count": 27,
     "metadata": {},
     "output_type": "execute_result"
    }
   ],
   "source": [
    "index_array.shape"
   ]
  },
  {
   "cell_type": "code",
   "execution_count": 58,
   "metadata": {},
   "outputs": [
    {
     "data": {
      "text/plain": [
       "341"
      ]
     },
     "execution_count": 58,
     "metadata": {},
     "output_type": "execute_result"
    }
   ],
   "source": [
    "index_array[0,12818]"
   ]
  },
  {
   "cell_type": "code",
   "execution_count": 37,
   "metadata": {},
   "outputs": [
    {
     "data": {
      "text/plain": [
       "1453"
      ]
     },
     "execution_count": 37,
     "metadata": {},
     "output_type": "execute_result"
    }
   ],
   "source": [
    "len(v.get_feature_names())"
   ]
  },
  {
   "cell_type": "code",
   "execution_count": 55,
   "metadata": {},
   "outputs": [
    {
     "data": {
      "text/plain": [
       "0.2044367940313641"
      ]
     },
     "execution_count": 55,
     "metadata": {},
     "output_type": "execute_result"
    }
   ],
   "source": [
    "logreg.coef_[0,341]"
   ]
  },
  {
   "cell_type": "code",
   "execution_count": 51,
   "metadata": {},
   "outputs": [],
   "source": [
    "res = dict((v,k) for k,v in vocab1.items())"
   ]
  },
  {
   "cell_type": "code",
   "execution_count": 59,
   "metadata": {},
   "outputs": [
    {
     "name": "stdout",
     "output_type": "stream",
     "text": [
      "2013\n",
      "menu\n",
      "us\n",
      "en\n",
      "for\n",
      "contact\n",
      "please\n",
      "publicly\n",
      "suspended\n",
      "18\n",
      "abortar\n",
      "comwomen\n",
      "displayed\n",
      "our\n",
      "you\n",
      "100\n",
      "2018\n",
      "gcse\n",
      "close\n",
      "cannot\n",
      "resources\n",
      "providers\n",
      "reproductive\n",
      "faq\n",
      "healing\n",
      "account\n",
      "service\n",
      "be\n",
      "seconds\n",
      "2011\n",
      "skip\n",
      "center\n",
      "12\n",
      "up\n",
      "the\n",
      "hours\n",
      "provider\n",
      "help\n",
      "main\n",
      "to\n",
      "2017\n",
      "area\n",
      "blog\n",
      "make\n",
      "as\n",
      "her\n",
      "updates\n",
      "alabama\n",
      "at\n",
      "campaign\n",
      "español\n",
      "stories\n",
      "sign\n",
      "img\n",
      "877\n",
      "details\n",
      "rights\n",
      "and\n",
      "or\n",
      "br\n",
      "navigator\n",
      "saveone\n",
      "lifewatch\n",
      "privacy\n",
      "cx\n",
      "sys_text_widget\n",
      "conference\n",
      "county\n",
      "links\n",
      "who\n",
      "adoption\n",
      "child\n",
      "choices\n",
      "pac\n",
      "romney\n",
      "stork\n",
      "health\n",
      "rmc\n",
      "2016\n",
      "office\n",
      "north\n",
      "planning\n",
      "jpghttp\n",
      "memorialfortheunborn\n",
      "nmu\n",
      "twitter\n",
      "path\n",
      "awc\n",
      "banner\n",
      "slideshow\n",
      "women\n",
      "bookmarks\n",
      "redirected\n",
      "prochoiceactionnetwork\n",
      "dakota\n",
      "west\n",
      "financial\n",
      "30\n",
      "rss\n",
      "world\n"
     ]
    }
   ],
   "source": [
    "n = 12818\n",
    "for i in range(100):\n",
    "    index = index_array[0,n]\n",
    "    #print(index)\n",
    "    print(res.get(index))\n",
    "    n-=1"
   ]
  },
  {
   "cell_type": "code",
   "execution_count": 246,
   "metadata": {},
   "outputs": [
    {
     "data": {
      "text/plain": [
       "array([0.37008383, 0.61393898, 0.34677715, 0.10916979, 0.33226498,\n",
       "       0.52776372, 0.37529338, 0.10916979, 0.34127644, 0.66857717,\n",
       "       0.40146952, 0.50940148, 0.27482605, 0.35754065, 0.42078376,\n",
       "       0.33366436, 0.65882353, 1.        , 0.2529994 , 0.37874994,\n",
       "       0.3942191 , 0.39079257, 0.10916979, 0.30333967, 0.30329173,\n",
       "       0.44508162, 0.52776372, 0.45755417, 0.39254363, 0.7635501 ,\n",
       "       0.72713564, 0.43398582, 0.27885848, 0.79710983, 0.26479034,\n",
       "       0.35800074, 0.45330914, 0.2521663 , 0.3974359 , 0.22469169,\n",
       "       0.21489349, 0.20535655, 0.4855391 , 0.59167044, 0.3290493 ,\n",
       "       0.43371483, 0.36018756, 0.84794053, 0.37957253, 0.23858449,\n",
       "       0.41856026, 0.38303122, 0.52333865, 0.55566226, 0.4266373 ,\n",
       "       0.36636419, 0.61902906, 0.49583046, 0.33372559, 0.45649386,\n",
       "       0.41625899, 1.        , 0.40146952, 0.41986911, 0.37598406,\n",
       "       0.30356324, 0.28028516, 0.34578545, 0.58919617, 0.44103543,\n",
       "       0.30356324, 0.52175525, 0.65676062, 0.36063527, 0.73143812,\n",
       "       0.51467369, 0.31394311, 0.28989829, 0.48986634, 0.29549477,\n",
       "       0.56458016, 0.33799878, 0.40919233, 0.52175525, 0.35164102,\n",
       "       0.56111062, 0.53414477, 0.39252829, 0.46125148, 0.48481987,\n",
       "       0.29594776, 0.38792618, 0.71138145, 0.40146952, 0.22469169,\n",
       "       0.10916979, 0.33056584, 0.41928606, 0.3103248 , 0.76143436,\n",
       "       0.34072371, 0.29872586, 0.43077843, 0.27116468])"
      ]
     },
     "execution_count": 246,
     "metadata": {},
     "output_type": "execute_result"
    }
   ],
   "source": [
    "X_train.values.max(1)"
   ]
  },
  {
   "cell_type": "code",
   "execution_count": 291,
   "metadata": {},
   "outputs": [],
   "source": [
    "coefficients = logreg.coef_"
   ]
  },
  {
   "cell_type": "code",
   "execution_count": 292,
   "metadata": {},
   "outputs": [],
   "source": [
    "X_train2 = X_train.values[:, np.abs(coefficients).flatten()>.02]\n",
    "# np.ones((3,4))[:, np.array([True, True, False, True])]\n",
    "# (np.abs(logreg.coef_).flatten()>.02).shape\n",
    "X_test2 = X_test.values[:, np.abs(coefficients).flatten()>.02]"
   ]
  },
  {
   "cell_type": "code",
   "execution_count": 293,
   "metadata": {},
   "outputs": [
    {
     "data": {
      "text/plain": [
       "(104, 1815)"
      ]
     },
     "execution_count": 293,
     "metadata": {},
     "output_type": "execute_result"
    }
   ],
   "source": [
    "X_train2.shape"
   ]
  },
  {
   "cell_type": "code",
   "execution_count": 294,
   "metadata": {},
   "outputs": [],
   "source": [
    "X_train2_df = pd.DataFrame(X_train2,columns=list(range(1815)))"
   ]
  },
  {
   "cell_type": "code",
   "execution_count": 296,
   "metadata": {},
   "outputs": [
    {
     "data": {
      "text/plain": [
       "LogisticRegression(C=1.0, class_weight=None, dual=False, fit_intercept=True,\n",
       "          intercept_scaling=1, max_iter=100, multi_class='ovr', n_jobs=1,\n",
       "          penalty='l2', random_state=None, solver='liblinear', tol=0.0001,\n",
       "          verbose=0, warm_start=False)"
      ]
     },
     "execution_count": 296,
     "metadata": {},
     "output_type": "execute_result"
    }
   ],
   "source": [
    "logreg.fit(X_train2, Y_train)"
   ]
  },
  {
   "cell_type": "code",
   "execution_count": 297,
   "metadata": {},
   "outputs": [
    {
     "name": "stdout",
     "output_type": "stream",
     "text": [
      "0.7142857142857143\n"
     ]
    }
   ],
   "source": [
    "# Prediction from X_test\n",
    "Y_pred = logreg.predict(X_test2)\n",
    "\n",
    "#Checking accuracy\n",
    "print (metrics.accuracy_score(Y_test,Y_pred))"
   ]
  },
  {
   "cell_type": "code",
   "execution_count": 219,
   "metadata": {},
   "outputs": [
    {
     "data": {
      "text/plain": [
       "-0.43711668156695205"
      ]
     },
     "execution_count": 219,
     "metadata": {},
     "output_type": "execute_result"
    }
   ],
   "source": [
    "logreg.coef_[0,118]"
   ]
  },
  {
   "cell_type": "code",
   "execution_count": 152,
   "metadata": {},
   "outputs": [
    {
     "data": {
      "text/plain": [
       "-0.43711668156695205"
      ]
     },
     "execution_count": 152,
     "metadata": {},
     "output_type": "execute_result"
    }
   ],
   "source": [
    "logreg.coef_.item(118)"
   ]
  },
  {
   "cell_type": "code",
   "execution_count": 31,
   "metadata": {},
   "outputs": [
    {
     "data": {
      "text/plain": [
       "list"
      ]
     },
     "execution_count": 31,
     "metadata": {},
     "output_type": "execute_result"
    }
   ],
   "source": [
    "type(v.get_feature_names())"
   ]
  },
  {
   "cell_type": "code",
   "execution_count": 142,
   "metadata": {},
   "outputs": [
    {
     "data": {
      "text/plain": [
       "(104, 12879)"
      ]
     },
     "execution_count": 142,
     "metadata": {},
     "output_type": "execute_result"
    }
   ],
   "source": [
    "X_train.shape"
   ]
  },
  {
   "cell_type": "code",
   "execution_count": 186,
   "metadata": {},
   "outputs": [],
   "source": [
    "i = index_array[0,0]\n",
    "for i in range(12879):\n",
    "    if logreg.coef_[0,i] < 1:\n",
    "        #X_train.drop(X_train.index(i))\n",
    "        np.put(logreg.coef_, i, 0)"
   ]
  },
  {
   "cell_type": "code",
   "execution_count": 187,
   "metadata": {},
   "outputs": [
    {
     "name": "stdout",
     "output_type": "stream",
     "text": [
      "0.6285714285714286\n"
     ]
    }
   ],
   "source": [
    "# Prediction from X_test\n",
    "Y_pred = logreg.predict(X_test)\n",
    "\n",
    "#Checking accuracy\n",
    "print (metrics.accuracy_score(Y_test,Y_pred))"
   ]
  },
  {
   "cell_type": "code",
   "execution_count": 123,
   "metadata": {},
   "outputs": [
    {
     "data": {
      "text/plain": [
       "(1, 12879)"
      ]
     },
     "execution_count": 123,
     "metadata": {},
     "output_type": "execute_result"
    }
   ],
   "source": [
    "logreg.coef_.shape"
   ]
  },
  {
   "cell_type": "code",
   "execution_count": 79,
   "metadata": {},
   "outputs": [],
   "source": [
    "tmp_ = np.copy(logreg.coef_[:, :].flatten())\n",
    "tmp_ = np.abs(tmp_)\n",
    "tmp_.sort()"
   ]
  },
  {
   "cell_type": "code",
   "execution_count": 136,
   "metadata": {},
   "outputs": [
    {
     "data": {
      "text/plain": [
       "array([0.        , 0.        , 0.        , ..., 0.65852282, 0.70286277,\n",
       "       0.74731189])"
      ]
     },
     "execution_count": 136,
     "metadata": {},
     "output_type": "execute_result"
    }
   ],
   "source": [
    "tmp_"
   ]
  },
  {
   "cell_type": "code",
   "execution_count": 88,
   "metadata": {},
   "outputs": [
    {
     "data": {
      "text/plain": [
       "9.790819632085569e-06"
      ]
     },
     "execution_count": 88,
     "metadata": {},
     "output_type": "execute_result"
    }
   ],
   "source": [
    "tmp_[1000]"
   ]
  },
  {
   "cell_type": "code",
   "execution_count": 115,
   "metadata": {},
   "outputs": [
    {
     "ename": "SyntaxError",
     "evalue": "unexpected EOF while parsing (<ipython-input-115-f0cf8e1d5b26>, line 1)",
     "output_type": "error",
     "traceback": [
      "\u001b[0;36m  File \u001b[0;32m\"<ipython-input-115-f0cf8e1d5b26>\"\u001b[0;36m, line \u001b[0;32m1\u001b[0m\n\u001b[0;31m    for i in range(12879):\u001b[0m\n\u001b[0m                          ^\u001b[0m\n\u001b[0;31mSyntaxError\u001b[0m\u001b[0;31m:\u001b[0m unexpected EOF while parsing\n"
     ]
    }
   ],
   "source": [
    "for i in range(12879):\n",
    "    if tmp_[i] < tmp_[1000]:\n",
    "        "
   ]
  },
  {
   "cell_type": "code",
   "execution_count": 86,
   "metadata": {},
   "outputs": [
    {
     "data": {
      "image/png": "[encoded data removed]",
      "text/plain": [
       "<Figure size 432x288 with 1 Axes>"
      ]
     },
     "metadata": {},
     "output_type": "display_data"
    }
   ],
   "source": [
    "plt.plot(tmp_[-5000:-4900])\n",
    "plt.show()"
   ]
  },
  {
   "cell_type": "code",
   "execution_count": 93,
   "metadata": {},
   "outputs": [],
   "source": [
    "trialdf = final_df"
   ]
  },
  {
   "cell_type": "code",
   "execution_count": 95,
   "metadata": {},
   "outputs": [
    {
     "data": {
      "text/plain": [
       "LogisticRegression(C=1.0, class_weight=None, dual=False, fit_intercept=True,\n",
       "          intercept_scaling=1, max_iter=100, multi_class='ovr', n_jobs=1,\n",
       "          penalty='l2', random_state=None, solver='liblinear', tol=0.0001,\n",
       "          verbose=0, warm_start=False)"
      ]
     },
     "execution_count": 95,
     "metadata": {},
     "output_type": "execute_result"
    }
   ],
   "source": [
    "Y = dataframe\n",
    "\n",
    "X = trialdf\n",
    "X = X.fillna(X.mean())\n",
    "\n",
    "\n",
    "Y = np.ravel(Y)\n",
    "#Y\n",
    "\n",
    "# Creating a Logistic Regression Class object\n",
    "logreg = LogisticRegression()\n",
    "Y=Y.astype('int')\n",
    "# Spliting the data into Training and Testing sets\n",
    "X_train, X_test, Y_train, Y_test = train_test_split(X, Y, test_size=0.4,random_state=2)\n",
    "\n",
    "#print(X_train)\n",
    "\n",
    "\n",
    "# Training the model with the training set\n",
    "logreg.fit(X_train, Y_train)"
   ]
  },
  {
   "cell_type": "code",
   "execution_count": 96,
   "metadata": {},
   "outputs": [],
   "source": [
    "tmp_ = np.copy(logreg.coef_[:, :].flatten())\n",
    "tmp_ = np.abs(tmp_)\n",
    "tmp_.sort()"
   ]
  },
  {
   "cell_type": "code",
   "execution_count": 97,
   "metadata": {},
   "outputs": [
    {
     "data": {
      "text/plain": [
       "12879"
      ]
     },
     "execution_count": 97,
     "metadata": {},
     "output_type": "execute_result"
    }
   ],
   "source": [
    "len(tmp_)"
   ]
  },
  {
   "cell_type": "code",
   "execution_count": 98,
   "metadata": {},
   "outputs": [
    {
     "data": {
      "text/plain": [
       "9.790819632085569e-06"
      ]
     },
     "execution_count": 98,
     "metadata": {},
     "output_type": "execute_result"
    }
   ],
   "source": [
    "tmp_[1000]"
   ]
  },
  {
   "cell_type": "code",
   "execution_count": null,
   "metadata": {},
   "outputs": [],
   "source": []
  },
  {
   "cell_type": "code",
   "execution_count": 62,
   "metadata": {},
   "outputs": [],
   "source": [
    "t = logreg.coef_\n",
    "#y = np.ndarray(shape = (1, 12879))"
   ]
  },
  {
   "cell_type": "code",
   "execution_count": 63,
   "metadata": {},
   "outputs": [
    {
     "name": "stderr",
     "output_type": "stream",
     "text": [
      "/home/k7-user0/anaconda3/lib/python3.6/site-packages/matplotlib/axes/_axes.py:6462: UserWarning: The 'normed' kwarg is deprecated, and has been replaced by the 'density' kwarg.\n",
      "  warnings.warn(\"The 'normed' kwarg is deprecated, and has been \"\n"
     ]
    },
    {
     "data": {
      "text/plain": [
       "<matplotlib.axes._subplots.AxesSubplot at 0x7f472312f978>"
      ]
     },
     "execution_count": 63,
     "metadata": {},
     "output_type": "execute_result"
    },
    {
     "data": {
      "image/png": "[encoded data removed]",
      "text/plain": [
       "<Figure size 432x288 with 1 Axes>"
      ]
     },
     "metadata": {},
     "output_type": "display_data"
    }
   ],
   "source": [
    "\n",
    "sns.distplot(t, bins=20, kde=False, rug=True)"
   ]
  },
  {
   "cell_type": "code",
   "execution_count": 64,
   "metadata": {},
   "outputs": [
    {
     "name": "stderr",
     "output_type": "stream",
     "text": [
      "/home/k7-user0/anaconda3/lib/python3.6/site-packages/matplotlib/axes/_axes.py:6462: UserWarning: The 'normed' kwarg is deprecated, and has been replaced by the 'density' kwarg.\n",
      "  warnings.warn(\"The 'normed' kwarg is deprecated, and has been \"\n"
     ]
    },
    {
     "data": {
      "image/png": "[encoded data removed]",
      "text/plain": [
       "<Figure size 432x288 with 1 Axes>"
      ]
     },
     "metadata": {},
     "output_type": "display_data"
    }
   ],
   "source": [
    "sns.distplot(t);"
   ]
  },
  {
   "cell_type": "code",
   "execution_count": 58,
   "metadata": {},
   "outputs": [
    {
     "data": {
      "text/plain": [
       "array([    0,     1,     2, ..., 12876, 12877, 12878])"
      ]
     },
     "execution_count": 58,
     "metadata": {},
     "output_type": "execute_result"
    }
   ],
   "source": [
    "np.sort([vectorizer.vocabulary_[k] for k in vectorizer.vocabulary_])"
   ]
  },
  {
   "cell_type": "code",
   "execution_count": 25,
   "metadata": {},
   "outputs": [],
   "source": [
    "#For header\n",
    "\n",
    "dataframe = DataFrame(columns=(['content_or_not']))\n",
    "for i in range(81):\n",
    "    dataframe.loc[i] = 0\n",
    "for j in range(82, 124):\n",
    "    dataframe.loc[j] = 1\n",
    "for k in range(125, 176):\n",
    "    dataframe.loc[k] = 0"
   ]
  },
  {
   "cell_type": "code",
   "execution_count": 26,
   "metadata": {},
   "outputs": [
    {
     "data": {
      "text/plain": [
       "<bound method NDFrame.head of     content_or_not\n",
       "0                0\n",
       "1                0\n",
       "2                0\n",
       "3                0\n",
       "4                0\n",
       "5                0\n",
       "6                0\n",
       "7                0\n",
       "8                0\n",
       "9                0\n",
       "10               0\n",
       "11               0\n",
       "12               0\n",
       "13               0\n",
       "14               0\n",
       "15               0\n",
       "16               0\n",
       "17               0\n",
       "18               0\n",
       "19               0\n",
       "20               0\n",
       "21               0\n",
       "22               0\n",
       "23               0\n",
       "24               0\n",
       "25               0\n",
       "26               0\n",
       "27               0\n",
       "28               0\n",
       "29               0\n",
       "..             ...\n",
       "146              0\n",
       "147              0\n",
       "148              0\n",
       "149              0\n",
       "150              0\n",
       "151              0\n",
       "152              0\n",
       "153              0\n",
       "154              0\n",
       "155              0\n",
       "156              0\n",
       "157              0\n",
       "158              0\n",
       "159              0\n",
       "160              0\n",
       "161              0\n",
       "162              0\n",
       "163              0\n",
       "164              0\n",
       "165              0\n",
       "166              0\n",
       "167              0\n",
       "168              0\n",
       "169              0\n",
       "170              0\n",
       "171              0\n",
       "172              0\n",
       "173              0\n",
       "174              0\n",
       "175              0\n",
       "\n",
       "[174 rows x 1 columns]>"
      ]
     },
     "execution_count": 26,
     "metadata": {},
     "output_type": "execute_result"
    }
   ],
   "source": [
    "Y = dataframe\n",
    "Y.head"
   ]
  },
  {
   "cell_type": "code",
   "execution_count": 27,
   "metadata": {},
   "outputs": [
    {
     "data": {
      "text/plain": [
       "array([0, 0, 0, 0, 0, 0, 0, 0, 0, 0, 0, 0, 0, 0, 0, 0, 0, 0, 0, 0, 0, 0,\n",
       "       0, 0, 0, 0, 0, 0, 0, 0, 0, 0, 0, 0, 0, 0, 0, 0, 0, 0, 0, 0, 0, 0,\n",
       "       0, 0, 0, 0, 0, 0, 0, 0, 0, 0, 0, 0, 0, 0, 0, 0, 0, 0, 0, 0, 0, 0,\n",
       "       0, 0, 0, 0, 0, 0, 0, 0, 0, 0, 0, 0, 0, 0, 0, 1, 1, 1, 1, 1, 1, 1,\n",
       "       1, 1, 1, 1, 1, 1, 1, 1, 1, 1, 1, 1, 1, 1, 1, 1, 1, 1, 1, 1, 1, 1,\n",
       "       1, 1, 1, 1, 1, 1, 1, 1, 1, 1, 1, 1, 1, 0, 0, 0, 0, 0, 0, 0, 0, 0,\n",
       "       0, 0, 0, 0, 0, 0, 0, 0, 0, 0, 0, 0, 0, 0, 0, 0, 0, 0, 0, 0, 0, 0,\n",
       "       0, 0, 0, 0, 0, 0, 0, 0, 0, 0, 0, 0, 0, 0, 0, 0, 0, 0, 0, 0],\n",
       "      dtype=object)"
      ]
     },
     "execution_count": 27,
     "metadata": {},
     "output_type": "execute_result"
    }
   ],
   "source": [
    "Y = np.ravel(Y)\n",
    "Y"
   ]
  },
  {
   "cell_type": "code",
   "execution_count": 28,
   "metadata": {},
   "outputs": [
    {
     "name": "stdout",
     "output_type": "stream",
     "text": [
      "        1         2         3      4         5         6         7      \\\n",
      "121  0.000000  0.000000  0.000000    0.0  0.000000  0.000000  0.000000   \n",
      "12   0.000000  0.000000  0.000000    0.0  0.000000  0.000000  0.000000   \n",
      "27   0.000000  0.022220  0.000000    0.0  0.000000  0.000000  0.000000   \n",
      "11   0.000000  0.000000  0.000000    0.0  0.000000  0.000000  0.132042   \n",
      "9    0.000000  0.000000  0.000000    0.0  0.000000  0.000000  0.000000   \n",
      "39   0.000000  0.000000  0.000000    0.0  0.000000  0.000000  0.000000   \n",
      "46   0.000000  0.000000  0.000000    0.0  0.000000  0.000000  0.000000   \n",
      "12   0.003581  0.000000  0.000000    0.0  0.000000  0.000000  0.000000   \n",
      "23   0.000000  0.000000  0.000000    0.0  0.000000  0.000000  0.000000   \n",
      "91   0.000000  0.000922  0.004184    0.0  0.000000  0.000298  0.000298   \n",
      "32   0.003641  0.000000  0.000000    0.0  0.012969  0.004323  0.000000   \n",
      "18   0.000000  0.000000  0.000000    0.0  0.000000  0.000000  0.000000   \n",
      "18   0.000000  0.000000  0.000000    0.0  0.000000  0.000000  0.000000   \n",
      "31   0.000000  0.000000  0.000000    0.0  0.000000  0.000000  0.000000   \n",
      "15   0.000000  0.000000  0.000000    0.0  0.000000  0.000000  0.000000   \n",
      "11   0.000000  0.000000  0.000000    0.0  0.000000  0.000000  0.000000   \n",
      "29   0.000000  0.003180  0.000550    0.0  0.000000  0.000294  0.000294   \n",
      "86   0.000000  0.000000  0.000000    0.0  0.000000  0.000000  0.000000   \n",
      "22   0.000000  0.000000  0.000000    0.0  0.000000  0.000000  0.000000   \n",
      "47   0.000000  0.000000  0.000000    0.0  0.000000  0.000000  0.000000   \n",
      "113  0.000000  0.000000  0.000000    0.0  0.000000  0.000000  0.000000   \n",
      "14   0.000000  0.000000  0.000000    0.0  0.000000  0.000000  0.000000   \n",
      "41   0.000000  0.000000  0.000000    0.0  0.000000  0.000000  0.000000   \n",
      "46   0.000000  0.000000  0.000000    0.0  0.000000  0.000000  0.000000   \n",
      "6    0.000000  0.000000  0.000000    0.0  0.000000  0.000000  0.000000   \n",
      "2    0.000000  0.000000  0.000000    0.0  0.000000  0.000000  0.000000   \n",
      "3    0.000000  0.000000  0.000000    0.0  0.000000  0.000000  0.000000   \n",
      "24   0.000000  0.000000  0.000000    0.0  0.000000  0.000000  0.000000   \n",
      "16   0.000000  0.000000  0.000000    0.0  0.000000  0.000000  0.000000   \n",
      "27   0.000000  0.000000  0.000000    0.0  0.000000  0.000000  0.000000   \n",
      "..        ...       ...       ...    ...       ...       ...       ...   \n",
      "7    0.060644  0.000000  0.000000    0.0  0.000000  0.000000  0.000000   \n",
      "105  0.000000  0.000000  0.000000    0.0  0.000000  0.000000  0.000000   \n",
      "103  0.000000  0.000000  0.000000    0.0  0.000000  0.000000  0.000000   \n",
      "34   0.000000  0.000000  0.000000    0.0  0.000000  0.000000  0.000000   \n",
      "90   0.000000  0.000000  0.000000    0.0  0.000000  0.000000  0.000000   \n",
      "50   0.000000  0.000000  0.000000    0.0  0.000000  0.000000  0.000000   \n",
      "57   0.006117  0.004356  0.000000    0.0  0.000000  0.000000  0.000000   \n",
      "22   0.000000  0.000000  0.000000    0.0  0.000000  0.000000  0.000000   \n",
      "80   0.000000  0.000000  0.000000    0.0  0.000000  0.000000  0.000000   \n",
      "26   0.000000  0.000000  0.000000    0.0  0.000000  0.000000  0.000000   \n",
      "5    0.000000  0.000000  0.000000    0.0  0.000000  0.000000  0.000000   \n",
      "21   0.000000  0.000000  0.000000    0.0  0.000000  0.000000  0.000000   \n",
      "56   0.000000  0.000000  0.000000    0.0  0.000000  0.000000  0.000000   \n",
      "35   0.000000  0.000000  0.000000    0.0  0.000000  0.000000  0.000000   \n",
      "0    0.000000  0.000000  0.000000    0.0  0.000000  0.000000  0.000000   \n",
      "24   0.000000  0.000000  0.000000    0.0  0.000000  0.000000  0.000000   \n",
      "48   0.000000  0.000000  0.000000    0.0  0.000000  0.000000  0.000000   \n",
      "95   0.000000  0.000000  0.000000    0.0  0.000000  0.000000  0.000000   \n",
      "74   0.000000  0.000000  0.000000    0.0  0.000000  0.000000  0.000000   \n",
      "49   0.003641  0.000000  0.000000    0.0  0.012969  0.004323  0.000000   \n",
      "14   0.000000  0.000000  0.000000    0.0  0.000000  0.000000  0.000000   \n",
      "38   0.000000  0.000000  0.000000    0.0  0.000000  0.000000  0.000000   \n",
      "9    0.000000  0.000000  0.000000    0.0  0.000000  0.000000  0.000000   \n",
      "23   0.000000  0.000000  0.000000    0.0  0.000000  0.000000  0.000000   \n",
      "117  0.000000  0.000000  0.000000    0.0  0.000000  0.000000  0.000000   \n",
      "64   0.000000  0.000000  0.000000    0.0  0.000000  0.000000  0.000000   \n",
      "30   0.000000  0.000000  0.000000    0.0  0.000000  0.000000  0.000000   \n",
      "111  0.000000  0.000000  0.000000    0.0  0.000000  0.000000  0.000000   \n",
      "21   0.000000  0.000000  0.000000    0.0  0.000000  0.000000  0.000000   \n",
      "44   0.000000  0.000000  0.000000    0.0  0.000000  0.000000  0.000000   \n",
      "\n",
      "        8         9         10       ...        12870     12871     12872  \\\n",
      "121  0.000000  0.000000  0.000000    ...     0.000000  0.000000  0.000000   \n",
      "12   0.000000  0.000000  0.000000    ...     0.000184  0.000092  0.000092   \n",
      "27   0.000000  0.000000  0.000000    ...     0.000000  0.000000  0.000000   \n",
      "11   0.000000  0.000000  0.000000    ...     0.000184  0.000092  0.000092   \n",
      "9    0.000000  0.000000  0.000000    ...     0.000184  0.000092  0.000092   \n",
      "39   0.000000  0.000000  0.000000    ...     0.000184  0.000092  0.000092   \n",
      "46   0.000000  0.000000  0.000000    ...     0.000000  0.000000  0.000000   \n",
      "12   0.000000  0.000000  0.000000    ...     0.000184  0.000092  0.000092   \n",
      "23   0.000000  0.000000  0.000000    ...     0.000000  0.000000  0.000000   \n",
      "91   0.000596  0.000596  0.000596    ...     0.000000  0.000000  0.000000   \n",
      "32   0.004323  0.000000  0.004323    ...     0.000184  0.000092  0.000092   \n",
      "18   0.000000  0.000000  0.000000    ...     0.000184  0.000092  0.000092   \n",
      "18   0.000000  0.000000  0.000000    ...     0.000184  0.000092  0.000092   \n",
      "31   0.000000  0.000000  0.000000    ...     0.000184  0.000092  0.000092   \n",
      "15   0.000000  0.000000  0.000000    ...     0.000184  0.000092  0.000092   \n",
      "11   0.000000  0.000000  0.000000    ...     0.000184  0.000092  0.000092   \n",
      "29   0.000588  0.000588  0.000588    ...     0.000000  0.000000  0.000000   \n",
      "86   0.000000  0.000000  0.000000    ...     0.000000  0.000000  0.000000   \n",
      "22   0.000000  0.000000  0.000000    ...     0.000000  0.000000  0.000000   \n",
      "47   0.000000  0.000000  0.000000    ...     0.000184  0.000092  0.000092   \n",
      "113  0.000000  0.000000  0.000000    ...     0.000000  0.000000  0.000000   \n",
      "14   0.000000  0.000000  0.000000    ...     0.000184  0.000092  0.000092   \n",
      "41   0.000000  0.000000  0.000000    ...     0.000184  0.000092  0.000092   \n",
      "46   0.000000  0.000000  0.000000    ...     0.000184  0.000092  0.000092   \n",
      "6    0.000000  0.000000  0.000000    ...     0.000184  0.000092  0.000092   \n",
      "2    0.000000  0.000000  0.000000    ...     0.000184  0.000092  0.000092   \n",
      "3    0.000000  0.000000  0.000000    ...     0.000184  0.000092  0.000092   \n",
      "24   0.000000  0.000000  0.000000    ...     0.000000  0.000000  0.000000   \n",
      "16   0.000000  0.000000  0.000000    ...     0.000184  0.000092  0.000092   \n",
      "27   0.000000  0.000000  0.000000    ...     0.000184  0.000092  0.000092   \n",
      "..        ...       ...       ...    ...          ...       ...       ...   \n",
      "7    0.000000  0.000000  0.000000    ...     0.000184  0.000092  0.000092   \n",
      "105  0.000000  0.000000  0.000000    ...     0.000000  0.000000  0.000000   \n",
      "103  0.000000  0.000000  0.000000    ...     0.000000  0.000000  0.000000   \n",
      "34   0.000000  0.000000  0.000000    ...     0.000184  0.000092  0.000092   \n",
      "90   0.000000  0.000000  0.000000    ...     0.000000  0.000000  0.000000   \n",
      "50   0.000000  0.000000  0.000000    ...     0.000000  0.000000  0.000000   \n",
      "57   0.000000  0.000000  0.000000    ...     0.014872  0.007436  0.007436   \n",
      "22   0.000000  0.000000  0.000000    ...     0.000184  0.000092  0.000092   \n",
      "80   0.000000  0.000000  0.000000    ...     0.000000  0.000000  0.000000   \n",
      "26   0.000000  0.000000  0.000000    ...     0.000184  0.000092  0.000092   \n",
      "5    0.000000  0.000000  0.000000    ...     0.000000  0.000000  0.000000   \n",
      "21   0.000000  0.000000  0.000000    ...     0.000184  0.000092  0.000092   \n",
      "56   0.000000  0.000000  0.000000    ...     0.000000  0.000000  0.000000   \n",
      "35   0.000000  0.000000  0.000000    ...     0.000184  0.000092  0.000092   \n",
      "0    0.000000  0.000000  0.000000    ...     0.000184  0.000092  0.000092   \n",
      "24   0.000000  0.000000  0.000000    ...     0.000184  0.000092  0.000092   \n",
      "48   0.000000  0.000000  0.000000    ...     0.000000  0.000000  0.000000   \n",
      "95   0.000000  0.000000  0.000000    ...     0.000000  0.000000  0.000000   \n",
      "74   0.000000  0.000000  0.000000    ...     0.000000  0.000000  0.000000   \n",
      "49   0.004323  0.000000  0.004323    ...     0.000184  0.000092  0.000092   \n",
      "14   0.000000  0.000000  0.000000    ...     0.000184  0.000092  0.000092   \n",
      "38   0.000000  0.000000  0.000000    ...     0.000184  0.000092  0.000092   \n",
      "9    0.000000  0.000000  0.000000    ...     0.000000  0.000000  0.000000   \n",
      "23   0.000000  0.000000  0.000000    ...     0.000184  0.000092  0.000092   \n",
      "117  0.000000  0.000000  0.000000    ...     0.000000  0.000000  0.000000   \n",
      "64   0.000000  0.000000  0.000000    ...     0.000000  0.000000  0.000000   \n",
      "30   0.000000  0.000000  0.000000    ...     0.000000  0.000000  0.000000   \n",
      "111  0.000000  0.000000  0.000000    ...     0.000000  0.000000  0.000000   \n",
      "21   0.000000  0.000000  0.000000    ...     0.000000  0.000000  0.000000   \n",
      "44   0.000000  0.000000  0.000000    ...     0.000184  0.000092  0.000092   \n",
      "\n",
      "        12873     12874     12875     12876     12877     12878     12879  \n",
      "121  0.000000  0.000000  0.000000  0.000000  0.000000  0.000000  0.000000  \n",
      "12   0.000092  0.000092  0.012346  0.000034  0.000063  0.000034  0.000034  \n",
      "27   0.000000  0.000000  0.000000  0.000000  0.000000  0.000000  0.000000  \n",
      "11   0.000092  0.000092  0.012346  0.000034  0.000063  0.000034  0.000034  \n",
      "9    0.000092  0.000092  0.012346  0.000034  0.000063  0.000034  0.000034  \n",
      "39   0.000092  0.000092  0.012346  0.000034  0.000063  0.000034  0.000034  \n",
      "46   0.000000  0.000000  0.000000  0.000000  0.000000  0.000000  0.000000  \n",
      "12   0.000092  0.000092  0.012346  0.000034  0.000063  0.000034  0.000034  \n",
      "23   0.000000  0.000000  0.000000  0.000000  0.000000  0.000000  0.000000  \n",
      "91   0.000000  0.000000  0.000000  0.002726  0.000000  0.002726  0.002726  \n",
      "32   0.000092  0.000092  0.012346  0.000034  0.000063  0.000034  0.000034  \n",
      "18   0.000092  0.000092  0.012346  0.000034  0.000063  0.000034  0.000034  \n",
      "18   0.000092  0.000092  0.012346  0.000034  0.000063  0.000034  0.000034  \n",
      "31   0.000092  0.000092  0.012346  0.000034  0.000063  0.000034  0.000034  \n",
      "15   0.000092  0.000092  0.012346  0.000034  0.000063  0.000034  0.000034  \n",
      "11   0.000092  0.000092  0.012346  0.000034  0.000063  0.000034  0.000034  \n",
      "29   0.000000  0.000000  0.000000  0.000000  0.000000  0.000000  0.000000  \n",
      "86   0.000000  0.000000  0.000000  0.000000  0.000000  0.000000  0.000000  \n",
      "22   0.000000  0.000000  0.000000  0.000000  0.000000  0.000000  0.000000  \n",
      "47   0.000092  0.000092  0.012346  0.000034  0.000063  0.000034  0.000034  \n",
      "113  0.000000  0.000000  0.000000  0.000000  0.000000  0.000000  0.000000  \n",
      "14   0.000092  0.000092  0.012346  0.000034  0.000063  0.000034  0.000034  \n",
      "41   0.000092  0.000092  0.012346  0.000034  0.000063  0.000034  0.000034  \n",
      "46   0.000092  0.000092  0.012346  0.000034  0.000063  0.000034  0.000034  \n",
      "6    0.000092  0.000092  0.012346  0.000034  0.000063  0.000034  0.000034  \n",
      "2    0.000092  0.000092  0.012346  0.000034  0.000063  0.000034  0.000034  \n",
      "3    0.000092  0.000092  0.012346  0.000034  0.000063  0.000034  0.000034  \n",
      "24   0.000000  0.000000  0.000000  0.000000  0.000000  0.000000  0.000000  \n",
      "16   0.000092  0.000092  0.012346  0.000034  0.000063  0.000034  0.000034  \n",
      "27   0.000092  0.000092  0.012346  0.000034  0.000063  0.000034  0.000034  \n",
      "..        ...       ...       ...       ...       ...       ...       ...  \n",
      "7    0.000092  0.000092  0.012346  0.000034  0.000063  0.000034  0.000034  \n",
      "105  0.000000  0.000000  0.000000  0.000000  0.000000  0.000000  0.000000  \n",
      "103  0.000000  0.000000  0.000000  0.000000  0.000000  0.000000  0.000000  \n",
      "34   0.000092  0.000092  0.012346  0.000034  0.000063  0.000034  0.000034  \n",
      "90   0.000000  0.000000  0.000000  0.000000  0.000000  0.000000  0.000000  \n",
      "50   0.000000  0.000000  0.000000  0.000000  0.000000  0.000000  0.000000  \n",
      "57   0.007436  0.007436  0.000000  0.000000  0.000000  0.000000  0.000000  \n",
      "22   0.000092  0.000092  0.012346  0.000034  0.000063  0.000034  0.000034  \n",
      "80   0.000000  0.000000  0.000000  0.000000  0.000000  0.000000  0.000000  \n",
      "26   0.000092  0.000092  0.012346  0.000034  0.000063  0.000034  0.000034  \n",
      "5    0.000000  0.000000  0.000000  0.000000  0.000000  0.000000  0.000000  \n",
      "21   0.000092  0.000092  0.012346  0.000034  0.000063  0.000034  0.000034  \n",
      "56   0.000000  0.000000  0.000000  0.000000  0.000000  0.000000  0.000000  \n",
      "35   0.000092  0.000092  0.012346  0.000034  0.000063  0.000034  0.000034  \n",
      "0    0.000092  0.000092  0.012346  0.000034  0.000063  0.000034  0.000034  \n",
      "24   0.000092  0.000092  0.012346  0.000034  0.000063  0.000034  0.000034  \n",
      "48   0.000000  0.000000  0.000000  0.000000  0.000000  0.000000  0.000000  \n",
      "95   0.000000  0.000000  0.000000  0.000000  0.000000  0.000000  0.000000  \n",
      "74   0.000000  0.000000  0.000000  0.000000  0.000000  0.000000  0.000000  \n",
      "49   0.000092  0.000092  0.012346  0.000034  0.000063  0.000034  0.000034  \n",
      "14   0.000092  0.000092  0.012346  0.000034  0.000063  0.000034  0.000034  \n",
      "38   0.000092  0.000092  0.012346  0.000034  0.000063  0.000034  0.000034  \n",
      "9    0.000000  0.000000  0.000000  0.000000  0.000000  0.000000  0.000000  \n",
      "23   0.000092  0.000092  0.012346  0.000034  0.000063  0.000034  0.000034  \n",
      "117  0.000000  0.000000  0.000000  0.000000  0.000000  0.000000  0.000000  \n",
      "64   0.000000  0.000000  0.000000  0.000000  0.000000  0.000000  0.000000  \n",
      "30   0.000000  0.000000  0.000000  0.000000  0.000000  0.000000  0.000000  \n",
      "111  0.000000  0.000000  0.000000  0.000000  0.000000  0.000000  0.000000  \n",
      "21   0.000000  0.000000  0.000000  0.000000  0.000000  0.000000  0.000000  \n",
      "44   0.000092  0.000092  0.012346  0.000034  0.000063  0.000034  0.000034  \n",
      "\n",
      "[104 rows x 12879 columns]\n"
     ]
    }
   ],
   "source": [
    "# Creating a Logistic Regression Class object\n",
    "logreg = LogisticRegression()\n",
    "Y=Y.astype('int')\n",
    "# Spliting the data into Training and Testing sets\n",
    "X_train, X_test, Y_train, Y_test = train_test_split(X, Y, test_size=0.4,random_state=2)\n",
    "\n",
    "print(X_train)\n"
   ]
  },
  {
   "cell_type": "code",
   "execution_count": 30,
   "metadata": {},
   "outputs": [
    {
     "data": {
      "text/plain": [
       "LogisticRegression(C=1.0, class_weight=None, dual=False, fit_intercept=True,\n",
       "          intercept_scaling=1, max_iter=100, multi_class='ovr', n_jobs=1,\n",
       "          penalty='l2', random_state=None, solver='liblinear', tol=0.0001,\n",
       "          verbose=0, warm_start=False)"
      ]
     },
     "execution_count": 30,
     "metadata": {},
     "output_type": "execute_result"
    }
   ],
   "source": [
    "# Training the model with the training set\n",
    "logreg.fit(X_train, Y_train)"
   ]
  },
  {
   "cell_type": "code",
   "execution_count": 31,
   "metadata": {},
   "outputs": [
    {
     "name": "stdout",
     "output_type": "stream",
     "text": [
      "0.8285714285714286\n"
     ]
    }
   ],
   "source": [
    "# Prediction from X_test\n",
    "Y_pred = logreg.predict(X_test)\n",
    "\n",
    "#Checking accuracy\n",
    "print (metrics.accuracy_score(Y_test,Y_pred))"
   ]
  },
  {
   "cell_type": "code",
   "execution_count": 32,
   "metadata": {},
   "outputs": [],
   "source": [
    "#For footer\n",
    "\n",
    "dataframe = DataFrame(columns=(['content_or_not']))\n",
    "for i in range(81):\n",
    "    dataframe.loc[i] = 0\n",
    "for j in range(82, 124):\n",
    "    dataframe.loc[j] = 0\n",
    "for k in range(125, 176):\n",
    "    dataframe.loc[k] = 1"
   ]
  },
  {
   "cell_type": "code",
   "execution_count": 33,
   "metadata": {},
   "outputs": [
    {
     "data": {
      "text/plain": [
       "<bound method NDFrame.head of     content_or_not\n",
       "0                0\n",
       "1                0\n",
       "2                0\n",
       "3                0\n",
       "4                0\n",
       "5                0\n",
       "6                0\n",
       "7                0\n",
       "8                0\n",
       "9                0\n",
       "10               0\n",
       "11               0\n",
       "12               0\n",
       "13               0\n",
       "14               0\n",
       "15               0\n",
       "16               0\n",
       "17               0\n",
       "18               0\n",
       "19               0\n",
       "20               0\n",
       "21               0\n",
       "22               0\n",
       "23               0\n",
       "24               0\n",
       "25               0\n",
       "26               0\n",
       "27               0\n",
       "28               0\n",
       "29               0\n",
       "..             ...\n",
       "146              1\n",
       "147              1\n",
       "148              1\n",
       "149              1\n",
       "150              1\n",
       "151              1\n",
       "152              1\n",
       "153              1\n",
       "154              1\n",
       "155              1\n",
       "156              1\n",
       "157              1\n",
       "158              1\n",
       "159              1\n",
       "160              1\n",
       "161              1\n",
       "162              1\n",
       "163              1\n",
       "164              1\n",
       "165              1\n",
       "166              1\n",
       "167              1\n",
       "168              1\n",
       "169              1\n",
       "170              1\n",
       "171              1\n",
       "172              1\n",
       "173              1\n",
       "174              1\n",
       "175              1\n",
       "\n",
       "[174 rows x 1 columns]>"
      ]
     },
     "execution_count": 33,
     "metadata": {},
     "output_type": "execute_result"
    }
   ],
   "source": [
    "Y = dataframe\n",
    "Y.head"
   ]
  },
  {
   "cell_type": "code",
   "execution_count": 34,
   "metadata": {},
   "outputs": [
    {
     "data": {
      "text/plain": [
       "array([0, 0, 0, 0, 0, 0, 0, 0, 0, 0, 0, 0, 0, 0, 0, 0, 0, 0, 0, 0, 0, 0,\n",
       "       0, 0, 0, 0, 0, 0, 0, 0, 0, 0, 0, 0, 0, 0, 0, 0, 0, 0, 0, 0, 0, 0,\n",
       "       0, 0, 0, 0, 0, 0, 0, 0, 0, 0, 0, 0, 0, 0, 0, 0, 0, 0, 0, 0, 0, 0,\n",
       "       0, 0, 0, 0, 0, 0, 0, 0, 0, 0, 0, 0, 0, 0, 0, 0, 0, 0, 0, 0, 0, 0,\n",
       "       0, 0, 0, 0, 0, 0, 0, 0, 0, 0, 0, 0, 0, 0, 0, 0, 0, 0, 0, 0, 0, 0,\n",
       "       0, 0, 0, 0, 0, 0, 0, 0, 0, 0, 0, 0, 0, 1, 1, 1, 1, 1, 1, 1, 1, 1,\n",
       "       1, 1, 1, 1, 1, 1, 1, 1, 1, 1, 1, 1, 1, 1, 1, 1, 1, 1, 1, 1, 1, 1,\n",
       "       1, 1, 1, 1, 1, 1, 1, 1, 1, 1, 1, 1, 1, 1, 1, 1, 1, 1, 1, 1],\n",
       "      dtype=object)"
      ]
     },
     "execution_count": 34,
     "metadata": {},
     "output_type": "execute_result"
    }
   ],
   "source": [
    "Y = np.ravel(Y)\n",
    "Y"
   ]
  },
  {
   "cell_type": "code",
   "execution_count": 35,
   "metadata": {},
   "outputs": [
    {
     "name": "stdout",
     "output_type": "stream",
     "text": [
      "        1         2         3      4         5         6         7      \\\n",
      "121  0.000000  0.000000  0.000000    0.0  0.000000  0.000000  0.000000   \n",
      "12   0.000000  0.000000  0.000000    0.0  0.000000  0.000000  0.000000   \n",
      "27   0.000000  0.022220  0.000000    0.0  0.000000  0.000000  0.000000   \n",
      "11   0.000000  0.000000  0.000000    0.0  0.000000  0.000000  0.132042   \n",
      "9    0.000000  0.000000  0.000000    0.0  0.000000  0.000000  0.000000   \n",
      "39   0.000000  0.000000  0.000000    0.0  0.000000  0.000000  0.000000   \n",
      "46   0.000000  0.000000  0.000000    0.0  0.000000  0.000000  0.000000   \n",
      "12   0.003581  0.000000  0.000000    0.0  0.000000  0.000000  0.000000   \n",
      "23   0.000000  0.000000  0.000000    0.0  0.000000  0.000000  0.000000   \n",
      "91   0.000000  0.000922  0.004184    0.0  0.000000  0.000298  0.000298   \n",
      "32   0.003641  0.000000  0.000000    0.0  0.012969  0.004323  0.000000   \n",
      "18   0.000000  0.000000  0.000000    0.0  0.000000  0.000000  0.000000   \n",
      "18   0.000000  0.000000  0.000000    0.0  0.000000  0.000000  0.000000   \n",
      "31   0.000000  0.000000  0.000000    0.0  0.000000  0.000000  0.000000   \n",
      "15   0.000000  0.000000  0.000000    0.0  0.000000  0.000000  0.000000   \n",
      "11   0.000000  0.000000  0.000000    0.0  0.000000  0.000000  0.000000   \n",
      "29   0.000000  0.003180  0.000550    0.0  0.000000  0.000294  0.000294   \n",
      "86   0.000000  0.000000  0.000000    0.0  0.000000  0.000000  0.000000   \n",
      "22   0.000000  0.000000  0.000000    0.0  0.000000  0.000000  0.000000   \n",
      "47   0.000000  0.000000  0.000000    0.0  0.000000  0.000000  0.000000   \n",
      "113  0.000000  0.000000  0.000000    0.0  0.000000  0.000000  0.000000   \n",
      "14   0.000000  0.000000  0.000000    0.0  0.000000  0.000000  0.000000   \n",
      "41   0.000000  0.000000  0.000000    0.0  0.000000  0.000000  0.000000   \n",
      "46   0.000000  0.000000  0.000000    0.0  0.000000  0.000000  0.000000   \n",
      "6    0.000000  0.000000  0.000000    0.0  0.000000  0.000000  0.000000   \n",
      "2    0.000000  0.000000  0.000000    0.0  0.000000  0.000000  0.000000   \n",
      "3    0.000000  0.000000  0.000000    0.0  0.000000  0.000000  0.000000   \n",
      "24   0.000000  0.000000  0.000000    0.0  0.000000  0.000000  0.000000   \n",
      "16   0.000000  0.000000  0.000000    0.0  0.000000  0.000000  0.000000   \n",
      "27   0.000000  0.000000  0.000000    0.0  0.000000  0.000000  0.000000   \n",
      "..        ...       ...       ...    ...       ...       ...       ...   \n",
      "7    0.060644  0.000000  0.000000    0.0  0.000000  0.000000  0.000000   \n",
      "105  0.000000  0.000000  0.000000    0.0  0.000000  0.000000  0.000000   \n",
      "103  0.000000  0.000000  0.000000    0.0  0.000000  0.000000  0.000000   \n",
      "34   0.000000  0.000000  0.000000    0.0  0.000000  0.000000  0.000000   \n",
      "90   0.000000  0.000000  0.000000    0.0  0.000000  0.000000  0.000000   \n",
      "50   0.000000  0.000000  0.000000    0.0  0.000000  0.000000  0.000000   \n",
      "57   0.006117  0.004356  0.000000    0.0  0.000000  0.000000  0.000000   \n",
      "22   0.000000  0.000000  0.000000    0.0  0.000000  0.000000  0.000000   \n",
      "80   0.000000  0.000000  0.000000    0.0  0.000000  0.000000  0.000000   \n",
      "26   0.000000  0.000000  0.000000    0.0  0.000000  0.000000  0.000000   \n",
      "5    0.000000  0.000000  0.000000    0.0  0.000000  0.000000  0.000000   \n",
      "21   0.000000  0.000000  0.000000    0.0  0.000000  0.000000  0.000000   \n",
      "56   0.000000  0.000000  0.000000    0.0  0.000000  0.000000  0.000000   \n",
      "35   0.000000  0.000000  0.000000    0.0  0.000000  0.000000  0.000000   \n",
      "0    0.000000  0.000000  0.000000    0.0  0.000000  0.000000  0.000000   \n",
      "24   0.000000  0.000000  0.000000    0.0  0.000000  0.000000  0.000000   \n",
      "48   0.000000  0.000000  0.000000    0.0  0.000000  0.000000  0.000000   \n",
      "95   0.000000  0.000000  0.000000    0.0  0.000000  0.000000  0.000000   \n",
      "74   0.000000  0.000000  0.000000    0.0  0.000000  0.000000  0.000000   \n",
      "49   0.003641  0.000000  0.000000    0.0  0.012969  0.004323  0.000000   \n",
      "14   0.000000  0.000000  0.000000    0.0  0.000000  0.000000  0.000000   \n",
      "38   0.000000  0.000000  0.000000    0.0  0.000000  0.000000  0.000000   \n",
      "9    0.000000  0.000000  0.000000    0.0  0.000000  0.000000  0.000000   \n",
      "23   0.000000  0.000000  0.000000    0.0  0.000000  0.000000  0.000000   \n",
      "117  0.000000  0.000000  0.000000    0.0  0.000000  0.000000  0.000000   \n",
      "64   0.000000  0.000000  0.000000    0.0  0.000000  0.000000  0.000000   \n",
      "30   0.000000  0.000000  0.000000    0.0  0.000000  0.000000  0.000000   \n",
      "111  0.000000  0.000000  0.000000    0.0  0.000000  0.000000  0.000000   \n",
      "21   0.000000  0.000000  0.000000    0.0  0.000000  0.000000  0.000000   \n",
      "44   0.000000  0.000000  0.000000    0.0  0.000000  0.000000  0.000000   \n",
      "\n",
      "        8         9         10       ...        12870     12871     12872  \\\n",
      "121  0.000000  0.000000  0.000000    ...     0.000000  0.000000  0.000000   \n",
      "12   0.000000  0.000000  0.000000    ...     0.000184  0.000092  0.000092   \n",
      "27   0.000000  0.000000  0.000000    ...     0.000000  0.000000  0.000000   \n",
      "11   0.000000  0.000000  0.000000    ...     0.000184  0.000092  0.000092   \n",
      "9    0.000000  0.000000  0.000000    ...     0.000184  0.000092  0.000092   \n",
      "39   0.000000  0.000000  0.000000    ...     0.000184  0.000092  0.000092   \n",
      "46   0.000000  0.000000  0.000000    ...     0.000000  0.000000  0.000000   \n",
      "12   0.000000  0.000000  0.000000    ...     0.000184  0.000092  0.000092   \n",
      "23   0.000000  0.000000  0.000000    ...     0.000000  0.000000  0.000000   \n",
      "91   0.000596  0.000596  0.000596    ...     0.000000  0.000000  0.000000   \n",
      "32   0.004323  0.000000  0.004323    ...     0.000184  0.000092  0.000092   \n",
      "18   0.000000  0.000000  0.000000    ...     0.000184  0.000092  0.000092   \n",
      "18   0.000000  0.000000  0.000000    ...     0.000184  0.000092  0.000092   \n",
      "31   0.000000  0.000000  0.000000    ...     0.000184  0.000092  0.000092   \n",
      "15   0.000000  0.000000  0.000000    ...     0.000184  0.000092  0.000092   \n",
      "11   0.000000  0.000000  0.000000    ...     0.000184  0.000092  0.000092   \n",
      "29   0.000588  0.000588  0.000588    ...     0.000000  0.000000  0.000000   \n",
      "86   0.000000  0.000000  0.000000    ...     0.000000  0.000000  0.000000   \n",
      "22   0.000000  0.000000  0.000000    ...     0.000000  0.000000  0.000000   \n",
      "47   0.000000  0.000000  0.000000    ...     0.000184  0.000092  0.000092   \n",
      "113  0.000000  0.000000  0.000000    ...     0.000000  0.000000  0.000000   \n",
      "14   0.000000  0.000000  0.000000    ...     0.000184  0.000092  0.000092   \n",
      "41   0.000000  0.000000  0.000000    ...     0.000184  0.000092  0.000092   \n",
      "46   0.000000  0.000000  0.000000    ...     0.000184  0.000092  0.000092   \n",
      "6    0.000000  0.000000  0.000000    ...     0.000184  0.000092  0.000092   \n",
      "2    0.000000  0.000000  0.000000    ...     0.000184  0.000092  0.000092   \n",
      "3    0.000000  0.000000  0.000000    ...     0.000184  0.000092  0.000092   \n",
      "24   0.000000  0.000000  0.000000    ...     0.000000  0.000000  0.000000   \n",
      "16   0.000000  0.000000  0.000000    ...     0.000184  0.000092  0.000092   \n",
      "27   0.000000  0.000000  0.000000    ...     0.000184  0.000092  0.000092   \n",
      "..        ...       ...       ...    ...          ...       ...       ...   \n",
      "7    0.000000  0.000000  0.000000    ...     0.000184  0.000092  0.000092   \n",
      "105  0.000000  0.000000  0.000000    ...     0.000000  0.000000  0.000000   \n",
      "103  0.000000  0.000000  0.000000    ...     0.000000  0.000000  0.000000   \n",
      "34   0.000000  0.000000  0.000000    ...     0.000184  0.000092  0.000092   \n",
      "90   0.000000  0.000000  0.000000    ...     0.000000  0.000000  0.000000   \n",
      "50   0.000000  0.000000  0.000000    ...     0.000000  0.000000  0.000000   \n",
      "57   0.000000  0.000000  0.000000    ...     0.014872  0.007436  0.007436   \n",
      "22   0.000000  0.000000  0.000000    ...     0.000184  0.000092  0.000092   \n",
      "80   0.000000  0.000000  0.000000    ...     0.000000  0.000000  0.000000   \n",
      "26   0.000000  0.000000  0.000000    ...     0.000184  0.000092  0.000092   \n",
      "5    0.000000  0.000000  0.000000    ...     0.000000  0.000000  0.000000   \n",
      "21   0.000000  0.000000  0.000000    ...     0.000184  0.000092  0.000092   \n",
      "56   0.000000  0.000000  0.000000    ...     0.000000  0.000000  0.000000   \n",
      "35   0.000000  0.000000  0.000000    ...     0.000184  0.000092  0.000092   \n",
      "0    0.000000  0.000000  0.000000    ...     0.000184  0.000092  0.000092   \n",
      "24   0.000000  0.000000  0.000000    ...     0.000184  0.000092  0.000092   \n",
      "48   0.000000  0.000000  0.000000    ...     0.000000  0.000000  0.000000   \n",
      "95   0.000000  0.000000  0.000000    ...     0.000000  0.000000  0.000000   \n",
      "74   0.000000  0.000000  0.000000    ...     0.000000  0.000000  0.000000   \n",
      "49   0.004323  0.000000  0.004323    ...     0.000184  0.000092  0.000092   \n",
      "14   0.000000  0.000000  0.000000    ...     0.000184  0.000092  0.000092   \n",
      "38   0.000000  0.000000  0.000000    ...     0.000184  0.000092  0.000092   \n",
      "9    0.000000  0.000000  0.000000    ...     0.000000  0.000000  0.000000   \n",
      "23   0.000000  0.000000  0.000000    ...     0.000184  0.000092  0.000092   \n",
      "117  0.000000  0.000000  0.000000    ...     0.000000  0.000000  0.000000   \n",
      "64   0.000000  0.000000  0.000000    ...     0.000000  0.000000  0.000000   \n",
      "30   0.000000  0.000000  0.000000    ...     0.000000  0.000000  0.000000   \n",
      "111  0.000000  0.000000  0.000000    ...     0.000000  0.000000  0.000000   \n",
      "21   0.000000  0.000000  0.000000    ...     0.000000  0.000000  0.000000   \n",
      "44   0.000000  0.000000  0.000000    ...     0.000184  0.000092  0.000092   \n",
      "\n",
      "        12873     12874     12875     12876     12877     12878     12879  \n",
      "121  0.000000  0.000000  0.000000  0.000000  0.000000  0.000000  0.000000  \n",
      "12   0.000092  0.000092  0.012346  0.000034  0.000063  0.000034  0.000034  \n",
      "27   0.000000  0.000000  0.000000  0.000000  0.000000  0.000000  0.000000  \n",
      "11   0.000092  0.000092  0.012346  0.000034  0.000063  0.000034  0.000034  \n",
      "9    0.000092  0.000092  0.012346  0.000034  0.000063  0.000034  0.000034  \n",
      "39   0.000092  0.000092  0.012346  0.000034  0.000063  0.000034  0.000034  \n",
      "46   0.000000  0.000000  0.000000  0.000000  0.000000  0.000000  0.000000  \n",
      "12   0.000092  0.000092  0.012346  0.000034  0.000063  0.000034  0.000034  \n",
      "23   0.000000  0.000000  0.000000  0.000000  0.000000  0.000000  0.000000  \n",
      "91   0.000000  0.000000  0.000000  0.002726  0.000000  0.002726  0.002726  \n",
      "32   0.000092  0.000092  0.012346  0.000034  0.000063  0.000034  0.000034  \n",
      "18   0.000092  0.000092  0.012346  0.000034  0.000063  0.000034  0.000034  \n",
      "18   0.000092  0.000092  0.012346  0.000034  0.000063  0.000034  0.000034  \n",
      "31   0.000092  0.000092  0.012346  0.000034  0.000063  0.000034  0.000034  \n",
      "15   0.000092  0.000092  0.012346  0.000034  0.000063  0.000034  0.000034  \n",
      "11   0.000092  0.000092  0.012346  0.000034  0.000063  0.000034  0.000034  \n",
      "29   0.000000  0.000000  0.000000  0.000000  0.000000  0.000000  0.000000  \n",
      "86   0.000000  0.000000  0.000000  0.000000  0.000000  0.000000  0.000000  \n",
      "22   0.000000  0.000000  0.000000  0.000000  0.000000  0.000000  0.000000  \n",
      "47   0.000092  0.000092  0.012346  0.000034  0.000063  0.000034  0.000034  \n",
      "113  0.000000  0.000000  0.000000  0.000000  0.000000  0.000000  0.000000  \n",
      "14   0.000092  0.000092  0.012346  0.000034  0.000063  0.000034  0.000034  \n",
      "41   0.000092  0.000092  0.012346  0.000034  0.000063  0.000034  0.000034  \n",
      "46   0.000092  0.000092  0.012346  0.000034  0.000063  0.000034  0.000034  \n",
      "6    0.000092  0.000092  0.012346  0.000034  0.000063  0.000034  0.000034  \n",
      "2    0.000092  0.000092  0.012346  0.000034  0.000063  0.000034  0.000034  \n",
      "3    0.000092  0.000092  0.012346  0.000034  0.000063  0.000034  0.000034  \n",
      "24   0.000000  0.000000  0.000000  0.000000  0.000000  0.000000  0.000000  \n",
      "16   0.000092  0.000092  0.012346  0.000034  0.000063  0.000034  0.000034  \n",
      "27   0.000092  0.000092  0.012346  0.000034  0.000063  0.000034  0.000034  \n",
      "..        ...       ...       ...       ...       ...       ...       ...  \n",
      "7    0.000092  0.000092  0.012346  0.000034  0.000063  0.000034  0.000034  \n",
      "105  0.000000  0.000000  0.000000  0.000000  0.000000  0.000000  0.000000  \n",
      "103  0.000000  0.000000  0.000000  0.000000  0.000000  0.000000  0.000000  \n",
      "34   0.000092  0.000092  0.012346  0.000034  0.000063  0.000034  0.000034  \n",
      "90   0.000000  0.000000  0.000000  0.000000  0.000000  0.000000  0.000000  \n",
      "50   0.000000  0.000000  0.000000  0.000000  0.000000  0.000000  0.000000  \n",
      "57   0.007436  0.007436  0.000000  0.000000  0.000000  0.000000  0.000000  \n",
      "22   0.000092  0.000092  0.012346  0.000034  0.000063  0.000034  0.000034  \n",
      "80   0.000000  0.000000  0.000000  0.000000  0.000000  0.000000  0.000000  \n",
      "26   0.000092  0.000092  0.012346  0.000034  0.000063  0.000034  0.000034  \n",
      "5    0.000000  0.000000  0.000000  0.000000  0.000000  0.000000  0.000000  \n",
      "21   0.000092  0.000092  0.012346  0.000034  0.000063  0.000034  0.000034  \n",
      "56   0.000000  0.000000  0.000000  0.000000  0.000000  0.000000  0.000000  \n",
      "35   0.000092  0.000092  0.012346  0.000034  0.000063  0.000034  0.000034  \n",
      "0    0.000092  0.000092  0.012346  0.000034  0.000063  0.000034  0.000034  \n",
      "24   0.000092  0.000092  0.012346  0.000034  0.000063  0.000034  0.000034  \n",
      "48   0.000000  0.000000  0.000000  0.000000  0.000000  0.000000  0.000000  \n",
      "95   0.000000  0.000000  0.000000  0.000000  0.000000  0.000000  0.000000  \n",
      "74   0.000000  0.000000  0.000000  0.000000  0.000000  0.000000  0.000000  \n",
      "49   0.000092  0.000092  0.012346  0.000034  0.000063  0.000034  0.000034  \n",
      "14   0.000092  0.000092  0.012346  0.000034  0.000063  0.000034  0.000034  \n",
      "38   0.000092  0.000092  0.012346  0.000034  0.000063  0.000034  0.000034  \n",
      "9    0.000000  0.000000  0.000000  0.000000  0.000000  0.000000  0.000000  \n",
      "23   0.000092  0.000092  0.012346  0.000034  0.000063  0.000034  0.000034  \n",
      "117  0.000000  0.000000  0.000000  0.000000  0.000000  0.000000  0.000000  \n",
      "64   0.000000  0.000000  0.000000  0.000000  0.000000  0.000000  0.000000  \n",
      "30   0.000000  0.000000  0.000000  0.000000  0.000000  0.000000  0.000000  \n",
      "111  0.000000  0.000000  0.000000  0.000000  0.000000  0.000000  0.000000  \n",
      "21   0.000000  0.000000  0.000000  0.000000  0.000000  0.000000  0.000000  \n",
      "44   0.000092  0.000092  0.012346  0.000034  0.000063  0.000034  0.000034  \n",
      "\n",
      "[104 rows x 12879 columns]\n"
     ]
    }
   ],
   "source": [
    "# Creating a Logistic Regression Class object\n",
    "logreg = LogisticRegression()\n",
    "Y=Y.astype('int')\n",
    "# Spliting the data into Training and Testing sets\n",
    "X_train, X_test, Y_train, Y_test = train_test_split(X, Y, test_size=0.4,random_state=2)\n",
    "\n",
    "print(X_train)\n"
   ]
  },
  {
   "cell_type": "code",
   "execution_count": 36,
   "metadata": {},
   "outputs": [
    {
     "data": {
      "text/plain": [
       "LogisticRegression(C=1.0, class_weight=None, dual=False, fit_intercept=True,\n",
       "          intercept_scaling=1, max_iter=100, multi_class='ovr', n_jobs=1,\n",
       "          penalty='l2', random_state=None, solver='liblinear', tol=0.0001,\n",
       "          verbose=0, warm_start=False)"
      ]
     },
     "execution_count": 36,
     "metadata": {},
     "output_type": "execute_result"
    }
   ],
   "source": [
    "# Training the model with the training set\n",
    "logreg.fit(X_train, Y_train)"
   ]
  },
  {
   "cell_type": "code",
   "execution_count": 37,
   "metadata": {},
   "outputs": [
    {
     "name": "stdout",
     "output_type": "stream",
     "text": [
      "0.6571428571428571\n"
     ]
    }
   ],
   "source": [
    "# Prediction from X_test\n",
    "Y_pred = logreg.predict(X_test)\n",
    "\n",
    "#Checking accuracy\n",
    "print (metrics.accuracy_score(Y_test,Y_pred))"
   ]
  },
  {
   "cell_type": "code",
   "execution_count": null,
   "metadata": {},
   "outputs": [],
   "source": []
  }
 ],
 "metadata": {
  "kernelspec": {
   "display_name": "Python 3",
   "language": "python",
   "name": "python3"
  },
  "language_info": {
   "codemirror_mode": {
    "name": "ipython",
    "version": 3
   },
   "file_extension": ".py",
   "mimetype": "text/x-python",
   "name": "python",
   "nbconvert_exporter": "python",
   "pygments_lexer": "ipython3",
   "version": "3.6.5"
  }
 },
 "nbformat": 4,
 "nbformat_minor": 2
}
