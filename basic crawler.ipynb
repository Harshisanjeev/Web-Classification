{
 "cells": [
  {
   "cell_type": "code",
   "execution_count": 1,
   "metadata": {},
   "outputs": [
    {
     "data": {
      "text/plain": [
       "'/home/k7-user0/anaconda3'"
      ]
     },
     "execution_count": 1,
     "metadata": {},
     "output_type": "execute_result"
    }
   ],
   "source": [
    "pwd\n"
   ]
  },
  {
   "cell_type": "code",
   "execution_count": 2,
   "metadata": {},
   "outputs": [
    {
     "name": "stdout",
     "output_type": "stream",
     "text": [
      "/home/k7-user0\n"
     ]
    }
   ],
   "source": [
    "cd"
   ]
  },
  {
   "cell_type": "code",
   "execution_count": null,
   "metadata": {},
   "outputs": [],
   "source": [
    "import pandas as pd\n",
    "from pandas import Series, DataFrame\n",
    "from bs4 import BeautifulSoup\n",
    "import requests\n",
    "import numpy as np\n",
    "\n",
    "file = open('LinksList.txt', 'r')\n",
    "\n",
    "headerlist = []\n",
    "footerlist = []\n",
    "contentlist = []\n",
    "error = []\n",
    "message = file.readline()\n",
    "message = file.readline()\n",
    "for i in range(1000):\n",
    "    while message:\n",
    "        try:\n",
    "            m = message.index(',')\n",
    "\n",
    "            l = message[:m]\n",
    "\n",
    "            url = str(l[0:])\n",
    "\n",
    "            obj = url + '/'\n",
    "\n",
    "\n",
    "            print(obj)\n",
    "            print ('\\n')\n",
    "\n",
    "            c = requests.get(str(obj))\n",
    "\n",
    "            result = c.content\n",
    "\n",
    "            soup = BeautifulSoup(result, \"lxml\")\n",
    "\n",
    "            body = soup.find(\"header\")\n",
    "\n",
    "            [elem.get_text() for elem in soup.select('body')]\n",
    "\n",
    "            foot = soup.find(\"footer\")\n",
    "\n",
    "            content = soup.find(\"div\")\n",
    "\n",
    "            headerlist.append(body)\n",
    "            footerlist.append(foot)\n",
    "            contentlist.append(content)\n",
    "\n",
    "\n",
    "        except:\n",
    "            error.append(obj)\n",
    "    \n",
    "        message = file.readline()\n",
    "\n",
    "   # message = file.readline()\n",
    "print(headerlist)\n",
    "file.close()\n",
    "\n",
    "\n",
    "'''\n",
    "\n",
    "\n",
    "summary1 = soup.find(\"header\")\n",
    "tables1 = []\n",
    "tables1.append(summary1)\n",
    " \n",
    "summary2 = soup.find(\"footer\")\n",
    "    \n",
    "tables2 = []\n",
    "tables2.append(summary2)\n",
    "\n",
    "summary3 = soup.find(\"body\")\n",
    "tables3 = []\n",
    "tables3.append(summary3)\n",
    "\n",
    "\n",
    "a = np.array(tables1)\n",
    "b = np.array(tables2)\n",
    "c = np.array(tables3)\n",
    "\n",
    "c = np.setdiff1d(a,c)\n",
    "c = np.setdiff1d(b,c)\n",
    "\n",
    "print(list(c))\n",
    "\n",
    "'''\n",
    "\n",
    "\n",
    "    \n",
    "    "
   ]
  },
  {
   "cell_type": "code",
   "execution_count": 46,
   "metadata": {},
   "outputs": [
    {
     "name": "stdout",
     "output_type": "stream",
     "text": [
      "0\n",
      "1\n",
      "error\n",
      "4\n",
      "0\n",
      "1\n",
      "error\n",
      "4\n",
      "0\n",
      "1\n",
      "error\n",
      "4\n",
      "0\n",
      "1\n",
      "error\n",
      "4\n",
      "0\n",
      "1\n",
      "error\n",
      "4\n",
      "0\n",
      "1\n",
      "error\n",
      "4\n",
      "0\n",
      "1\n",
      "error\n",
      "4\n",
      "0\n",
      "1\n",
      "error\n",
      "4\n",
      "0\n",
      "1\n",
      "error\n",
      "4\n",
      "0\n",
      "1\n",
      "error\n",
      "4\n"
     ]
    }
   ],
   "source": [
    "for i in range(10):\n",
    "    print(\"0\")\n",
    "    try:\n",
    "        print(\"1\")\n",
    "        raise \"df\"\n",
    "        print(\"2\")\n",
    "        print(\"3\")\n",
    "    except:\n",
    "        print(\"error\")\n",
    "    print(\"4\")"
   ]
  }
 ],
 "metadata": {
  "kernelspec": {
   "display_name": "Python 3",
   "language": "python",
   "name": "python3"
  },
  "language_info": {
   "codemirror_mode": {
    "name": "ipython",
    "version": 3
   },
   "file_extension": ".py",
   "mimetype": "text/x-python",
   "name": "python",
   "nbconvert_exporter": "python",
   "pygments_lexer": "ipython3",
   "version": "3.6.5"
  }
 },
 "nbformat": 4,
 "nbformat_minor": 2
}
