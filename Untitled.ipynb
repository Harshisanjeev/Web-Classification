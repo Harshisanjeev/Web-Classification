{
 "cells": [
  {
   "cell_type": "code",
   "execution_count": 4,
   "metadata": {},
   "outputs": [
    {
     "data": {
      "text/plain": [
       "'/home/k7-user0/anaconda3'"
      ]
     },
     "execution_count": 4,
     "metadata": {},
     "output_type": "execute_result"
    }
   ],
   "source": [
    "pwd"
   ]
  },
  {
   "cell_type": "code",
   "execution_count": 5,
   "metadata": {},
   "outputs": [
    {
     "name": "stdout",
     "output_type": "stream",
     "text": [
      "/home/k7-user0\n"
     ]
    }
   ],
   "source": [
    "cd"
   ]
  },
  {
   "cell_type": "code",
   "execution_count": 15,
   "metadata": {},
   "outputs": [
    {
     "ename": "IndentationError",
     "evalue": "unexpected indent (<ipython-input-15-8fbdddcc7140>, line 11)",
     "output_type": "error",
     "traceback": [
      "\u001b[0;36m  File \u001b[0;32m\"<ipython-input-15-8fbdddcc7140>\"\u001b[0;36m, line \u001b[0;32m11\u001b[0m\n\u001b[0;31m    m = message.index(',')\u001b[0m\n\u001b[0m    ^\u001b[0m\n\u001b[0;31mIndentationError\u001b[0m\u001b[0;31m:\u001b[0m unexpected indent\n"
     ]
    }
   ],
   "source": [
    "import pandas as pd\n",
    "from pandas import Series, DataFrame\n",
    "from bs4 import BeautifulSoup\n",
    "import requests\n",
    "\n",
    "file = open('LinksList.txt', 'r')\n",
    "\n",
    "message = file.readline()\n",
    "message = file.readline()\n",
    "#while message:\n",
    "    m = message.index(',')\n",
    "\n",
    "    l = message[:m]\n",
    "    \n",
    "    url = str(l[0:])\n",
    "    \n",
    "    obj = url + '/'\n",
    "\n",
    "    c = requests.get(str(obj))\n",
    "\n",
    "    result = c.content\n",
    "\n",
    "    soup = BeautifulSoup(result, \"lxml\")\n",
    "\n",
    "    summary1 = soup.find(\"header\")\n",
    "    tables1 = []\n",
    "    tables1.append(summary1)\n",
    " \n",
    "    summary2 = soup.find(\"footer\")\n",
    "    \n",
    "    tables2 = []\n",
    "    tables2.append(summary2)\n",
    "\n",
    "    summary3 = soup.find(\"body\")\n",
    "    tables3 = []\n",
    "    tables3.append(summary3)\n",
    "\n",
    "\n",
    "    answer = []\n",
    "\n",
    "    answer.append(list(set(tables3) - set(list(set(tables3) & set(tables1)))))\n",
    "\n",
    "    answer.append(list(set(tables3) - set(list(set(tables3) & set(tables2)))))\n",
    "    print(answer)\n",
    "\n",
    "   # message = file.readline()\n",
    "\n",
    "file.close()\n",
    "\n",
    "\n",
    "\n",
    "\n",
    "    \n",
    "    "
   ]
  },
  {
   "cell_type": "code",
   "execution_count": null,
   "metadata": {},
   "outputs": [],
   "source": []
  },
  {
   "cell_type": "code",
   "execution_count": null,
   "metadata": {},
   "outputs": [],
   "source": []
  }
 ],
 "metadata": {
  "kernelspec": {
   "display_name": "Python 3",
   "language": "python",
   "name": "python3"
  },
  "language_info": {
   "codemirror_mode": {
    "name": "ipython",
    "version": 3
   },
   "file_extension": ".py",
   "mimetype": "text/x-python",
   "name": "python",
   "nbconvert_exporter": "python",
   "pygments_lexer": "ipython3",
   "version": "3.6.5"
  }
 },
 "nbformat": 4,
 "nbformat_minor": 2
}
